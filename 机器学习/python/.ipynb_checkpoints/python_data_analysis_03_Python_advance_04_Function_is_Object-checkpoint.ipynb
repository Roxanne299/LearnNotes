{
 "cells": [
  {
   "cell_type": "markdown",
   "metadata": {},
   "source": [
    "### 3.2.3 Function are Objects 函数即对象 \n",
    "\n",
    "对象？那我就不客气了。\n",
    "\n",
    "![0314xiankaiwaiyi](https://github.com/HanMENG15990045033/photos-for-document/blob/master/0314xiankaiwaiyi.png)\n",
    "\n",
    "所谓函数即对象，就是f(x),这个x可以是函数，而且可以是一堆函数\n",
    "\n",
    "回头再看一下把我们带到坑里的那个例子"
   ]
  },
  {
   "cell_type": "code",
   "execution_count": 3,
   "metadata": {},
   "outputs": [],
   "source": [
    "states = ['   #Alabama?  ', 'FlOrIda', 'south   carolina##', 'West virginia?']"
   ]
  },
  {
   "cell_type": "code",
   "execution_count": 5,
   "metadata": {},
   "outputs": [
    {
     "data": {
      "text/plain": [
       "['Alabama', 'Florida', 'South   Carolina', 'West Virginia']"
      ]
     },
     "execution_count": 5,
     "metadata": {},
     "output_type": "execute_result"
    }
   ],
   "source": [
    "import re\n",
    "\n",
    "def clean_strings(strings):\n",
    "    result = []\n",
    "    for value in strings:\n",
    "        value = value.strip()\n",
    "        value = re.sub('[!#?]', '', value)\n",
    "        value = value.title()\n",
    "        result.append(value)\n",
    "    return result\n",
    "\n",
    "clean_strings(states)"
   ]
  },
  {
   "cell_type": "markdown",
   "metadata": {},
   "source": [
    "学完正则表达式看这个就很轻松了\n",
    "\n",
    "然而这居然只是暖场？？！！！\n",
    "\n",
    "![0315momotou](https://github.com/HanMENG15990045033/photos-for-document/blob/master/0315momotou.png)\n",
    "\n",
    "作者真正想说的是对象，对象的事儿"
   ]
  },
  {
   "cell_type": "code",
   "execution_count": 18,
   "metadata": {},
   "outputs": [
    {
     "data": {
      "text/plain": [
       "['Alabama', 'Florida', 'South   Carolina', 'West Virginia']"
      ]
     },
     "execution_count": 18,
     "metadata": {},
     "output_type": "execute_result"
    }
   ],
   "source": [
    "def remove_punctuation(value):\n",
    "    return re.sub('[!#?]', '', value)\n",
    "## 先定义一个函数，他的功能就是删除标点\n",
    "\n",
    "clean_ops = [str.strip, remove_punctuation, str.title]\n",
    "## 定义一个列表，元素为函数！！！\n",
    "## 除去前后的空格换行，删除标点，变成标题格式\n",
    "\n",
    "def clean_strings(strings, ops):\n",
    "    ## 定义函数清洗字符串列表，参数为要清洗的字符串，和实现清洗的函数\n",
    "    result = []\n",
    "    ## 空列表，装结果\n",
    "    for value in strings:\n",
    "        # 对于字符串列表里的值\n",
    "        for function in ops:\n",
    "            # 取出一个函数\n",
    "            value = function(value)\n",
    "            # 对值执行函数\n",
    "        result.append(value)\n",
    "    return result\n",
    "\n",
    "clean_strings(states, clean_ops)"
   ]
  },
  {
   "cell_type": "markdown",
   "metadata": {},
   "source": [
    "这个两个词儿中间有多个空格也要去掉\n",
    "\n",
    "我再改一下"
   ]
  },
  {
   "cell_type": "code",
   "execution_count": 12,
   "metadata": {},
   "outputs": [
    {
     "data": {
      "text/plain": [
       "['Alabama', 'Florida', 'Southcarolina', 'Westvirginia']"
      ]
     },
     "execution_count": 12,
     "metadata": {},
     "output_type": "execute_result"
    }
   ],
   "source": [
    "def remove_punctuation(value):\n",
    "    return re.sub('[!#? ]', '', value)#在这里加了一个空格\n",
    "\n",
    "clean_ops = [str.strip, remove_punctuation, str.title]\n",
    "\n",
    "def clean_strings(strings, ops):\n",
    "    result = []\n",
    "    for value in strings:\n",
    "        for function in ops:\n",
    "            value = function(value)\n",
    "        result.append(value)\n",
    "    return result\n",
    "\n",
    "clean_strings(states, clean_ops)"
   ]
  },
  {
   "cell_type": "markdown",
   "metadata": {},
   "source": [
    "貌似不对，应该是多个空格替换为一个空格，这个怎么搞\n",
    "\n",
    "我试试"
   ]
  },
  {
   "cell_type": "code",
   "execution_count": 19,
   "metadata": {},
   "outputs": [
    {
     "data": {
      "text/plain": [
       "['Alabama', 'Florida', 'South Carolina', 'West Virginia']"
      ]
     },
     "execution_count": 19,
     "metadata": {},
     "output_type": "execute_result"
    }
   ],
   "source": [
    "def remove_punctuation(value):\n",
    "    return re.sub('[!#?]', '', value)\n",
    "\n",
    "def remove_spaces(value):\n",
    "    return re.sub(' +', ' ', value)\n",
    "    ## 一个及以上的空格，替换为一个空格\n",
    "    ## 通配符9 +：1 or more of previous expression 1个或多个前面的字符\n",
    "\n",
    "clean_ops = [str.strip, remove_punctuation, remove_spaces, str.title]\n",
    "## 这里加一个函数\n",
    "\n",
    "def clean_strings(strings, ops):\n",
    "    result = []\n",
    "    for value in strings:\n",
    "        for function in ops:\n",
    "            value = function(value)\n",
    "        result.append(value)\n",
    "    return result\n",
    "\n",
    "clean_strings(states, clean_ops)"
   ]
  },
  {
   "cell_type": "markdown",
   "metadata": {},
   "source": [
    "耶成功！\n",
    "\n",
    "不要高兴的太早。。。\n",
    "\n",
    "还有map()函数\n",
    "\n",
    "噗。。吐血\n",
    "\n",
    "![0306](https://github.com/HanMENG15990045033/photos-for-document/blob/master/0306.png)\n",
    "\n",
    "没事儿，别扶我，我习惯了"
   ]
  },
  {
   "cell_type": "code",
   "execution_count": 21,
   "metadata": {},
   "outputs": [
    {
     "name": "stdout",
     "output_type": "stream",
     "text": [
      "   Alabama  \n",
      "FlOrIda\n",
      "south   carolina\n",
      "West virginia\n"
     ]
    }
   ],
   "source": [
    "for x in map(remove_punctuation, states):\n",
    "    print(x)"
   ]
  },
  {
   "cell_type": "markdown",
   "metadata": {},
   "source": [
    "这个可以将一个函数，应用到一个序列上\n",
    "\n",
    "remove_punctuation就是一个函数\n",
    "\n",
    "states列表就是一个序列，做出类似于for循环的处理"
   ]
  },
  {
   "cell_type": "markdown",
   "metadata": {},
   "source": [
    "### 3.2.4 Anonymous (Lambda) Functions 匿名函数Lambda\n",
    "\n",
    "有的函数结构太简单，简单到不配拥有姓名\n",
    "\n",
    "也有可能这个函数他就是很酷\n",
    "\n",
    "![0316lengmo](https://github.com/HanMENG15990045033/photos-for-document/blob/master/0316lengmo.png)\n",
    "\n",
    "\n",
    "这种情况就想直接用单个语句生成函数，如：\n",
    "\n",
    "y = lambda x: x * 2\n",
    "\n",
    "lambda就用来声明这是个函数，不过没名\n",
    "\n",
    "在这本书里经常要用到这种形式\n",
    "\n",
    "有什么好处？看例子\n"
   ]
  },
  {
   "cell_type": "code",
   "execution_count": 29,
   "metadata": {},
   "outputs": [
    {
     "name": "stdout",
     "output_type": "stream",
     "text": [
      "[8, 0, 2, 10, 12]\n",
      "[16, 0, 1, 25, 36]\n"
     ]
    }
   ],
   "source": [
    "ints = [4, 0, 1, 5, 6]\n",
    "ints_3 = [x * 2 for x in ints]\n",
    "ints_4 = [x ** 2 for x in ints]\n",
    "\n",
    "print(ints_3)\n",
    "print(ints_4)"
   ]
  },
  {
   "cell_type": "code",
   "execution_count": 33,
   "metadata": {},
   "outputs": [
    {
     "name": "stdout",
     "output_type": "stream",
     "text": [
      "[20, 460, 82, 110, 134]\n",
      "[100, 52900, 1681, 3025, 4489]\n"
     ]
    }
   ],
   "source": [
    "ints_5 = [10, 230, 41, 55, 67]\n",
    "ints_6 = [x * 2 for x in ints_5]\n",
    "ints_7 = [x ** 2 for x in ints_5]\n",
    "\n",
    "print(ints_6)\n",
    "print(ints_7)"
   ]
  },
  {
   "cell_type": "markdown",
   "metadata": {},
   "source": [
    "这个列表可以抽象出来一个函数\n",
    "\n",
    "[f(x) for x in some_list]\n",
    "\n",
    "其中f(x)和some_list就是两个变量"
   ]
  },
  {
   "cell_type": "code",
   "execution_count": 42,
   "metadata": {},
   "outputs": [
    {
     "name": "stdout",
     "output_type": "stream",
     "text": [
      "[8, 0, 2, 10, 12]\n"
     ]
    }
   ],
   "source": [
    "def apply_to_list(some_list, f):\n",
    "    ## 定义函数\n",
    "    ## 列表\n",
    "    ## 函数\n",
    "    ## 返回经过函数处理的列表值\n",
    "    return [f(x) for x in some_list]\n",
    "\n",
    "\n",
    "ints = [4, 0, 1, 5, 6]\n",
    "ints_2 = apply_to_list(ints, lambda x: x * 2)\n",
    "## 这里做参数的函数直接用一个lambda定义\n",
    "print(ints_2)"
   ]
  },
  {
   "cell_type": "markdown",
   "metadata": {},
   "source": [
    "耶。\n",
    "\n",
    "![0317keai](https://github.com/HanMENG15990045033/photos-for-document/blob/master/0317keai.png)\n",
    "\n",
    "再来个例子：这书翻译的有点不好理解\n",
    "\n",
    "这个例子想实现的功能是，根据不同字母的个数排序\n",
    "\n",
    "如foo，fo两个字母\n",
    "\n",
    "card，四个字母\n",
    "\n",
    "aaaa，a一个字母"
   ]
  },
  {
   "cell_type": "code",
   "execution_count": 36,
   "metadata": {},
   "outputs": [
    {
     "data": {
      "text/plain": [
       "['aaaa', 'foo', 'abab', 'bar', 'card']"
      ]
     },
     "execution_count": 36,
     "metadata": {},
     "output_type": "execute_result"
    }
   ],
   "source": [
    "strings = ['foo', 'card', 'bar', 'aaaa', 'abab']\n",
    "\n",
    "strings.sort(key=lambda x: len(set(list(x))))\n",
    "strings"
   ]
  },
  {
   "cell_type": "markdown",
   "metadata": {},
   "source": [
    "误：list是吧strings变成列表，本身就是列表，所以作用不大\n",
    "\n",
    "正：x是列表的里的元素，比如字符串‘foo’\n",
    "\n",
    "list把foo变成列表['f','o','o']\n",
    "\n",
    "set是吧列表变为集合，去掉重复元素\n",
    "\n",
    "len得到set元素的长度\n",
    "\n",
    "lambda以上三步操作作为一个匿名函数，对x，也就是strings执行\n",
    "\n",
    "key。。？？？\n",
    "\n",
    "![0318meng](https://github.com/HanMENG15990045033/photos-for-document/blob/master/0318meng.jpg)\n",
    "\n",
    "额，又懵了吧，别慌，稳住\n",
    "\n",
    "这就要补一下sort的用法了\n"
   ]
  },
  {
   "cell_type": "markdown",
   "metadata": {},
   "source": [
    "#### 3.2.4.1 list.sort与sorted()用法补充\n",
    "\n",
    "参考：\n",
    "\n",
    "https://www.cnblogs.com/ShaunChen/p/6205330.html\n",
    "\n",
    "###### list.sort\n",
    "\n",
    "功能：对列表排序，改变原来列表\n",
    "\n",
    "通式：list.sort(func=None, key=None, reverse=False(or True))\n",
    "\n",
    "###### sorted()\n",
    "\n",
    "功能：对序列排序，不改变原来列表\n",
    "\n",
    "通式：sorted(iteralable, key=None, reverse=False)\n",
    "\n",
    "- func为了避免混乱返回None？不管了先\n",
    "- key在调用之前，对每个元素进行的函数操作\n",
    "- reverse=False正序，=True反序\n"
   ]
  },
  {
   "cell_type": "code",
   "execution_count": 50,
   "metadata": {},
   "outputs": [
    {
     "data": {
      "text/plain": [
       "[('dave', 'B', 10), ('jane', 'B', 12), ('john', 'A', 15)]"
      ]
     },
     "execution_count": 50,
     "metadata": {},
     "output_type": "execute_result"
    }
   ],
   "source": [
    "student_tuples = [('john', 'A', 15), ('jane', 'B', 12), ('dave', 'B', 10)]\n",
    "\n",
    "sorted(student_tuples, key=lambda student: student[2])   # sort by age\n",
    "\n",
    "## 处理对象这个列表，是个可迭代对象\n",
    "## key对于列表的每个元素进行的函数处理\n",
    "## 比如('john', 'A', 15)\n",
    "## lambda，这个函数不def定义了，直接上\n",
    "## 函数参数student就是这个('john', 'A', 15)\n",
    "## 做的处理，是提出第二位元素，也就是15\n",
    "## 处理后返回这个student[2]，15\n",
    "## 所有元素都经过这个处理之后，变成了，15，12，10\n",
    "## 再排序10，12，15\n",
    "## 排出来就应该是dave，jane，john这个顺序"
   ]
  },
  {
   "cell_type": "markdown",
   "metadata": {},
   "source": [
    "OK回头看书上的例子，就很容易了"
   ]
  },
  {
   "cell_type": "code",
   "execution_count": 3,
   "metadata": {},
   "outputs": [
    {
     "data": {
      "text/plain": [
       "['aaaa', 'foo', 'abab', 'bar', 'card']"
      ]
     },
     "execution_count": 3,
     "metadata": {},
     "output_type": "execute_result"
    }
   ],
   "source": [
    "strings = ['foo', 'card', 'bar', 'aaaa', 'abab']\n",
    "\n",
    "strings.sort(key=lambda x: len(set(list(x))))\n",
    "strings"
   ]
  },
  {
   "cell_type": "markdown",
   "metadata": {},
   "source": [
    "key：对每个参数执行以下key对应的参数操作"
   ]
  },
  {
   "cell_type": "code",
   "execution_count": 6,
   "metadata": {},
   "outputs": [
    {
     "data": {
      "text/plain": [
       "[['a', 'a', 'a', 'a'],\n",
       " ['f', 'o', 'o'],\n",
       " ['a', 'b', 'a', 'b'],\n",
       " ['b', 'a', 'r'],\n",
       " ['c', 'a', 'r', 'd']]"
      ]
     },
     "execution_count": 6,
     "metadata": {},
     "output_type": "execute_result"
    }
   ],
   "source": [
    "## 第一步list(x)\n",
    "\n",
    "[list(x) for x in strings] "
   ]
  },
  {
   "cell_type": "code",
   "execution_count": 8,
   "metadata": {},
   "outputs": [
    {
     "data": {
      "text/plain": [
       "[{'a'}, {'f', 'o'}, {'a', 'b'}, {'a', 'b', 'r'}, {'a', 'c', 'd', 'r'}]"
      ]
     },
     "execution_count": 8,
     "metadata": {},
     "output_type": "execute_result"
    }
   ],
   "source": [
    "## 第二步 set(list(x))\n",
    "\n",
    "[set(list(x)) for x in strings]"
   ]
  },
  {
   "cell_type": "code",
   "execution_count": 9,
   "metadata": {},
   "outputs": [
    {
     "data": {
      "text/plain": [
       "[1, 2, 2, 3, 4]"
      ]
     },
     "execution_count": 9,
     "metadata": {},
     "output_type": "execute_result"
    }
   ],
   "source": [
    "## 第三步 len(set(list(x)))\n",
    "\n",
    "[len(set(list(x))) for x in strings]"
   ]
  },
  {
   "cell_type": "markdown",
   "metadata": {},
   "source": [
    "按着这个排序\n",
    "\n",
    "原来：['foo', 'card', 'bar', 'aaaa', 'abab']\n",
    "\n",
    "排完：['aaaa', 'foo', 'abab', 'bar', 'card']"
   ]
  },
  {
   "cell_type": "markdown",
   "metadata": {},
   "source": [
    "作者：和def关键字声明的函数不同，匿名函数没有__name__属性\n",
    "\n",
    "![0319emmm](https://github.com/HanMENG15990045033/photos-for-document/blob/master/0319emmm.png)\n",
    "\n",
    "嗯。。。好吧"
   ]
  },
  {
   "cell_type": "markdown",
   "metadata": {},
   "source": [
    "### 3.2.5 Currying: Partial Argument Application 柯里化：部分参数的应用\n",
    "\n",
    "https://nbviewer.jupyter.org/github/pydata/pydata-book/blob/2nd-edition/ch03.ipynb\n",
    "    \n",
    "不要拿一个人名来吓唬我\n",
    "\n",
    "其实就是从已有函数衍生新的函数"
   ]
  },
  {
   "cell_type": "code",
   "execution_count": 6,
   "metadata": {},
   "outputs": [
    {
     "data": {
      "text/plain": [
       "13"
      ]
     },
     "execution_count": 6,
     "metadata": {},
     "output_type": "execute_result"
    }
   ],
   "source": [
    "## 把两个数字加载一起\n",
    "def add_numbers(x, y): \n",
    "    return x + y\n",
    "\n",
    "## 改编为只有y一个参数的函数\n",
    "add_five = lambda y: add_numbers(5, y)\n",
    "\n",
    "## 注意这是个函数，调用它\n",
    "add_five(8)"
   ]
  },
  {
   "cell_type": "code",
   "execution_count": 25,
   "metadata": {},
   "outputs": [
    {
     "data": {
      "text/plain": [
       "13"
      ]
     },
     "execution_count": 25,
     "metadata": {},
     "output_type": "execute_result"
    }
   ],
   "source": [
    "from functools import partial\n",
    "## functools函数工具包\n",
    "## 导入这个函数\n",
    "\n",
    "add_five = partial(add_numbers, 5)\n",
    "## partial局部地区的局部\n",
    "##功能就是调用这个add_numbers这个函数吧\n",
    "\n",
    "add_five(8)"
   ]
  },
  {
   "cell_type": "code",
   "execution_count": 27,
   "metadata": {},
   "outputs": [
    {
     "data": {
      "text/plain": [
       "15"
      ]
     },
     "execution_count": 27,
     "metadata": {},
     "output_type": "execute_result"
    }
   ],
   "source": [
    "## add_five = partial(add_numbers, 5)\n",
    "## partial这个相当于\n",
    "\n",
    "def add_five_2(y):\n",
    "    return add_numbers(5, y)\n",
    "\n",
    "add_five_2(10)"
   ]
  },
  {
   "cell_type": "code",
   "execution_count": 16,
   "metadata": {},
   "outputs": [
    {
     "data": {
      "text/plain": [
       "3"
      ]
     },
     "execution_count": 16,
     "metadata": {},
     "output_type": "execute_result"
    }
   ],
   "source": [
    "## 我自己再试一下\n",
    "\n",
    "def minus_numbers(x, y): \n",
    "    return x - y\n",
    "\n",
    "minus_five = lambda x: minus_numbers(x, 5)\n",
    "\n",
    "minus_five(8)"
   ]
  },
  {
   "cell_type": "code",
   "execution_count": 24,
   "metadata": {},
   "outputs": [
    {
     "data": {
      "text/plain": [
       "-5"
      ]
     },
     "execution_count": 24,
     "metadata": {},
     "output_type": "execute_result"
    }
   ],
   "source": [
    "from functools import partial\n",
    "\n",
    "minus_five = partial(minus_numbers, 5)\n",
    "## 这里5默认是x\n",
    "\n",
    "minus_five(10)\n",
    "## 10默认为y"
   ]
  },
  {
   "cell_type": "code",
   "execution_count": 22,
   "metadata": {},
   "outputs": [
    {
     "ename": "TypeError",
     "evalue": "the first argument must be callable",
     "output_type": "error",
     "traceback": [
      "\u001b[1;31m---------------------------------------------------------------------------\u001b[0m",
      "\u001b[1;31mTypeError\u001b[0m                                 Traceback (most recent call last)",
      "\u001b[1;32m<ipython-input-22-fa79d5b40f97>\u001b[0m in \u001b[0;36m<module>\u001b[1;34m\u001b[0m\n\u001b[0;32m      1\u001b[0m \u001b[1;32mfrom\u001b[0m \u001b[0mfunctools\u001b[0m \u001b[1;32mimport\u001b[0m \u001b[0mpartial\u001b[0m\u001b[1;33m\u001b[0m\u001b[1;33m\u001b[0m\u001b[0m\n\u001b[0;32m      2\u001b[0m \u001b[1;33m\u001b[0m\u001b[0m\n\u001b[1;32m----> 3\u001b[1;33m \u001b[0mminus_five\u001b[0m \u001b[1;33m=\u001b[0m \u001b[0mpartial\u001b[0m\u001b[1;33m(\u001b[0m\u001b[1;36m5\u001b[0m\u001b[1;33m,\u001b[0m \u001b[0mminus_numbers\u001b[0m\u001b[1;33m)\u001b[0m\u001b[1;33m\u001b[0m\u001b[1;33m\u001b[0m\u001b[0m\n\u001b[0m\u001b[0;32m      4\u001b[0m \u001b[1;33m\u001b[0m\u001b[0m\n\u001b[0;32m      5\u001b[0m \u001b[0mminus_five\u001b[0m\u001b[1;33m(\u001b[0m\u001b[1;36m10\u001b[0m\u001b[1;33m)\u001b[0m\u001b[1;33m\u001b[0m\u001b[1;33m\u001b[0m\u001b[0m\n",
      "\u001b[1;31mTypeError\u001b[0m: the first argument must be callable"
     ]
    }
   ],
   "source": [
    "from functools import partial\n",
    "\n",
    "minus_five = partial(5, minus_numbers)\n",
    "## 不能换位置哦\n",
    "\n",
    "minus_five(10)"
   ]
  },
  {
   "cell_type": "code",
   "execution_count": 23,
   "metadata": {},
   "outputs": [
    {
     "data": {
      "text/plain": [
       "5"
      ]
     },
     "execution_count": 23,
     "metadata": {},
     "output_type": "execute_result"
    }
   ],
   "source": [
    "from functools import partial\n",
    "\n",
    "minus_five = partial(minus_numbers, y=5)\n",
    "\n",
    "minus_five(10)"
   ]
  },
  {
   "cell_type": "code",
   "execution_count": 28,
   "metadata": {},
   "outputs": [
    {
     "name": "stdout",
     "output_type": "stream",
     "text": [
      "<function add_numbers at 0x00000132FE52C2F0>\n",
      "3\n"
     ]
    }
   ],
   "source": [
    "## N先生的补充：什么叫函数即对象\n",
    "\n",
    "def add_numbers(x, y): \n",
    "    return x + y \n",
    "\n",
    "def test(a): \n",
    "    return a(1, 2)\n",
    "   \n",
    "print(add_numbers)# 这是一个函数，function\n",
    "print(test(add_numbers)) # 这是函数作为另一个函数的变量"
   ]
  },
  {
   "cell_type": "markdown",
   "metadata": {},
   "source": [
    "哈哈哈N先生专业救场20年，跪谢！\n",
    "\n",
    "![0320baodatui](https://github.com/HanMENG15990045033/photos-for-document/blob/master/0320baodatui.png)\n",
    "\n",
    "\n",
    "### 3.2.6 Generators 生成器\n",
    "\n",
    "迭代器协议\n",
    "\n",
    "迭代器就是一种在上下文中（比如for循环）向Python解释器生成对象的对象"
   ]
  },
  {
   "cell_type": "code",
   "execution_count": 29,
   "metadata": {},
   "outputs": [
    {
     "name": "stdout",
     "output_type": "stream",
     "text": [
      "a\n",
      "b\n",
      "c\n"
     ]
    }
   ],
   "source": [
    "some_dict = {'a': 1, 'b': 2, 'c': 3}\n",
    "for key in some_dict:\n",
    "    print(key)\n",
    "    \n",
    "## for这种就让Python解释器尝试生成一个迭代器"
   ]
  },
  {
   "cell_type": "code",
   "execution_count": 40,
   "metadata": {},
   "outputs": [
    {
     "data": {
      "text/plain": [
       "<dict_keyiterator at 0x132fe568188>"
      ]
     },
     "execution_count": 40,
     "metadata": {},
     "output_type": "execute_result"
    }
   ],
   "source": [
    "dict_iterator = iter(some_dict)\n",
    "dict_iterator"
   ]
  },
  {
   "cell_type": "code",
   "execution_count": 41,
   "metadata": {},
   "outputs": [
    {
     "data": {
      "text/plain": [
       "['a', 'b', 'c']"
      ]
     },
     "execution_count": 41,
     "metadata": {},
     "output_type": "execute_result"
    }
   ],
   "source": [
    "list(dict_iterator)"
   ]
  },
  {
   "cell_type": "code",
   "execution_count": 42,
   "metadata": {},
   "outputs": [
    {
     "data": {
      "text/plain": [
       "[]"
      ]
     },
     "execution_count": 42,
     "metadata": {},
     "output_type": "execute_result"
    }
   ],
   "source": [
    "list(dict_iterator)\n",
    "## 似乎生成之后只能调用一次"
   ]
  },
  {
   "cell_type": "code",
   "execution_count": 44,
   "metadata": {},
   "outputs": [
    {
     "data": {
      "text/plain": [
       "('a', 'b', 'c')"
      ]
     },
     "execution_count": 44,
     "metadata": {},
     "output_type": "execute_result"
    }
   ],
   "source": [
    "dict_iterator_2 = iter(some_dict)\n",
    "## 所以没办法，只能再定义\n",
    "tuple(dict_iterator_2)"
   ]
  },
  {
   "cell_type": "code",
   "execution_count": 46,
   "metadata": {},
   "outputs": [],
   "source": [
    "some_list = [5, 4, 3, 2, 1]\n",
    "list_iterator = iter(some_list)"
   ]
  },
  {
   "cell_type": "code",
   "execution_count": 47,
   "metadata": {},
   "outputs": [
    {
     "data": {
      "text/plain": [
       "{1, 2, 3, 4, 5}"
      ]
     },
     "execution_count": 47,
     "metadata": {},
     "output_type": "execute_result"
    }
   ],
   "source": [
    "set(list_iterator)"
   ]
  },
  {
   "cell_type": "code",
   "execution_count": 49,
   "metadata": {},
   "outputs": [
    {
     "data": {
      "text/plain": [
       "1"
      ]
     },
     "execution_count": 49,
     "metadata": {},
     "output_type": "execute_result"
    }
   ],
   "source": [
    "list_iterator_2 = iter(some_list)\n",
    "min(list_iterator_2)"
   ]
  },
  {
   "cell_type": "code",
   "execution_count": 50,
   "metadata": {},
   "outputs": [
    {
     "data": {
      "text/plain": [
       "5"
      ]
     },
     "execution_count": 50,
     "metadata": {},
     "output_type": "execute_result"
    }
   ],
   "source": [
    "list_iterator_3 = iter(some_list)\n",
    "max(list_iterator_3)"
   ]
  },
  {
   "cell_type": "code",
   "execution_count": 54,
   "metadata": {},
   "outputs": [
    {
     "name": "stdout",
     "output_type": "stream",
     "text": [
      "<list_iterator object at 0x00000132FE544D68>\n",
      "<list_iterator object at 0x00000132FE5449B0>\n",
      "[1, 2, 3]\n",
      "[1, 2, 3]\n",
      "[]\n",
      "<list_iterator object at 0x00000132FE5449B0>\n"
     ]
    }
   ],
   "source": [
    "l = [1, 2, 3]\n",
    "a = iter(l)\n",
    "b = iter(l)\n",
    "\n",
    "print(a)\n",
    "print(b)\n",
    "\n",
    "print(list(a))\n",
    "print(list(b))\n",
    "print(list(b))\n",
    "print(b)\n",
    "## 迭代器只跟自己有关\n",
    "## 迭代器有一个开始位置和结束位置"
   ]
  },
  {
   "cell_type": "code",
   "execution_count": 61,
   "metadata": {},
   "outputs": [
    {
     "name": "stdout",
     "output_type": "stream",
     "text": [
      "1\n",
      "2\n",
      "3\n"
     ]
    }
   ],
   "source": [
    "lst = [1, 2, 3]\n",
    "for i in iter(lst):\n",
    "     print(i)"
   ]
  },
  {
   "cell_type": "code",
   "execution_count": 76,
   "metadata": {
    "scrolled": true
   },
   "outputs": [
    {
     "name": "stdout",
     "output_type": "stream",
     "text": [
      "0\n",
      "1\n",
      "2\n"
     ]
    }
   ],
   "source": [
    "a = [1, 2, 3]\n",
    "\n",
    "for x in a:\n",
    "    print(a.index(x))\n"
   ]
  },
  {
   "cell_type": "code",
   "execution_count": 78,
   "metadata": {},
   "outputs": [
    {
     "name": "stdout",
     "output_type": "stream",
     "text": [
      "1\n",
      "2\n",
      "3\n",
      "4\n",
      "5\n",
      "6\n",
      "7\n",
      "8\n"
     ]
    }
   ],
   "source": [
    "l = [1, 2, 3, 4, 5, 6, 7, 8]\n",
    "\n",
    "for i in range(0, len(l)):\n",
    "    print(l[i])"
   ]
  },
  {
   "cell_type": "markdown",
   "metadata": {},
   "source": [
    "迭代器的优势\n",
    "\n",
    "比如要找第4位，索引有点像整个for循环，从0开始，找到4结束\n",
    "\n",
    "迭代器有点像for循环里的一步，走到第三步，下面就是第四步\n",
    "\n",
    "索引每次都从0开始数\n",
    "\n",
    "就因为0数 会有多余的步骤 降低了程序性能\n",
    "\n",
    "比如有个 100w个元素的list  如果用索引 每次都从0位开始数\n",
    "\n",
    "不是很浪费时间吗\n",
    "\n",
    "索引就是记住最开始位置  迭代就是记住了当前操作到的位置"
   ]
  },
  {
   "cell_type": "code",
   "execution_count": 90,
   "metadata": {},
   "outputs": [
    {
     "data": {
      "text/plain": [
       "1"
      ]
     },
     "execution_count": 90,
     "metadata": {},
     "output_type": "execute_result"
    }
   ],
   "source": [
    "l = [1, 2, 3, 4, 5, 6, 7, 8]\n",
    "\n",
    "iter_l = iter(l)\n",
    "next(iter_l)"
   ]
  },
  {
   "cell_type": "code",
   "execution_count": 91,
   "metadata": {},
   "outputs": [
    {
     "data": {
      "text/plain": [
       "2"
      ]
     },
     "execution_count": 91,
     "metadata": {},
     "output_type": "execute_result"
    }
   ],
   "source": [
    "next(iter_l)"
   ]
  },
  {
   "cell_type": "code",
   "execution_count": 92,
   "metadata": {},
   "outputs": [
    {
     "name": "stdout",
     "output_type": "stream",
     "text": [
      "[3, 4, 5, 6, 7, 8]\n"
     ]
    }
   ],
   "source": [
    "print(list(iter_l))"
   ]
  },
  {
   "cell_type": "markdown",
   "metadata": {},
   "source": [
    "创建一个生成器，只需将函数的return换成yiel"
   ]
  },
  {
   "cell_type": "code",
   "execution_count": 84,
   "metadata": {},
   "outputs": [],
   "source": [
    "def squares(n=10):\n",
    "    print('Generating squares from 1 to {0}'.format(n ** 2))\n",
    "    for i in range(1, n + 1):\n",
    "        yield i ** 2"
   ]
  },
  {
   "cell_type": "code",
   "execution_count": 85,
   "metadata": {},
   "outputs": [
    {
     "data": {
      "text/plain": [
       "<generator object squares at 0x00000132FE5552A0>"
      ]
     },
     "execution_count": 85,
     "metadata": {},
     "output_type": "execute_result"
    }
   ],
   "source": [
    "gen = squares()\n",
    "gen"
   ]
  },
  {
   "cell_type": "code",
   "execution_count": 86,
   "metadata": {},
   "outputs": [
    {
     "name": "stdout",
     "output_type": "stream",
     "text": [
      "Generating squares from 1 to 100\n",
      "1 4 9 16 25 36 49 64 81 100 "
     ]
    }
   ],
   "source": [
    "for x in gen:\n",
    "    print(x, end=' ')"
   ]
  },
  {
   "cell_type": "code",
   "execution_count": 118,
   "metadata": {},
   "outputs": [],
   "source": [
    "for x in gen:\n",
    "    print(x, end=' ')\n",
    "## 还是只能用一次"
   ]
  },
  {
   "cell_type": "markdown",
   "metadata": {},
   "source": [
    "yeild a 相当于return a 只不过return很知足，得到a就结束\n",
    "\n",
    "yeild得到a之后，继续执行代码，还可以继续得到b c d\n",
    "\n",
    "a独白：早知道你是这样的yeild，当初啥也不让你得到我\n",
    "\n"
   ]
  },
  {
   "cell_type": "code",
   "execution_count": 128,
   "metadata": {},
   "outputs": [
    {
     "name": "stdout",
     "output_type": "stream",
     "text": [
      "<generator object yield_test_1 at 0x00000132FE555A20>\n",
      "10\n",
      "20\n",
      "30\n",
      "40\n"
     ]
    }
   ],
   "source": [
    "def yield_test_1(n):\n",
    "    a = n\n",
    "    yield a\n",
    "    b = n * 2\n",
    "    yield b\n",
    "    c = n * 3\n",
    "    yield c\n",
    "    d = n * 4\n",
    "    yield d\n",
    "\n",
    "print(yield_test_1(10))\n",
    "for i in yield_test_1(10):\n",
    "    print(i)"
   ]
  },
  {
   "cell_type": "code",
   "execution_count": 107,
   "metadata": {},
   "outputs": [
    {
     "name": "stdout",
     "output_type": "stream",
     "text": [
      "<generator object yield_test at 0x00000132FE555480>\n",
      "0 in for\n",
      "2 in for\n",
      "4 in for\n",
      "6 in for\n",
      "8 in for\n",
      "end.\n",
      "end.\n"
     ]
    },
    {
     "data": {
      "text/plain": [
       "30"
      ]
     },
     "execution_count": 107,
     "metadata": {},
     "output_type": "execute_result"
    }
   ],
   "source": [
    "def yield_test(n):\n",
    "    for i in range(n):\n",
    "        yield change(i) \n",
    "        ## 功能生成一串鞭炮，每个小鞭儿调用一次change\n",
    "        ## 并保存，注意保存了\n",
    "        #print(\"i = \",i)\n",
    "    print(\"end.\")\n",
    "\n",
    "def change(i):\n",
    "    return i*2\n",
    "\n",
    "print(yield_test(5)) # 生成了一串鞭炮，change（0），change（1）...change(5)\n",
    "\n",
    "for i in yield_test(5):#使用for循环点鞭炮\n",
    "    print(i, \"in for\")\n",
    "\n",
    "sum(yield_test(6)) # 用sum点鞭炮"
   ]
  },
  {
   "cell_type": "code",
   "execution_count": 112,
   "metadata": {},
   "outputs": [
    {
     "name": "stdout",
     "output_type": "stream",
     "text": [
      "迭代器的结果： 0\n",
      "函数的for循环： 0\n",
      "迭代器的结果： 2\n",
      "函数的for循环： 1\n",
      "迭代器的结果： 4\n",
      "函数的for循环： 2\n",
      "迭代器的结果： 6\n",
      "函数的for循环： 3\n",
      "迭代器的结果： 8\n",
      "函数的for循环： 4\n",
      "end.\n"
     ]
    }
   ],
   "source": [
    "def yield_test(n):\n",
    "    for i in range(n):\n",
    "        yield change(i)\n",
    "        print(\"函数的for循环：\",i)\n",
    "    print(\"end.\")\n",
    "\n",
    "def change(i):\n",
    "    return i*2\n",
    "\n",
    "#使用for循环\n",
    "for i in yield_test(5):\n",
    "    print(\"迭代器的结果：\",i)"
   ]
  },
  {
   "cell_type": "code",
   "execution_count": 115,
   "metadata": {},
   "outputs": [
    {
     "data": {
      "text/plain": [
       "0"
      ]
     },
     "execution_count": 115,
     "metadata": {},
     "output_type": "execute_result"
    }
   ],
   "source": [
    "def yield_test(n):\n",
    "    for i in range(n):\n",
    "        return change(i)\n",
    "        print(\"函数的for循环：\",i)\n",
    "    print(\"end.\")\n",
    "\n",
    "def change(i):\n",
    "    return i*2\n",
    "\n",
    "yield_test(5)"
   ]
  },
  {
   "cell_type": "markdown",
   "metadata": {},
   "source": [
    "#### 3.2.6.1 Generator expresssions 生成器的表达式\n",
    "\n",
    "列表推导式的[  ]换为(  )"
   ]
  },
  {
   "cell_type": "code",
   "execution_count": 96,
   "metadata": {},
   "outputs": [
    {
     "data": {
      "text/plain": [
       "<generator object <genexpr> at 0x00000132FE555408>"
      ]
     },
     "execution_count": 96,
     "metadata": {},
     "output_type": "execute_result"
    }
   ],
   "source": [
    "gen = (x ** 2 for x in range(100))\n",
    "gen\n"
   ]
  },
  {
   "cell_type": "code",
   "execution_count": 97,
   "metadata": {},
   "outputs": [],
   "source": [
    "# 相当于\n",
    "def _make_gen(): \n",
    "    for x in range(100): \n",
    "        yield x ** 2 \n",
    "gen = _make_gen()"
   ]
  },
  {
   "cell_type": "code",
   "execution_count": 98,
   "metadata": {},
   "outputs": [
    {
     "data": {
      "text/plain": [
       "328350"
      ]
     },
     "execution_count": 98,
     "metadata": {},
     "output_type": "execute_result"
    }
   ],
   "source": [
    "sum(x ** 2 for x in range(100))"
   ]
  },
  {
   "cell_type": "code",
   "execution_count": 99,
   "metadata": {},
   "outputs": [
    {
     "data": {
      "text/plain": [
       "{0: 0, 1: 1, 2: 4, 3: 9, 4: 16}"
      ]
     },
     "execution_count": 99,
     "metadata": {},
     "output_type": "execute_result"
    }
   ],
   "source": [
    "dict((i, i **2) for i in range(5))"
   ]
  },
  {
   "cell_type": "markdown",
   "metadata": {},
   "source": [
    "我去，太好用了吧\n",
    "\n",
    "![0321wanmei](https://github.com/HanMENG15990045033/photos-for-document/blob/master/0321wanmei.png)"
   ]
  },
  {
   "cell_type": "markdown",
   "metadata": {},
   "source": [
    "#### 3.2.6.2 itertools module 模块\n",
    "\n",
    "还记得groupby吗，以前按周数吧数据分组的时候用过一次\n",
    "\n",
    "groupby(iterable[，keyfunc分组依据])"
   ]
  },
  {
   "cell_type": "code",
   "execution_count": 129,
   "metadata": {},
   "outputs": [
    {
     "name": "stdout",
     "output_type": "stream",
     "text": [
      "groupby的结果\n",
      "<itertools.groupby object at 0x00000132FE57D518>\n",
      "1 [(1, 5), (1, 4), (1, 3), (1, 2)]\n",
      "2 [(2, 4), (2, 3)]\n",
      "3 [(3, 5)]\n"
     ]
    }
   ],
   "source": [
    "from itertools import groupby \n",
    "\n",
    "test = [(1, 5), (1, 4), (1, 3), (1, 2), (2, 4), (2, 3), (3, 5)]\n",
    "temp = groupby(test, key=lambda x: x[0])\n",
    "## 得到一个迭代器\n",
    "## x就是一个元组如（1，5）\n",
    "## key=x[0]根据元组的0位元素分组，1是一组，2一组，3一组\n",
    "print(temp)\n",
    "## 得到一组数，分类的标准，分类的结果是个列表1 []\n",
    "for a, b in temp:\n",
    "    print(a, list(b))"
   ]
  },
  {
   "cell_type": "code",
   "execution_count": 101,
   "metadata": {},
   "outputs": [
    {
     "name": "stdout",
     "output_type": "stream",
     "text": [
      "A ['Alan', 'Adam']\n",
      "W ['Wes', 'Will']\n",
      "A ['Albert']\n",
      "S ['Steven']\n"
     ]
    }
   ],
   "source": [
    "import itertools\n",
    "first_letter = lambda x: x[0]\n",
    "names = ['Alan', 'Adam', 'Wes', 'Will', 'Albert', 'Steven']\n",
    "\n",
    "for letter, names in itertools.groupby(names, first_letter):\n",
    "    print(letter, list(names)) # names is a generator"
   ]
  },
  {
   "cell_type": "markdown",
   "metadata": {},
   "source": [
    "其他\n",
    "\n",
    "combinations (iterable, k) 组合\n",
    "\n",
    "permutations (iterable, k) 排列\n",
    "\n",
    "product (*iterables, repeat=1) 多组之间组合"
   ]
  },
  {
   "cell_type": "code",
   "execution_count": 140,
   "metadata": {},
   "outputs": [
    {
     "name": "stdout",
     "output_type": "stream",
     "text": [
      "(1, 2, 3)\n",
      "(1, 2, 4)\n",
      "(1, 3, 4)\n",
      "(2, 3, 4)\n"
     ]
    }
   ],
   "source": [
    "from itertools import combinations\n",
    "test = combinations([1, 2, 3, 4], 3)\n",
    "for n in test:\n",
    "    print(n)"
   ]
  },
  {
   "cell_type": "code",
   "execution_count": 141,
   "metadata": {},
   "outputs": [
    {
     "name": "stdout",
     "output_type": "stream",
     "text": [
      "(1, 2, 3)\n",
      "(1, 2, 4)\n",
      "(1, 3, 2)\n",
      "(1, 3, 4)\n",
      "(1, 4, 2)\n",
      "(1, 4, 3)\n",
      "(2, 1, 3)\n",
      "(2, 1, 4)\n",
      "(2, 3, 1)\n",
      "(2, 3, 4)\n",
      "(2, 4, 1)\n",
      "(2, 4, 3)\n",
      "(3, 1, 2)\n",
      "(3, 1, 4)\n",
      "(3, 2, 1)\n",
      "(3, 2, 4)\n",
      "(3, 4, 1)\n",
      "(3, 4, 2)\n",
      "(4, 1, 2)\n",
      "(4, 1, 3)\n",
      "(4, 2, 1)\n",
      "(4, 2, 3)\n",
      "(4, 3, 1)\n",
      "(4, 3, 2)\n"
     ]
    }
   ],
   "source": [
    "from itertools import permutations\n",
    "test = permutations([1, 2, 3, 4], 3)\n",
    "for n in test:\n",
    "    print(n)"
   ]
  },
  {
   "cell_type": "code",
   "execution_count": 143,
   "metadata": {},
   "outputs": [
    {
     "name": "stdout",
     "output_type": "stream",
     "text": [
      "('a', 'x')\n",
      "('a', 'y')\n",
      "('b', 'x')\n",
      "('b', 'y')\n",
      "('c', 'x')\n",
      "('c', 'y')\n"
     ]
    }
   ],
   "source": [
    "import itertools\n",
    "test = itertools.product('abc', 'xy')\n",
    "for n in test:\n",
    "    print(n)"
   ]
  },
  {
   "cell_type": "markdown",
   "metadata": {},
   "source": [
    "### Errors and Exception Handling 错误和异常处理\n",
    "\n",
    "之前见过，但还是要深化一下\n",
    "\n",
    "本段主要帮你解决，跟Python表白：\n",
    "\n",
    "不确定能不能成功怎么办\n",
    "\n",
    "被拒绝想知道为什么怎么办\n",
    "\n",
    "被拒绝也不想气氛尴尬怎么办\n",
    "\n",
    "破天荒成功了怎么办\n",
    "\n",
    "不管成不成功都想干点啥怎么办\n",
    "\n",
    "![0322chengyi](https://github.com/HanMENG15990045033/photos-for-document/blob/master/0322chengyi.png)"
   ]
  },
  {
   "cell_type": "code",
   "execution_count": 146,
   "metadata": {},
   "outputs": [
    {
     "ename": "ValueError",
     "evalue": "could not convert string to float: 'something'",
     "output_type": "error",
     "traceback": [
      "\u001b[1;31m---------------------------------------------------------------------------\u001b[0m",
      "\u001b[1;31mValueError\u001b[0m                                Traceback (most recent call last)",
      "\u001b[1;32m<ipython-input-146-6d335c618d25>\u001b[0m in \u001b[0;36m<module>\u001b[1;34m\u001b[0m\n\u001b[0;32m      1\u001b[0m \u001b[0mfloat\u001b[0m\u001b[1;33m(\u001b[0m\u001b[1;34m'1.2345'\u001b[0m\u001b[1;33m)\u001b[0m\u001b[1;33m\u001b[0m\u001b[1;33m\u001b[0m\u001b[0m\n\u001b[1;32m----> 2\u001b[1;33m \u001b[0mfloat\u001b[0m\u001b[1;33m(\u001b[0m\u001b[1;34m'something'\u001b[0m\u001b[1;33m)\u001b[0m\u001b[1;33m\u001b[0m\u001b[1;33m\u001b[0m\u001b[0m\n\u001b[0m",
      "\u001b[1;31mValueError\u001b[0m: could not convert string to float: 'something'"
     ]
    }
   ],
   "source": [
    "float('1.2345')\n",
    "float('something')"
   ]
  },
  {
   "cell_type": "markdown",
   "metadata": {},
   "source": [
    "1. except 回避所有错误"
   ]
  },
  {
   "cell_type": "code",
   "execution_count": 162,
   "metadata": {},
   "outputs": [
    {
     "data": {
      "text/plain": [
       "'哈哈,我真秀'"
      ]
     },
     "execution_count": 162,
     "metadata": {},
     "output_type": "execute_result"
    }
   ],
   "source": [
    "def attempt_float(x):\n",
    "    try:\n",
    "        return float(x)\n",
    "    except:\n",
    "        return x\n",
    "\n",
    "attempt_float('哈哈,我真秀')"
   ]
  },
  {
   "cell_type": "markdown",
   "metadata": {},
   "source": [
    "2. except AError回避指定错误"
   ]
  },
  {
   "cell_type": "code",
   "execution_count": 155,
   "metadata": {},
   "outputs": [
    {
     "ename": "TypeError",
     "evalue": "float() argument must be a string or a number, not 'tuple'",
     "output_type": "error",
     "traceback": [
      "\u001b[1;31m---------------------------------------------------------------------------\u001b[0m",
      "\u001b[1;31mTypeError\u001b[0m                                 Traceback (most recent call last)",
      "\u001b[1;32m<ipython-input-155-82f777b0e564>\u001b[0m in \u001b[0;36m<module>\u001b[1;34m\u001b[0m\n\u001b[1;32m----> 1\u001b[1;33m \u001b[0mfloat\u001b[0m\u001b[1;33m(\u001b[0m\u001b[1;33m(\u001b[0m\u001b[1;36m1\u001b[0m\u001b[1;33m,\u001b[0m \u001b[1;36m2\u001b[0m\u001b[1;33m)\u001b[0m\u001b[1;33m)\u001b[0m\u001b[1;33m\u001b[0m\u001b[1;33m\u001b[0m\u001b[0m\n\u001b[0m",
      "\u001b[1;31mTypeError\u001b[0m: float() argument must be a string or a number, not 'tuple'"
     ]
    }
   ],
   "source": [
    "float((1, 2))"
   ]
  },
  {
   "cell_type": "code",
   "execution_count": 157,
   "metadata": {},
   "outputs": [
    {
     "data": {
      "text/plain": [
       "(1, 2)"
      ]
     },
     "execution_count": 157,
     "metadata": {},
     "output_type": "execute_result"
    }
   ],
   "source": [
    "def attempt_float_2(x):\n",
    "    try:\n",
    "        return float(x)\n",
    "    except TypeError:\n",
    "        return x\n",
    "\n",
    "attempt_float_2((1, 2))"
   ]
  },
  {
   "cell_type": "code",
   "execution_count": 165,
   "metadata": {},
   "outputs": [
    {
     "ename": "ValueError",
     "evalue": "could not convert string to float: '蒂花之秀'",
     "output_type": "error",
     "traceback": [
      "\u001b[1;31m---------------------------------------------------------------------------\u001b[0m",
      "\u001b[1;31mValueError\u001b[0m                                Traceback (most recent call last)",
      "\u001b[1;32m<ipython-input-165-a90db91675cb>\u001b[0m in \u001b[0;36m<module>\u001b[1;34m\u001b[0m\n\u001b[1;32m----> 1\u001b[1;33m \u001b[0mattempt_float_2\u001b[0m\u001b[1;33m(\u001b[0m\u001b[1;34m'蒂花之秀'\u001b[0m\u001b[1;33m)\u001b[0m \u001b[1;31m## 没有指定的类型还是会照常报错\u001b[0m\u001b[1;33m\u001b[0m\u001b[1;33m\u001b[0m\u001b[0m\n\u001b[0m",
      "\u001b[1;32m<ipython-input-157-c9bb0f8deb8d>\u001b[0m in \u001b[0;36mattempt_float_2\u001b[1;34m(x)\u001b[0m\n\u001b[0;32m      1\u001b[0m \u001b[1;32mdef\u001b[0m \u001b[0mattempt_float_2\u001b[0m\u001b[1;33m(\u001b[0m\u001b[0mx\u001b[0m\u001b[1;33m)\u001b[0m\u001b[1;33m:\u001b[0m\u001b[1;33m\u001b[0m\u001b[1;33m\u001b[0m\u001b[0m\n\u001b[0;32m      2\u001b[0m     \u001b[1;32mtry\u001b[0m\u001b[1;33m:\u001b[0m\u001b[1;33m\u001b[0m\u001b[1;33m\u001b[0m\u001b[0m\n\u001b[1;32m----> 3\u001b[1;33m         \u001b[1;32mreturn\u001b[0m \u001b[0mfloat\u001b[0m\u001b[1;33m(\u001b[0m\u001b[0mx\u001b[0m\u001b[1;33m)\u001b[0m\u001b[1;33m\u001b[0m\u001b[1;33m\u001b[0m\u001b[0m\n\u001b[0m\u001b[0;32m      4\u001b[0m     \u001b[1;32mexcept\u001b[0m \u001b[0mTypeError\u001b[0m\u001b[1;33m:\u001b[0m\u001b[1;33m\u001b[0m\u001b[1;33m\u001b[0m\u001b[0m\n\u001b[0;32m      5\u001b[0m         \u001b[1;32mreturn\u001b[0m \u001b[0mx\u001b[0m\u001b[1;33m\u001b[0m\u001b[1;33m\u001b[0m\u001b[0m\n",
      "\u001b[1;31mValueError\u001b[0m: could not convert string to float: '蒂花之秀'"
     ]
    }
   ],
   "source": [
    "attempt_float_2('蒂花之秀') ## 没有指定的类型还是会照常报错"
   ]
  },
  {
   "cell_type": "code",
   "execution_count": 167,
   "metadata": {},
   "outputs": [
    {
     "data": {
      "text/plain": [
       "(1, 2)"
      ]
     },
     "execution_count": 167,
     "metadata": {},
     "output_type": "execute_result"
    }
   ],
   "source": [
    "def attempt_float_3(x):\n",
    "    try:\n",
    "        return float(x)\n",
    "    except (ValueError, TypeError):\n",
    "        return x\n",
    "\n",
    "attempt_float_3((1, 2))"
   ]
  },
  {
   "cell_type": "code",
   "execution_count": 169,
   "metadata": {},
   "outputs": [
    {
     "data": {
      "text/plain": [
       "'造化钟神秀'"
      ]
     },
     "execution_count": 169,
     "metadata": {},
     "output_type": "execute_result"
    }
   ],
   "source": [
    "attempt_float_3('造化钟神秀')"
   ]
  },
  {
   "cell_type": "markdown",
   "metadata": {},
   "source": [
    "这书说的太委婉了\n",
    "\n",
    "直接看N先的远程支援\n",
    "\n",
    "![0323wo](https://github.com/HanMENG15990045033/photos-for-document/blob/master/0323wo.png)"
   ]
  },
  {
   "cell_type": "code",
   "execution_count": 170,
   "metadata": {},
   "outputs": [
    {
     "name": "stdout",
     "output_type": "stream",
     "text": [
      "Get AError\n",
      "finally\n"
     ]
    }
   ],
   "source": [
    "try:\n",
    "     1 / 0\n",
    "except ZeroDivisionError: # 指定错误，多个用元组\n",
    "     print(\"Get AError\")\n",
    "except:\n",
    "     print(\"exception\")  # 所有报错\n",
    "else:\n",
    "     print(\"else\") # try 成功执行的\n",
    "finally:\n",
    "     print(\"finally\") # 成不成功都执行的"
   ]
  },
  {
   "cell_type": "markdown",
   "metadata": {},
   "source": [
    "N先生友情提醒：\n",
    "\n",
    "else语句的存在必须以except X或者except语句为前提\n",
    "\n",
    "如果在没有except语句的try block中使用else语句\n",
    "\n",
    "会引发语法错误"
   ]
  },
  {
   "cell_type": "code",
   "execution_count": 150,
   "metadata": {},
   "outputs": [
    {
     "ename": "SyntaxError",
     "evalue": "invalid syntax (<ipython-input-150-fd8e4bf958ce>, line 3)",
     "output_type": "error",
     "traceback": [
      "\u001b[1;36m  File \u001b[1;32m\"<ipython-input-150-fd8e4bf958ce>\"\u001b[1;36m, line \u001b[1;32m3\u001b[0m\n\u001b[1;33m    else:\u001b[0m\n\u001b[1;37m       ^\u001b[0m\n\u001b[1;31mSyntaxError\u001b[0m\u001b[1;31m:\u001b[0m invalid syntax\n"
     ]
    }
   ],
   "source": [
    "try:\n",
    "     1 / 0\n",
    "else:\n",
    "     print(\"else\")"
   ]
  },
  {
   "cell_type": "markdown",
   "metadata": {},
   "source": [
    "## 3.3 Files and the Operating System 文件与操作系统\n",
    "\n",
    "\n"
   ]
  },
  {
   "cell_type": "markdown",
   "metadata": {},
   "source": [
    "这段，书上简单的一页，知道我走了多少坑嘛！！！\n",
    "\n",
    "![0324bufangqi](https://github.com/HanMENG15990045033/photos-for-document/blob/master/0324bufangqi.jpg)\n",
    "\n",
    "这部分大体分三步\n",
    "\n",
    "第一步把文件存好，第二步把文件读出来，第三步把文件关上\n",
    "\n",
    "最后看一眼Python文件读取模式\n",
    "\n",
    "文件方法或属性\n",
    "\n",
    "### 第一步：存文件\n",
    "\n",
    "文件在作者的github里，链接如下\n",
    "\n",
    "https://github.com/wesm/pydata-book/blob/2nd-edition/examples/segismundo.txt\n",
    "\n",
    "【二维码，作者github3.3文件】\n",
    "\n",
    "\n",
    "文件里面大概是这么个东西 西班牙语，大概是一首诗\n",
    "\n",
    "Sueña el rico en su riqueza,\n",
    "\n",
    "que más cuidados le ofrece;\n",
    "\n",
    "...\n",
    "\n"
   ]
  },
  {
   "cell_type": "markdown",
   "metadata": {},
   "source": [
    "建立文件的过程也有一点曲折\n",
    "\n",
    "然后我在自己的文件里建了txt复制进去\n",
    "\n",
    "![0329unicode](https://github.com/HanMENG15990045033/photos-for-document/blob/master/0329Unicode.PNG)\n",
    "\n",
    "保存的时候该文件含有Unicode字符？？然后我点了取消\n",
    "\n",
    "![0339unicode](https://github.com/HanMENG15990045033/photos-for-document/blob/master/0330Unicode.PNG)\n",
    "\n",
    "我选了unicode\n",
    "\n",
    "### 第二步：读文件"
   ]
  },
  {
   "cell_type": "code",
   "execution_count": 80,
   "metadata": {},
   "outputs": [],
   "source": [
    "# path = 'examples/segismundo.txt'\n",
    "\n",
    "path = r'C:\\Users\\Huawei\\Desktop\\data_analysis\\ch0302.txt'\n",
    "# r不写会报错\n",
    "# SyntaxError: (unicode error) 'unicodeescape' codec can't decode bytes in position 2-3: truncated \\UXXXXXXXX escape\n",
    "\n",
    "\n",
    "# f = open(path)\n",
    "# 直接这么开，会报错\n",
    "# UnicodeDecodeError: 'gbk' codec can't decode byte 0xff in position 0: illegal multibyte sequence\n",
    "\n",
    "# f = open(path,encoding='UTF-8')\n",
    "# encoding = 'UTF-8也会报错'\n",
    "# UnicodeDecodeError: 'utf-8' codec can't decode byte 0xff in position 0: invalid start byte\n",
    "\n",
    "\n",
    "f = open(path,encoding='unicode_escape')\n",
    "# 唯一成功不报错的方法"
   ]
  },
  {
   "cell_type": "markdown",
   "metadata": {},
   "source": [
    "文件里面大概是这么个东西 西班牙语，大概是一首诗\n",
    "\n",
    "Sueña el rico en su riqueza,\n",
    "\n",
    "que más cuidados le ofrece;\n",
    "\n",
    "\n",
    "\n",
    "sueña el pobre que padece\n",
    "\n",
    "su miseria y su pobreza;\n",
    "\n",
    "\n",
    "\n",
    "sueña el que a medrar empieza,\n",
    "\n",
    "sueña el que afana y pretende,\n",
    "\n",
    "sueña el que agravia y ofende,\n",
    "\n",
    "\n",
    "\n",
    "y en el mundo, en conclusión,\n",
    "\n",
    "todos sueñan lo que son,\n",
    "\n",
    "aunque ninguno lo entiende."
   ]
  },
  {
   "cell_type": "code",
   "execution_count": 57,
   "metadata": {},
   "outputs": [],
   "source": [
    "path = r'C:\\Users\\Huawei\\Desktop\\data_analysis\\ch0302.txt'\n",
    "f = open(path,encoding='unicode_escape')"
   ]
  },
  {
   "cell_type": "markdown",
   "metadata": {},
   "source": [
    "默认情况下以只读模式打开，相当于r\n",
    "\n",
    "生成的f是一个可迭代的东西\n",
    "\n",
    "就是可以用for循环读出来"
   ]
  },
  {
   "cell_type": "code",
   "execution_count": 58,
   "metadata": {},
   "outputs": [
    {
     "name": "stdout",
     "output_type": "stream",
     "text": [
      "ÿþS\u0000u\u0000e\u0000ñ\u0000a\u0000 \u0000e\u0000l\u0000 \u0000r\u0000i\u0000c\u0000o\u0000 \u0000e\u0000n\u0000 \u0000s\u0000u\u0000 \u0000r\u0000i\u0000q\u0000u\u0000e\u0000z\u0000a\u0000,\u0000\n",
      "\n",
      "\u0000\n",
      "\n",
      "\u0000q\u0000u\u0000e\u0000 \u0000m\u0000á\u0000s\u0000 \u0000c\u0000u\u0000i\u0000d\u0000a\u0000d\u0000o\u0000s\u0000 \u0000l\u0000e\u0000 \u0000o\u0000f\u0000r\u0000e\u0000c\u0000e\u0000;\u0000\n",
      "\n",
      "\u0000\n",
      "\n",
      "\u0000\n"
     ]
    }
   ],
   "source": [
    "for line in f:\n",
    "    print(line)"
   ]
  },
  {
   "cell_type": "code",
   "execution_count": 59,
   "metadata": {},
   "outputs": [
    {
     "data": {
      "text/plain": [
       "[]"
      ]
     },
     "execution_count": 59,
     "metadata": {},
     "output_type": "execute_result"
    }
   ],
   "source": [
    "lines_1 = [line for line in f]\n",
    "lines_1"
   ]
  },
  {
   "cell_type": "markdown",
   "metadata": {},
   "source": [
    "咦？这个为什么是空？？\n",
    "\n",
    "![0325meng](https://github.com/HanMENG15990045033/photos-for-document/blob/master/0325meng.jpg)\n",
    "\n",
    "呼叫基地请求远程支援\n",
    "\n",
    "N先生给了个例子\n",
    "\n",
    "\n",
    "引出了seek()功能"
   ]
  },
  {
   "cell_type": "code",
   "execution_count": 60,
   "metadata": {},
   "outputs": [
    {
     "name": "stdout",
     "output_type": "stream",
     "text": [
      "第1次：\n",
      "ÿþS\u0000u\u0000e\u0000ñ\u0000a\u0000 \u0000e\u0000l\u0000 \u0000r\u0000i\u0000c\u0000o\u0000 \u0000e\u0000n\u0000 \u0000s\u0000u\u0000 \u0000r\u0000i\u0000q\u0000u\u0000e\u0000z\u0000a\u0000,\u0000\n",
      "\n",
      "\u0000\n",
      "\n",
      "\u0000q\u0000u\u0000e\u0000 \u0000m\u0000á\u0000s\u0000 \u0000c\u0000u\u0000i\u0000d\u0000a\u0000d\u0000o\u0000s\u0000 \u0000l\u0000e\u0000 \u0000o\u0000f\u0000r\u0000e\u0000c\u0000e\u0000;\u0000\n",
      "\n",
      "\u0000\n",
      "\n",
      "\u0000\n",
      "第2次：\n",
      "\n",
      "第3次：\n",
      "ÿþS\u0000u\u0000e\u0000ñ\u0000a\u0000 \u0000e\u0000l\u0000 \u0000r\u0000i\u0000c\u0000o\u0000 \u0000e\u0000n\u0000 \u0000s\u0000u\u0000 \u0000r\u0000i\u0000q\u0000u\u0000e\u0000z\u0000a\u0000,\u0000\n",
      "\n",
      "\u0000\n",
      "\n",
      "\u0000q\u0000u\u0000e\u0000 \u0000m\u0000á\u0000s\u0000 \u0000c\u0000u\u0000i\u0000d\u0000a\u0000d\u0000o\u0000s\u0000 \u0000l\u0000e\u0000 \u0000o\u0000f\u0000r\u0000e\u0000c\u0000e\u0000;\u0000\n",
      "\n",
      "\u0000\n",
      "\n",
      "\u0000\n"
     ]
    }
   ],
   "source": [
    "f_2 = open('ch0302.txt', encoding='unicode_escape')\n",
    "\n",
    "print('第1次：')\n",
    "for line in f_2:\n",
    "    print(line)\n",
    "\n",
    "print('第2次：\\n')\n",
    "for line in f_2:\n",
    "    print(line)\n",
    "\n",
    "print('第3次：')\n",
    "f_2.seek(0)\n",
    "for line in f_2:\n",
    "    print(line)"
   ]
  },
  {
   "cell_type": "markdown",
   "metadata": {},
   "source": [
    "啊，大概是这么回事儿\n",
    "\n",
    "这个文件存在变量f里\n",
    "\n",
    "f的读取类似于迭代器\n",
    "\n",
    "但读完可以用seek（0）恢复到最开始\n",
    "\n",
    "我先这么理解着\n",
    "\n",
    "![0326zan](https://github.com/HanMENG15990045033/photos-for-document/blob/master/0326zan.jpg)"
   ]
  },
  {
   "cell_type": "code",
   "execution_count": 61,
   "metadata": {},
   "outputs": [
    {
     "data": {
      "text/plain": [
       "['ÿþS\\x00u\\x00e\\x00ñ\\x00a\\x00 \\x00e\\x00l\\x00 \\x00r\\x00i\\x00c\\x00o\\x00 \\x00e\\x00n\\x00 \\x00s\\x00u\\x00 \\x00r\\x00i\\x00q\\x00u\\x00e\\x00z\\x00a\\x00,\\x00\\n',\n",
       " '\\x00\\n',\n",
       " '\\x00q\\x00u\\x00e\\x00 \\x00m\\x00á\\x00s\\x00 \\x00c\\x00u\\x00i\\x00d\\x00a\\x00d\\x00o\\x00s\\x00 \\x00l\\x00e\\x00 \\x00o\\x00f\\x00r\\x00e\\x00c\\x00e\\x00;\\x00\\n',\n",
       " '\\x00\\n',\n",
       " '\\x00']"
      ]
     },
     "execution_count": 61,
     "metadata": {},
     "output_type": "execute_result"
    }
   ],
   "source": [
    "f.seek(0)\n",
    "lines_2 = [line for line in f]\n",
    "lines_2"
   ]
  },
  {
   "cell_type": "markdown",
   "metadata": {},
   "source": [
    "额，一堆码，我有点慌，是我又错了嘛\n",
    "\n",
    "场外支援：\n",
    "\n",
    "我的理解是t作为一个list  是一个整体\n",
    "\n",
    "把列表元素打印出来\n",
    "\n",
    "才能编解码看到正常的文字"
   ]
  },
  {
   "cell_type": "code",
   "execution_count": 63,
   "metadata": {},
   "outputs": [
    {
     "name": "stdout",
     "output_type": "stream",
     "text": [
      "ÿþS\u0000u\u0000e\u0000ñ\u0000a\u0000 \u0000e\u0000l\u0000 \u0000r\u0000i\u0000c\u0000o\u0000 \u0000e\u0000n\u0000 \u0000s\u0000u\u0000 \u0000r\u0000i\u0000q\u0000u\u0000e\u0000z\u0000a\u0000,\u0000\n",
      "\n",
      "\u0000\n",
      "\n",
      "\u0000q\u0000u\u0000e\u0000 \u0000m\u0000á\u0000s\u0000 \u0000c\u0000u\u0000i\u0000d\u0000a\u0000d\u0000o\u0000s\u0000 \u0000l\u0000e\u0000 \u0000o\u0000f\u0000r\u0000e\u0000c\u0000e\u0000;\u0000\n",
      "\n",
      "\u0000\n",
      "\n",
      "\u0000\n"
     ]
    }
   ],
   "source": [
    "for x in lines_2:\n",
    "    print(x)"
   ]
  },
  {
   "cell_type": "markdown",
   "metadata": {},
   "source": [
    "欧乐\\(^o^)/~\n",
    "\n",
    "![0327nice](https://github.com/HanMENG15990045033/photos-for-document/blob/master/0327nice.jpg)\n",
    "\n",
    "往下，看我们打印出来的空格是不是感觉间隔有点大\n",
    "\n",
    "看一眼那一对乱码，有\\n\n",
    "\n",
    "用rstrip去掉"
   ]
  },
  {
   "cell_type": "code",
   "execution_count": 66,
   "metadata": {},
   "outputs": [
    {
     "data": {
      "text/plain": [
       "['ÿþS\\x00u\\x00e\\x00ñ\\x00a\\x00 \\x00e\\x00l\\x00 \\x00r\\x00i\\x00c\\x00o\\x00 \\x00e\\x00n\\x00 \\x00s\\x00u\\x00 \\x00r\\x00i\\x00q\\x00u\\x00e\\x00z\\x00a\\x00,\\x00',\n",
       " '\\x00',\n",
       " '\\x00q\\x00u\\x00e\\x00 \\x00m\\x00á\\x00s\\x00 \\x00c\\x00u\\x00i\\x00d\\x00a\\x00d\\x00o\\x00s\\x00 \\x00l\\x00e\\x00 \\x00o\\x00f\\x00r\\x00e\\x00c\\x00e\\x00;\\x00',\n",
       " '\\x00',\n",
       " '\\x00']"
      ]
     },
     "execution_count": 66,
     "metadata": {},
     "output_type": "execute_result"
    }
   ],
   "source": [
    "f.seek(0)\n",
    "lines_3 = [x.rstrip() for x in f]\n",
    "lines_3"
   ]
  },
  {
   "cell_type": "code",
   "execution_count": 103,
   "metadata": {},
   "outputs": [
    {
     "name": "stdout",
     "output_type": "stream",
     "text": [
      "ÿþS\u0000u\u0000e\u0000ñ\u0000a\u0000 \u0000e\u0000l\u0000 \u0000r\u0000i\u0000c\u0000o\u0000 \u0000e\u0000n\u0000 \u0000s\u0000u\u0000 \u0000r\u0000i\u0000q\u0000u\u0000e\u0000z\u0000a\u0000,\u0000\n",
      "\u0000\n",
      "\u0000q\u0000u\u0000e\u0000 \u0000m\u0000á\u0000s\u0000 \u0000c\u0000u\u0000i\u0000d\u0000a\u0000d\u0000o\u0000s\u0000 \u0000l\u0000e\u0000 \u0000o\u0000f\u0000r\u0000e\u0000c\u0000e\u0000;\u0000\n",
      "\u0000\n",
      "\u0000\n"
     ]
    }
   ],
   "source": [
    "for x in lines_3:\n",
    "    print(x)"
   ]
  },
  {
   "cell_type": "markdown",
   "metadata": {},
   "source": [
    "这个文件读取模式，句柄的概念为啥不提前说，这样后面这几个也能理解了\n",
    "\n",
    "seek()将句柄位置改变到特定字节\n",
    "\n",
    "read()根据字节数推进文件句柄的位置\n",
    "\n",
    "tell()句柄当前的位置\n",
    "\n"
   ]
  },
  {
   "cell_type": "code",
   "execution_count": 114,
   "metadata": {},
   "outputs": [
    {
     "name": "stdout",
     "output_type": "stream",
     "text": [
      "0\n",
      "ÿ 1\n",
      "þS\u0000u\u0000e\u0000ñ\u0000a 11\n",
      "0\n"
     ]
    }
   ],
   "source": [
    "f_5 = open(path,encoding='unicode_escape')\n",
    "\n",
    "t0 = f_5.tell() ## 当前句柄位置\n",
    "print(t0)\n",
    "\n",
    "r1 = f_5.read(1) ## read往前推一个，读一个\n",
    "t1 = f_5.tell()\n",
    "\n",
    "print(r1,t1)\n",
    "\n",
    "r2 = f_5.read(10) ## read往前推10个字节，读出来\n",
    "t2 = f_5.tell()\n",
    "print(r2,t2)\n",
    "\n",
    "f_5.seek(0)\n",
    "\n",
    "t3 = f_5.tell()\n",
    "print(t3)"
   ]
  },
  {
   "cell_type": "markdown",
   "metadata": {},
   "source": [
    "N先生友情提醒：\n",
    "\n",
    "seek() 只有三个\n",
    "\n",
    "seek(0)代表从文件开头开始算起\n",
    "\n",
    "seek(1)代表从当前位置开始算起\n",
    "\n",
    "seek(2)代表从文件末尾算起。\n"
   ]
  },
  {
   "cell_type": "code",
   "execution_count": 116,
   "metadata": {},
   "outputs": [],
   "source": [
    "f_5.close()"
   ]
  },
  {
   "cell_type": "markdown",
   "metadata": {},
   "source": [
    "书上说请牢记关闭问文件,可见关闭还挺重要的"
   ]
  },
  {
   "cell_type": "markdown",
   "metadata": {},
   "source": [
    "### 第三步：关文件\n",
    "\n",
    "1. close()关闭文件"
   ]
  },
  {
   "cell_type": "code",
   "execution_count": 74,
   "metadata": {},
   "outputs": [],
   "source": [
    "f.close()"
   ]
  },
  {
   "cell_type": "markdown",
   "metadata": {},
   "source": [
    "试一下关了没"
   ]
  },
  {
   "cell_type": "code",
   "execution_count": 75,
   "metadata": {},
   "outputs": [
    {
     "ename": "ValueError",
     "evalue": "I/O operation on closed file.",
     "output_type": "error",
     "traceback": [
      "\u001b[1;31m---------------------------------------------------------------------------\u001b[0m",
      "\u001b[1;31mValueError\u001b[0m                                Traceback (most recent call last)",
      "\u001b[1;32m<ipython-input-75-16754355c5bd>\u001b[0m in \u001b[0;36m<module>\u001b[1;34m\u001b[0m\n\u001b[1;32m----> 1\u001b[1;33m \u001b[0mf\u001b[0m\u001b[1;33m.\u001b[0m\u001b[0mseek\u001b[0m\u001b[1;33m(\u001b[0m\u001b[1;36m0\u001b[0m\u001b[1;33m)\u001b[0m\u001b[1;33m\u001b[0m\u001b[1;33m\u001b[0m\u001b[0m\n\u001b[0m",
      "\u001b[1;31mValueError\u001b[0m: I/O operation on closed file."
     ]
    }
   ],
   "source": [
    "f.seek(0)"
   ]
  },
  {
   "cell_type": "markdown",
   "metadata": {},
   "source": [
    "2. 用with打开，with代码结束后自动关闭"
   ]
  },
  {
   "cell_type": "code",
   "execution_count": 85,
   "metadata": {},
   "outputs": [],
   "source": [
    "with open(path, encoding='unicode_escape') as f_4:\n",
    "    lines_4 = [x.rstrip() for x in f_4]"
   ]
  },
  {
   "cell_type": "code",
   "execution_count": 86,
   "metadata": {},
   "outputs": [
    {
     "ename": "ValueError",
     "evalue": "I/O operation on closed file.",
     "output_type": "error",
     "traceback": [
      "\u001b[1;31m---------------------------------------------------------------------------\u001b[0m",
      "\u001b[1;31mValueError\u001b[0m                                Traceback (most recent call last)",
      "\u001b[1;32m<ipython-input-86-285464532cad>\u001b[0m in \u001b[0;36m<module>\u001b[1;34m\u001b[0m\n\u001b[1;32m----> 1\u001b[1;33m \u001b[0mf_4\u001b[0m\u001b[1;33m.\u001b[0m\u001b[0mseek\u001b[0m\u001b[1;33m(\u001b[0m\u001b[1;36m0\u001b[0m\u001b[1;33m)\u001b[0m\u001b[1;33m\u001b[0m\u001b[1;33m\u001b[0m\u001b[0m\n\u001b[0m",
      "\u001b[1;31mValueError\u001b[0m: I/O operation on closed file."
     ]
    }
   ],
   "source": [
    "f_4.seek(0)"
   ]
  },
  {
   "cell_type": "code",
   "execution_count": 88,
   "metadata": {},
   "outputs": [
    {
     "name": "stdout",
     "output_type": "stream",
     "text": [
      "ÿþS\u0000u\u0000e\u0000ñ\u0000a\u0000 \u0000e\u0000l\u0000 \u0000r\u0000i\u0000c\u0000o\u0000 \u0000e\u0000n\u0000 \u0000s\u0000u\u0000 \u0000r\u0000i\u0000q\u0000u\u0000e\u0000z\u0000a\u0000,\u0000\n",
      "\u0000\n",
      "\u0000q\u0000u\u0000e\u0000 \u0000m\u0000á\u0000s\u0000 \u0000c\u0000u\u0000i\u0000d\u0000a\u0000d\u0000o\u0000s\u0000 \u0000l\u0000e\u0000 \u0000o\u0000f\u0000r\u0000e\u0000c\u0000e\u0000;\u0000\n",
      "\u0000\n",
      "\u0000\n"
     ]
    }
   ],
   "source": [
    "for x in lines_4:\n",
    "    print(x)"
   ]
  },
  {
   "cell_type": "markdown",
   "metadata": {},
   "source": [
    "可见f_4被关了，lines留下了"
   ]
  },
  {
   "cell_type": "markdown",
   "metadata": {},
   "source": [
    "### 检验文件的默认编码\n"
   ]
  },
  {
   "cell_type": "code",
   "execution_count": 117,
   "metadata": {},
   "outputs": [
    {
     "data": {
      "text/plain": [
       "'utf-8'"
      ]
     },
     "execution_count": 117,
     "metadata": {},
     "output_type": "execute_result"
    }
   ],
   "source": [
    "import sys\n",
    "sys.getdefaultencoding()"
   ]
  },
  {
   "cell_type": "markdown",
   "metadata": {},
   "source": [
    "### Python文件模式\n",
    "\n",
    "r 只读\n",
    "\n",
    "w 只写，创建新文件，覆盖原文件\n",
    "\n",
    "x 只写，创建新文件，不覆盖原文件，同名报错\n",
    "\n",
    "a 添加到已存在文件，不存在就创建\n",
    "\n",
    "r+ 读写\n",
    "\n",
    "b 二进制模式，跟其他结合使用，rb，wb，xb等\n",
    "\n",
    "t 文件的文本模式，自动解码为Unicode，可以单独使用，也可以跟其他结合使用，rt，xt等"
   ]
  },
  {
   "cell_type": "code",
   "execution_count": 130,
   "metadata": {},
   "outputs": [
    {
     "name": "stdout",
     "output_type": "stream",
     "text": [
      "啊白云\n",
      "\n",
      "黑土向你道歉\n",
      "\n",
      "来到你们前\n",
      "\n",
      "请你睁开眼瞅我多可怜\n"
     ]
    }
   ],
   "source": [
    "## 有一个ch0303，文件取出来，放到ch0304\n",
    "\n",
    "path_2 = r'C:\\Users\\Huawei\\Desktop\\data_analysis\\ch0303.txt'\n",
    "\n",
    "with open('ch0304.txt', 'w') as handle:\n",
    "    handle.writelines(x for x in open(path_2))\n",
    "                      \n",
    "with open('ch0304.txt') as f:\n",
    "    lines = f.readlines()\n",
    "\n",
    "for x in lines:\n",
    "    print(x.strip())"
   ]
  },
  {
   "cell_type": "markdown",
   "metadata": {},
   "source": [
    "![0331baiyunheitu](https://github.com/HanMENG15990045033/photos-for-document/blob/master/0331baiyunheitu.jpg)\n",
    "\n",
    "\n",
    "### 重要的Python方法或属性\n",
    "\n",
    "read([size]) 将文件数据作为字符串返回，可选参数size控制读取的字节数\n",
    "\n",
    "readlines([size]) 返回文件中行内容的列表，size参数可选\n",
    "\n",
    "write(str) 将字符串写入文件\n",
    "\n",
    "writelines(strings) 将字符串序列写入文件\n",
    "\n",
    "close() 关闭文件\n",
    "\n",
    "flush() 将内部I/O缓冲器内容刷新到硬盘\n",
    "\n",
    "seek(pos) 移动到指定的位置(整数)\n",
    "\n",
    "tell() 返回当前位置\n",
    "\n",
    "closed 如果文件已关闭，则为True"
   ]
  },
  {
   "cell_type": "code",
   "execution_count": null,
   "metadata": {},
   "outputs": [],
   "source": [
    "import os\n",
    "os.remove('ch0304.txt')"
   ]
  },
  {
   "cell_type": "markdown",
   "metadata": {},
   "source": [
    "删除文件"
   ]
  },
  {
   "cell_type": "markdown",
   "metadata": {},
   "source": [
    "### 3.1.1 Bytes and Unicode with Files 字节与Unicode文件\n",
    "\n",
    "\n",
    "战略放弃，之后有需要再深入了解这个编码的事儿\n",
    "\n"
   ]
  },
  {
   "cell_type": "code",
   "execution_count": 134,
   "metadata": {
    "scrolled": true
   },
   "outputs": [
    {
     "ename": "UnicodeDecodeError",
     "evalue": "'gbk' codec can't decode byte 0xff in position 0: illegal multibyte sequence",
     "output_type": "error",
     "traceback": [
      "\u001b[1;31m---------------------------------------------------------------------------\u001b[0m",
      "\u001b[1;31mUnicodeDecodeError\u001b[0m                        Traceback (most recent call last)",
      "\u001b[1;32m<ipython-input-134-b3e5d16127fa>\u001b[0m in \u001b[0;36m<module>\u001b[1;34m\u001b[0m\n\u001b[0;32m      1\u001b[0m \u001b[1;32mwith\u001b[0m \u001b[0mopen\u001b[0m\u001b[1;33m(\u001b[0m\u001b[0mpath\u001b[0m\u001b[1;33m)\u001b[0m \u001b[1;32mas\u001b[0m \u001b[0mf\u001b[0m\u001b[1;33m:\u001b[0m\u001b[1;33m\u001b[0m\u001b[1;33m\u001b[0m\u001b[0m\n\u001b[1;32m----> 2\u001b[1;33m     \u001b[0mchars\u001b[0m \u001b[1;33m=\u001b[0m \u001b[0mf\u001b[0m\u001b[1;33m.\u001b[0m\u001b[0mread\u001b[0m\u001b[1;33m(\u001b[0m\u001b[1;36m10\u001b[0m\u001b[1;33m)\u001b[0m\u001b[1;33m\u001b[0m\u001b[1;33m\u001b[0m\u001b[0m\n\u001b[0m\u001b[0;32m      3\u001b[0m \u001b[0mchars\u001b[0m\u001b[1;33m\u001b[0m\u001b[1;33m\u001b[0m\u001b[0m\n",
      "\u001b[1;31mUnicodeDecodeError\u001b[0m: 'gbk' codec can't decode byte 0xff in position 0: illegal multibyte sequence"
     ]
    }
   ],
   "source": [
    "with open(path, encoding = '') as f:\n",
    "    chars = f.read(10)\n",
    "chars"
   ]
  },
  {
   "cell_type": "code",
   "execution_count": null,
   "metadata": {},
   "outputs": [],
   "source": [
    "with open(path, 'rb') as f:\n",
    "    data = f.read(10)\n",
    "data"
   ]
  },
  {
   "cell_type": "code",
   "execution_count": null,
   "metadata": {},
   "outputs": [],
   "source": [
    "data.decode('utf8')\n",
    "data[:4].decode('utf8')"
   ]
  },
  {
   "cell_type": "code",
   "execution_count": null,
   "metadata": {},
   "outputs": [],
   "source": [
    "sink_path = 'sink.txt'\n",
    "with open(path) as source:\n",
    "    with open(sink_path, 'xt', encoding='iso-8859-1') as sink:\n",
    "        sink.write(source.read())\n",
    "with open(sink_path, encoding='iso-8859-1') as f:\n",
    "    print(f.read(10))"
   ]
  },
  {
   "cell_type": "markdown",
   "metadata": {},
   "source": [
    "如果常常需要在非ASCII文本数据上进行数据分析\n",
    "\n",
    "精通Python的Unicode功能是很有必要的\n",
    "\n",
    "参见Python官方文档\n",
    "\n",
    "http://docs.python.ord/\n",
    "\n",
    "https://blog.csdn.net/aisq2008/article/details/6298170\n",
    "\n",
    "\n",
    "![0328lue](https://github.com/HanMENG15990045033/photos-for-document/blob/master/0328lue.jpg)"
   ]
  }
 ],
 "metadata": {
  "kernelspec": {
   "display_name": "Python 3",
   "language": "python",
   "name": "python3"
  },
  "language_info": {
   "codemirror_mode": {
    "name": "ipython",
    "version": 3
   },
   "file_extension": ".py",
   "mimetype": "text/x-python",
   "name": "python",
   "nbconvert_exporter": "python",
   "pygments_lexer": "ipython3",
   "version": "3.7.3"
  }
 },
 "nbformat": 4,
 "nbformat_minor": 2
}
