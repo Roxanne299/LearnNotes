{
 "cells": [
  {
   "cell_type": "markdown",
   "metadata": {},
   "source": [
    "### 3.1.6 列表、集合和字典的推导式\n",
    "\n",
    "1. 列表的推导式"
   ]
  },
  {
   "cell_type": "code",
   "execution_count": 6,
   "metadata": {},
   "outputs": [],
   "source": [
    "# [expr for val in collection if condition]\n",
    "\n",
    "# 与下面的for循环等价\n",
    "\n",
    "# result = []\n",
    "# for val in collection:\n",
    "    #if condition:\n",
    "    #result.append(expr)"
   ]
  },
  {
   "cell_type": "markdown",
   "metadata": {},
   "source": [
    "这TM是个什么东西，看例子\n",
    "\n",
    "![0309](https://github.com/HanMENG15990045033/photos-for-document/blob/master/0309_zheTMshishenme.jpg)\n",
    "\n",
    "过滤出列表里长度大于2的字符串"
   ]
  },
  {
   "cell_type": "code",
   "execution_count": 9,
   "metadata": {},
   "outputs": [],
   "source": [
    "strings = ['a', 'bcd', 'efgh', 'i']"
   ]
  },
  {
   "cell_type": "code",
   "execution_count": 10,
   "metadata": {},
   "outputs": [
    {
     "data": {
      "text/plain": [
       "['BCD', 'EFGH']"
      ]
     },
     "execution_count": 10,
     "metadata": {},
     "output_type": "execute_result"
    }
   ],
   "source": [
    "[x.upper() for x in strings if len(x) > 2]"
   ]
  },
  {
   "cell_type": "markdown",
   "metadata": {},
   "source": [
    "2. 字典\n",
    "\n",
    "   dict_comp = {key-expr : value-expr for value in colleciton if condition}\n",
    "   \n",
    "   如列表中，索引和元素做一个字典"
   ]
  },
  {
   "cell_type": "code",
   "execution_count": 18,
   "metadata": {},
   "outputs": [
    {
     "data": {
      "text/plain": [
       "{'a': 0, 'bcd': 1, 'efgh': 2, 'i': 3}"
      ]
     },
     "execution_count": 18,
     "metadata": {},
     "output_type": "execute_result"
    }
   ],
   "source": [
    "loc_mapping = {val: index for index, val in enumerate(strings)}\n",
    "\n",
    "loc_mapping"
   ]
  },
  {
   "cell_type": "markdown",
   "metadata": {},
   "source": [
    "3. 集合的推导式\n",
    "\n",
    "   set_comp = {expr for value in collection if condition}\n",
    "\n",
    "   如列表中字符串的长度，提出来做一个集合"
   ]
  },
  {
   "cell_type": "code",
   "execution_count": 15,
   "metadata": {},
   "outputs": [
    {
     "data": {
      "text/plain": [
       "{1, 3, 4}"
      ]
     },
     "execution_count": 15,
     "metadata": {},
     "output_type": "execute_result"
    }
   ],
   "source": [
    "strings = ['a', 'bcd', 'efgh', 'i']\n",
    "\n",
    "unique_lengths = {len(x) for x in strings}\n",
    "\n",
    "unique_lengths"
   ]
  },
  {
   "cell_type": "markdown",
   "metadata": {},
   "source": [
    "3. 也可以用map函数"
   ]
  },
  {
   "cell_type": "code",
   "execution_count": 19,
   "metadata": {},
   "outputs": [
    {
     "data": {
      "text/plain": [
       "{1, 3, 4}"
      ]
     },
     "execution_count": 19,
     "metadata": {},
     "output_type": "execute_result"
    }
   ],
   "source": [
    "set(map(len, strings))"
   ]
  },
  {
   "cell_type": "markdown",
   "metadata": {},
   "source": [
    "小结：\n",
    "\n",
    "都是for循环套if判断\n",
    "\n",
    "看出三个的核心区别在哪了嘛\n",
    "\n",
    "列表：[ ]\n",
    "\n",
    "字典：{a:b}\n",
    "\n",
    "集合：{ }"
   ]
  },
  {
   "cell_type": "markdown",
   "metadata": {},
   "source": [
    "#### 3.1.6.1 嵌套列表推导式\n",
    "\n",
    "如想要获得一个类表所有含有两个以上字母e的名字"
   ]
  },
  {
   "cell_type": "code",
   "execution_count": 20,
   "metadata": {},
   "outputs": [],
   "source": [
    "all_data=[['John', 'Emily', 'Michael', 'Mary', 'Steven'],\n",
    "         ['Maria', 'Juan', 'Javier', 'Natalia', 'Pilar', 'Shenzaier']]"
   ]
  },
  {
   "cell_type": "markdown",
   "metadata": {},
   "source": [
    "可以用for循环"
   ]
  },
  {
   "cell_type": "code",
   "execution_count": 22,
   "metadata": {},
   "outputs": [
    {
     "name": "stdout",
     "output_type": "stream",
     "text": [
      "['Steven', 'Shenzaier']\n"
     ]
    }
   ],
   "source": [
    "names_of_interest = [] \n",
    "# 定义空列白，感兴趣的名字\n",
    "\n",
    "for names in all_data:\n",
    "    # 如names=['John', 'Emily', 'Michael', 'Mary', 'Steven']\n",
    "    \n",
    "    enough_es = [name for name in names if name.count('e')>=2]\n",
    "    # 有足够的e的单词组成的列表 = 对于names里面的每一个name，当e>=2的时候，取name\n",
    "    # 如name=John，不行，Emily不行，Mary不行\n",
    "    # Steven可以，取\n",
    "    # enough_es = ['Steven']\n",
    "    \n",
    "    names_of_interest.extend(enough_es)\n",
    "    # extend是扩展 []+[]=[]\n",
    "    # append是加元素[]append[]=[[]]\n",
    "    # names_of_interest = ['Steven']\n",
    "print(names_of_interest)\n",
    "    "
   ]
  },
  {
   "cell_type": "markdown",
   "metadata": {},
   "source": [
    "高段位操作来了\n",
    "\n",
    "还有高段位?! 上面的我感觉已经很简洁了好吗"
   ]
  },
  {
   "cell_type": "code",
   "execution_count": 24,
   "metadata": {},
   "outputs": [
    {
     "data": {
      "text/plain": [
       "['Steven', 'Shenzaier']"
      ]
     },
     "execution_count": 24,
     "metadata": {},
     "output_type": "execute_result"
    }
   ],
   "source": [
    "result = [name for names in all_data for name in names if name.count('e')>=2]\n",
    "\n",
    "# name是我们列表最终要的值\n",
    "# 第一个循环for是大循环，从all_data取出names\n",
    "# 第二个循环for是小循环，从names取name\n",
    "# 当name满足if条件，就要这个值\n",
    "\n",
    "result"
   ]
  },
  {
   "cell_type": "markdown",
   "metadata": {},
   "source": [
    "再看一个例子\n",
    "\n",
    "含有整数元组的列表变为整数列表"
   ]
  },
  {
   "cell_type": "code",
   "execution_count": 26,
   "metadata": {},
   "outputs": [
    {
     "data": {
      "text/plain": [
       "[1, 2, 3, 4, 5, 6, 7, 8, 9]"
      ]
     },
     "execution_count": 26,
     "metadata": {},
     "output_type": "execute_result"
    }
   ],
   "source": [
    "some_tuples = [(1, 2, 3), (4, 5, 6), (7, 8, 9)]\n",
    "\n",
    "## 我们最终要的是一个整数，比如x\n",
    "## 两个循环\n",
    "## 第一个for取出一个元组\n",
    "## for a in some_tuples\n",
    "## 第二个for取出元组里的元素\n",
    "## for x in a\n",
    "## 没有条件\n",
    "\n",
    "flattened = [x for a in some_tuples for x in a]\n",
    "flattened"
   ]
  },
  {
   "cell_type": "code",
   "execution_count": 30,
   "metadata": {},
   "outputs": [
    {
     "data": {
      "text/plain": [
       "[6, 15, 24]"
      ]
     },
     "execution_count": 30,
     "metadata": {},
     "output_type": "execute_result"
    }
   ],
   "source": [
    "## 换一种写法试试，元组直接拆包\n",
    "\n",
    "flattened_2 = [a+b+c for a, b, c in some_tuples]\n",
    "flattened_2"
   ]
  },
  {
   "cell_type": "code",
   "execution_count": 33,
   "metadata": {},
   "outputs": [
    {
     "data": {
      "text/plain": [
       "[[1, 2, 3], [4, 5, 6], [7, 8, 9]]"
      ]
     },
     "execution_count": 33,
     "metadata": {},
     "output_type": "execute_result"
    }
   ],
   "source": [
    "## 书上还有一种写法，列表推导式\n",
    "\n",
    "[[x for x in tup] for tup in some_tuples]\n",
    "\n",
    "## [x for x in tup]是新列表要的元素\n",
    "## 大循环取出tup\n",
    "## 小循环取出x\n",
    "## 所以是一个包含列表的列表"
   ]
  },
  {
   "cell_type": "markdown",
   "metadata": {},
   "source": [
    "## 3.2 函数\n",
    "\n",
    "可以有多个返回语句\n",
    "\n",
    "也就是可以有多个return语句\n",
    "\n",
    "如果没有，自动返回None\n"
   ]
  },
  {
   "cell_type": "code",
   "execution_count": 35,
   "metadata": {},
   "outputs": [
    {
     "data": {
      "text/plain": [
       "0.06363636363636363"
      ]
     },
     "execution_count": 35,
     "metadata": {},
     "output_type": "execute_result"
    }
   ],
   "source": [
    "def my_function(x, y, z=1.5):\n",
    "    if z > 1:\n",
    "        return z*(x + y)\n",
    "    else:\n",
    "        return z / (x+y)\n",
    "    \n",
    "my_function(5, 6, 0.7)"
   ]
  },
  {
   "cell_type": "code",
   "execution_count": 37,
   "metadata": {},
   "outputs": [
    {
     "data": {
      "text/plain": [
       "45.0"
      ]
     },
     "execution_count": 37,
     "metadata": {},
     "output_type": "execute_result"
    }
   ],
   "source": [
    "my_function(10, 20)"
   ]
  },
  {
   "cell_type": "code",
   "execution_count": 40,
   "metadata": {},
   "outputs": [
    {
     "data": {
      "text/plain": [
       "77"
      ]
     },
     "execution_count": 40,
     "metadata": {},
     "output_type": "execute_result"
    }
   ],
   "source": [
    "my_function(x=5, y=6, z=7)"
   ]
  },
  {
   "cell_type": "code",
   "execution_count": 41,
   "metadata": {},
   "outputs": [
    {
     "data": {
      "text/plain": [
       "77"
      ]
     },
     "execution_count": 41,
     "metadata": {},
     "output_type": "execute_result"
    }
   ],
   "source": [
    "my_function(y=6, x=5, z=7)# 可以换位置"
   ]
  },
  {
   "cell_type": "markdown",
   "metadata": {},
   "source": [
    "### 3.2.1 局部变量与全局变量\n",
    "\n",
    "直接按着书上的例子打我是懵的\n",
    "\n",
    "![0304](https://github.com/HanMENG15990045033/photos-for-document/blob/master/0304_yi.png)\n",
    "\n",
    "还好群里的小伙伴又救了我\n",
    "\n",
    "我们学习的课本一般都是先上结论，后给证明\n",
    "\n",
    "而真正的学习过程是反着来的\n",
    "\n",
    "都是先有现象和问题\n",
    "\n",
    "后有试错和偏证\n",
    "\n",
    "最后有结论和简洁完美的证明\n",
    "\n",
    "我这里倾向于采用后者\n",
    "\n",
    "所以我们来看几个情况"
   ]
  },
  {
   "cell_type": "code",
   "execution_count": 72,
   "metadata": {},
   "outputs": [],
   "source": [
    "# 情况1 外部不定义内部定义\n",
    "\n",
    "def func():\n",
    "    a_1 = [] \n",
    "    for i in range(5):\n",
    "        a_1.append(i)\n",
    "    print(a_1)"
   ]
  },
  {
   "cell_type": "code",
   "execution_count": 48,
   "metadata": {},
   "outputs": [
    {
     "name": "stdout",
     "output_type": "stream",
     "text": [
      "[0, 1, 2, 3, 4]\n"
     ]
    }
   ],
   "source": [
    "func() ## 执行函数，打印内部变量"
   ]
  },
  {
   "cell_type": "code",
   "execution_count": 73,
   "metadata": {
    "scrolled": true
   },
   "outputs": [
    {
     "ename": "NameError",
     "evalue": "name 'a_1' is not defined",
     "output_type": "error",
     "traceback": [
      "\u001b[1;31m---------------------------------------------------------------------------\u001b[0m",
      "\u001b[1;31mNameError\u001b[0m                                 Traceback (most recent call last)",
      "\u001b[1;32m<ipython-input-73-52e972c3959f>\u001b[0m in \u001b[0;36m<module>\u001b[1;34m\u001b[0m\n\u001b[1;32m----> 1\u001b[1;33m \u001b[0mprint\u001b[0m\u001b[1;33m(\u001b[0m\u001b[0ma_1\u001b[0m\u001b[1;33m)\u001b[0m\u001b[1;33m\u001b[0m\u001b[1;33m\u001b[0m\u001b[0m\n\u001b[0m",
      "\u001b[1;31mNameError\u001b[0m: name 'a_1' is not defined"
     ]
    }
   ],
   "source": [
    "print(a_1) ## 执行函数后，打印外部变量"
   ]
  },
  {
   "cell_type": "markdown",
   "metadata": {},
   "source": [
    "函数内部变量a_1\n",
    "\n",
    "在函数调用时被创建\n",
    "\n",
    "在函数退出时被销毁"
   ]
  },
  {
   "cell_type": "code",
   "execution_count": 75,
   "metadata": {},
   "outputs": [
    {
     "name": "stdout",
     "output_type": "stream",
     "text": [
      "[0, 1, 2, 3, 4]\n",
      "1835081160520\n",
      "[0, 1, 2, 3, 4]\n",
      "1835081160520\n"
     ]
    }
   ],
   "source": [
    "# 情况2\n",
    "## 外部定义，内部不定义\n",
    "## 函数内部直接对变量操作\n",
    "\n",
    "a_2 = []\n",
    "def func():\n",
    "    for i in range(5):\n",
    "        a_2.append(i)\n",
    "    print(a_2)\n",
    "    print(id(a_2))\n",
    "    \n",
    "    \n",
    "func()\n",
    "print(a_2)\n",
    "print(id(a_2))"
   ]
  },
  {
   "cell_type": "markdown",
   "metadata": {},
   "source": [
    "当函数内部内没有定义变量\n",
    "\n",
    "函数内部的操作直接会\n",
    "\n",
    "调用外部的变量进行操作"
   ]
  },
  {
   "cell_type": "code",
   "execution_count": 1,
   "metadata": {},
   "outputs": [
    {
     "name": "stdout",
     "output_type": "stream",
     "text": [
      "[0, 1, 2, 3, 4]\n",
      "1847530358856\n",
      "[]\n",
      "1847530359112\n"
     ]
    }
   ],
   "source": [
    "# 情况3\n",
    "## 外部内部都定义\n",
    "## 变量名称虽然相同\n",
    "## 但id地址不同\n",
    "## 说明本质上不是同一个变量\n",
    "\n",
    "a_3 = []\n",
    "def func():\n",
    "    a_3 = []\n",
    "    for i in range(5):\n",
    "        a_3.append(i)\n",
    "    print(a_3)\n",
    "    print(id(a_3))\n",
    "    \n",
    "    \n",
    "func()\n",
    "print(a_3)\n",
    "print(id(a_3))"
   ]
  },
  {
   "cell_type": "markdown",
   "metadata": {},
   "source": [
    "小结：函数内部操作是否可以改变函数外部变量，也就是全局变量\n",
    "\n",
    "情况1 外部没有内部有：不能\n",
    "\n",
    "情况2 内部没有外部有：可以\n",
    "\n",
    "情况3 内部外部都有：不能\n",
    "\n",
    "那么针对情况1、情况2，如果想改变外部变量怎么办？\n",
    "\n",
    "这就引出了global声明"
   ]
  },
  {
   "cell_type": "code",
   "execution_count": 79,
   "metadata": {},
   "outputs": [
    {
     "name": "stdout",
     "output_type": "stream",
     "text": [
      "1\n",
      "140708479406912\n",
      "1\n",
      "140708479406912\n"
     ]
    }
   ],
   "source": [
    "# 情况1 + global\n",
    "\n",
    "def func():\n",
    "    global a_1_g\n",
    "    a_1_g = 1\n",
    "    print(a_1_g)\n",
    "    print(id(a_1_g))\n",
    "\n",
    "func()\n",
    "print(a_1_g)\n",
    "print(id(a_1_g))"
   ]
  },
  {
   "cell_type": "code",
   "execution_count": 81,
   "metadata": {},
   "outputs": [
    {
     "name": "stdout",
     "output_type": "stream",
     "text": [
      "5\n",
      "140708479407040\n",
      "5\n",
      "140708479407040\n"
     ]
    }
   ],
   "source": [
    "# 情况3 + global\n",
    "\n",
    "a_3_g = 1\n",
    "\n",
    "def func():\n",
    "    global a_3_g\n",
    "    a_3_g = 5\n",
    "    print(a_3_g)\n",
    "    print(id(a_3_g))\n",
    "\n",
    "func()\n",
    "print(a_3_g)\n",
    "print(id(a_3_g))"
   ]
  },
  {
   "cell_type": "markdown",
   "metadata": {},
   "source": [
    "#### 关于全局变量与局部变量的总结：\n",
    "\n",
    "函数里自己定义了变量\n",
    "\n",
    "- 属于函数内部局部变量\n",
    "\n",
    "- 调用函数创建，退出函数销毁\n",
    "\n",
    "函数里没有定义变量\n",
    "\n",
    "- 会默认调用外部的变量\n",
    "\n",
    "函数内部定义了变量，还想对应改变外部的全局变量\n",
    "\n",
    "- 则需要用global声明\n",
    "\n",
    "同时注意：变量是否是同一个变量，根本区别是在于id，而不是变量名\n",
    "\n",
    "![0303](https://github.com/HanMENG15990045033/photos-for-document/blob/master/0303_chenggong.jpg)"
   ]
  },
  {
   "cell_type": "markdown",
   "metadata": {},
   "source": [
    "#### 从global反思类的意义\n",
    "\n",
    "这本书的作者真的很好啊\n",
    "\n",
    "他说这里只是简单讲一下global的用法\n",
    "\n",
    "通常全局变量是用来储存系统中的某些状态\n",
    "\n",
    "当你发现你在函数中需要大量使用global的时候\n",
    "\n",
    "可能表面你需要面向对象编程（使用类）\n",
    "\n",
    "\n",
    "也就是我们从这个角度可以反思一下\n",
    "\n",
    "类与函数有什么本质上的区别\n",
    "\n",
    "想想一旦调用一个类创建一个对象\n",
    "\n",
    "实际上是一下子创建了好多的全局变量\n",
    "\n",
    "调用一次创建一堆，调用一次创建一堆\n",
    "\n",
    "函数就不行\n",
    "\n",
    "这应该就是类这种概念存在的重要意义之一"
   ]
  },
  {
   "cell_type": "markdown",
   "metadata": {},
   "source": [
    "### 3.2.2 返回多个值\n",
    "\n",
    "这个看作者辣么开心的介绍这个功能\n",
    "\n",
    "可见Java和C++应该都不能这么搞"
   ]
  },
  {
   "cell_type": "code",
   "execution_count": 84,
   "metadata": {},
   "outputs": [
    {
     "name": "stdout",
     "output_type": "stream",
     "text": [
      "5 6 7\n",
      "(5, 6, 7)\n"
     ]
    }
   ],
   "source": [
    "def f():\n",
    "    a = 5\n",
    "    b = 6\n",
    "    c = 7\n",
    "    return a, b, c #实质上是返回一个元组\n",
    "\n",
    "a, b, c = f() #元组又被拆包\n",
    "abc = f()\n",
    "\n",
    "print(a, b, c)\n",
    "print(abc)"
   ]
  },
  {
   "cell_type": "code",
   "execution_count": 87,
   "metadata": {},
   "outputs": [
    {
     "name": "stdout",
     "output_type": "stream",
     "text": [
      "{'a': 5, 'b': 6, 'c': 7}\n"
     ]
    }
   ],
   "source": [
    "# 以此类推也可以返回成别的\n",
    "\n",
    "def f():\n",
    "    a = 5\n",
    "    b = 6\n",
    "    c = 7\n",
    "    return {'a': a, 'b': b, 'c': c}' '\n",
    "\n",
    "abc_d = f()\n",
    "print(abc_d)"
   ]
  },
  {
   "cell_type": "markdown",
   "metadata": {},
   "source": [
    "### 3.2.3 函数是对象\n",
    "\n",
    "这个也是Python的优点\n",
    "\n",
    "这个作者是真的很喜欢Python啊\n",
    "\n",
    "假设做一个数据清洗"
   ]
  },
  {
   "cell_type": "code",
   "execution_count": 4,
   "metadata": {},
   "outputs": [],
   "source": [
    "states = ['   ?alabama!  ', 'FlOrIda', 'south  carolina##', 'West virginia?']"
   ]
  },
  {
   "cell_type": "markdown",
   "metadata": {},
   "source": [
    "感到凌乱？我脑袋嗡一下的好吧\n",
    "\n",
    "取出空格，移除标点符号，调整适当的大小写\n",
    "\n",
    "内建字符串\n",
    "\n",
    "正则表达式re,regular expression\n",
    "\n",
    "![0309](https://github.com/HanMENG15990045033/photos-for-document/blob/master/0309_zheTMshishenme.jpg)"
   ]
  },
  {
   "cell_type": "code",
   "execution_count": 5,
   "metadata": {},
   "outputs": [],
   "source": [
    "import re\n",
    "\n",
    "def clean_strings(strings):\n",
    "    result = []\n",
    "    for value in strings:\n",
    "        print('0 : ' + value)\n",
    "        value = value.strip() ##删除开头和结尾的空格换行\n",
    "        print('1 strip: ' + value)\n",
    "        value = re.sub('[!#?]', '', value) # 将！或# 或？替换为空，即删除\n",
    "        print('2 re: '+ value)\n",
    "        value = value.title()\n",
    "        print('3 title: '+ value)\n",
    "        result.append(value)\n",
    "        \n",
    "    return result"
   ]
  },
  {
   "cell_type": "code",
   "execution_count": 6,
   "metadata": {},
   "outputs": [
    {
     "name": "stdout",
     "output_type": "stream",
     "text": [
      "0 :    ?alabama!  \n",
      "1 strip: ?alabama!\n",
      "2 re: alabama\n",
      "3 title: Alabama\n",
      "0 : FlOrIda\n",
      "1 strip: FlOrIda\n",
      "2 re: FlOrIda\n",
      "3 title: Florida\n",
      "0 : south  carolina##\n",
      "1 strip: south  carolina##\n",
      "2 re: south  carolina\n",
      "3 title: South  Carolina\n",
      "0 : West virginia?\n",
      "1 strip: West virginia?\n",
      "2 re: West virginia\n",
      "3 title: West Virginia\n"
     ]
    },
    {
     "data": {
      "text/plain": [
       "['Alabama', 'Florida', 'South  Carolina', 'West Virginia']"
      ]
     },
     "execution_count": 6,
     "metadata": {},
     "output_type": "execute_result"
    }
   ],
   "source": [
    "clean_strings(states)"
   ]
  },
  {
   "cell_type": "markdown",
   "metadata": {},
   "source": [
    "行吧，啥也憋说了，补一下正则表达式\n",
    "\n",
    "https://www.runoob.com/python/python-reg-expressions.html\n",
    "\n",
    "妈呀有点长，长也得掌握\n",
    "\n",
    "![0308](https://github.com/HanMENG15990045033/photos-for-document/blob/master/0308_wenzhu.png)"
   ]
  }
 ],
 "metadata": {
  "kernelspec": {
   "display_name": "Python 3",
   "language": "python",
   "name": "python3"
  },
  "language_info": {
   "codemirror_mode": {
    "name": "ipython",
    "version": 3
   },
   "file_extension": ".py",
   "mimetype": "text/x-python",
   "name": "python",
   "nbconvert_exporter": "python",
   "pygments_lexer": "ipython3",
   "version": "3.7.3"
  }
 },
 "nbformat": 4,
 "nbformat_minor": 2
}
