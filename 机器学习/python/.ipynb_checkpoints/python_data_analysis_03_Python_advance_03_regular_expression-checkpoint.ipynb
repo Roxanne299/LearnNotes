{
 "cells": [
  {
   "cell_type": "markdown",
   "metadata": {},
   "source": [
    "### 3.2.3.1 正则表达式补充\n",
    "\n",
    "参考RUNOOB.COM:\n",
    "\n",
    "https://www.runoob.com/python/python-reg-expressions.html\n",
    "\n",
    "![0301](https://github.com/HanMENG15990045033/photos-for-document/blob/master/0301_action.jpg)\n",
    "\n",
    "\n",
    "折腾的目的：查找某一种字符串\n",
    "\n",
    "- 比如看abc123里面有没有a\n",
    "\n",
    "正则表达式：是一种格式\n",
    "\n",
    "- 用特殊字符表达某种字符串\n",
    "- 这是很多语言都通用的一种标准\n",
    "- 很多，我们就先记几个\n",
    "- \\d，0-9的数字\n",
    "- a*，一个或多个a，a，aa，aaaa都行\n",
    "- [0-9],0-9的数字都行\n",
    "\n",
    "re：是Python中的模块\n",
    "\n",
    "- 使得在Python中可以使用所有的正则表达式规则\n",
    "\n",
    "\n",
    "\n",
    "\n",
    "本节内容：\n",
    "\n",
    "1.re.match 匹配开头\n",
    "\n",
    "2.re.search 全文匹配\n",
    "\n",
    "3.sub 替换删除\n",
    "\n",
    "4.re.compile 编译正则\n",
    "\n",
    "5.findall 返回列表\n",
    "\n",
    "6.finditer 返回迭代器\n",
    "\n",
    "7.re.split 分割返回列表\n",
    "\n",
    "8.(?P...) 分组匹配\n",
    "\n",
    "9.正则表达符号、修饰符\n",
    "\n",
    "10.一个综合的例子\n",
    "\n",
    "![0305](https://github.com/HanMENG15990045033/photos-for-document/blob/master/0305_dainifei.png)"
   ]
  },
  {
   "cell_type": "markdown",
   "metadata": {},
   "source": [
    "##### 1. re.match 匹配开头\n",
    "\n",
    "功能：匹配开头，如果匹配返回某个值，如果不匹配返回None\n",
    "\n",
    "通式：re.match(pattern, string, flag=0)，其中\n",
    "\n",
    "- pattern：正则表达式如a，如\\d代表0-9的数字\n",
    "\n",
    "- string：要匹配的字符串如abc123\n",
    "\n",
    "- flags：标志位，设置匹配方式，如是否区分大小写等"
   ]
  },
  {
   "cell_type": "code",
   "execution_count": 77,
   "metadata": {},
   "outputs": [
    {
     "name": "stdout",
     "output_type": "stream",
     "text": [
      "<re.Match object; span=(0, 1), match='a'>\n",
      "None\n"
     ]
    }
   ],
   "source": [
    "import re\n",
    "\n",
    "print(re.match('a', 'abc123'))\n",
    "## a时abc123的开头，返回一个值\n",
    "## 这个值具体是什么等会儿再说，反正不是None\n",
    "\n",
    "print(re.match('b', 'abc123'))\n",
    "## b不是abc123的开头，返回None"
   ]
  },
  {
   "cell_type": "markdown",
   "metadata": {},
   "source": [
    "好了现在的问题就是如果匹配，我们返回什么值呢？\n",
    "\n",
    "![0304](https://github.com/HanMENG15990045033/photos-for-document/blob/master/0304_yi.png)\n",
    "\n",
    "N先生补充：\n",
    "\n",
    "start() 返回匹配开始的位置\n",
    "\n",
    "end() 返回匹配结束的位置\n",
    "\n",
    "span() 返回一个元组包含匹配 (开始,结束) 的位置，span就是范围的意思life span寿命\n",
    "\n",
    "group() 返回被 RE 匹配的字符串\n",
    "    "
   ]
  },
  {
   "cell_type": "code",
   "execution_count": 79,
   "metadata": {},
   "outputs": [
    {
     "name": "stdout",
     "output_type": "stream",
     "text": [
      "0\n",
      "4\n",
      "(0, 4)\n",
      "what\n"
     ]
    }
   ],
   "source": [
    "## 返回值取什么，看N先生的例子\n",
    "\n",
    "import re\n",
    "\n",
    "index=re.match('what','whatff i whatfffff')\n",
    "\n",
    "if index:\n",
    "    print(index.start()) ## 返回起始位置\n",
    "    print(index.end()) ## 返回结束位置3+1 = 不匹配的f开始位置4\n",
    "    print(index.span()) ## 返回（起始，结束）\n",
    "    print(index.group(0))## 返回字符串\n"
   ]
  },
  {
   "cell_type": "markdown",
   "metadata": {},
   "source": [
    "那么问题又来了，这个group我可看见个数，写着0\n",
    "\n",
    "有什么含义？\n",
    "\n",
    "文档给的例子简直想砍人，最最后看\n",
    "\n",
    "![0311](https://github.com/HanMENG15990045033/photos-for-document/blob/master/0311_laozigeiniyiquan.jpg)\n",
    "\n",
    "还是N先生给的例子好\n",
    "    "
   ]
  },
  {
   "cell_type": "code",
   "execution_count": 83,
   "metadata": {},
   "outputs": [
    {
     "name": "stdout",
     "output_type": "stream",
     "text": [
      "123abc456\n",
      "123\n",
      "abc\n",
      "456\n"
     ]
    },
    {
     "ename": "IndexError",
     "evalue": "no such group",
     "output_type": "error",
     "traceback": [
      "\u001b[1;31m---------------------------------------------------------------------------\u001b[0m",
      "\u001b[1;31mIndexError\u001b[0m                                Traceback (most recent call last)",
      "\u001b[1;32m<ipython-input-83-792069b91009>\u001b[0m in \u001b[0;36m<module>\u001b[1;34m\u001b[0m\n\u001b[0;32m     16\u001b[0m \u001b[0mprint\u001b[0m\u001b[1;33m(\u001b[0m\u001b[0mre\u001b[0m\u001b[1;33m.\u001b[0m\u001b[0mmatch\u001b[0m\u001b[1;33m(\u001b[0m\u001b[0mrgl_exprs\u001b[0m\u001b[1;33m,\u001b[0m \u001b[0ma\u001b[0m\u001b[1;33m)\u001b[0m\u001b[1;33m.\u001b[0m\u001b[0mgroup\u001b[0m\u001b[1;33m(\u001b[0m\u001b[1;36m2\u001b[0m\u001b[1;33m)\u001b[0m\u001b[1;33m)\u001b[0m\u001b[1;33m\u001b[0m\u001b[1;33m\u001b[0m\u001b[0m\n\u001b[0;32m     17\u001b[0m \u001b[0mprint\u001b[0m\u001b[1;33m(\u001b[0m\u001b[0mre\u001b[0m\u001b[1;33m.\u001b[0m\u001b[0mmatch\u001b[0m\u001b[1;33m(\u001b[0m\u001b[0mrgl_exprs\u001b[0m\u001b[1;33m,\u001b[0m \u001b[0ma\u001b[0m\u001b[1;33m)\u001b[0m\u001b[1;33m.\u001b[0m\u001b[0mgroup\u001b[0m\u001b[1;33m(\u001b[0m\u001b[1;36m3\u001b[0m\u001b[1;33m)\u001b[0m\u001b[1;33m)\u001b[0m\u001b[1;33m\u001b[0m\u001b[1;33m\u001b[0m\u001b[0m\n\u001b[1;32m---> 18\u001b[1;33m \u001b[0mprint\u001b[0m\u001b[1;33m(\u001b[0m\u001b[0mre\u001b[0m\u001b[1;33m.\u001b[0m\u001b[0mmatch\u001b[0m\u001b[1;33m(\u001b[0m\u001b[0mrgl_exprs\u001b[0m\u001b[1;33m,\u001b[0m \u001b[0ma\u001b[0m\u001b[1;33m)\u001b[0m\u001b[1;33m.\u001b[0m\u001b[0mgroup\u001b[0m\u001b[1;33m(\u001b[0m\u001b[1;36m4\u001b[0m\u001b[1;33m)\u001b[0m\u001b[1;33m)\u001b[0m\u001b[1;33m\u001b[0m\u001b[1;33m\u001b[0m\u001b[0m\n\u001b[0m",
      "\u001b[1;31mIndexError\u001b[0m: no such group"
     ]
    }
   ],
   "source": [
    "# 关于group（）用N先生的例子更好\n",
    "\n",
    "import re\n",
    "\n",
    "a = \"123abc456\"\n",
    "\n",
    "rgl_exprs = '([0-9]*)([a-z]*)([0-9]*)'\n",
    "\n",
    "# 正则表达式，从左到右，有几个括号，就是几组\n",
    "# group（0）：如有匹配，返回字符串整体\n",
    "# group（1）：1开始，0到9的数字，取到1，*再来取到2，*再来取到3，*再来a不能取\n",
    "# group（2）：a开始，a到z的字母，取到a，*再来取到b，*再来取到c，*再来4不能取\n",
    "# group（3）：同理\n",
    "# group（4）：没有定义会报错\n",
    "\n",
    "print(re.match(rgl_exprs, a).group(0))  \n",
    "print(re.match(rgl_exprs, a).group(1))  \n",
    "print(re.match(rgl_exprs, a).group(2))\n",
    "print(re.match(rgl_exprs, a).group(3)) \n",
    "print(re.match(rgl_exprs, a).group(4)) "
   ]
  },
  {
   "cell_type": "code",
   "execution_count": 86,
   "metadata": {},
   "outputs": [
    {
     "name": "stdout",
     "output_type": "stream",
     "text": [
      "3\n"
     ]
    }
   ],
   "source": [
    "# 想知道group（）一共定义了几组\n",
    "\n",
    "import re\n",
    "\n",
    "a = \"123abc456\"\n",
    "rgl_exprs = '([0-9]*)([a-z]*)([0-9]*)'\n",
    "\n",
    "print(re.match(rgl_exprs, a).lastindex)"
   ]
  },
  {
   "cell_type": "markdown",
   "metadata": {},
   "source": [
    "##### 2. re.search 全文匹配\n",
    "\n",
    "功能：扫描整个字符串，匹配成功，返回第一个匹配成功的对象，否则返回None\n",
    "\n",
    "通式：re.search(pattern, string, flags=0)"
   ]
  },
  {
   "cell_type": "code",
   "execution_count": 92,
   "metadata": {},
   "outputs": [
    {
     "name": "stdout",
     "output_type": "stream",
     "text": [
      "0\n",
      "0\n",
      "(11, 14)\n",
      "None\n"
     ]
    }
   ],
   "source": [
    "import re\n",
    "\n",
    "print(re.search('www', 'www.runoob.com').start())\n",
    "print(re.match('www', 'www.runoob.com').start()) # 与match对比\n",
    "print(re.search('com', 'www.runoob.com').span())\n",
    "print(re.match('com', 'www.runoob.com')) # 与match的区别"
   ]
  },
  {
   "cell_type": "markdown",
   "metadata": {},
   "source": [
    "##### 3. sub 替换删除\n",
    "\n",
    "功能：substitude缩写，替换匹配项，用空去替换，那就是删除\n",
    "\n",
    "通式：re.sub(pattern, repl, string, count=0, flags=0)\n",
    "\n",
    "repl : 替换的字符串，也可为一个函数\n",
    "\n",
    "count : 模式匹配后替换的最大次数，默认 0 表示替换所有的匹配\n"
   ]
  },
  {
   "cell_type": "code",
   "execution_count": 118,
   "metadata": {},
   "outputs": [
    {
     "name": "stdout",
     "output_type": "stream",
     "text": [
      "count = 1: 123 abc 789 456 456\n",
      "count = 0: 123 abc 789 789 789\n",
      "123 abc 789 789 789\n"
     ]
    }
   ],
   "source": [
    "import re\n",
    "\n",
    "s_sub = \"123 abc 456 456 456\" # string字符串\n",
    "p_sub = '456' # pattern 匹配的字符串\n",
    "r_sub = '789' # replace替换的\n",
    "\n",
    "s_subed = re.sub(p_sub, r_sub, s_sub, count=1, flags=0)\n",
    "print(\"count = 1:\", s_subed)\n",
    "# count = 1 匹配后替换一次\n",
    "\n",
    "s_subed_ed = re.sub(p_sub, r_sub, s_sub, count=0, flags=0)\n",
    "print(\"count = 0:\", s_subed_ed)\n",
    "# count = 0 匹配后替换次数不限\n",
    "\n",
    "print(s_subed_ed)"
   ]
  },
  {
   "cell_type": "markdown",
   "metadata": {},
   "source": [
    "其中repl可以为函数\n",
    "\n",
    "看这个文档里的例子。。\n"
   ]
  },
  {
   "cell_type": "code",
   "execution_count": 174,
   "metadata": {},
   "outputs": [
    {
     "name": "stdout",
     "output_type": "stream",
     "text": [
      "A46G8HFD1134\n"
     ]
    }
   ],
   "source": [
    "import re\n",
    " \n",
    "# 将匹配的数字乘以 2\n",
    "\n",
    "def double(matched):\n",
    "    value = int(matched.group('value'))\n",
    "    return str(value * 2)\n",
    " \n",
    "s = 'A23G4HFD567'\n",
    "s_2 = re.sub('(?P<value>\\d+)', double, s)\n",
    "\n",
    "print(s_2)\n"
   ]
  },
  {
   "cell_type": "markdown",
   "metadata": {},
   "source": [
    "。。。。想打人怎么办，在线等，挺急的\n",
    "\n",
    "![0311](https://github.com/HanMENG15990045033/photos-for-document/blob/master/0311_laozigeiniyiquan.jpg)\n",
    "\n",
    "最后说这个例子\n",
    "\n",
    "咱先看个简单的"
   ]
  },
  {
   "cell_type": "code",
   "execution_count": 164,
   "metadata": {},
   "outputs": [
    {
     "name": "stdout",
     "output_type": "stream",
     "text": [
      "24\n"
     ]
    }
   ],
   "source": [
    "import re\n",
    " \n",
    "# 将匹配的数字乘以 2\n",
    "def double(x):\n",
    "    value = int(x.group())\n",
    "    return str(value * 2)\n",
    " \n",
    "s = '12'\n",
    "print(re.sub('\\d', double, s))"
   ]
  },
  {
   "cell_type": "markdown",
   "metadata": {},
   "source": [
    "虽然例子比较傻，但是可以直观的看出这个函数的功能"
   ]
  },
  {
   "cell_type": "markdown",
   "metadata": {},
   "source": [
    "##### 4. re.compile 编译正则\n",
    "\n",
    "功能：编译正则表达式，生成一个pattern，供 match() 和 search() 使用\n",
    "\n",
    "通式：re.compile(pattern[, flags])"
   ]
  },
  {
   "cell_type": "code",
   "execution_count": 121,
   "metadata": {},
   "outputs": [
    {
     "name": "stdout",
     "output_type": "stream",
     "text": [
      "None\n",
      "12\n"
     ]
    }
   ],
   "source": [
    "import re\n",
    "\n",
    "pattern = re.compile(r'\\d+') # 1或多个数字\n",
    "\n",
    "m = pattern.match('one12twothree34four')  # 查找头部，没有匹配\n",
    "n = pattern.search('one12twothree34four').group(0)\n",
    "\n",
    "print(m)\n",
    "print(n)\n"
   ]
  },
  {
   "cell_type": "code",
   "execution_count": 124,
   "metadata": {},
   "outputs": [
    {
     "name": "stdout",
     "output_type": "stream",
     "text": [
      "None\n",
      "<re.Match object; span=(3, 5), match='12'>\n",
      "12\n"
     ]
    }
   ],
   "source": [
    "m_2 = pattern.match('one12twothree34four', 2, 10) # 从'e'的位置开始匹配，没有匹配\n",
    "\n",
    "print(m_2)\n",
    "\n",
    "m_3 = pattern.match('one12twothree34four', 3, 10) # 从'1'的位置开始匹配，正好匹配\n",
    "\n",
    "print(m_3)  \n",
    "\n",
    "print(m_3.group())"
   ]
  },
  {
   "cell_type": "markdown",
   "metadata": {},
   "source": [
    "##### 5. findall 返回列表\n",
    "\n",
    "功能：全字符串找，匹配，并返回一个列表，否则返回空列表。\n",
    "\n",
    "通式：findall(string[, pos[, endpos]])\n",
    "\n",
    "- string : 待匹配的字符串。 \n",
    "    \n",
    "- pos : 可选参数，指定字符串的起始位置，默认为 0。 \n",
    "    \n",
    "- endpos : 可选参数，指定字符串的结束位置，默认为字符串的长度"
   ]
  },
  {
   "cell_type": "code",
   "execution_count": 134,
   "metadata": {},
   "outputs": [
    {
     "name": "stdout",
     "output_type": "stream",
     "text": [
      "['123', '456']\n",
      "['45']\n"
     ]
    }
   ],
   "source": [
    "import re\n",
    " \n",
    "p_findll = re.compile(r'\\d+')   # 查找数字\n",
    "result1 = p_findll.findall('123abc456')\n",
    "# 找数字，返回一个列表\n",
    "result2 = p_findll.findall('123abc456', 3, 8)\n",
    "# 从3位开始，包括a，从8位结束，不包括6\n",
    " \n",
    "print(result1)\n",
    "print(result2)"
   ]
  },
  {
   "cell_type": "markdown",
   "metadata": {},
   "source": [
    "##### 6. finditer 返回迭代器\n",
    "\n",
    "功能：类似findall，只不过返回迭代器\n",
    "\n",
    "通式：re.finditer(pattern, string, flags=0)\n"
   ]
  },
  {
   "cell_type": "code",
   "execution_count": 137,
   "metadata": {},
   "outputs": [
    {
     "name": "stdout",
     "output_type": "stream",
     "text": [
      "123\n",
      "456\n",
      "789\n"
     ]
    }
   ],
   "source": [
    "import re\n",
    " \n",
    "it = re.finditer(r\"\\d+\",\"123abc456efg789\") \n",
    "\n",
    "for match in it: \n",
    "    print (match.group())"
   ]
  },
  {
   "cell_type": "markdown",
   "metadata": {},
   "source": [
    "##### 7. re.split 分割返回列表\n",
    "\n",
    "功能：按照能够匹配的子串将字符串分割后返回列表、\n",
    "\n",
    "通式：re.split(pattern, string [, maxsplit=0, flags=0])\n",
    "\n",
    "maxsplit：分隔次数，maxsplit=1 分隔一次，默认为 0，不限制次数"
   ]
  },
  {
   "cell_type": "code",
   "execution_count": 142,
   "metadata": {},
   "outputs": [
    {
     "data": {
      "text/plain": [
       "['', 'runoob', 'runoob', 'runoob', '']"
      ]
     },
     "execution_count": 142,
     "metadata": {},
     "output_type": "execute_result"
    }
   ],
   "source": [
    "re.split('\\W+', '，runoob, runoob,    runoob.')\n",
    "\n",
    "# \\W非字母数字及下划线\n",
    "# 也就是字母数字下划线留着\n",
    "# ，空格不能要，见到分隔\n",
    "# .也不能要，见到分隔\n",
    "# 分隔一次，列表里就有一个元素，就有一个，\n",
    "# 所以开头结尾都有个空"
   ]
  },
  {
   "cell_type": "markdown",
   "metadata": {},
   "source": [
    "##### 8.  (?P...) 分组匹配\n",
    "\n",
    "功能：分组匹配，一对儿值\n",
    "\n",
    "通式：((?P 《key》 \\pattern) 得到一组对应的值，key：匹配的字符\n",
    "\n",
    "使用groupdict函数可以变成字典\n"
   ]
  },
  {
   "cell_type": "code",
   "execution_count": 167,
   "metadata": {},
   "outputs": [
    {
     "name": "stdout",
     "output_type": "stream",
     "text": [
      "{'province': '110', 'city': '223', 'born_year': '1990'}\n"
     ]
    }
   ],
   "source": [
    "import re\n",
    "\n",
    "s = '1102231990xxxxxxxx'\n",
    "\n",
    "res = re.search('(?P<province>\\d{3})(?P<city>\\d{3})(?P<born_year>\\d{4})',s)\n",
    "\n",
    "print(res.groupdict())"
   ]
  },
  {
   "cell_type": "markdown",
   "metadata": {},
   "source": [
    "再说之前那个例子\n",
    "\n",
    "？P+group+repl函数\n",
    "\n",
    "再循环里加几个print看看每步都发生了什么"
   ]
  },
  {
   "cell_type": "code",
   "execution_count": 173,
   "metadata": {},
   "outputs": [
    {
     "name": "stdout",
     "output_type": "stream",
     "text": [
      "<re.Match object; span=(1, 3), match='23'>\n",
      "{'key': '23'}\n",
      "23\n",
      "<re.Match object; span=(4, 5), match='4'>\n",
      "{'key': '4'}\n",
      "4\n",
      "<re.Match object; span=(8, 11), match='567'>\n",
      "{'key': '567'}\n",
      "567\n",
      "A46G8HFD1134\n"
     ]
    }
   ],
   "source": [
    "import re\n",
    " \n",
    "\n",
    "def double(matched):\n",
    "    \n",
    "    print(matched) ## 匹配的字符属性\n",
    "    \n",
    "    v_d = matched.groupdict('key') ## 试一下匹配的字符用groupdict变成字典格式\n",
    "    print(v_d) ## 说明得到的是一对儿数，如 key：23\n",
    "    \n",
    "    value = int(matched.group('key')) ##  匹配的字符用group（’value’）提出value值\n",
    "    print(value) ## 匹配的字符串'23'\n",
    "    \n",
    "    return str(value * 2) ## 返回 23*2=46，将23替换为46\n",
    " \n",
    "s = 'A23G4HFD567'\n",
    "\n",
    "s_2 = re.sub('(?P<key>\\d+)', double, s) \n",
    "## 匹配一个以上的数字如23\n",
    "## 替换为经double函数处理得到的东西\n",
    "## 要处理的字符串是s\n",
    "\n",
    "print(s_2)"
   ]
  },
  {
   "cell_type": "markdown",
   "metadata": {},
   "source": [
    "OK？先这样。。。\n",
    "\n",
    "![0310](https://github.com/HanMENG15990045033/photos-for-document/blob/master/0310_aini.jpg)\n",
    "\n",
    "萌混过关~\n"
   ]
  },
  {
   "cell_type": "markdown",
   "metadata": {},
   "source": [
    "##### 9. 正则符号、修饰符\n",
    "\n",
    "###### Metacharacters Defined 通配符\n",
    "\n",
    "参考：http://regexlib.com/CheatSheet.aspx\n",
    "\n",
    "参考：https://baike.baidu.com/item/正则表达式/1700215?fr=aladdin\n"
   ]
  },
  {
   "cell_type": "code",
   "execution_count": 194,
   "metadata": {},
   "outputs": [
    {
     "name": "stdout",
     "output_type": "stream",
     "text": [
      "abcd\n",
      "abc123\n",
      "abcdefg\n"
     ]
    }
   ],
   "source": [
    "# 通配符1 ^：Start of a string 字符串的开头\n",
    "\n",
    "import re\n",
    "\n",
    "list_start_with = ['abcd','abc123','123abc','efgabc','abcdefg']\n",
    "\n",
    "for value in list_start_with:\n",
    "    \n",
    "    index_start_with=re.search('^abc',value)\n",
    "    if index_start_with:\n",
    "        print(value)"
   ]
  },
  {
   "cell_type": "code",
   "execution_count": 197,
   "metadata": {},
   "outputs": [
    {
     "name": "stdout",
     "output_type": "stream",
     "text": [
      "123abc\n",
      "efgabc\n",
      "defgabc\n"
     ]
    }
   ],
   "source": [
    "# 通配符2 $：End of a string 字符串的结尾\n",
    "\n",
    "import re\n",
    "\n",
    "list_end_with = ['abcd','1abc123','123abc','efgabc','defgabc']\n",
    "\n",
    "for value in list_end_with:\n",
    "    \n",
    "    index_end_with = re.search('abc$',value)\n",
    "    if index_end_with:\n",
    "        print(value)"
   ]
  },
  {
   "cell_type": "code",
   "execution_count": 199,
   "metadata": {},
   "outputs": [
    {
     "name": "stdout",
     "output_type": "stream",
     "text": [
      "abcd\n",
      "afc\n",
      "123abc\n",
      "aec\n",
      "a1c\n"
     ]
    }
   ],
   "source": [
    "# 通配符3 .：Any character (except \\n newline) 任何字符，除了换行\n",
    "\n",
    "import re\n",
    "\n",
    "list_any_character = ['abcd','afc','123abc','aec','a1c']\n",
    "\n",
    "for value in list_any_character:\n",
    "    \n",
    "    index_any_character = re.search('a.c',value)\n",
    "    if index_any_character:\n",
    "        print(value)"
   ]
  },
  {
   "cell_type": "code",
   "execution_count": 201,
   "metadata": {},
   "outputs": [
    {
     "name": "stdout",
     "output_type": "stream",
     "text": [
      "abd\n",
      "afc\n",
      "123abc\n",
      "aec\n",
      "a1c\n",
      "12345\n"
     ]
    }
   ],
   "source": [
    "# 通配符4 |：Alternation 或\n",
    "\n",
    "import re\n",
    "\n",
    "list_alternation = ['abd','afc','123abc','aec','a1c','12345']\n",
    "\n",
    "for value in list_alternation:\n",
    "    \n",
    "    index_alternation = re.search('a|1',value)\n",
    "    if index_alternation:\n",
    "        print(value)"
   ]
  },
  {
   "cell_type": "code",
   "execution_count": 203,
   "metadata": {},
   "outputs": [
    {
     "name": "stdout",
     "output_type": "stream",
     "text": [
      "abbcfc\n",
      "12345abbccbb\n"
     ]
    }
   ],
   "source": [
    "# 通配符5 {}：Explicit quantifier notation 明确数量\n",
    "\n",
    "import re\n",
    "\n",
    "list_quantifier = ['abd','abbcfc','123abbbbc','abbec','a1c','12345abbccbb']\n",
    "\n",
    "for value in list_quantifier:\n",
    "    \n",
    "    index_quantifier = re.search('ab{2}c',value)\n",
    "    if index_quantifier:\n",
    "        print(value)"
   ]
  },
  {
   "cell_type": "code",
   "execution_count": 206,
   "metadata": {},
   "outputs": [
    {
     "name": "stdout",
     "output_type": "stream",
     "text": [
      "Alien\n",
      "alien\n",
      "aLien\n"
     ]
    }
   ],
   "source": [
    "# 通配符6 []：Explicit set of characters to match 一系列符号\n",
    "\n",
    "import re\n",
    "\n",
    "list_set = ['Alien','alien','aLien','aliEn']\n",
    "\n",
    "for value in list_set:\n",
    "    \n",
    "    index_set = re.search('[Aa][Ll]ien',value)\n",
    "    if index_set:\n",
    "        print(value)"
   ]
  },
  {
   "cell_type": "code",
   "execution_count": 208,
   "metadata": {},
   "outputs": [
    {
     "name": "stdout",
     "output_type": "stream",
     "text": [
      "abcabc\n",
      "123abcabca\n"
     ]
    }
   ],
   "source": [
    "# 通配符7 ()：Logical grouping of part of an expression 一个表达部分的逻辑分组\n",
    "\n",
    "import re\n",
    "\n",
    "list_grouping = ['abcabc','123abcabca','abc123',]\n",
    "\n",
    "for value in list_grouping:\n",
    "    \n",
    "    index_grouping = re.search('(abc){2}',value)\n",
    "    if index_grouping:\n",
    "        print(value)"
   ]
  },
  {
   "cell_type": "code",
   "execution_count": 225,
   "metadata": {
    "scrolled": true
   },
   "outputs": [
    {
     "name": "stdout",
     "output_type": "stream",
     "text": [
      "ab*：\n",
      "acd\n",
      "abbb\n",
      "123abbbb\n",
      "123abb123\n",
      "\n",
      "ab+：\n",
      "abbb\n",
      "123abbbb\n",
      "123abb123\n"
     ]
    }
   ],
   "source": [
    "# 通配符8 * ：0 or more of previous expression 0个或多个前面的字符，贪婪模式\n",
    "# 通配符9 +：1 or more of previous expression 1个或多个前面的字符\n",
    "\n",
    "import re\n",
    "\n",
    "list_more = ['acd','abbb','123abbbb','123abb123']\n",
    "\n",
    "print('ab*：')\n",
    "for value in list_more:\n",
    "    index_more_1 = re.search('ab*',value)    \n",
    "    if index_more_1:\n",
    "        print(value)\n",
    "\n",
    "print('\\nab+：')        \n",
    "for value in list_more:    \n",
    "    index_more_2 = re.search('ab+',value)    \n",
    "    if index_more_2:\n",
    "        print(value)\n",
    "\n"
   ]
  },
  {
   "cell_type": "code",
   "execution_count": 52,
   "metadata": {},
   "outputs": [
    {
     "name": "stdout",
     "output_type": "stream",
     "text": [
      "ab*贪婪模式：\n",
      "a\n",
      "abbb\n",
      "abbbb\n",
      "abb\n",
      "\n",
      "ab*?非贪婪模式：\n",
      "a\n",
      "a\n",
      "a\n",
      "a\n"
     ]
    }
   ],
   "source": [
    "# 通配符10 ？：0 or 1 of previous expression 0个或多个前面的字符\n",
    "# also forces minimal matching when an expression might match several strings within a search string.\n",
    "# 非贪婪模式\n",
    "import re\n",
    "\n",
    "list_more = ['acd','abbb','123abbbb','123abb123']\n",
    "\n",
    "print('ab*贪婪模式：')\n",
    "for value in list_more:\n",
    "    index_more_1 = re.search('ab*',value)    \n",
    "    if index_more_1:\n",
    "        print(index_more_1.group(0))\n",
    "\n",
    "print('\\nab*?非贪婪模式：')        \n",
    "for value in list_more:    \n",
    "    index_more_3 = re.search('ab*?',value)    \n",
    "    if index_more_3:\n",
    "        print(index_more_3.group(0))        \n"
   ]
  },
  {
   "cell_type": "code",
   "execution_count": 228,
   "metadata": {},
   "outputs": [
    {
     "name": "stdout",
     "output_type": "stream",
     "text": [
      "abc?123\n"
     ]
    }
   ],
   "source": [
    "# 通配符11 \\：Preceding one of the above, it makes it a literal instead of a special character. \n",
    "# 让上面的符号变为简单的字符，而不是特殊的功能符号\n",
    "# Preceding a special matching character, see below\n",
    "# 在一个特殊的匹配符号前，之后再说\n",
    "\n",
    "import re\n",
    "\n",
    "list_grouping = ['abc?123','abccc']\n",
    "\n",
    "for value in list_grouping:  \n",
    "    index_grouping = re.search('abc\\?',value)\n",
    "    if index_grouping:\n",
    "        print(value)"
   ]
  },
  {
   "cell_type": "markdown",
   "metadata": {},
   "source": [
    "内容有点多\n",
    "\n",
    "![0306](https://github.com/HanMENG15990045033/photos-for-document/blob/master/0306.png)\n"
   ]
  },
  {
   "cell_type": "markdown",
   "metadata": {},
   "source": [
    "###### 字符组\n",
    "\n",
    "\n",
    "[^aeiou]：\n",
    "\n",
    "Matches any single character not in the specified set of characters.\n",
    "\n",
    "匹配不在这里的单个字母\n",
    "\n",
    "除了a e i o u的其他字母"
   ]
  },
  {
   "cell_type": "code",
   "execution_count": 238,
   "metadata": {},
   "outputs": [
    {
     "name": "stdout",
     "output_type": "stream",
     "text": [
      "b\n",
      "b\n",
      "c\n"
     ]
    }
   ],
   "source": [
    "import re\n",
    "\n",
    "list_not_in_set = ['abc?123','book','change','aaaa']\n",
    "\n",
    "for value in list_not_in_set:  \n",
    "    index_not_in_set = re.search('[^a]',value)\n",
    "    if index_not_in_set:\n",
    "        print(index_not_in_set.group(0))"
   ]
  },
  {
   "cell_type": "markdown",
   "metadata": {},
   "source": [
    "[0-9a-fA-F]\n",
    "\n",
    "Use of a hyphen (–) allows specification of contiguous character ranges.\n",
    "\n",
    "用 - 可以指明一个连续的字符范围\n",
    "\n"
   ]
  },
  {
   "cell_type": "code",
   "execution_count": 1,
   "metadata": {},
   "outputs": [
    {
     "name": "stdout",
     "output_type": "stream",
     "text": [
      "0a\n",
      "1c\n",
      "2a\n"
     ]
    }
   ],
   "source": [
    "import re\n",
    "\n",
    "list_hyphen = ['0ab','1cd','3ab','0de','abc12abc']\n",
    "\n",
    "for value in list_hyphen:  \n",
    "    index_hyphen = re.search('[0-2][a-c]',value)\n",
    "    if index_hyphen:\n",
    "        print(index_hyphen.group(0))"
   ]
  },
  {
   "cell_type": "markdown",
   "metadata": {},
   "source": [
    "\\d \n",
    "\n",
    "Matches any decimal digit. \n",
    "\n",
    "十进制数字，相当于[0-9]，其他进制不行"
   ]
  },
  {
   "cell_type": "code",
   "execution_count": 19,
   "metadata": {},
   "outputs": [
    {
     "name": "stdout",
     "output_type": "stream",
     "text": [
      "0\n",
      "1\n"
     ]
    }
   ],
   "source": [
    "import re\n",
    "\n",
    "list_decimal_digit = ['0ab','1cd','abc','\\042','\\x12']\n",
    "\n",
    "for value in list_decimal_digit:  \n",
    "    index_decimal_digit = re.search('\\d',value)\n",
    "    if index_decimal_digit:\n",
    "        print(index_decimal_digit.group(0))"
   ]
  },
  {
   "cell_type": "code",
   "execution_count": 41,
   "metadata": {
    "scrolled": true
   },
   "outputs": [
    {
     "name": "stdout",
     "output_type": "stream",
     "text": [
      "0\n",
      "1\n",
      "9\n"
     ]
    }
   ],
   "source": [
    "import re\n",
    "\n",
    "list_decimal_digit_2 = ['0ab','1cd','abc','\\040987','\\x12']\n",
    "## \\040987  按照贪婪法  分为 \\040   9 8 7 \n",
    "\n",
    "for value in list_decimal_digit_2:\n",
    "    index_decimal_digit_2 = re.search('\\d',value)\n",
    "    if index_decimal_digit_2:\n",
    "        print(index_decimal_digit_2.group(0))\n",
    "\n",
    "## '\\040789' 是一个字符串吧\n",
    "## 按照贪婪法 \\040 才是一个有效的转义字符   \n",
    "## \\04不够贪婪  毕竟\\040 也有效    \n",
    "## \\0407  贪婪过度  转义的八进制最多只能三位"
   ]
  },
  {
   "cell_type": "markdown",
   "metadata": {},
   "source": [
    "\\D \n",
    "\n",
    "Matches any nondigit.\n",
    "\n",
    "非数字，相当于[^0-9]，其他进制也不包括"
   ]
  },
  {
   "cell_type": "code",
   "execution_count": 27,
   "metadata": {
    "scrolled": true
   },
   "outputs": [
    {
     "name": "stdout",
     "output_type": "stream",
     "text": [
      "a\n",
      "c\n"
     ]
    }
   ],
   "source": [
    "import re\n",
    "\n",
    "list_nondigit = ['0ab','1cd','12']\n",
    "\n",
    "for value in list_nondigit:  \n",
    "    index_nondigit = re.search('\\D',value)\n",
    "    if index_nondigit:\n",
    "        print(index_nondigit.group(0))"
   ]
  },
  {
   "cell_type": "markdown",
   "metadata": {},
   "source": [
    "\\w\n",
    "\n",
    "Matches any word character. \n",
    "\n",
    "任何词汇的字符，相当于[a-zA-Z_0-9]"
   ]
  },
  {
   "cell_type": "code",
   "execution_count": 28,
   "metadata": {},
   "outputs": [
    {
     "name": "stdout",
     "output_type": "stream",
     "text": [
      "a\n",
      "1\n",
      "A\n"
     ]
    }
   ],
   "source": [
    "import re\n",
    "\n",
    "list_any_word = ['abc','123','ABC','!#','*&']\n",
    "\n",
    "for value in list_any_word:  \n",
    "    index_any_word = re.search('\\w',value)\n",
    "    if index_any_word:\n",
    "        print(index_any_word.group(0))"
   ]
  },
  {
   "cell_type": "markdown",
   "metadata": {},
   "source": [
    "\\W\n",
    "\n",
    "Matches any nonword character. \n",
    "\n",
    "非词汇字符，相当于[^a-zA-Z_0-9]."
   ]
  },
  {
   "cell_type": "code",
   "execution_count": 30,
   "metadata": {},
   "outputs": [
    {
     "name": "stdout",
     "output_type": "stream",
     "text": [
      "!\n",
      "*\n"
     ]
    }
   ],
   "source": [
    "import re\n",
    "\n",
    "list_any_nonword = ['abc','123','ABC','!#','*&']\n",
    "\n",
    "for value in list_any_nonword:  \n",
    "    index_any_nonword = re.search('\\W',value)\n",
    "    if index_any_nonword:\n",
    "        print(index_any_nonword.group(0))"
   ]
  },
  {
   "cell_type": "markdown",
   "metadata": {},
   "source": [
    "\\s\n",
    "\n",
    "Matches any white-space character. \n",
    "\n",
    "所有的空白字符换页，换行，回车，Tab，纵向Tab\n",
    "\n",
    "相当于[ \\f\\n\\r\\t\\v]."
   ]
  },
  {
   "cell_type": "code",
   "execution_count": 37,
   "metadata": {},
   "outputs": [
    {
     "name": "stdout",
     "output_type": "stream",
     "text": [
      "ab  c\n",
      "12\n",
      "3\n",
      "A\tBC\n",
      "!#\f",
      "？\n",
      "*\u000b",
      "&\n"
     ]
    }
   ],
   "source": [
    "import re\n",
    "\n",
    "list_white_space = ['ab  c','12\\n3','A\\tBC','!#\\f？','*\\v&']\n",
    "\n",
    "for value in list_white_space:  \n",
    "    index_white_space = re.search('\\s',value)\n",
    "    if index_white_space:\n",
    "        print(value)"
   ]
  },
  {
   "cell_type": "markdown",
   "metadata": {},
   "source": [
    "\\S\n",
    "\n",
    "Matches any non-white-space character. \n",
    "\n",
    "所有的非空白字符，相当于[^ \\f\\n\\r\\t\\v]."
   ]
  },
  {
   "cell_type": "code",
   "execution_count": 40,
   "metadata": {},
   "outputs": [
    {
     "name": "stdout",
     "output_type": "stream",
     "text": [
      "abc\n",
      "\n"
     ]
    }
   ],
   "source": [
    "import re\n",
    "\n",
    "list_non_white_space = ['   ','\\n','\\t','\\f','\\v','abc\\n']\n",
    "\n",
    "for value in list_non_white_space:  \n",
    "    index_non_white_space = re.search('\\S',value)\n",
    "    if index_non_white_space:\n",
    "        print(value)"
   ]
  },
  {
   "cell_type": "markdown",
   "metadata": {},
   "source": [
    "\\p{name} \n",
    "\n",
    "扩展子集（元字符）\n",
    "\n",
    "https://www.cnblogs.com/lcf/articles/807523.html\n",
    "\n",
    "我的天哪。。。果断跳过\n",
    "\n",
    "![0302](https://github.com/HanMENG15990045033/photos-for-document/blob/master/0302_ruoxiaokelian.jpg)"
   ]
  },
  {
   "cell_type": "markdown",
   "metadata": {},
   "source": [
    "\\P{name}\n",
    "\n",
    "Matches text not included in groups and block ranges specified in {name}.\n",
    "\n",
    "不符合名字格式的"
   ]
  },
  {
   "cell_type": "markdown",
   "metadata": {},
   "source": [
    "###### 修饰符\n",
    "\n",
    "关于flag，修饰符，共6个\n",
    "\n",
    "re.I 不考虑大小写\n",
    "\n",
    "re.L 本地化识别匹配？？\n",
    "\n",
    "re.M 多行匹配，影响^he $\n",
    "\n",
    "re.S 影响.,包含换行符\n",
    "\n",
    "re.U 根据Unicode字符解析，影响\\w,\\W,\\b,\\B\n",
    "\n",
    "re.X ....跟利于理解\n",
    "\n"
   ]
  },
  {
   "cell_type": "markdown",
   "metadata": {},
   "source": [
    "##### 10. 综合例子\n",
    "\n",
    "参考文档里的的例子，真的挺难的"
   ]
  },
  {
   "cell_type": "code",
   "execution_count": 175,
   "metadata": {},
   "outputs": [
    {
     "name": "stdout",
     "output_type": "stream",
     "text": [
      "matchObj.group() :  Cats are smarter than dogs\n",
      "matchObj.group(1) :  Cats\n",
      "matchObj.group(2) :  smarter\n"
     ]
    }
   ],
   "source": [
    "import re\n",
    "\n",
    "line = \"Cats are smarter than dogs\"\n",
    "\n",
    "matchObj = re.match( r'(.*) are (.*?) .*', line, re.M|re.I) \n",
    "\n",
    "## re.M：多行匹配\n",
    "## re.I：不考虑大小写\n",
    "\n",
    "if matchObj:\n",
    "    \n",
    "    print(\"matchObj.group() : \", matchObj.group())\n",
    "    # 整体匹配的字符串：什么 空格are空格 什么 空格 什么\n",
    "    print(\"matchObj.group(1) : \", matchObj.group(1))\n",
    "    # 从开头C到空格are空格，取group（1）\n",
    "    print(\"matchObj.group(2) : \", matchObj.group(2))\n",
    "    # 从are空格之后，也就是s到空格.*取group（2）\n",
    "    # 空格.* 是 空格than dogs\n",
    "    # 所以group（2）= smarter\n",
    "else:\n",
    "    print (\"No match!!\")"
   ]
  },
  {
   "cell_type": "code",
   "execution_count": 177,
   "metadata": {},
   "outputs": [
    {
     "name": "stdout",
     "output_type": "stream",
     "text": [
      "matchObj.group() :  Cats are smarter than dogs\n",
      "matchObj.group(1) :  Cats\n",
      "matchObj.group(2) :  \n"
     ]
    }
   ],
   "source": [
    "# 试一下去掉group(2)后面的空格\n",
    "\n",
    "import re\n",
    "\n",
    "line = \"Cats are smarter than dogs\"\n",
    "\n",
    "matchObj = re.match( r'(.*?) are (.*?).*', line, re.M|re.I)\n",
    "## 这里从are空格到 .* 之间的东西给（.*？）\n",
    "## 而.*取了smarter than dogs\n",
    "## 所以（.*？）是个空\n",
    "## 即group（2）是个空\n",
    "\n",
    "if matchObj:\n",
    "    \n",
    "    print(\"matchObj.group() : \", matchObj.group())\n",
    "    print(\"matchObj.group(1) : \", matchObj.group(1))\n",
    "    print(\"matchObj.group(2) : \", matchObj.group(2))\n",
    "else:\n",
    "    print (\"No match!!\")"
   ]
  },
  {
   "cell_type": "code",
   "execution_count": 243,
   "metadata": {},
   "outputs": [
    {
     "name": "stdout",
     "output_type": "stream",
     "text": [
      "matchObj.group() :  Cats are smarter than dogs\n",
      "matchObj.group(1) :  Cats\n",
      "matchObj.group(2) :  \n",
      "matchObj.group(3) :  smarter than \n",
      "matchObj.group(4) :  ogs\n"
     ]
    }
   ],
   "source": [
    "# 为了更清楚的看到group取值的顺序，我再改一下\n",
    "\n",
    "import re\n",
    "\n",
    "matchObj = re.match( r'(.*?) are (.*?)(.*)d(.*)', \"Cats are smarter than dogs\")\n",
    "\n",
    "if matchObj:\n",
    "    \n",
    "    print(\"matchObj.group() : \", matchObj.group())\n",
    "    print(\"matchObj.group(1) : \", matchObj.group(1))\n",
    "    print(\"matchObj.group(2) : \", matchObj.group(2))\n",
    "    ## 匹配are空格和group（3）之间的东西\n",
    "    print(\"matchObj.group(3) : \", matchObj.group(3))\n",
    "    ## group（3）匹配are空格are和d之间的东西，即smater than空格\n",
    "    ## 所以group（2）就是空\n",
    "    print(\"matchObj.group(4) : \", matchObj.group(4))\n",
    "    ## group（4）匹配d之后的，即ogs\n"
   ]
  },
  {
   "cell_type": "markdown",
   "metadata": {},
   "source": [
    "百度里还有很多实际应用的模板，先这样吧\n",
    "\n",
    "太不易了\n",
    "\n",
    "![0209](https://github.com/HanMENG15990045033/photos-for-document/blob/master/0207_end.jpg)"
   ]
  }
 ],
 "metadata": {
  "kernelspec": {
   "display_name": "Python 3",
   "language": "python",
   "name": "python3"
  },
  "language_info": {
   "codemirror_mode": {
    "name": "ipython",
    "version": 3
   },
   "file_extension": ".py",
   "mimetype": "text/x-python",
   "name": "python",
   "nbconvert_exporter": "python",
   "pygments_lexer": "ipython3",
   "version": "3.7.3"
  }
 },
 "nbformat": 4,
 "nbformat_minor": 2
}
