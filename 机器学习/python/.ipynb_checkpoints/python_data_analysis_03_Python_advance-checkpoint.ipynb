{
 "cells": [
  {
   "cell_type": "markdown",
   "metadata": {
    "slideshow": {
     "slide_type": "slide"
    }
   },
   "source": [
    "# 第3章 内建数据结构、函数及文件\n",
    "\n",
    "这章也是Python，但操作都很6啊！\n",
    "\n",
    "得认真过一遍了。\n",
    "\n",
    "\n",
    "![0301](https://github.com/HanMENG15990045033/photos-for-document/blob/master/0301_action.jpg)\n",
    "\n",
    "\n",
    "## 3.1 数据结构和序列\n",
    "### 3.1.1 元组\n",
    "\n",
    "固定长度，不可变\n",
    "\n",
    "原来外面的括号可以省略的是嘛，直接一个逗号分开就行了"
   ]
  },
  {
   "cell_type": "code",
   "execution_count": 1,
   "metadata": {
    "slideshow": {
     "slide_type": "subslide"
    }
   },
   "outputs": [],
   "source": [
    "tup = 4, 5, 6"
   ]
  },
  {
   "cell_type": "code",
   "execution_count": 2,
   "metadata": {
    "slideshow": {
     "slide_type": "-"
    }
   },
   "outputs": [
    {
     "data": {
      "text/plain": [
       "(4, 5, 6)"
      ]
     },
     "execution_count": 2,
     "metadata": {},
     "output_type": "execute_result"
    }
   ],
   "source": [
    "tup"
   ]
  },
  {
   "cell_type": "code",
   "execution_count": 3,
   "metadata": {
    "slideshow": {
     "slide_type": "-"
    }
   },
   "outputs": [],
   "source": [
    "nested_up = (4, 5, 6),(7, 8)"
   ]
  },
  {
   "cell_type": "code",
   "execution_count": 4,
   "metadata": {
    "slideshow": {
     "slide_type": "notes"
    }
   },
   "outputs": [
    {
     "data": {
      "text/plain": [
       "((4, 5, 6), (7, 8))"
      ]
     },
     "execution_count": 4,
     "metadata": {},
     "output_type": "execute_result"
    }
   ],
   "source": [
    "nested_up"
   ]
  },
  {
   "cell_type": "markdown",
   "metadata": {
    "slideshow": {
     "slide_type": "slide"
    }
   },
   "source": [
    "tuple函数：将任意序列或迭代器转换为元组"
   ]
  },
  {
   "cell_type": "code",
   "execution_count": 5,
   "metadata": {
    "slideshow": {
     "slide_type": "slide"
    }
   },
   "outputs": [
    {
     "data": {
      "text/plain": [
       "(4, 0, 2)"
      ]
     },
     "execution_count": 5,
     "metadata": {},
     "output_type": "execute_result"
    }
   ],
   "source": [
    "tuple([4, 0, 2])"
   ]
  },
  {
   "cell_type": "code",
   "execution_count": 6,
   "metadata": {
    "slideshow": {
     "slide_type": "slide"
    }
   },
   "outputs": [],
   "source": [
    "tup = tuple('string')"
   ]
  },
  {
   "cell_type": "code",
   "execution_count": 7,
   "metadata": {
    "slideshow": {
     "slide_type": "slide"
    }
   },
   "outputs": [
    {
     "data": {
      "text/plain": [
       "('s', 't', 'r', 'i', 'n', 'g')"
      ]
     },
     "execution_count": 7,
     "metadata": {},
     "output_type": "execute_result"
    }
   ],
   "source": [
    "tup"
   ]
  },
  {
   "cell_type": "markdown",
   "metadata": {
    "slideshow": {
     "slide_type": "slide"
    }
   },
   "source": [
    "元组一旦创建，各个位置上的对象无法修改"
   ]
  },
  {
   "cell_type": "code",
   "execution_count": 8,
   "metadata": {},
   "outputs": [],
   "source": [
    "tup_5 = tuple(['foo', [1, 2], True])"
   ]
  },
  {
   "cell_type": "code",
   "execution_count": 9,
   "metadata": {},
   "outputs": [
    {
     "ename": "TypeError",
     "evalue": "'tuple' object does not support item assignment",
     "output_type": "error",
     "traceback": [
      "\u001b[1;31m---------------------------------------------------------------------------\u001b[0m",
      "\u001b[1;31mTypeError\u001b[0m                                 Traceback (most recent call last)",
      "\u001b[1;32m<ipython-input-9-013d73566f3f>\u001b[0m in \u001b[0;36m<module>\u001b[1;34m\u001b[0m\n\u001b[1;32m----> 1\u001b[1;33m \u001b[0mtup_5\u001b[0m\u001b[1;33m[\u001b[0m\u001b[1;36m2\u001b[0m\u001b[1;33m]\u001b[0m \u001b[1;33m=\u001b[0m \u001b[1;32mFalse\u001b[0m\u001b[1;33m\u001b[0m\u001b[1;33m\u001b[0m\u001b[0m\n\u001b[0m",
      "\u001b[1;31mTypeError\u001b[0m: 'tuple' object does not support item assignment"
     ]
    }
   ],
   "source": [
    "tup_5[2] = False"
   ]
  },
  {
   "cell_type": "markdown",
   "metadata": {},
   "source": [
    "如果元组中的一个对象是可变的，如列表，可以再列表内部进行修改"
   ]
  },
  {
   "cell_type": "code",
   "execution_count": 10,
   "metadata": {},
   "outputs": [],
   "source": [
    "tup_5[1].append(3)"
   ]
  },
  {
   "cell_type": "code",
   "execution_count": 11,
   "metadata": {},
   "outputs": [
    {
     "data": {
      "text/plain": [
       "('foo', [1, 2, 3], True)"
      ]
     },
     "execution_count": 11,
     "metadata": {},
     "output_type": "execute_result"
    }
   ],
   "source": [
    "tup_5"
   ]
  },
  {
   "cell_type": "markdown",
   "metadata": {},
   "source": [
    "可以使用 + 号来生成更长的元组"
   ]
  },
  {
   "cell_type": "code",
   "execution_count": 12,
   "metadata": {},
   "outputs": [
    {
     "data": {
      "text/plain": [
       "(4, None, 'foo', 6, 0, 'bar')"
      ]
     },
     "execution_count": 12,
     "metadata": {},
     "output_type": "execute_result"
    }
   ],
   "source": [
    "(4, None, 'foo') + (6, 0) + ('bar',) # 这个最后的逗号必须有，不然报错"
   ]
  },
  {
   "cell_type": "markdown",
   "metadata": {},
   "source": [
    "元组 * 整数，生成含有多份的元组"
   ]
  },
  {
   "cell_type": "code",
   "execution_count": 13,
   "metadata": {},
   "outputs": [
    {
     "data": {
      "text/plain": [
       "('foo', 'bar', 'foo', 'bar', 'foo', 'bar', 'foo', 'bar')"
      ]
     },
     "execution_count": 13,
     "metadata": {},
     "output_type": "execute_result"
    }
   ],
   "source": [
    "('foo', 'bar') * 4"
   ]
  },
  {
   "cell_type": "markdown",
   "metadata": {},
   "source": [
    "列表说：俺也一样"
   ]
  },
  {
   "cell_type": "code",
   "execution_count": 14,
   "metadata": {},
   "outputs": [
    {
     "data": {
      "text/plain": [
       "[1, 2, 3, 1, 2, 3, 1, 2, 3, 1, 2, 3]"
      ]
     },
     "execution_count": 14,
     "metadata": {},
     "output_type": "execute_result"
    }
   ],
   "source": [
    "[1 , 2, 3] * 4"
   ]
  },
  {
   "cell_type": "markdown",
   "metadata": {},
   "source": [
    "#### 3.1.1.1 元组拆包"
   ]
  },
  {
   "cell_type": "code",
   "execution_count": 15,
   "metadata": {},
   "outputs": [],
   "source": [
    "tup_1 = (4, 5, 6)"
   ]
  },
  {
   "cell_type": "code",
   "execution_count": 16,
   "metadata": {},
   "outputs": [],
   "source": [
    "a, b, c = tup_1"
   ]
  },
  {
   "cell_type": "code",
   "execution_count": 17,
   "metadata": {},
   "outputs": [
    {
     "data": {
      "text/plain": [
       "5"
      ]
     },
     "execution_count": 17,
     "metadata": {},
     "output_type": "execute_result"
    }
   ],
   "source": [
    "b"
   ]
  },
  {
   "cell_type": "code",
   "execution_count": 18,
   "metadata": {},
   "outputs": [
    {
     "data": {
      "text/plain": [
       "6"
      ]
     },
     "execution_count": 18,
     "metadata": {},
     "output_type": "execute_result"
    }
   ],
   "source": [
    "c"
   ]
  },
  {
   "cell_type": "code",
   "execution_count": 19,
   "metadata": {},
   "outputs": [],
   "source": [
    "tup_2 = 4, 5, (6, 7) # 嵌套元组也可以拆包"
   ]
  },
  {
   "cell_type": "code",
   "execution_count": 20,
   "metadata": {},
   "outputs": [],
   "source": [
    "a, b, c = tup_2"
   ]
  },
  {
   "cell_type": "code",
   "execution_count": 21,
   "metadata": {},
   "outputs": [
    {
     "data": {
      "text/plain": [
       "5"
      ]
     },
     "execution_count": 21,
     "metadata": {},
     "output_type": "execute_result"
    }
   ],
   "source": [
    "b"
   ]
  },
  {
   "cell_type": "code",
   "execution_count": 22,
   "metadata": {},
   "outputs": [
    {
     "data": {
      "text/plain": [
       "(6, 7)"
      ]
     },
     "execution_count": 22,
     "metadata": {},
     "output_type": "execute_result"
    }
   ],
   "source": [
    "c"
   ]
  },
  {
   "cell_type": "markdown",
   "metadata": {},
   "source": [
    "666啊~ 利用这个功能可以轻易地交换变量名"
   ]
  },
  {
   "cell_type": "code",
   "execution_count": 23,
   "metadata": {},
   "outputs": [],
   "source": [
    "a, b = 1, 2 # a b 分别从元组（1，2）中取得值"
   ]
  },
  {
   "cell_type": "code",
   "execution_count": 24,
   "metadata": {},
   "outputs": [
    {
     "data": {
      "text/plain": [
       "1"
      ]
     },
     "execution_count": 24,
     "metadata": {},
     "output_type": "execute_result"
    }
   ],
   "source": [
    "a"
   ]
  },
  {
   "cell_type": "code",
   "execution_count": 25,
   "metadata": {},
   "outputs": [
    {
     "data": {
      "text/plain": [
       "2"
      ]
     },
     "execution_count": 25,
     "metadata": {},
     "output_type": "execute_result"
    }
   ],
   "source": [
    "b"
   ]
  },
  {
   "cell_type": "code",
   "execution_count": 26,
   "metadata": {},
   "outputs": [],
   "source": [
    "b, a = a, b # a, b为一个元组，值为1，2，ba从里面取值"
   ]
  },
  {
   "cell_type": "code",
   "execution_count": 27,
   "metadata": {},
   "outputs": [
    {
     "data": {
      "text/plain": [
       "2"
      ]
     },
     "execution_count": 27,
     "metadata": {},
     "output_type": "execute_result"
    }
   ],
   "source": [
    "a"
   ]
  },
  {
   "cell_type": "code",
   "execution_count": 28,
   "metadata": {},
   "outputs": [
    {
     "data": {
      "text/plain": [
       "1"
      ]
     },
     "execution_count": 28,
     "metadata": {},
     "output_type": "execute_result"
    }
   ],
   "source": [
    "b"
   ]
  },
  {
   "cell_type": "markdown",
   "metadata": {},
   "source": [
    "\n",
    "利用拆包遍历元组或列表组成的序列"
   ]
  },
  {
   "cell_type": "code",
   "execution_count": 29,
   "metadata": {},
   "outputs": [],
   "source": [
    "seq = [(1, 2, 3), (4, 5, 6), (7, 8, 9)]"
   ]
  },
  {
   "cell_type": "code",
   "execution_count": 30,
   "metadata": {},
   "outputs": [
    {
     "name": "stdout",
     "output_type": "stream",
     "text": [
      "a=1, b=2, c=3\n",
      "a=4, b=5, c=6\n",
      "a=7, b=8, c=9\n"
     ]
    }
   ],
   "source": [
    "for a, b, c in seq:\n",
    "    print('a={0}, b={1}, c={2}'.format(a, b, c))"
   ]
  },
  {
   "cell_type": "markdown",
   "metadata": {},
   "source": [
    "拆包工具*rest，从其起始位置取，rest是剩下的"
   ]
  },
  {
   "cell_type": "code",
   "execution_count": 31,
   "metadata": {},
   "outputs": [],
   "source": [
    "values = 1, 2, 3, 4, 5"
   ]
  },
  {
   "cell_type": "code",
   "execution_count": 32,
   "metadata": {},
   "outputs": [],
   "source": [
    "a, b, *rest = values"
   ]
  },
  {
   "cell_type": "code",
   "execution_count": 33,
   "metadata": {},
   "outputs": [
    {
     "data": {
      "text/plain": [
       "(1, 2)"
      ]
     },
     "execution_count": 33,
     "metadata": {},
     "output_type": "execute_result"
    }
   ],
   "source": [
    "a, b"
   ]
  },
  {
   "cell_type": "code",
   "execution_count": 34,
   "metadata": {},
   "outputs": [
    {
     "data": {
      "text/plain": [
       "[3, 4, 5]"
      ]
     },
     "execution_count": 34,
     "metadata": {},
     "output_type": "execute_result"
    }
   ],
   "source": [
    "rest"
   ]
  },
  {
   "cell_type": "markdown",
   "metadata": {},
   "source": [
    "用下划线表示不想要的变量，\n",
    "\n",
    "这样啊，之前在API取数据的时候见过\n",
    "\n",
    "所以不用rest也行？？那你还叫什么特殊语法\n",
    "\n",
    "群里N先生解答：\n",
    "\n",
    "其实起作用的是*号\n",
    "\n",
    "单个星号代表这个位置接收任意多个非关键字参数\n",
    "\n",
    "values = 1, 2, 3, 4, 5\n",
    "\n",
    "a, b, *other =values\n",
    "\n",
    "rest可以叫其他名字的"
   ]
  },
  {
   "cell_type": "code",
   "execution_count": 35,
   "metadata": {},
   "outputs": [],
   "source": [
    "a, b, *_ = values"
   ]
  },
  {
   "cell_type": "code",
   "execution_count": 36,
   "metadata": {},
   "outputs": [
    {
     "data": {
      "text/plain": [
       "(1, 2)"
      ]
     },
     "execution_count": 36,
     "metadata": {},
     "output_type": "execute_result"
    }
   ],
   "source": [
    "a, b"
   ]
  },
  {
   "cell_type": "markdown",
   "metadata": {},
   "source": [
    "![0302]()"
   ]
  },
  {
   "cell_type": "markdown",
   "metadata": {},
   "source": [
    "#### 3.1.1.2 元组方法 count"
   ]
  },
  {
   "cell_type": "code",
   "execution_count": 37,
   "metadata": {},
   "outputs": [],
   "source": [
    "a = (1, 2, 3, 4, 3, 4)"
   ]
  },
  {
   "cell_type": "code",
   "execution_count": 38,
   "metadata": {},
   "outputs": [
    {
     "data": {
      "text/plain": [
       "2"
      ]
     },
     "execution_count": 38,
     "metadata": {},
     "output_type": "execute_result"
    }
   ],
   "source": [
    "a.count(3) # 查a里有几个3"
   ]
  },
  {
   "cell_type": "markdown",
   "metadata": {},
   "source": [
    "### 3.1.2 列表\n",
    "\n",
    "长度可变，内容可修改\n",
    "\n",
    "[], 或list来定义，咦？！"
   ]
  },
  {
   "cell_type": "code",
   "execution_count": 39,
   "metadata": {},
   "outputs": [],
   "source": [
    "a_list = [2, 3, 7, None]"
   ]
  },
  {
   "cell_type": "code",
   "execution_count": 40,
   "metadata": {},
   "outputs": [],
   "source": [
    "tup_3 = ('foo', 'bar', 'baz')"
   ]
  },
  {
   "cell_type": "code",
   "execution_count": 41,
   "metadata": {},
   "outputs": [],
   "source": [
    "b_list = list(tup_3)"
   ]
  },
  {
   "cell_type": "code",
   "execution_count": 42,
   "metadata": {},
   "outputs": [
    {
     "data": {
      "text/plain": [
       "['foo', 'bar', 'baz']"
      ]
     },
     "execution_count": 42,
     "metadata": {},
     "output_type": "execute_result"
    }
   ],
   "source": [
    "b_list"
   ]
  },
  {
   "cell_type": "markdown",
   "metadata": {},
   "source": [
    "#### 3.1.2.2 链接和联合列表\n",
    "+\n",
    "\n",
    "extend 这个更快"
   ]
  },
  {
   "cell_type": "code",
   "execution_count": 43,
   "metadata": {},
   "outputs": [
    {
     "data": {
      "text/plain": [
       "[4, None, 'foo', 7, 8, 9]"
      ]
     },
     "execution_count": 43,
     "metadata": {},
     "output_type": "execute_result"
    }
   ],
   "source": [
    "[4, None, 'foo'] + [7, 8, 9]"
   ]
  },
  {
   "cell_type": "code",
   "execution_count": 44,
   "metadata": {},
   "outputs": [],
   "source": [
    "x = [4, None, 'foo']"
   ]
  },
  {
   "cell_type": "code",
   "execution_count": 45,
   "metadata": {},
   "outputs": [],
   "source": [
    "x.extend([7, 8, (2, 3)]) # 添加多个元素"
   ]
  },
  {
   "cell_type": "code",
   "execution_count": 46,
   "metadata": {},
   "outputs": [
    {
     "data": {
      "text/plain": [
       "[4, None, 'foo', 7, 8, (2, 3)]"
      ]
     },
     "execution_count": 46,
     "metadata": {},
     "output_type": "execute_result"
    }
   ],
   "source": [
    "x"
   ]
  },
  {
   "cell_type": "markdown",
   "metadata": {},
   "source": [
    "#### 3.1.2.3 排序\n",
    "\n",
    "艾玛，排序都有高级版\n",
    "\n",
    "用key按字符串长度进行排序"
   ]
  },
  {
   "cell_type": "code",
   "execution_count": 47,
   "metadata": {},
   "outputs": [],
   "source": [
    "b = ['saw', 'small', 'he', 'foxes', 'six']"
   ]
  },
  {
   "cell_type": "code",
   "execution_count": 48,
   "metadata": {},
   "outputs": [],
   "source": [
    "b.sort(key=len)"
   ]
  },
  {
   "cell_type": "code",
   "execution_count": 49,
   "metadata": {},
   "outputs": [
    {
     "data": {
      "text/plain": [
       "['he', 'saw', 'six', 'small', 'foxes']"
      ]
     },
     "execution_count": 49,
     "metadata": {},
     "output_type": "execute_result"
    }
   ],
   "source": [
    "b"
   ]
  },
  {
   "cell_type": "markdown",
   "metadata": {},
   "source": [
    "#### 3.1.2.4 二分搜索和已排序列表的维护\n",
    "\n",
    "bisect.bisect 按列表从大到小的顺序，看元素应当放到第几位\n",
    "\n",
    "bisect.insort 把元素插到第几位\n",
    "\n",
    "注意未排序的列表不会报错，但可能结果不正确"
   ]
  },
  {
   "cell_type": "code",
   "execution_count": 50,
   "metadata": {},
   "outputs": [],
   "source": [
    "import bisect"
   ]
  },
  {
   "cell_type": "code",
   "execution_count": 51,
   "metadata": {},
   "outputs": [],
   "source": [
    "c = [1, 2, 2, 2, 3, 4, 7]"
   ]
  },
  {
   "cell_type": "code",
   "execution_count": 52,
   "metadata": {},
   "outputs": [
    {
     "data": {
      "text/plain": [
       "4"
      ]
     },
     "execution_count": 52,
     "metadata": {},
     "output_type": "execute_result"
    }
   ],
   "source": [
    "bisect.bisect(c, 2)"
   ]
  },
  {
   "cell_type": "code",
   "execution_count": 53,
   "metadata": {},
   "outputs": [
    {
     "data": {
      "text/plain": [
       "[1, 2, 2, 2, 3, 4, 7]"
      ]
     },
     "execution_count": 53,
     "metadata": {},
     "output_type": "execute_result"
    }
   ],
   "source": [
    "c"
   ]
  },
  {
   "cell_type": "code",
   "execution_count": 54,
   "metadata": {},
   "outputs": [
    {
     "data": {
      "text/plain": [
       "6"
      ]
     },
     "execution_count": 54,
     "metadata": {},
     "output_type": "execute_result"
    }
   ],
   "source": [
    "bisect.bisect(c, 5)"
   ]
  },
  {
   "cell_type": "code",
   "execution_count": 55,
   "metadata": {},
   "outputs": [
    {
     "data": {
      "text/plain": [
       "[1, 2, 2, 2, 3, 4, 7]"
      ]
     },
     "execution_count": 55,
     "metadata": {},
     "output_type": "execute_result"
    }
   ],
   "source": [
    "c"
   ]
  },
  {
   "cell_type": "code",
   "execution_count": 56,
   "metadata": {},
   "outputs": [],
   "source": [
    "bisect.insort(c, 6)"
   ]
  },
  {
   "cell_type": "code",
   "execution_count": 57,
   "metadata": {},
   "outputs": [
    {
     "data": {
      "text/plain": [
       "[1, 2, 2, 2, 3, 4, 6, 7]"
      ]
     },
     "execution_count": 57,
     "metadata": {},
     "output_type": "execute_result"
    }
   ],
   "source": [
    "c"
   ]
  },
  {
   "cell_type": "markdown",
   "metadata": {},
   "source": [
    "#### 3.1.2.5 切片\n",
    "\n",
    "利用步长step对列表进行翻转"
   ]
  },
  {
   "cell_type": "code",
   "execution_count": 58,
   "metadata": {},
   "outputs": [],
   "source": [
    "seq = [1, 2, 5, 6, 3, 7, 8]"
   ]
  },
  {
   "cell_type": "code",
   "execution_count": 59,
   "metadata": {},
   "outputs": [
    {
     "data": {
      "text/plain": [
       "[8, 7, 3, 6, 5, 2, 1]"
      ]
     },
     "execution_count": 59,
     "metadata": {},
     "output_type": "execute_result"
    }
   ],
   "source": [
    "seq[::-1]"
   ]
  },
  {
   "cell_type": "markdown",
   "metadata": {},
   "source": [
    "### 3.1.3 内建序列函数\n",
    "\n",
    "#### 3.1.3.1 enumerate 列举 历数\n",
    "\n",
    "就是把列表的索引和元素对应提出来"
   ]
  },
  {
   "cell_type": "code",
   "execution_count": 60,
   "metadata": {},
   "outputs": [
    {
     "data": {
      "text/plain": [
       "{0: 'a', 1: 'b', 2: 'c'}"
      ]
     },
     "execution_count": 60,
     "metadata": {},
     "output_type": "execute_result"
    }
   ],
   "source": [
    "abc_list = ['a', 'b', 'c']\n",
    "mapping = {}\n",
    "\n",
    "for i, v in enumerate(abc_list):\n",
    "    mapping[i] = v\n",
    "    \n",
    "mapping"
   ]
  },
  {
   "cell_type": "markdown",
   "metadata": {},
   "source": [
    "#### 3.1.3.2 sorted 排序\n",
    "\n",
    "sorted的使用有刷新了我的认知"
   ]
  },
  {
   "cell_type": "code",
   "execution_count": 61,
   "metadata": {},
   "outputs": [
    {
     "data": {
      "text/plain": [
       "[' ', 'a', 'c', 'e', 'e', 'h', 'o', 'r', 'r', 's']"
      ]
     },
     "execution_count": 61,
     "metadata": {},
     "output_type": "execute_result"
    }
   ],
   "source": [
    "sorted('horse race')"
   ]
  },
  {
   "cell_type": "markdown",
   "metadata": {},
   "source": [
    "其根本是，把一个序列中的元素排序\n",
    "\n",
    "#### 3.1.3.3 zip\n",
    "\n",
    "也是，根本是把一个序列对应位置的元素组团\n",
    "\n",
    "既然这么说了，我肯定要搞他一下，看看"
   ]
  },
  {
   "cell_type": "code",
   "execution_count": 62,
   "metadata": {},
   "outputs": [],
   "source": [
    "a = ['a0', 'a1', 'a2']\n",
    "b = ['b0', 'b1', 'b2', 'b3']\n",
    "c = ('c0', 'c1', 'c2')\n",
    "d = '0123456'\n",
    "e = {'e1':'v1', 'e2':'v2', 'e3':'v3'}"
   ]
  },
  {
   "cell_type": "code",
   "execution_count": 63,
   "metadata": {},
   "outputs": [],
   "source": [
    "ab = zip(a, b) ## 长度取短\n",
    "ac = zip(a, c) ## 不限类型，只要可迭代应该就行\n",
    "ad = zip(a, d) ## 字符串是可迭代类型\n",
    "ae = zip(a, e) ## 字典也可以"
   ]
  },
  {
   "cell_type": "code",
   "execution_count": 64,
   "metadata": {},
   "outputs": [
    {
     "data": {
      "text/plain": [
       "[('a0', 'b0'), ('a1', 'b1'), ('a2', 'b2')]"
      ]
     },
     "execution_count": 64,
     "metadata": {},
     "output_type": "execute_result"
    }
   ],
   "source": [
    "list(ab)"
   ]
  },
  {
   "cell_type": "code",
   "execution_count": 65,
   "metadata": {},
   "outputs": [
    {
     "data": {
      "text/plain": [
       "[('a0', 'c0'), ('a1', 'c1'), ('a2', 'c2')]"
      ]
     },
     "execution_count": 65,
     "metadata": {},
     "output_type": "execute_result"
    }
   ],
   "source": [
    "list(ac)"
   ]
  },
  {
   "cell_type": "code",
   "execution_count": 66,
   "metadata": {},
   "outputs": [
    {
     "data": {
      "text/plain": [
       "[('a0', '0'), ('a1', '1'), ('a2', '2')]"
      ]
     },
     "execution_count": 66,
     "metadata": {},
     "output_type": "execute_result"
    }
   ],
   "source": [
    "list(ad)"
   ]
  },
  {
   "cell_type": "code",
   "execution_count": 67,
   "metadata": {},
   "outputs": [
    {
     "data": {
      "text/plain": [
       "[('a0', 'e1'), ('a1', 'e2'), ('a2', 'e3')]"
      ]
     },
     "execution_count": 67,
     "metadata": {},
     "output_type": "execute_result"
    }
   ],
   "source": [
    "list(ae) ##不过字典不是无序得嘛"
   ]
  },
  {
   "cell_type": "markdown",
   "metadata": {},
   "source": [
    "zip经常要用到的情况\n",
    "\n",
    "同时遍历多个序列，与enumerate同时使用"
   ]
  },
  {
   "cell_type": "code",
   "execution_count": 68,
   "metadata": {},
   "outputs": [
    {
     "name": "stdout",
     "output_type": "stream",
     "text": [
      "0: a, e\n",
      "1: b, f\n",
      "2: c, g\n"
     ]
    }
   ],
   "source": [
    "seq1 = ['a', 'b', 'c']\n",
    "seq2 = ['e', 'f', 'g']\n",
    "\n",
    "for i, (a, b) in enumerate(zip(seq1, seq2)):\n",
    "    print('{0}: {1}, {2}'.format(i, a, b))"
   ]
  },
  {
   "cell_type": "markdown",
   "metadata": {},
   "source": [
    "zip(*列表)可以拆分，以前见过不说了\n",
    "\n",
    "#### 3.1.3.4 reversed\n",
    "\n",
    "元素倒序排列"
   ]
  },
  {
   "cell_type": "code",
   "execution_count": 69,
   "metadata": {},
   "outputs": [
    {
     "data": {
      "text/plain": [
       "[9, 8, 7, 6, 5, 4, 3, 2, 1, 0]"
      ]
     },
     "execution_count": 69,
     "metadata": {},
     "output_type": "execute_result"
    }
   ],
   "source": [
    "list(reversed(range(10)))"
   ]
  },
  {
   "cell_type": "markdown",
   "metadata": {},
   "source": [
    "### 3.1.4 字典\n",
    "\n",
    "也叫哈希表或关联数组\n",
    "\n",
    "字典大部分功能都见过了\n",
    "\n",
    "这里补充几个\n",
    "\n",
    "1. del和pop+key值\n",
    "\n",
    "   注意pop之后返回的是value值\n"
   ]
  },
  {
   "cell_type": "code",
   "execution_count": 70,
   "metadata": {},
   "outputs": [],
   "source": [
    "a = {0: 'a', 1: 'b', 2: 'c'}"
   ]
  },
  {
   "cell_type": "code",
   "execution_count": 71,
   "metadata": {},
   "outputs": [],
   "source": [
    "del a[1]"
   ]
  },
  {
   "cell_type": "code",
   "execution_count": 72,
   "metadata": {},
   "outputs": [
    {
     "data": {
      "text/plain": [
       "{0: 'a', 2: 'c'}"
      ]
     },
     "execution_count": 72,
     "metadata": {},
     "output_type": "execute_result"
    }
   ],
   "source": [
    "a"
   ]
  },
  {
   "cell_type": "code",
   "execution_count": 73,
   "metadata": {},
   "outputs": [],
   "source": [
    "b = a.pop(0)"
   ]
  },
  {
   "cell_type": "code",
   "execution_count": 74,
   "metadata": {},
   "outputs": [
    {
     "data": {
      "text/plain": [
       "{2: 'c'}"
      ]
     },
     "execution_count": 74,
     "metadata": {},
     "output_type": "execute_result"
    }
   ],
   "source": [
    "a"
   ]
  },
  {
   "cell_type": "code",
   "execution_count": 75,
   "metadata": {},
   "outputs": [
    {
     "data": {
      "text/plain": [
       "'a'"
      ]
     },
     "execution_count": 75,
     "metadata": {},
     "output_type": "execute_result"
    }
   ],
   "source": [
    "b"
   ]
  },
  {
   "cell_type": "markdown",
   "metadata": {},
   "source": [
    "2. keys和values\n",
    "\n",
    "   提供字典key值和value值得迭代器\n",
    "   \n",
    "   字典key值没有特定顺序\n",
    "   \n",
    "   而迭代输出的key和value会按照相同个的顺序"
   ]
  },
  {
   "cell_type": "code",
   "execution_count": 76,
   "metadata": {},
   "outputs": [],
   "source": [
    "a = {0: 'a', 1: 'b', 2: 'c'}"
   ]
  },
  {
   "cell_type": "code",
   "execution_count": 77,
   "metadata": {},
   "outputs": [
    {
     "data": {
      "text/plain": [
       "[0, 1, 2]"
      ]
     },
     "execution_count": 77,
     "metadata": {},
     "output_type": "execute_result"
    }
   ],
   "source": [
    "list(a.keys())"
   ]
  },
  {
   "cell_type": "code",
   "execution_count": 78,
   "metadata": {},
   "outputs": [
    {
     "data": {
      "text/plain": [
       "['a', 'b', 'c']"
      ]
     },
     "execution_count": 78,
     "metadata": {},
     "output_type": "execute_result"
    }
   ],
   "source": [
    "list(a.values())"
   ]
  },
  {
   "cell_type": "markdown",
   "metadata": {},
   "source": [
    "3. update\n",
    "\n",
    "   将两个字典合并\n",
    "   \n",
    "   注意key值相同会被覆盖"
   ]
  },
  {
   "cell_type": "code",
   "execution_count": 79,
   "metadata": {},
   "outputs": [],
   "source": [
    "a.update({3: 'd', 4: 'e', 0:'f'})"
   ]
  },
  {
   "cell_type": "code",
   "execution_count": 80,
   "metadata": {},
   "outputs": [
    {
     "data": {
      "text/plain": [
       "{0: 'f', 1: 'b', 2: 'c', 3: 'd', 4: 'e'}"
      ]
     },
     "execution_count": 80,
     "metadata": {},
     "output_type": "execute_result"
    }
   ],
   "source": [
    "a"
   ]
  },
  {
   "cell_type": "markdown",
   "metadata": {},
   "source": [
    "#### 3.1.4.1 序列合成字典\n",
    "\n",
    "常规操作"
   ]
  },
  {
   "cell_type": "code",
   "execution_count": 81,
   "metadata": {},
   "outputs": [],
   "source": [
    "key_list = [0, 1, 2]\n",
    "value_list = ['a', 'b', 'c']"
   ]
  },
  {
   "cell_type": "code",
   "execution_count": 82,
   "metadata": {},
   "outputs": [],
   "source": [
    "mapping = {}\n",
    "for key, value in zip(key_list, value_list):\n",
    "    mapping[key] = value"
   ]
  },
  {
   "cell_type": "code",
   "execution_count": 83,
   "metadata": {},
   "outputs": [
    {
     "data": {
      "text/plain": [
       "{0: 'a', 1: 'b', 2: 'c'}"
      ]
     },
     "execution_count": 83,
     "metadata": {},
     "output_type": "execute_result"
    }
   ],
   "source": [
    "mapping"
   ]
  },
  {
   "cell_type": "markdown",
   "metadata": {},
   "source": [
    "但是现在可以用dict直接来"
   ]
  },
  {
   "cell_type": "code",
   "execution_count": 84,
   "metadata": {},
   "outputs": [],
   "source": [
    "mapping_2 = dict(zip(key_list, value_list))"
   ]
  },
  {
   "cell_type": "code",
   "execution_count": 85,
   "metadata": {},
   "outputs": [
    {
     "data": {
      "text/plain": [
       "{0: 'a', 1: 'b', 2: 'c'}"
      ]
     },
     "execution_count": 85,
     "metadata": {},
     "output_type": "execute_result"
    }
   ],
   "source": [
    "mapping_2"
   ]
  },
  {
   "cell_type": "markdown",
   "metadata": {},
   "source": [
    "这里因为dict里面元素的本质\n",
    "\n",
    "是两个元素的集合\n",
    "\n",
    "故可以字典可以接受\n",
    "\n",
    "以元组为元素的列表\n",
    "\n",
    "{0: 'a'} === [(0, 'a')]"
   ]
  },
  {
   "cell_type": "code",
   "execution_count": 86,
   "metadata": {},
   "outputs": [],
   "source": [
    "mapping_3 = dict(zip(range(5), reversed(range(5))))"
   ]
  },
  {
   "cell_type": "code",
   "execution_count": 87,
   "metadata": {},
   "outputs": [
    {
     "data": {
      "text/plain": [
       "{0: 4, 1: 3, 2: 2, 3: 1, 4: 0}"
      ]
     },
     "execution_count": 87,
     "metadata": {},
     "output_type": "execute_result"
    }
   ],
   "source": [
    "mapping_3"
   ]
  },
  {
   "cell_type": "markdown",
   "metadata": {},
   "source": [
    "#### 3.1.4.2 默认值：get pop setdefault\n",
    "\n",
    "1. get pop\n",
    "\n",
    "    测试一个key在不在字典里\n",
    "\n",
    "    在就要这个值\n",
    "\n",
    "    不在就返回默认值，比如'不在'\n",
    "\n",
    "    常规做法\n"
   ]
  },
  {
   "cell_type": "code",
   "execution_count": 88,
   "metadata": {},
   "outputs": [],
   "source": [
    "a_2 = {0: 'a', 1: 'b', 2: 'c'}"
   ]
  },
  {
   "cell_type": "code",
   "execution_count": 89,
   "metadata": {},
   "outputs": [],
   "source": [
    "def check_key(key, some_dict, default_value):\n",
    "    if key in some_dict:\n",
    "        value = some_dict[key]\n",
    "    else:\n",
    "        value = default_value\n",
    "    print(value)"
   ]
  },
  {
   "cell_type": "code",
   "execution_count": 90,
   "metadata": {},
   "outputs": [
    {
     "name": "stdout",
     "output_type": "stream",
     "text": [
      "a\n"
     ]
    }
   ],
   "source": [
    "check_key(0, a_2, '不在呀')"
   ]
  },
  {
   "cell_type": "code",
   "execution_count": 91,
   "metadata": {},
   "outputs": [
    {
     "name": "stdout",
     "output_type": "stream",
     "text": [
      "真没有\n"
     ]
    }
   ],
   "source": [
    "check_key(3, a_2, '真没有')"
   ]
  },
  {
   "cell_type": "code",
   "execution_count": 92,
   "metadata": {},
   "outputs": [
    {
     "data": {
      "text/plain": [
       "('c0', 'c1', 'c2')"
      ]
     },
     "execution_count": 92,
     "metadata": {},
     "output_type": "execute_result"
    }
   ],
   "source": [
    "c"
   ]
  },
  {
   "cell_type": "markdown",
   "metadata": {},
   "source": [
    "get和pop可以用一行代码替换这个if-else"
   ]
  },
  {
   "cell_type": "code",
   "execution_count": 93,
   "metadata": {},
   "outputs": [],
   "source": [
    "def get_check_key(some_dict, key, default_value):\n",
    "    value = some_dict.get(key, default_value)\n",
    "    print(value)"
   ]
  },
  {
   "cell_type": "code",
   "execution_count": 94,
   "metadata": {},
   "outputs": [
    {
     "name": "stdout",
     "output_type": "stream",
     "text": [
      "a\n"
     ]
    }
   ],
   "source": [
    "get_check_key(a_2, 0, '没有')"
   ]
  },
  {
   "cell_type": "code",
   "execution_count": 95,
   "metadata": {},
   "outputs": [
    {
     "name": "stdout",
     "output_type": "stream",
     "text": [
      "这个真没有\n"
     ]
    }
   ],
   "source": [
    "get_check_key(a_2, 5, '这个真没有')"
   ]
  },
  {
   "cell_type": "markdown",
   "metadata": {},
   "source": [
    "2. setdefault\n",
    "\n",
    "    一个列表有很多单词\n",
    "\n",
    "    想把单词按首字母分组做成字典\n",
    "\n",
    "    a对应所有a打头的单词\n",
    "\n",
    "    b对应所有b打头的单词"
   ]
  },
  {
   "cell_type": "code",
   "execution_count": 96,
   "metadata": {},
   "outputs": [],
   "source": [
    "words = ['apple', 'bat', 'bar', 'atom','book']"
   ]
  },
  {
   "cell_type": "code",
   "execution_count": 97,
   "metadata": {},
   "outputs": [],
   "source": [
    "def key_in_dict(words):\n",
    "\n",
    "    by_letter = {}\n",
    "    for word in words: \n",
    "        ## 从列表里面取出一个词\n",
    "        ## 如word = apple\n",
    "        \n",
    "        letter = word[0]\n",
    "        ## apple的零位元素，就是a\n",
    "        ## 注意字符串是可迭代的\n",
    "        \n",
    "        if letter not in by_letter:\n",
    "            ## by_letter现在是空字典\n",
    "            ## a 不在里面\n",
    "            \n",
    "            by_letter[letter] = [word]\n",
    "            ## 字典里面加入{'a':['apple']}\n",
    "            ## value是个列表，word是列表中的一个元素\n",
    "            \n",
    "        else:\n",
    "            by_letter[letter].append(word)\n",
    "            ## 循环到atom的时候，a在字典里了\n",
    "            ## 所以执行else\n",
    "            ## a的键对应的元素，用append往里加atom\n",
    "            ## {'a':['apple', 'atom']}\n",
    "        \n",
    "    print(by_letter)"
   ]
  },
  {
   "cell_type": "code",
   "execution_count": 98,
   "metadata": {},
   "outputs": [
    {
     "name": "stdout",
     "output_type": "stream",
     "text": [
      "{'a': ['apple', 'atom'], 'b': ['bat', 'bar', 'book']}\n"
     ]
    }
   ],
   "source": [
    "key_in_dict(words)"
   ]
  },
  {
   "cell_type": "code",
   "execution_count": 99,
   "metadata": {},
   "outputs": [],
   "source": [
    "words_2 = ['apple', 'bat', 'bar']"
   ]
  },
  {
   "cell_type": "code",
   "execution_count": 100,
   "metadata": {},
   "outputs": [
    {
     "name": "stdout",
     "output_type": "stream",
     "text": [
      "{'a': ['apple'], 'b': ['bat', 'bar']}\n"
     ]
    }
   ],
   "source": [
    "key_in_dict(words_2) \n",
    "\n",
    "## 用这个方法默认加入的value是一个列表"
   ]
  },
  {
   "cell_type": "markdown",
   "metadata": {},
   "source": [
    "\n",
    "setdefault就是实现上面这个功能\n",
    "\n",
    "但对于初学者来说\n",
    "\n",
    "直接看书上的例子好难啊！\n",
    "\n",
    "![0302](https://github.com/HanMENG15990045033/photos-for-document/blob/master/0302_ruoxiaokelian.jpg)\n",
    "\n",
    "我们先说一下setdefault本身\n",
    "\n",
    "参考：\n",
    "\n",
    "https://www.runoob.com/python/att-dictionary-setdefault.html\n",
    "\n",
    "\n",
    "和前面的get()类似，get替换了一个if-else\n",
    "\n",
    "setdefault也是替换if-else\n",
    "\n",
    "不过get()是方法，setdefault是函数\n",
    "\n",
    "其功能：\n",
    "\n",
    "如果键不存在于字典中\n",
    "\n",
    "将会添加键，并设置默认值\n",
    "\n",
    "基本通式：\n",
    "\n",
    "some_dict.setdefault(key, default=None)\n",
    "\n",
    "key：要查的key值\n",
    "\n",
    "default：如果不在添加key值并默认value值\n",
    "\n"
   ]
  },
  {
   "cell_type": "code",
   "execution_count": 141,
   "metadata": {},
   "outputs": [
    {
     "data": {
      "text/plain": [
       "{0: 'a', 1: 'b', 2: 'c', 3: None}"
      ]
     },
     "execution_count": 141,
     "metadata": {},
     "output_type": "execute_result"
    }
   ],
   "source": [
    "dict_1 = {0: 'a', 1: 'b', 2: 'c'}\n",
    "dict_1.setdefault(3, None)\n",
    "dict_1"
   ]
  },
  {
   "cell_type": "markdown",
   "metadata": {},
   "source": [
    "明确了这个我们再来看书上的例子"
   ]
  },
  {
   "cell_type": "code",
   "execution_count": 143,
   "metadata": {},
   "outputs": [
    {
     "name": "stdout",
     "output_type": "stream",
     "text": [
      "{'a': ['apple', 'atom'], 'b': ['bat', 'bar', 'book']}\n"
     ]
    }
   ],
   "source": [
    "words = ['apple', 'bat', 'bar', 'atom','book']\n",
    "by_letter_2={}\n",
    "\n",
    "for word in words:\n",
    "    ## 列表，单词\n",
    "    letter = word[0]\n",
    "    ## 首字母\n",
    "    by_letter_2.setdefault(letter, []).append(word)\n",
    "    ## 字典.setdefault(首字母，默认类型列表).方法添加(字符串)\n",
    "\n",
    "print(by_letter_2)"
   ]
  },
  {
   "cell_type": "markdown",
   "metadata": {},
   "source": [
    "发生了什么，跟说好的不一样啊！\n",
    "\n",
    "别慌，稳住。\n",
    "\n",
    "![03008](https://github.com/HanMENG15990045033/photos-for-document/blob/master/0308_wenzhu.png)\n",
    "\n",
    "经过跟群里小伙伴的讨论，我们提出了\n",
    "\n",
    "进阶通式：\n",
    "\n",
    "some_dict.setdefault(key, 【】).append(word)\n",
    "\n",
    "key：还是你要查的key值\n",
    "\n",
    "【】：value值的类型\n",
    "      \n",
    "      还是如果字典没有key默认添加key，\n",
    "\n",
    "      并设置默认的value值，一般是空，None\n",
    "\n",
    "      不同在于，这里可以设置了value值的类型\n",
    "      \n",
    "      变量类型：int、float、str、tuple都是不可变类型\n",
    "       \n",
    "                list、dict、set是可变类型\n",
    "                \n",
    "      那么问题来了，所有的类型都可以放在这里吗？\n",
    "      \n",
    "      一会儿试一下\n",
    "      \n",
    " \n",
    " .append()：对value执行的方法\n",
    "      \n",
    "      不论key在不在字典中\n",
    "      \n",
    "      通过setdeafault这波操作\n",
    "      \n",
    "      都有了一个key\n",
    "      \n",
    "      .append这就是对这个key对应的元素执行的方法\n",
    "      \n",
    "      所以理论上，只要是【】有的方法，我们都可以用\n",
    "\n"
   ]
  },
  {
   "cell_type": "code",
   "execution_count": 145,
   "metadata": {},
   "outputs": [],
   "source": [
    "# by_letter_2.setdefault(letter, []).append(word)\n",
    "\n",
    "# 所以再解释一下这行代码\n",
    "\n",
    "# 对于by_letter_2这个字典\n",
    "\n",
    "# 启用setdefault函数\n",
    "\n",
    "# 查一查里面有没有这个letter，比如apple的首字母a\n",
    "\n",
    "# 如果有，对a的元素执行append（word）\n",
    "\n",
    "# 如果没有，字典里加入a这个key值，并将value值设为空列表\n",
    "\n",
    "# 再对这个空列表执行append（word）"
   ]
  },
  {
   "cell_type": "markdown",
   "metadata": {},
   "source": [
    "书上的代码理解了，对setdefault还存在两个疑问\n",
    "\n",
    "一是这个默认value的类型\n",
    "\n",
    "二是对value执行的方法\n",
    "\n",
    "要想测试这个，你要熟悉所有的数据类型，及方法\n",
    "\n",
    "https://www.cnblogs.com/littlefivebolg/p/8982889.html\n",
    "\n",
    "企者不立，跨者不行\n",
    "\n",
    "我们踏踏实实针对每个类型\n",
    "\n",
    "试一下基础款、进阶款公式\n",
    "\n",
    "不可变类型：int、float、bool、str、tuple\n",
    "       \n",
    "可变类型：list、dict、set\n"
   ]
  },
  {
   "cell_type": "markdown",
   "metadata": {},
   "source": [
    "a. value为int"
   ]
  },
  {
   "cell_type": "code",
   "execution_count": 213,
   "metadata": {},
   "outputs": [
    {
     "name": "stdout",
     "output_type": "stream",
     "text": [
      "{0: 10, 1: 20, 3: <class 'int'>, 2: 0}\n"
     ]
    }
   ],
   "source": [
    "dict_v_int = {0: 10, 1: 20}\n",
    "\n",
    "dict_v_int.setdefault(3, int) # 我最初的错误\n",
    "\n",
    "dict_v_int.setdefault(2, 0) # N先生更正\n",
    "    \n",
    "print(dict_v_int)"
   ]
  },
  {
   "cell_type": "code",
   "execution_count": 201,
   "metadata": {},
   "outputs": [
    {
     "name": "stdout",
     "output_type": "stream",
     "text": [
      "{0: 10, 1: 20}\n"
     ]
    },
    {
     "data": {
      "text/plain": [
       "4"
      ]
     },
     "execution_count": 201,
     "metadata": {},
     "output_type": "execute_result"
    }
   ],
   "source": [
    "dict_v_int_2 = {0: 10, 1: 20}\n",
    "\n",
    "a_int = dict_v_int_2.setdefault(0, 0).bit_length()\n",
    "\n",
    "## 将数字转换为二进制，并返回位数\n",
    "\n",
    "## 十进制10  = 8*1+4*0+2*1+1*0= 二进制1010\n",
    "    \n",
    "print(dict_v_int_2)\n",
    "\n",
    "a_int"
   ]
  },
  {
   "cell_type": "markdown",
   "metadata": {},
   "source": [
    "太成功了！！\n",
    "\n",
    "耶！\n",
    "\n",
    "![0303](https://github.com/HanMENG15990045033/photos-for-document/blob/master/0303_chenggong.jpg)\n",
    "\n",
    "如果这个成功，其他的理论上都可以\n",
    "\n",
    "value为float、bool意思一样\n",
    "\n",
    "b. value为str"
   ]
  },
  {
   "cell_type": "code",
   "execution_count": 164,
   "metadata": {},
   "outputs": [
    {
     "name": "stdout",
     "output_type": "stream",
     "text": [
      "{0: 'a', 1: 'b', 2: ''}\n"
     ]
    }
   ],
   "source": [
    "dict_v_str = {0: 'a', 1: 'b'} ## 测试字符串\n",
    "\n",
    "dict_v_str.setdefault(2, '') ## 基础款\n",
    "    \n",
    "print(dict_v_str)"
   ]
  },
  {
   "cell_type": "code",
   "execution_count": 158,
   "metadata": {},
   "outputs": [
    {
     "name": "stdout",
     "output_type": "stream",
     "text": [
      "{0: 'a', 1: 'b'}\n"
     ]
    },
    {
     "data": {
      "text/plain": [
       "'A'"
      ]
     },
     "execution_count": 158,
     "metadata": {},
     "output_type": "execute_result"
    }
   ],
   "source": [
    "dict_v_str_2 = {0: 'a', 1: 'b'}\n",
    "\n",
    "a = dict_v_str_2.setdefault(0, '').upper() \n",
    "\n",
    "## 进阶款\n",
    "    \n",
    "print(dict_v_str_2) \n",
    "\n",
    "a"
   ]
  },
  {
   "cell_type": "markdown",
   "metadata": {},
   "source": [
    "c. value为tuple\n",
    "\n",
    "   元组为不可修改类型，能进行的操作也不多呀"
   ]
  },
  {
   "cell_type": "code",
   "execution_count": 170,
   "metadata": {},
   "outputs": [
    {
     "name": "stdout",
     "output_type": "stream",
     "text": [
      "{0: ('a',), 1: ('b', 'c'), 2: ()}\n"
     ]
    },
    {
     "data": {
      "text/plain": [
       "('a',)"
      ]
     },
     "execution_count": 170,
     "metadata": {},
     "output_type": "execute_result"
    }
   ],
   "source": [
    "dict_v_tup = {0: ('a',), 1: ('b', 'c')}\n",
    "\n",
    "dict_v_tup.setdefault(2, ())\n",
    "\n",
    "a_tup = dict_v_tup.setdefault(0, ())\n",
    "    \n",
    "print(dict_v_tup) \n",
    "\n",
    "a_tup"
   ]
  },
  {
   "cell_type": "markdown",
   "metadata": {},
   "source": [
    "d. list例题里见过了，直接看dict"
   ]
  },
  {
   "cell_type": "code",
   "execution_count": 175,
   "metadata": {},
   "outputs": [
    {
     "name": "stdout",
     "output_type": "stream",
     "text": [
      "{'a': {'eg': 'apple'}, 'b': {'eg': 'bar'}, 'c': {'eg': 'cat'}, 'd': {'eg': 'dog'}}\n"
     ]
    }
   ],
   "source": [
    "words = ['apple', 'bat', 'bar', 'cat','dog']\n",
    "by_letter_5 = {}\n",
    "for word in words:\n",
    "    letter = word[0]\n",
    "    by_letter_5.setdefault(letter, {}).update(eg=word)\n",
    "    ## 但这个eg默认是个字符串，没有办法传递变量\n",
    "    \n",
    "print(by_letter_5)"
   ]
  },
  {
   "cell_type": "markdown",
   "metadata": {},
   "source": [
    "e. set作为默认的value类型\n",
    "\n",
    "set为可变类型\n",
    "\n",
    "关于set的具体操作后面会介绍\n",
    "\n",
    "这里简单看一眼"
   ]
  },
  {
   "cell_type": "code",
   "execution_count": 215,
   "metadata": {},
   "outputs": [
    {
     "name": "stdout",
     "output_type": "stream",
     "text": [
      "{0: {1, 2, 3}, 1: {4, 5}, 2: <class 'set'>, 6: set()}\n"
     ]
    }
   ],
   "source": [
    "dict_v_set = {0: {1, 2, 3}, 1: {4, 5}}\n",
    "\n",
    "dict_v_set.setdefault(2, set).union({7,8}) # 我最初的错误\n",
    "## 直接输入大阔号会被默认为字典\n",
    "## 输入set是类型，不是空集合\n",
    "\n",
    "dict_v_set.setdefault(6, set()).union({7,8}) # N先生的更正\n",
    "\n",
    "print(dict_v_set) "
   ]
  },
  {
   "cell_type": "code",
   "execution_count": 203,
   "metadata": {},
   "outputs": [
    {
     "name": "stdout",
     "output_type": "stream",
     "text": [
      "{0: {1, 2, 3}, 1: {4, 5}, 2: set()}\n"
     ]
    },
    {
     "data": {
      "text/plain": [
       "{1, 2, 3, 7, 8}"
      ]
     },
     "execution_count": 203,
     "metadata": {},
     "output_type": "execute_result"
    }
   ],
   "source": [
    "a_set = dict_v_set.setdefault(0, set()).union({7,8})\n",
    "print(dict_v_set) \n",
    "a_set"
   ]
  },
  {
   "cell_type": "code",
   "execution_count": 204,
   "metadata": {},
   "outputs": [
    {
     "name": "stdout",
     "output_type": "stream",
     "text": [
      "{0: {1, 2, 3, 7, 8}, 1: {4, 5}, 2: set()}\n"
     ]
    }
   ],
   "source": [
    "dict_v_set.setdefault(0, set()).update({7,8})\n",
    "print(dict_v_set) "
   ]
  },
  {
   "cell_type": "code",
   "execution_count": 205,
   "metadata": {},
   "outputs": [
    {
     "name": "stdout",
     "output_type": "stream",
     "text": [
      "{0: {1, 2, 3, 7, 8}, 1: {4, 5}, 2: {8, 7}}\n"
     ]
    }
   ],
   "source": [
    "dict_v_set.setdefault(2, set()).update({7,8})\n",
    "print(dict_v_set) "
   ]
  },
  {
   "cell_type": "markdown",
   "metadata": {},
   "source": [
    "为什么呢？\n",
    "\n",
    "int与0，set与set（）有什么区别呢\n",
    "\n",
    "![0304](https://github.com/HanMENG15990045033/photos-for-document/blob/master/0304_yi.png)"
   ]
  },
  {
   "cell_type": "code",
   "execution_count": 207,
   "metadata": {},
   "outputs": [
    {
     "data": {
      "text/plain": [
       "type"
      ]
     },
     "execution_count": 207,
     "metadata": {},
     "output_type": "execute_result"
    }
   ],
   "source": [
    "type(set)"
   ]
  },
  {
   "cell_type": "code",
   "execution_count": 209,
   "metadata": {},
   "outputs": [
    {
     "data": {
      "text/plain": [
       "set"
      ]
     },
     "execution_count": 209,
     "metadata": {},
     "output_type": "execute_result"
    }
   ],
   "source": [
    "type(set())"
   ]
  },
  {
   "cell_type": "markdown",
   "metadata": {},
   "source": [
    "set() 表示空集合，set表示set类型\n",
    "\n",
    "这里表示的是值\n",
    "\n",
    "用set的话，变成了<class 'set'> 即值为类型，该类型叫set\n",
    "\n",
    "用set()就表示是一个值  set类型的空值\n",
    "\n",
    "以上含泪感谢N先生的提示！！\n",
    "\n",
    "整个setdefault理论终于没有瑕疵了TT"
   ]
  },
  {
   "cell_type": "markdown",
   "metadata": {},
   "source": [
    "3. defaultdict\n",
    "\n",
    "内建集合的一个类，来吧\n",
    "\n",
    "![0305](https://github.com/HanMENG15990045033/photos-for-document/blob/master/0305_dainifei.png)\n",
    "\n",
    "get是方法\n",
    "\n",
    "setdefault是函数\n",
    "\n",
    "defauldict是类\n"
   ]
  },
  {
   "cell_type": "code",
   "execution_count": 192,
   "metadata": {},
   "outputs": [
    {
     "name": "stdout",
     "output_type": "stream",
     "text": [
      "defaultdict(<class 'list'>, {'a': ['apple'], 'b': ['bat', 'bar'], 'c': ['cat'], 'd': ['dog']})\n"
     ]
    }
   ],
   "source": [
    "from collections import defaultdict # 导入\n",
    "\n",
    "by_letter_6 = defaultdict(list)\n",
    "## 调用类，定义一个实例\n",
    "## 可以理解为空字典\n",
    "## 但是默认了key，默认了value的类型为list\n",
    "\n",
    "for word in words:\n",
    "    by_letter_6[word[0]].append(word)\n",
    "    ## 空字典[key值].append(value列表的一个元素)\n",
    "    \n",
    "print(by_letter_6)"
   ]
  },
  {
   "cell_type": "markdown",
   "metadata": {},
   "source": [
    "#### 3.1.4.3 有效的字典键类型\n",
    "\n",
    "\n",
    "妈呀，第三章对我来说真是全程高能\n",
    "\n",
    "![0306](https://github.com/HanMENG15990045033/photos-for-document/blob/master/0306.png)\n",
    "\n",
    "字典，{key: value}\n",
    "\n",
    "value可以是任何Python对象\n",
    "\n",
    "key必须是不可变的对象\n",
    "\n",
    "如int, float, str, tup\n",
    "\n",
    "其中tup的对象也必须是不可变\n",
    "\n",
    "为了检验一个东西是否能作为字典的键\n",
    "\n",
    "引入hash函数，也叫是否能够哈希化\n"
   ]
  },
  {
   "cell_type": "code",
   "execution_count": 106,
   "metadata": {},
   "outputs": [
    {
     "data": {
      "text/plain": [
       "-3246335748821269447"
      ]
     },
     "execution_count": 106,
     "metadata": {},
     "output_type": "execute_result"
    }
   ],
   "source": [
    "hash('string')"
   ]
  },
  {
   "cell_type": "code",
   "execution_count": 107,
   "metadata": {},
   "outputs": [
    {
     "data": {
      "text/plain": [
       "1097636502276347782"
      ]
     },
     "execution_count": 107,
     "metadata": {},
     "output_type": "execute_result"
    }
   ],
   "source": [
    "hash((1, 2, (2, 3)))"
   ]
  },
  {
   "cell_type": "markdown",
   "metadata": {},
   "source": [
    "输出的结果不仅与对象的值有关\n",
    "\n",
    "也与对象的id地址，也就是存放的位置有关\n",
    "\n",
    "不论如和，他是一个固定长度的数\n",
    "\n",
    "只要不报错 应该就可以哈希化\n",
    "\n",
    "https://www.runoob.com/python/python-func-hash.html"
   ]
  },
  {
   "cell_type": "code",
   "execution_count": 108,
   "metadata": {},
   "outputs": [
    {
     "ename": "TypeError",
     "evalue": "unhashable type: 'list'",
     "output_type": "error",
     "traceback": [
      "\u001b[1;31m---------------------------------------------------------------------------\u001b[0m",
      "\u001b[1;31mTypeError\u001b[0m                                 Traceback (most recent call last)",
      "\u001b[1;32m<ipython-input-108-8ffc25aff872>\u001b[0m in \u001b[0;36m<module>\u001b[1;34m\u001b[0m\n\u001b[1;32m----> 1\u001b[1;33m \u001b[0mhash\u001b[0m\u001b[1;33m(\u001b[0m\u001b[1;33m(\u001b[0m\u001b[1;36m1\u001b[0m\u001b[1;33m,\u001b[0m \u001b[1;36m2\u001b[0m\u001b[1;33m,\u001b[0m \u001b[1;33m[\u001b[0m\u001b[1;36m2\u001b[0m\u001b[1;33m,\u001b[0m \u001b[1;36m3\u001b[0m\u001b[1;33m]\u001b[0m\u001b[1;33m)\u001b[0m\u001b[1;33m)\u001b[0m\u001b[1;33m\u001b[0m\u001b[1;33m\u001b[0m\u001b[0m\n\u001b[0m",
      "\u001b[1;31mTypeError\u001b[0m: unhashable type: 'list'"
     ]
    }
   ],
   "source": [
    "hash((1, 2, [2, 3]))"
   ]
  },
  {
   "cell_type": "markdown",
   "metadata": {},
   "source": [
    "那想用列表得值做key\n",
    "\n",
    "就得转换为元组"
   ]
  },
  {
   "cell_type": "code",
   "execution_count": 193,
   "metadata": {},
   "outputs": [
    {
     "data": {
      "text/plain": [
       "{(1, 2, 3): 5}"
      ]
     },
     "execution_count": 193,
     "metadata": {},
     "output_type": "execute_result"
    }
   ],
   "source": [
    "d = {}\n",
    "d[tuple([1, 2, 3])] = 5\n",
    "d"
   ]
  },
  {
   "cell_type": "markdown",
   "metadata": {},
   "source": [
    "总结\n",
    "\n",
    "可以哈希化\n",
    "\n",
    "不可变类型：int、float、bool、str、tuple\n",
    "\n",
    "不可以哈希化：\n",
    "       \n",
    "可变类型：list、dict、set"
   ]
  },
  {
   "cell_type": "markdown",
   "metadata": {},
   "source": [
    "### 3.1.5 集合\n",
    "\n",
    "集合也是一种装东西的容器\n",
    "\n",
    "跟数学上的集合是一个概念\n",
    "\n",
    "这就很简单了，记住集合就是两个圈\n",
    "\n",
    "特点：无序、元素唯一\n",
    "\n",
    "类似于没有key值得字典\n",
    "\n",
    "创建：set 或 {}"
   ]
  },
  {
   "cell_type": "code",
   "execution_count": 110,
   "metadata": {},
   "outputs": [
    {
     "data": {
      "text/plain": [
       "{1, 2, 3, 4, 5}"
      ]
     },
     "execution_count": 110,
     "metadata": {},
     "output_type": "execute_result"
    }
   ],
   "source": [
    "set([1, 2, 3, 4, 5, 3, 3])"
   ]
  },
  {
   "cell_type": "code",
   "execution_count": 111,
   "metadata": {},
   "outputs": [
    {
     "data": {
      "text/plain": [
       "{1, 2, 3, 4, 5}"
      ]
     },
     "execution_count": 111,
     "metadata": {},
     "output_type": "execute_result"
    }
   ],
   "source": [
    "{1, 2, 3, 4, 5, 3, 3}"
   ]
  },
  {
   "cell_type": "markdown",
   "metadata": {},
   "source": [
    "卧。。集合支持数学上的集合操作\n",
    "\n",
    "有两种方式 看一下"
   ]
  },
  {
   "cell_type": "code",
   "execution_count": 112,
   "metadata": {},
   "outputs": [],
   "source": [
    "a = {1, 2, 3, 4, 5}"
   ]
  },
  {
   "cell_type": "code",
   "execution_count": 113,
   "metadata": {},
   "outputs": [],
   "source": [
    "b = {1, 3, 5, 7, 9}"
   ]
  },
  {
   "cell_type": "code",
   "execution_count": 114,
   "metadata": {},
   "outputs": [
    {
     "data": {
      "text/plain": [
       "{1, 2, 3, 4, 5, 7, 9}"
      ]
     },
     "execution_count": 114,
     "metadata": {},
     "output_type": "execute_result"
    }
   ],
   "source": [
    "a.union(b) ## 并"
   ]
  },
  {
   "cell_type": "code",
   "execution_count": 115,
   "metadata": {},
   "outputs": [
    {
     "data": {
      "text/plain": [
       "{1, 2, 3, 4, 5, 7, 9}"
      ]
     },
     "execution_count": 115,
     "metadata": {},
     "output_type": "execute_result"
    }
   ],
   "source": [
    "a | b ## 并"
   ]
  },
  {
   "cell_type": "code",
   "execution_count": 116,
   "metadata": {},
   "outputs": [
    {
     "data": {
      "text/plain": [
       "{1, 3, 5}"
      ]
     },
     "execution_count": 116,
     "metadata": {},
     "output_type": "execute_result"
    }
   ],
   "source": [
    "a.intersection(b) ## 交"
   ]
  },
  {
   "cell_type": "code",
   "execution_count": 117,
   "metadata": {},
   "outputs": [
    {
     "data": {
      "text/plain": [
       "{1, 3, 5}"
      ]
     },
     "execution_count": 117,
     "metadata": {},
     "output_type": "execute_result"
    }
   ],
   "source": [
    "a & b ## 交"
   ]
  },
  {
   "cell_type": "code",
   "execution_count": 118,
   "metadata": {},
   "outputs": [
    {
     "data": {
      "text/plain": [
       "{2, 4}"
      ]
     },
     "execution_count": 118,
     "metadata": {},
     "output_type": "execute_result"
    }
   ],
   "source": [
    "a.difference(b)## 在a不在b"
   ]
  },
  {
   "cell_type": "code",
   "execution_count": 119,
   "metadata": {},
   "outputs": [
    {
     "data": {
      "text/plain": [
       "{2, 4}"
      ]
     },
     "execution_count": 119,
     "metadata": {},
     "output_type": "execute_result"
    }
   ],
   "source": [
    "a - b ## 在a不在b"
   ]
  },
  {
   "cell_type": "code",
   "execution_count": 120,
   "metadata": {},
   "outputs": [
    {
     "data": {
      "text/plain": [
       "{2, 4, 7, 9}"
      ]
     },
     "execution_count": 120,
     "metadata": {},
     "output_type": "execute_result"
    }
   ],
   "source": [
    "a.symmetric_difference(b) ## 对称的意思，不同时在"
   ]
  },
  {
   "cell_type": "code",
   "execution_count": 121,
   "metadata": {},
   "outputs": [
    {
     "data": {
      "text/plain": [
       "{2, 4, 7, 9}"
      ]
     },
     "execution_count": 121,
     "metadata": {},
     "output_type": "execute_result"
    }
   ],
   "source": [
    "a ^ b ## 不同时在ab"
   ]
  },
  {
   "cell_type": "markdown",
   "metadata": {},
   "source": [
    "等等，自己用到的时候再查\n",
    "\n",
    "另外 符号后面有个等号\n",
    "\n",
    "a |= b 这种形式，将ab的并集赋给a\n",
    "\n",
    "名称也是在原来的后面加一个_update\n",
    "\n",
    "书上推荐的格式\n",
    "\n",
    "说是效率更高"
   ]
  },
  {
   "cell_type": "code",
   "execution_count": 122,
   "metadata": {},
   "outputs": [
    {
     "data": {
      "text/plain": [
       "{1, 2, 3, 4, 5, 7, 9}"
      ]
     },
     "execution_count": 122,
     "metadata": {},
     "output_type": "execute_result"
    }
   ],
   "source": [
    "c = a.copy()\n",
    "c.update(b)  ## 并集赋给c\n",
    "c"
   ]
  },
  {
   "cell_type": "code",
   "execution_count": 123,
   "metadata": {},
   "outputs": [
    {
     "data": {
      "text/plain": [
       "{1, 2, 3, 4, 5, 7, 9}"
      ]
     },
     "execution_count": 123,
     "metadata": {},
     "output_type": "execute_result"
    }
   ],
   "source": [
    "c = a.copy()\n",
    "c |= b  ## 并集赋给c\n",
    "c"
   ]
  },
  {
   "cell_type": "code",
   "execution_count": 124,
   "metadata": {},
   "outputs": [
    {
     "data": {
      "text/plain": [
       "{1, 3, 5}"
      ]
     },
     "execution_count": 124,
     "metadata": {},
     "output_type": "execute_result"
    }
   ],
   "source": [
    "d = a.copy()\n",
    "d.intersection_update(b)## 交并更新\n",
    "d"
   ]
  },
  {
   "cell_type": "code",
   "execution_count": 125,
   "metadata": {},
   "outputs": [
    {
     "data": {
      "text/plain": [
       "{1, 3, 5}"
      ]
     },
     "execution_count": 125,
     "metadata": {},
     "output_type": "execute_result"
    }
   ],
   "source": [
    "d = a.copy()\n",
    "d &= b ## 交并更新\n",
    "d"
   ]
  },
  {
   "cell_type": "code",
   "execution_count": 126,
   "metadata": {},
   "outputs": [
    {
     "data": {
      "text/plain": [
       "{2, 4}"
      ]
     },
     "execution_count": 126,
     "metadata": {},
     "output_type": "execute_result"
    }
   ],
   "source": [
    "e = a.copy()\n",
    "e.difference_update(b) ## 在a不在b\n",
    "e"
   ]
  },
  {
   "cell_type": "code",
   "execution_count": 127,
   "metadata": {},
   "outputs": [
    {
     "data": {
      "text/plain": [
       "{2, 4}"
      ]
     },
     "execution_count": 127,
     "metadata": {},
     "output_type": "execute_result"
    }
   ],
   "source": [
    "e = a.copy()\n",
    "e -= b ## 在a不在b\n",
    "e"
   ]
  },
  {
   "cell_type": "code",
   "execution_count": 128,
   "metadata": {},
   "outputs": [
    {
     "data": {
      "text/plain": [
       "{2, 4, 7, 9}"
      ]
     },
     "execution_count": 128,
     "metadata": {},
     "output_type": "execute_result"
    }
   ],
   "source": [
    "f = a.copy()\n",
    "f.symmetric_difference_update(b) ## 不同时在ab\n",
    "f"
   ]
  },
  {
   "cell_type": "code",
   "execution_count": 129,
   "metadata": {},
   "outputs": [
    {
     "data": {
      "text/plain": [
       "{2, 4, 7, 9}"
      ]
     },
     "execution_count": 129,
     "metadata": {},
     "output_type": "execute_result"
    }
   ],
   "source": [
    "f = a.copy()\n",
    "f ^= b ## 不同时在ab\n",
    "f"
   ]
  },
  {
   "cell_type": "markdown",
   "metadata": {},
   "source": [
    "除了交并补这些操作\n",
    "\n",
    "还有用来判断包含关系的语句"
   ]
  },
  {
   "cell_type": "code",
   "execution_count": 130,
   "metadata": {},
   "outputs": [],
   "source": [
    "a = {1, 2, 3, 4, 5}\n",
    "b = {1, 3}\n",
    "c = {9, 8}"
   ]
  },
  {
   "cell_type": "markdown",
   "metadata": {},
   "source": [
    "集合相等，元素一样"
   ]
  },
  {
   "cell_type": "code",
   "execution_count": 131,
   "metadata": {},
   "outputs": [
    {
     "data": {
      "text/plain": [
       "True"
      ]
     },
     "execution_count": 131,
     "metadata": {},
     "output_type": "execute_result"
    }
   ],
   "source": [
    "b == {3, 1} ## 所谓无序，顺序不同，元素相同就是相等"
   ]
  },
  {
   "cell_type": "code",
   "execution_count": 132,
   "metadata": {},
   "outputs": [
    {
     "data": {
      "text/plain": [
       "False"
      ]
     },
     "execution_count": 132,
     "metadata": {},
     "output_type": "execute_result"
    }
   ],
   "source": [
    "a.issubset(b) ## a是b的子集"
   ]
  },
  {
   "cell_type": "code",
   "execution_count": 133,
   "metadata": {},
   "outputs": [
    {
     "data": {
      "text/plain": [
       "True"
      ]
     },
     "execution_count": 133,
     "metadata": {},
     "output_type": "execute_result"
    }
   ],
   "source": [
    "b.issubset(a) ## b是a的子集"
   ]
  },
  {
   "cell_type": "code",
   "execution_count": 134,
   "metadata": {},
   "outputs": [
    {
     "data": {
      "text/plain": [
       "True"
      ]
     },
     "execution_count": 134,
     "metadata": {},
     "output_type": "execute_result"
    }
   ],
   "source": [
    "a.issuperset(b) ## a包含b"
   ]
  },
  {
   "cell_type": "code",
   "execution_count": 135,
   "metadata": {},
   "outputs": [
    {
     "data": {
      "text/plain": [
       "False"
      ]
     },
     "execution_count": 135,
     "metadata": {},
     "output_type": "execute_result"
    }
   ],
   "source": [
    "b.issuperset(a) ## b包含a"
   ]
  },
  {
   "cell_type": "code",
   "execution_count": 136,
   "metadata": {},
   "outputs": [
    {
     "data": {
      "text/plain": [
       "False"
      ]
     },
     "execution_count": 136,
     "metadata": {},
     "output_type": "execute_result"
    }
   ],
   "source": [
    "a.isdisjoint(b) ## ab无交集"
   ]
  },
  {
   "cell_type": "code",
   "execution_count": 137,
   "metadata": {},
   "outputs": [
    {
     "data": {
      "text/plain": [
       "True"
      ]
     },
     "execution_count": 137,
     "metadata": {},
     "output_type": "execute_result"
    }
   ],
   "source": [
    "a.isdisjoint(c) ## ac无交集"
   ]
  },
  {
   "cell_type": "markdown",
   "metadata": {},
   "source": [
    "点播一首你和我和他之间\n",
    "\n",
    "![0307](https://github.com/HanMENG15990045033/photos-for-document/blob/master/0307_nihewoheta.jpg)\n",
    "\n",
    "\n",
    "\n",
    "爱你（づ￣3￣）づ╭❤～"
   ]
  }
 ],
 "metadata": {
  "kernelspec": {
   "display_name": "Python 3",
   "language": "python",
   "name": "python3"
  },
  "language_info": {
   "codemirror_mode": {
    "name": "ipython",
    "version": 3
   },
   "file_extension": ".py",
   "mimetype": "text/x-python",
   "name": "python",
   "nbconvert_exporter": "python",
   "pygments_lexer": "ipython3",
   "version": "3.7.3"
  }
 },
 "nbformat": 4,
 "nbformat_minor": 2
}
