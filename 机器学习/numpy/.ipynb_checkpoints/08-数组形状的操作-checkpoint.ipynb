{
 "cells": [
  {
   "cell_type": "code",
   "execution_count": 2,
   "metadata": {},
   "outputs": [],
   "source": [
    "import numpy as np"
   ]
  },
  {
   "cell_type": "code",
   "execution_count": 3,
   "metadata": {},
   "outputs": [
    {
     "data": {
      "text/plain": [
       "array([[1, 6, 8, 7],\n",
       "       [8, 9, 9, 5],\n",
       "       [7, 4, 6, 5]])"
      ]
     },
     "execution_count": 3,
     "metadata": {},
     "output_type": "execute_result"
    }
   ],
   "source": [
    "a1 = np.random.randint(0,10,size=(3,4))\n",
    "a1"
   ]
  },
  {
   "cell_type": "code",
   "execution_count": 4,
   "metadata": {},
   "outputs": [
    {
     "data": {
      "text/plain": [
       "array([[1, 6, 8, 7, 8, 9],\n",
       "       [9, 5, 7, 4, 6, 5]])"
      ]
     },
     "execution_count": 4,
     "metadata": {},
     "output_type": "execute_result"
    }
   ],
   "source": [
    "a1.reshape((2,6))"
   ]
  },
  {
   "cell_type": "code",
   "execution_count": 5,
   "metadata": {},
   "outputs": [
    {
     "data": {
      "text/plain": [
       "array([[1, 6, 8, 7],\n",
       "       [8, 9, 9, 5],\n",
       "       [7, 4, 6, 5]])"
      ]
     },
     "execution_count": 5,
     "metadata": {},
     "output_type": "execute_result"
    }
   ],
   "source": [
    "a1"
   ]
  },
  {
   "cell_type": "code",
   "execution_count": 6,
   "metadata": {},
   "outputs": [],
   "source": [
    "a1.resize((4,3))"
   ]
  },
  {
   "cell_type": "code",
   "execution_count": 7,
   "metadata": {},
   "outputs": [
    {
     "data": {
      "text/plain": [
       "array([[1, 6, 8],\n",
       "       [7, 8, 9],\n",
       "       [9, 5, 7],\n",
       "       [4, 6, 5]])"
      ]
     },
     "execution_count": 7,
     "metadata": {},
     "output_type": "execute_result"
    }
   ],
   "source": [
    "a1"
   ]
  },
  {
   "cell_type": "code",
   "execution_count": 9,
   "metadata": {},
   "outputs": [
    {
     "name": "stdout",
     "output_type": "stream",
     "text": [
      "[[3 6 5 9]\n",
      " [4 0 8 9]\n",
      " [4 6 2 1]]\n"
     ]
    }
   ],
   "source": [
    "# flatten和ravel函数：\n",
    "a2 = np.random.randint(0,10,size=(3,4))\n",
    "print(a2)"
   ]
  },
  {
   "cell_type": "code",
   "execution_count": 18,
   "metadata": {},
   "outputs": [
    {
     "name": "stdout",
     "output_type": "stream",
     "text": [
      "3\n"
     ]
    }
   ],
   "source": [
    "a3 = a2.flatten()\n",
    "a3[0] = 100\n",
    "print(a2[0,0])"
   ]
  },
  {
   "cell_type": "code",
   "execution_count": 19,
   "metadata": {},
   "outputs": [
    {
     "name": "stdout",
     "output_type": "stream",
     "text": [
      "100\n"
     ]
    }
   ],
   "source": [
    "a4 = a2.ravel()\n",
    "a4[0] = 100\n",
    "print(a2[0,0])"
   ]
  },
  {
   "cell_type": "code",
   "execution_count": 22,
   "metadata": {},
   "outputs": [
    {
     "data": {
      "text/plain": [
       "array([[3, 6, 5, 9],\n",
       "       [4, 0, 8, 9],\n",
       "       [4, 6, 2, 1]])"
      ]
     },
     "execution_count": 22,
     "metadata": {},
     "output_type": "execute_result"
    }
   ],
   "source": [
    "a2"
   ]
  },
  {
   "cell_type": "code",
   "execution_count": 43,
   "metadata": {},
   "outputs": [
    {
     "data": {
      "text/plain": [
       "array([[6, 2, 5, 2],\n",
       "       [4, 2, 5, 7],\n",
       "       [0, 1, 9, 9]])"
      ]
     },
     "execution_count": 43,
     "metadata": {},
     "output_type": "execute_result"
    }
   ],
   "source": [
    "vstack1 = np.random.randint(0,10,size=(3,4))\n",
    "vstack1"
   ]
  },
  {
   "cell_type": "code",
   "execution_count": 56,
   "metadata": {},
   "outputs": [
    {
     "data": {
      "text/plain": [
       "array([[3, 1, 7, 8],\n",
       "       [7, 0, 9, 2]])"
      ]
     },
     "execution_count": 56,
     "metadata": {},
     "output_type": "execute_result"
    }
   ],
   "source": [
    "vstack2 = np.random.randint(0,10,size=(2,4))\n",
    "vstack2"
   ]
  },
  {
   "cell_type": "code",
   "execution_count": 58,
   "metadata": {},
   "outputs": [
    {
     "data": {
      "text/plain": [
       "array([[6, 2, 5, 2],\n",
       "       [4, 2, 5, 7],\n",
       "       [0, 1, 9, 9],\n",
       "       [3, 1, 7, 8],\n",
       "       [7, 0, 9, 2]])"
      ]
     },
     "execution_count": 58,
     "metadata": {},
     "output_type": "execute_result"
    }
   ],
   "source": [
    "# vstack3 = np.vstack([vstack1,vstack2])\n",
    "vstack3 = np.concatenate([vstack1,vstack2],axis=0)\n",
    "vstack3"
   ]
  },
  {
   "cell_type": "code",
   "execution_count": 49,
   "metadata": {},
   "outputs": [
    {
     "data": {
      "text/plain": [
       "array([[0, 6, 0, 6],\n",
       "       [4, 0, 3, 5],\n",
       "       [2, 3, 4, 2]])"
      ]
     },
     "execution_count": 49,
     "metadata": {},
     "output_type": "execute_result"
    }
   ],
   "source": [
    "h1 = np.random.randint(0,10,size=(3,4))\n",
    "h1"
   ]
  },
  {
   "cell_type": "code",
   "execution_count": 54,
   "metadata": {},
   "outputs": [
    {
     "data": {
      "text/plain": [
       "array([[5],\n",
       "       [8],\n",
       "       [3]])"
      ]
     },
     "execution_count": 54,
     "metadata": {},
     "output_type": "execute_result"
    }
   ],
   "source": [
    "h2 = np.random.randint(0,10,size=(3,1))\n",
    "h2"
   ]
  },
  {
   "cell_type": "code",
   "execution_count": 59,
   "metadata": {},
   "outputs": [
    {
     "data": {
      "text/plain": [
       "array([[5, 0, 6, 0, 6],\n",
       "       [8, 4, 0, 3, 5],\n",
       "       [3, 2, 3, 4, 2]])"
      ]
     },
     "execution_count": 59,
     "metadata": {},
     "output_type": "execute_result"
    }
   ],
   "source": [
    "# h3 = np.hstack([h2,h1])\n",
    "h3 = np.concatenate([h2,h1],axis=1)\n",
    "h3"
   ]
  },
  {
   "cell_type": "code",
   "execution_count": 69,
   "metadata": {},
   "outputs": [
    {
     "name": "stdout",
     "output_type": "stream",
     "text": [
      "[[5 8 6 7]\n",
      " [9 6 8 8]\n",
      " [2 2 2 8]]\n"
     ]
    }
   ],
   "source": [
    "hs1 = np.random.randint(0,10,size=(3,4))\n",
    "print(hs1)"
   ]
  },
  {
   "cell_type": "code",
   "execution_count": 70,
   "metadata": {},
   "outputs": [
    {
     "data": {
      "text/plain": [
       "[array([[5, 8],\n",
       "        [9, 6],\n",
       "        [2, 2]]), array([[6, 7],\n",
       "        [8, 8],\n",
       "        [2, 8]])]"
      ]
     },
     "execution_count": 70,
     "metadata": {},
     "output_type": "execute_result"
    }
   ],
   "source": [
    "np.hsplit(hs1,2)"
   ]
  },
  {
   "cell_type": "code",
   "execution_count": 72,
   "metadata": {},
   "outputs": [
    {
     "data": {
      "text/plain": [
       "[array([[5],\n",
       "        [9],\n",
       "        [2]]), array([[8],\n",
       "        [6],\n",
       "        [2]]), array([[6, 7],\n",
       "        [8, 8],\n",
       "        [2, 8]])]"
      ]
     },
     "execution_count": 72,
     "metadata": {},
     "output_type": "execute_result"
    }
   ],
   "source": [
    "np.hsplit(hs1,(1,2))"
   ]
  },
  {
   "cell_type": "code",
   "execution_count": 73,
   "metadata": {},
   "outputs": [
    {
     "name": "stdout",
     "output_type": "stream",
     "text": [
      "[[8 2 5 6 6]\n",
      " [7 9 3 8 0]\n",
      " [5 9 1 1 2]\n",
      " [2 0 4 3 9]]\n"
     ]
    }
   ],
   "source": [
    "vs1 = np.random.randint(0,10,size=(4,5))\n",
    "print(vs1)"
   ]
  },
  {
   "cell_type": "code",
   "execution_count": 74,
   "metadata": {},
   "outputs": [
    {
     "data": {
      "text/plain": [
       "[array([[8, 2, 5, 6, 6]]),\n",
       " array([[7, 9, 3, 8, 0]]),\n",
       " array([[5, 9, 1, 1, 2]]),\n",
       " array([[2, 0, 4, 3, 9]])]"
      ]
     },
     "execution_count": 74,
     "metadata": {},
     "output_type": "execute_result"
    }
   ],
   "source": [
    "np.vsplit(vs1,4)"
   ]
  },
  {
   "cell_type": "code",
   "execution_count": 75,
   "metadata": {},
   "outputs": [
    {
     "data": {
      "text/plain": [
       "[array([[8, 2, 5, 6, 6]]), array([[7, 9, 3, 8, 0],\n",
       "        [5, 9, 1, 1, 2]]), array([[2, 0, 4, 3, 9]])]"
      ]
     },
     "execution_count": 75,
     "metadata": {},
     "output_type": "execute_result"
    }
   ],
   "source": [
    "np.vsplit(vs1,(1,3))"
   ]
  },
  {
   "cell_type": "code",
   "execution_count": 76,
   "metadata": {},
   "outputs": [
    {
     "data": {
      "text/plain": [
       "[array([[5],\n",
       "        [9],\n",
       "        [2]]), array([[8],\n",
       "        [6],\n",
       "        [2]]), array([[6],\n",
       "        [8],\n",
       "        [2]]), array([[7],\n",
       "        [8],\n",
       "        [8]])]"
      ]
     },
     "execution_count": 76,
     "metadata": {},
     "output_type": "execute_result"
    }
   ],
   "source": [
    "np.split(hs1,4,axis=1)"
   ]
  },
  {
   "cell_type": "code",
   "execution_count": 80,
   "metadata": {},
   "outputs": [
    {
     "data": {
      "text/plain": [
       "[array([[8, 2, 5, 6, 6]]),\n",
       " array([[7, 9, 3, 8, 0]]),\n",
       " array([[5, 9, 1, 1, 2]]),\n",
       " array([[2, 0, 4, 3, 9]])]"
      ]
     },
     "execution_count": 80,
     "metadata": {},
     "output_type": "execute_result"
    }
   ],
   "source": [
    "np.split(vs1,4,axis=0)"
   ]
  },
  {
   "cell_type": "code",
   "execution_count": 134,
   "metadata": {},
   "outputs": [
    {
     "name": "stdout",
     "output_type": "stream",
     "text": [
      "[[9 7 3 3]\n",
      " [9 3 4 0]]\n"
     ]
    }
   ],
   "source": [
    "t1 = np.random.randint(0,10,size=(2,4))\n",
    "print(t1)"
   ]
  },
  {
   "cell_type": "code",
   "execution_count": 135,
   "metadata": {},
   "outputs": [
    {
     "data": {
      "text/plain": [
       "array([[9, 9],\n",
       "       [7, 3],\n",
       "       [3, 4],\n",
       "       [3, 0]])"
      ]
     },
     "execution_count": 135,
     "metadata": {},
     "output_type": "execute_result"
    }
   ],
   "source": [
    "t1.T"
   ]
  },
  {
   "cell_type": "code",
   "execution_count": 136,
   "metadata": {},
   "outputs": [
    {
     "data": {
      "text/plain": [
       "array([[148, 114],\n",
       "       [114, 106]])"
      ]
     },
     "execution_count": 136,
     "metadata": {},
     "output_type": "execute_result"
    }
   ],
   "source": [
    "t1.dot(t1.T)"
   ]
  },
  {
   "cell_type": "code",
   "execution_count": 141,
   "metadata": {},
   "outputs": [
    {
     "data": {
      "text/plain": [
       "array([[100,   7,   3,   3],\n",
       "       [100,   3,   4,   0]])"
      ]
     },
     "execution_count": 141,
     "metadata": {},
     "output_type": "execute_result"
    }
   ],
   "source": [
    "t2 = t1.transpose()\n",
    "t2[0] = 100\n",
    "t1"
   ]
  },
  {
   "cell_type": "code",
   "execution_count": null,
   "metadata": {},
   "outputs": [],
   "source": []
  },
  {
   "cell_type": "code",
   "execution_count": null,
   "metadata": {},
   "outputs": [],
   "source": []
  },
  {
   "cell_type": "markdown",
   "metadata": {},
   "source": [
    "# 总结：\n",
    "\n",
    "### 数组的形状改变：\n",
    "1. reshape和resize都是重新定义形状的。但是reshape不会修改数组本身，而是将修改后的结果返回回去，而resize是直接修改数组本书的。\n",
    "2. flatten和ravel都是用来将数组边成一维数组的，并且他们都不会对原数组造成修改，但是flatten返回的是一个拷贝，所以对flatten的返回值的修改不会影响到原来数组，而ravel返回的是一个View，那么对返回值的修改会影响到原来数组的值。\n",
    "\n",
    "### 数组的叠加：\n",
    "1. hstack代表在水平方向叠加，如果想要叠加成功，那么他们的行必须一致。\n",
    "2. vstack代表在垂直方向叠加，如果想要叠加成功，那么他们的列必须一致。\n",
    "3. concatenate可以手动的指定axis参数具体在哪个方向叠加，如果axis=0，代表在水平方向叠加，如果axis=1，代表在垂直方向叠加，如果axis=None，那么会先进行叠加，再转换成1维数组。\n",
    "\n",
    "### 数组的切割：\n",
    "1. hsplit代表在水平方向切割，按列进行切割的。他的切割方式有两种，第一种就是直接指定平均切割成多少列，第二种就是指定切割的下标值。\n",
    "2. vsplit代表在垂直方向切割，按行进行切割。他的切割方式跟hsplit是一样的。\n",
    "3. split/array_split是手动的指定axis参数，axis=0,代表按行进行切割，axis=1，代表按列进行切割。\n",
    "\n",
    "### 矩阵转置：\n",
    "1. 可以通过ndarray.T的形式进行转置。\n",
    "2. 也可以通过ndarray.transpose()进行转置，这个方法返回的是一个View，所以对返回值上进行修改，会影响到原来的数组。"
   ]
  }
 ],
 "metadata": {
  "kernelspec": {
   "display_name": "Python 3",
   "language": "python",
   "name": "python3"
  },
  "language_info": {
   "codemirror_mode": {
    "name": "ipython",
    "version": 3
   },
   "file_extension": ".py",
   "mimetype": "text/x-python",
   "name": "python",
   "nbconvert_exporter": "python",
   "pygments_lexer": "ipython3",
   "version": "3.7.1"
  }
 },
 "nbformat": 4,
 "nbformat_minor": 2
}
