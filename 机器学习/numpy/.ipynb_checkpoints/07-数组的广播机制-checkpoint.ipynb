{
 "cells": [
  {
   "cell_type": "code",
   "execution_count": 2,
   "metadata": {},
   "outputs": [],
   "source": [
    "import numpy as np"
   ]
  },
  {
   "cell_type": "code",
   "execution_count": 3,
   "metadata": {},
   "outputs": [
    {
     "data": {
      "text/plain": [
       "array([[1, 2, 4, 2, 2],\n",
       "       [3, 2, 2, 3, 0],\n",
       "       [1, 0, 4, 2, 3]])"
      ]
     },
     "execution_count": 3,
     "metadata": {},
     "output_type": "execute_result"
    }
   ],
   "source": [
    "a1 = np.random.randint(0,5,size=(3,5))\n",
    "a1"
   ]
  },
  {
   "cell_type": "code",
   "execution_count": 4,
   "metadata": {},
   "outputs": [
    {
     "data": {
      "text/plain": [
       "array([[2, 4, 8, 4, 4],\n",
       "       [6, 4, 4, 6, 0],\n",
       "       [2, 0, 8, 4, 6]])"
      ]
     },
     "execution_count": 4,
     "metadata": {},
     "output_type": "execute_result"
    }
   ],
   "source": [
    "a1*2"
   ]
  },
  {
   "cell_type": "code",
   "execution_count": 5,
   "metadata": {},
   "outputs": [
    {
     "data": {
      "text/plain": [
       "array([[3, 4, 0, 1, 4],\n",
       "       [1, 1, 0, 1, 1],\n",
       "       [0, 1, 3, 0, 2]])"
      ]
     },
     "execution_count": 5,
     "metadata": {},
     "output_type": "execute_result"
    }
   ],
   "source": [
    "a2 = np.random.randint(0,5,size=(3,5))\n",
    "a2"
   ]
  },
  {
   "cell_type": "code",
   "execution_count": 6,
   "metadata": {},
   "outputs": [
    {
     "data": {
      "text/plain": [
       "array([[4, 6, 4, 3, 6],\n",
       "       [4, 3, 2, 4, 1],\n",
       "       [1, 1, 7, 2, 5]])"
      ]
     },
     "execution_count": 6,
     "metadata": {},
     "output_type": "execute_result"
    }
   ],
   "source": [
    "a1+a2"
   ]
  },
  {
   "cell_type": "code",
   "execution_count": 7,
   "metadata": {},
   "outputs": [
    {
     "data": {
      "text/plain": [
       "array([[3, 2, 4, 3],\n",
       "       [1, 1, 1, 2],\n",
       "       [1, 1, 3, 4]])"
      ]
     },
     "execution_count": 7,
     "metadata": {},
     "output_type": "execute_result"
    }
   ],
   "source": [
    "a3 = np.random.randint(0,5,size=(3,4))\n",
    "a3"
   ]
  },
  {
   "cell_type": "code",
   "execution_count": 8,
   "metadata": {},
   "outputs": [
    {
     "ename": "ValueError",
     "evalue": "operands could not be broadcast together with shapes (3,5) (3,4) ",
     "output_type": "error",
     "traceback": [
      "\u001b[1;31m---------------------------------------------------------------------------\u001b[0m",
      "\u001b[1;31mValueError\u001b[0m                                Traceback (most recent call last)",
      "\u001b[1;32m<ipython-input-8-f3952d2e37d2>\u001b[0m in \u001b[0;36m<module>\u001b[1;34m\u001b[0m\n\u001b[1;32m----> 1\u001b[1;33m \u001b[0ma1\u001b[0m\u001b[1;33m+\u001b[0m\u001b[0ma3\u001b[0m\u001b[1;33m\u001b[0m\u001b[1;33m\u001b[0m\u001b[0m\n\u001b[0m",
      "\u001b[1;31mValueError\u001b[0m: operands could not be broadcast together with shapes (3,5) (3,4) "
     ]
    }
   ],
   "source": [
    "a1+a3"
   ]
  },
  {
   "cell_type": "code",
   "execution_count": 12,
   "metadata": {},
   "outputs": [
    {
     "name": "stdout",
     "output_type": "stream",
     "text": [
      "[[1 2 4 2 2]\n",
      " [3 2 2 3 0]\n",
      " [1 0 4 2 3]]\n",
      "==============================\n",
      "[[0]\n",
      " [0]\n",
      " [2]]\n"
     ]
    }
   ],
   "source": [
    "a4 = np.random.randint(0,5,size=(3,1))\n",
    "print(a1)\n",
    "print('='*30)\n",
    "print(a4)"
   ]
  },
  {
   "cell_type": "code",
   "execution_count": 13,
   "metadata": {},
   "outputs": [
    {
     "data": {
      "text/plain": [
       "array([[1, 2, 4, 2, 2],\n",
       "       [3, 2, 2, 3, 0],\n",
       "       [3, 2, 6, 4, 5]])"
      ]
     },
     "execution_count": 13,
     "metadata": {},
     "output_type": "execute_result"
    }
   ],
   "source": [
    "a1+a4"
   ]
  },
  {
   "cell_type": "code",
   "execution_count": 14,
   "metadata": {},
   "outputs": [
    {
     "name": "stdout",
     "output_type": "stream",
     "text": [
      "[[1 2 4 2 2]\n",
      " [3 2 2 3 0]\n",
      " [1 0 4 2 3]]\n",
      "==============================\n",
      "[[2 3 3 4 2]]\n"
     ]
    }
   ],
   "source": [
    "a5 = np.random.randint(0,5,size=(1,5))\n",
    "print(a1)\n",
    "print(\"=\"*30)\n",
    "print(a5)"
   ]
  },
  {
   "cell_type": "code",
   "execution_count": 15,
   "metadata": {},
   "outputs": [
    {
     "data": {
      "text/plain": [
       "array([[3, 5, 7, 6, 4],\n",
       "       [5, 5, 5, 7, 2],\n",
       "       [3, 3, 7, 6, 5]])"
      ]
     },
     "execution_count": 15,
     "metadata": {},
     "output_type": "execute_result"
    }
   ],
   "source": [
    "a1+a5"
   ]
  },
  {
   "cell_type": "code",
   "execution_count": 20,
   "metadata": {},
   "outputs": [
    {
     "name": "stdout",
     "output_type": "stream",
     "text": [
      "[[[1 4]\n",
      "  [1 0]\n",
      "  [2 0]\n",
      "  [3 0]\n",
      "  [4 3]\n",
      "  [0 2]\n",
      "  [4 3]\n",
      "  [3 2]]\n",
      "\n",
      " [[4 4]\n",
      "  [4 1]\n",
      "  [1 4]\n",
      "  [2 1]\n",
      "  [2 3]\n",
      "  [1 1]\n",
      "  [4 0]\n",
      "  [0 3]]\n",
      "\n",
      " [[2 3]\n",
      "  [1 1]\n",
      "  [2 0]\n",
      "  [0 2]\n",
      "  [2 4]\n",
      "  [4 3]\n",
      "  [1 0]\n",
      "  [4 1]]]\n",
      "==============================\n",
      "[[4 3]\n",
      " [2 2]\n",
      " [1 2]\n",
      " [0 2]\n",
      " [4 0]\n",
      " [3 0]\n",
      " [0 1]\n",
      " [1 2]]\n",
      "==============================\n",
      "[[[5 7]\n",
      "  [3 2]\n",
      "  [3 2]\n",
      "  [3 2]\n",
      "  [8 3]\n",
      "  [3 2]\n",
      "  [4 4]\n",
      "  [4 4]]\n",
      "\n",
      " [[8 7]\n",
      "  [6 3]\n",
      "  [2 6]\n",
      "  [2 3]\n",
      "  [6 3]\n",
      "  [4 1]\n",
      "  [4 1]\n",
      "  [1 5]]\n",
      "\n",
      " [[6 6]\n",
      "  [3 3]\n",
      "  [3 2]\n",
      "  [0 4]\n",
      "  [6 4]\n",
      "  [7 3]\n",
      "  [1 1]\n",
      "  [5 3]]]\n"
     ]
    }
   ],
   "source": [
    "a6 = np.random.randint(0,5,size=(3,8,2))\n",
    "a7 = np.random.randint(0,5,size=(8,2))\n",
    "print(a6)\n",
    "print(\"=\"*30)\n",
    "print(a7)\n",
    "print(\"=\"*30)\n",
    "print(a6+a7)"
   ]
  },
  {
   "cell_type": "markdown",
   "metadata": {},
   "source": [
    "# 总结：\n",
    "1. 数组和数字直接进行运算是没有问题的。\n",
    "2. 两个shape相同的数组是可以进行运算的。\n",
    "3. 如果两个shape不同的数组，想要进行运算，那么需要看他们是否满足广播原则。\n",
    "4. 如果两个数组的后缘维度（trailing dimension，即从末尾开始算起的维度）的轴长度相符或其中一方的长度为1，则认为他们是广播兼容的。广播会在缺失和（或）长度为1的维度上进行。"
   ]
  }
 ],
 "metadata": {
  "kernelspec": {
   "display_name": "Python 3",
   "language": "python",
   "name": "python3"
  },
  "language_info": {
   "codemirror_mode": {
    "name": "ipython",
    "version": 3
   },
   "file_extension": ".py",
   "mimetype": "text/x-python",
   "name": "python",
   "nbconvert_exporter": "python",
   "pygments_lexer": "ipython3",
   "version": "3.7.1"
  }
 },
 "nbformat": 4,
 "nbformat_minor": 2
}
