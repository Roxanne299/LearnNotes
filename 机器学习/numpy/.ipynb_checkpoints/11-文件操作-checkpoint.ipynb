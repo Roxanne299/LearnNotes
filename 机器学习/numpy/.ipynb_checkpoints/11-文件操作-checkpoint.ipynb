{
 "cells": [
  {
   "cell_type": "code",
   "execution_count": 1,
   "metadata": {},
   "outputs": [],
   "source": [
    "import numpy as np"
   ]
  },
  {
   "cell_type": "code",
   "execution_count": 4,
   "metadata": {},
   "outputs": [
    {
     "data": {
      "text/plain": [
       "array([[33, 45],\n",
       "       [35,  7],\n",
       "       [27, 41],\n",
       "       [46, 72],\n",
       "       [28, 85],\n",
       "       [64, 71],\n",
       "       [25, 39],\n",
       "       [65,  6],\n",
       "       [10, 71],\n",
       "       [41, 74],\n",
       "       [92, 14],\n",
       "       [13, 75],\n",
       "       [37, 49],\n",
       "       [94, 74],\n",
       "       [31, 57],\n",
       "       [57, 90],\n",
       "       [47, 49],\n",
       "       [ 5, 53],\n",
       "       [55, 94],\n",
       "       [17, 49]])"
      ]
     },
     "execution_count": 4,
     "metadata": {},
     "output_type": "execute_result"
    }
   ],
   "source": [
    "scores = np.random.randint(0,100,size=(20,2))\n",
    "scores"
   ]
  },
  {
   "cell_type": "code",
   "execution_count": 13,
   "metadata": {},
   "outputs": [],
   "source": [
    "np.savetxt(\"score.csv\",scores,delimiter=\",\",header=\"英语,数学\",comments=\"\",fmt=\"%d\")\n",
    "# help(np.savetxt)"
   ]
  },
  {
   "cell_type": "code",
   "execution_count": 16,
   "metadata": {},
   "outputs": [
    {
     "data": {
      "text/plain": [
       "array([[33, 45],\n",
       "       [35,  7],\n",
       "       [27, 41],\n",
       "       [46, 72],\n",
       "       [28, 85],\n",
       "       [64, 71],\n",
       "       [25, 39],\n",
       "       [65,  6],\n",
       "       [10, 71],\n",
       "       [41, 74],\n",
       "       [92, 14],\n",
       "       [13, 75],\n",
       "       [37, 49],\n",
       "       [94, 74],\n",
       "       [31, 57],\n",
       "       [57, 90],\n",
       "       [47, 49],\n",
       "       [ 5, 53],\n",
       "       [55, 94],\n",
       "       [17, 49]])"
      ]
     },
     "execution_count": 16,
     "metadata": {},
     "output_type": "execute_result"
    }
   ],
   "source": [
    "b = np.loadtxt(\"score.csv\",dtype=np.int,delimiter=\",\",skiprows=1)\n",
    "b"
   ]
  },
  {
   "cell_type": "code",
   "execution_count": 17,
   "metadata": {},
   "outputs": [],
   "source": [
    "c = np.random.randint(0,10,size=(2,3))\n",
    "np.save(\"c\",c)"
   ]
  },
  {
   "cell_type": "code",
   "execution_count": 19,
   "metadata": {},
   "outputs": [
    {
     "data": {
      "text/plain": [
       "array([[8, 3, 3],\n",
       "       [8, 0, 1]])"
      ]
     },
     "execution_count": 19,
     "metadata": {},
     "output_type": "execute_result"
    }
   ],
   "source": [
    "c1 = np.load(\"c.npy\")\n",
    "c1"
   ]
  },
  {
   "cell_type": "code",
   "execution_count": 22,
   "metadata": {},
   "outputs": [],
   "source": [
    "d = np.random.randint(0,10,size=(2,3,4))\n",
    "# np.savetxt(\"d.csv\",d)\n",
    "np.save(\"d\",d)"
   ]
  },
  {
   "cell_type": "markdown",
   "metadata": {},
   "source": [
    "# 总结：\n",
    "1. np.savetxt和np.loadtxt一般用来操作csv文件，他可以设置header，但是不能存储3维以上的数组。\n",
    "2. np.save和np.load一般用来存储非文本类型的文件，他不可以设置header，但是可以存储3维以上的数组。\n",
    "3. 如果想专门的操作CSV文件，其实还有另外一个模块叫做csv，这个模块是python内置的，不需要安装。"
   ]
  }
 ],
 "metadata": {
  "kernelspec": {
   "display_name": "Python 3",
   "language": "python",
   "name": "python3"
  },
  "language_info": {
   "codemirror_mode": {
    "name": "ipython",
    "version": 3
   },
   "file_extension": ".py",
   "mimetype": "text/x-python",
   "name": "python",
   "nbconvert_exporter": "python",
   "pygments_lexer": "ipython3",
   "version": "3.7.1"
  }
 },
 "nbformat": 4,
 "nbformat_minor": 2
}
