{
 "cells": [
  {
   "cell_type": "code",
   "execution_count": 1,
   "metadata": {},
   "outputs": [],
   "source": [
    "import numpy as np"
   ]
  },
  {
   "cell_type": "code",
   "execution_count": 2,
   "metadata": {},
   "outputs": [
    {
     "data": {
      "text/plain": [
       "array([[-6.71149229, -2.17809525,  8.57545287, -5.31680944, -5.84956773],\n",
       "       [-8.57309185, -5.76927816, -9.8563885 ,  2.79138433, -1.8064904 ],\n",
       "       [-6.96541888, -2.77797572, -6.22511018, -7.55583726,  0.24365377]])"
      ]
     },
     "execution_count": 2,
     "metadata": {},
     "output_type": "execute_result"
    }
   ],
   "source": [
    "a = np.random.uniform(-10,10,size=(3,5))\n",
    "a"
   ]
  },
  {
   "cell_type": "code",
   "execution_count": 3,
   "metadata": {},
   "outputs": [
    {
     "data": {
      "text/plain": [
       "array([[6.71149229, 2.17809525, 8.57545287, 5.31680944, 5.84956773],\n",
       "       [8.57309185, 5.76927816, 9.8563885 , 2.79138433, 1.8064904 ],\n",
       "       [6.96541888, 2.77797572, 6.22511018, 7.55583726, 0.24365377]])"
      ]
     },
     "execution_count": 3,
     "metadata": {},
     "output_type": "execute_result"
    }
   ],
   "source": [
    "# 1. np.abs\n",
    "np.abs(a)"
   ]
  },
  {
   "cell_type": "code",
   "execution_count": 4,
   "metadata": {},
   "outputs": [
    {
     "name": "stderr",
     "output_type": "stream",
     "text": [
      "D:\\ProgramApp\\Anaconda3\\lib\\site-packages\\ipykernel_launcher.py:2: RuntimeWarning: invalid value encountered in sqrt\n",
      "  \n"
     ]
    },
    {
     "data": {
      "text/plain": [
       "array([[       nan,        nan, 2.92838742,        nan,        nan],\n",
       "       [       nan,        nan,        nan, 1.67074364,        nan],\n",
       "       [       nan,        nan,        nan,        nan, 0.49361298]])"
      ]
     },
     "execution_count": 4,
     "metadata": {},
     "output_type": "execute_result"
    }
   ],
   "source": [
    "# 2. np.sqrt\n",
    "np.sqrt(a)"
   ]
  },
  {
   "cell_type": "code",
   "execution_count": 5,
   "metadata": {},
   "outputs": [
    {
     "data": {
      "text/plain": [
       "array([[4.50441288e+01, 4.74409890e+00, 7.35383919e+01, 2.82684626e+01,\n",
       "        3.42174426e+01],\n",
       "       [7.34979038e+01, 3.32845704e+01, 9.71483943e+01, 7.79182645e+00,\n",
       "        3.26340755e+00],\n",
       "       [4.85170601e+01, 7.71714912e+00, 3.87519968e+01, 5.70906766e+01,\n",
       "        5.93671608e-02]])"
      ]
     },
     "execution_count": 5,
     "metadata": {},
     "output_type": "execute_result"
    }
   ],
   "source": [
    "# 3. np.square\n",
    "np.square(a)"
   ]
  },
  {
   "cell_type": "code",
   "execution_count": 6,
   "metadata": {},
   "outputs": [
    {
     "data": {
      "text/plain": [
       "array([[1.21684688e-03, 1.13257052e-01, 5.29995109e+03, 4.90838930e-03,\n",
       "        2.88114432e-03],\n",
       "       [1.89126993e-04, 3.12201031e-03, 5.24112914e-05, 1.63035736e+01,\n",
       "        1.64229507e-01],\n",
       "       [9.43967446e-04, 6.21642176e-02, 1.97910575e-03, 5.23048034e-04,\n",
       "        1.27590250e+00]])"
      ]
     },
     "execution_count": 6,
     "metadata": {},
     "output_type": "execute_result"
    }
   ],
   "source": [
    "# 4. np.exp\n",
    "np.exp(a)"
   ]
  },
  {
   "cell_type": "code",
   "execution_count": 7,
   "metadata": {},
   "outputs": [
    {
     "name": "stderr",
     "output_type": "stream",
     "text": [
      "D:\\ProgramApp\\Anaconda3\\lib\\site-packages\\ipykernel_launcher.py:2: RuntimeWarning: invalid value encountered in log\n",
      "  \n"
     ]
    },
    {
     "data": {
      "text/plain": [
       "array([[        nan,         nan,  2.1489038 ,         nan,         nan],\n",
       "       [        nan,         nan,         nan,  1.02653765,         nan],\n",
       "       [        nan,         nan,         nan,         nan, -1.41200703]])"
      ]
     },
     "execution_count": 7,
     "metadata": {},
     "output_type": "execute_result"
    }
   ],
   "source": [
    "# 5. np.log\n",
    "np.log(a)"
   ]
  },
  {
   "cell_type": "code",
   "execution_count": 8,
   "metadata": {},
   "outputs": [
    {
     "data": {
      "text/plain": [
       "array([[-1., -1.,  1., -1., -1.],\n",
       "       [-1., -1., -1.,  1., -1.],\n",
       "       [-1., -1., -1., -1.,  1.]])"
      ]
     },
     "execution_count": 8,
     "metadata": {},
     "output_type": "execute_result"
    }
   ],
   "source": [
    "# 6. np.sign\n",
    "np.sign(a)"
   ]
  },
  {
   "cell_type": "code",
   "execution_count": 9,
   "metadata": {},
   "outputs": [
    {
     "data": {
      "text/plain": [
       "array([[-6., -2.,  9., -5., -5.],\n",
       "       [-8., -5., -9.,  3., -1.],\n",
       "       [-6., -2., -6., -7.,  1.]])"
      ]
     },
     "execution_count": 9,
     "metadata": {},
     "output_type": "execute_result"
    }
   ],
   "source": [
    "# 7. np.ceil\n",
    "np.ceil(a)"
   ]
  },
  {
   "cell_type": "code",
   "execution_count": 10,
   "metadata": {},
   "outputs": [
    {
     "data": {
      "text/plain": [
       "array([[ -7.,  -3.,   8.,  -6.,  -6.],\n",
       "       [ -9.,  -6., -10.,   2.,  -2.],\n",
       "       [ -7.,  -3.,  -7.,  -8.,   0.]])"
      ]
     },
     "execution_count": 10,
     "metadata": {},
     "output_type": "execute_result"
    }
   ],
   "source": [
    "# 8. np.floor\n",
    "np.floor(a)"
   ]
  },
  {
   "cell_type": "code",
   "execution_count": 11,
   "metadata": {},
   "outputs": [
    {
     "data": {
      "text/plain": [
       "array([[ -7.,  -2.,   9.,  -5.,  -6.],\n",
       "       [ -9.,  -6., -10.,   3.,  -2.],\n",
       "       [ -7.,  -3.,  -6.,  -8.,   0.]])"
      ]
     },
     "execution_count": 11,
     "metadata": {},
     "output_type": "execute_result"
    }
   ],
   "source": [
    "# 8. np.rint或者np.round\n",
    "np.rint(a)"
   ]
  },
  {
   "cell_type": "code",
   "execution_count": 13,
   "metadata": {},
   "outputs": [
    {
     "data": {
      "text/plain": [
       "array([[-6., -2.,  8., -5., -5.],\n",
       "       [-8., -5., -9.,  2., -1.],\n",
       "       [-6., -2., -6., -7.,  0.]])"
      ]
     },
     "execution_count": 13,
     "metadata": {},
     "output_type": "execute_result"
    }
   ],
   "source": [
    "# 9. np.modf\n",
    "np.modf(a)[1]"
   ]
  },
  {
   "cell_type": "code",
   "execution_count": 14,
   "metadata": {},
   "outputs": [
    {
     "data": {
      "text/plain": [
       "array([[-0.41533131, -0.82119239,  0.7508348 ,  0.82283158,  0.42015632],\n",
       "       [-0.75239214,  0.49158346,  0.41833419,  0.3430935 , -0.9723525 ],\n",
       "       [-0.63052822, -0.35565699,  0.05804249, -0.95588322,  0.24125008]])"
      ]
     },
     "execution_count": 14,
     "metadata": {},
     "output_type": "execute_result"
    }
   ],
   "source": [
    "# 10. np.sin\n",
    "np.sin(a)"
   ]
  },
  {
   "cell_type": "code",
   "execution_count": 21,
   "metadata": {},
   "outputs": [
    {
     "data": {
      "text/plain": [
       "array([[-5.71149229, -1.17809525,  9.57545287, -4.31680944, -4.84956773],\n",
       "       [-7.57309185, -4.76927816, -8.8563885 ,  3.79138433, -0.8064904 ],\n",
       "       [-5.96541888, -1.77797572, -5.22511018, -6.55583726,  1.24365377]])"
      ]
     },
     "execution_count": 21,
     "metadata": {},
     "output_type": "execute_result"
    }
   ],
   "source": [
    "a+1"
   ]
  },
  {
   "cell_type": "code",
   "execution_count": 24,
   "metadata": {},
   "outputs": [
    {
     "data": {
      "text/plain": [
       "array([[-4.71149229, -0.17809525, 10.57545287, -3.31680944, -3.84956773],\n",
       "       [-6.57309185, -3.76927816, -7.8563885 ,  4.79138433,  0.1935096 ],\n",
       "       [-5.96541888, -1.77797572, -5.22511018, -6.55583726,  1.24365377]])"
      ]
     },
     "execution_count": 24,
     "metadata": {},
     "output_type": "execute_result"
    }
   ],
   "source": [
    "np.add(a,np.random.randint(0,5,size=(3,1)))"
   ]
  },
  {
   "cell_type": "code",
   "execution_count": 27,
   "metadata": {},
   "outputs": [
    {
     "data": {
      "text/plain": [
       "array([8.57545287, 2.79138433, 0.24365377])"
      ]
     },
     "execution_count": 27,
     "metadata": {},
     "output_type": "execute_result"
    }
   ],
   "source": [
    "# a[a > 0]\n",
    "a[np.greater(a,0)]"
   ]
  },
  {
   "cell_type": "code",
   "execution_count": 29,
   "metadata": {},
   "outputs": [
    {
     "data": {
      "text/plain": [
       "array([2.79138433, 0.24365377])"
      ]
     },
     "execution_count": 29,
     "metadata": {},
     "output_type": "execute_result"
    }
   ],
   "source": [
    "# a[(a > 0) & (a < 5)]\n",
    "a[np.logical_and(a>0,a<5)]"
   ]
  },
  {
   "cell_type": "code",
   "execution_count": 33,
   "metadata": {},
   "outputs": [
    {
     "data": {
      "text/plain": [
       "array([-6.71149229, -2.17809525,  8.57545287, -5.31680944, -5.84956773,\n",
       "       -8.57309185, -5.76927816, -9.8563885 , -1.8064904 , -6.96541888,\n",
       "       -2.77797572, -6.22511018, -7.55583726])"
      ]
     },
     "execution_count": 33,
     "metadata": {},
     "output_type": "execute_result"
    }
   ],
   "source": [
    "# a[(a > 5) | (a < 0)]\n",
    "a[np.logical_or(a>5,a<0)]"
   ]
  },
  {
   "cell_type": "markdown",
   "metadata": {},
   "source": [
    "# 聚合函数"
   ]
  },
  {
   "cell_type": "code",
   "execution_count": 47,
   "metadata": {},
   "outputs": [
    {
     "data": {
      "text/plain": [
       "array([-22.25000302, -10.72534913,  -7.50604581, -10.08126237,\n",
       "        -7.41240435])"
      ]
     },
     "execution_count": 47,
     "metadata": {},
     "output_type": "execute_result"
    }
   ],
   "source": [
    "# 1. sum\n",
    "np.sum(a,axis=0)"
   ]
  },
  {
   "cell_type": "code",
   "execution_count": 48,
   "metadata": {},
   "outputs": [
    {
     "data": {
      "text/plain": [
       "array([-400.77794201,  -34.90814664,  526.16495724,  112.13813404,\n",
       "          2.5747352 ])"
      ]
     },
     "execution_count": 48,
     "metadata": {},
     "output_type": "execute_result"
    }
   ],
   "source": [
    "np.prod(a,axis=0)"
   ]
  },
  {
   "cell_type": "code",
   "execution_count": 51,
   "metadata": {},
   "outputs": [
    {
     "data": {
      "text/plain": [
       "array([-7.41666767, -3.57511638, -2.50201527, -3.36042079, -2.47080145])"
      ]
     },
     "execution_count": 51,
     "metadata": {},
     "output_type": "execute_result"
    }
   ],
   "source": [
    "np.mean(a,axis=0)"
   ]
  },
  {
   "cell_type": "code",
   "execution_count": 53,
   "metadata": {},
   "outputs": [
    {
     "data": {
      "text/plain": [
       "array([0.82426021, 1.5707161 , 7.97200397, 4.44498527, 2.53151061])"
      ]
     },
     "execution_count": 53,
     "metadata": {},
     "output_type": "execute_result"
    }
   ],
   "source": [
    "np.std(a,axis=0)"
   ]
  },
  {
   "cell_type": "code",
   "execution_count": 57,
   "metadata": {},
   "outputs": [
    {
     "name": "stdout",
     "output_type": "stream",
     "text": [
      "[[-6.71149229 -2.17809525  8.57545287 -5.31680944 -5.84956773]\n",
      " [-8.57309185 -5.76927816 -9.8563885   2.79138433 -1.8064904 ]\n",
      " [-6.96541888 -2.77797572 -6.22511018 -7.55583726  0.24365377]]\n",
      "[-8.57309185 -5.76927816 -9.8563885  -7.55583726 -5.84956773]\n",
      "[1 1 1 2 0]\n"
     ]
    }
   ],
   "source": [
    "print(a)\n",
    "print(np.min(a,axis=0))\n",
    "print(np.argmin(a,axis=0))"
   ]
  },
  {
   "cell_type": "code",
   "execution_count": 58,
   "metadata": {},
   "outputs": [
    {
     "data": {
      "text/plain": [
       "-5.76927815516961"
      ]
     },
     "execution_count": 58,
     "metadata": {},
     "output_type": "execute_result"
    }
   ],
   "source": [
    "np.median(a)"
   ]
  },
  {
   "cell_type": "code",
   "execution_count": 59,
   "metadata": {},
   "outputs": [
    {
     "name": "stdout",
     "output_type": "stream",
     "text": [
      "Wall time: 160 ms\n"
     ]
    },
    {
     "name": "stderr",
     "output_type": "stream",
     "text": [
      "D:\\ProgramApp\\Anaconda3\\lib\\site-packages\\ipykernel_launcher.py:1: RuntimeWarning: overflow encountered in long_scalars\n",
      "  \"\"\"Entry point for launching an IPython kernel.\n"
     ]
    },
    {
     "data": {
      "text/plain": [
       "1783293664"
      ]
     },
     "execution_count": 59,
     "metadata": {},
     "output_type": "execute_result"
    }
   ],
   "source": [
    "%time sum(np.arange(1000000))"
   ]
  },
  {
   "cell_type": "code",
   "execution_count": 60,
   "metadata": {},
   "outputs": [
    {
     "name": "stdout",
     "output_type": "stream",
     "text": [
      "Wall time: 3.99 ms\n"
     ]
    },
    {
     "data": {
      "text/plain": [
       "1783293664"
      ]
     },
     "execution_count": 60,
     "metadata": {},
     "output_type": "execute_result"
    }
   ],
   "source": [
    "%time np.sum(np.arange(1000000))"
   ]
  },
  {
   "cell_type": "markdown",
   "metadata": {},
   "source": [
    "# 布尔判断函数："
   ]
  },
  {
   "cell_type": "code",
   "execution_count": 73,
   "metadata": {},
   "outputs": [
    {
     "data": {
      "text/plain": [
       "True"
      ]
     },
     "execution_count": 73,
     "metadata": {},
     "output_type": "execute_result"
    }
   ],
   "source": [
    "b = np.arange(0,10)\n",
    "b.any()"
   ]
  },
  {
   "cell_type": "code",
   "execution_count": 77,
   "metadata": {},
   "outputs": [
    {
     "data": {
      "text/plain": [
       "True"
      ]
     },
     "execution_count": 77,
     "metadata": {},
     "output_type": "execute_result"
    }
   ],
   "source": [
    "(a>=0).any()"
   ]
  },
  {
   "cell_type": "code",
   "execution_count": 81,
   "metadata": {},
   "outputs": [
    {
     "data": {
      "text/plain": [
       "array([[-6.71149229, -2.17809525,  8.57545287, -5.31680944, -5.84956773],\n",
       "       [-8.57309185, -5.76927816, -9.8563885 ,  2.79138433, -1.8064904 ],\n",
       "       [-6.96541888, -2.77797572, -6.22511018, -7.55583726,  0.24365377]])"
      ]
     },
     "execution_count": 81,
     "metadata": {},
     "output_type": "execute_result"
    }
   ],
   "source": [
    "np.sort(a,axis=0)"
   ]
  },
  {
   "cell_type": "code",
   "execution_count": 82,
   "metadata": {},
   "outputs": [
    {
     "data": {
      "text/plain": [
       "array([[2, 8, 4, 3, 7],\n",
       "       [3, 4, 4, 2, 9],\n",
       "       [9, 9, 5, 5, 2]])"
      ]
     },
     "execution_count": 82,
     "metadata": {},
     "output_type": "execute_result"
    }
   ],
   "source": [
    "b = np.random.randint(0,10,size=(3,5))\n",
    "b"
   ]
  },
  {
   "cell_type": "code",
   "execution_count": 83,
   "metadata": {},
   "outputs": [],
   "source": [
    "b.sort()"
   ]
  },
  {
   "cell_type": "code",
   "execution_count": 84,
   "metadata": {},
   "outputs": [
    {
     "data": {
      "text/plain": [
       "array([[2, 3, 4, 7, 8],\n",
       "       [2, 3, 4, 4, 9],\n",
       "       [2, 5, 5, 9, 9]])"
      ]
     },
     "execution_count": 84,
     "metadata": {},
     "output_type": "execute_result"
    }
   ],
   "source": [
    "b"
   ]
  },
  {
   "cell_type": "code",
   "execution_count": 88,
   "metadata": {},
   "outputs": [
    {
     "data": {
      "text/plain": [
       "array([[1, 1, 1, 2, 0],\n",
       "       [2, 2, 2, 0, 1],\n",
       "       [0, 0, 0, 1, 2]], dtype=int64)"
      ]
     },
     "execution_count": 88,
     "metadata": {},
     "output_type": "execute_result"
    }
   ],
   "source": [
    "np.argsort(a,axis=0)"
   ]
  },
  {
   "cell_type": "code",
   "execution_count": 90,
   "metadata": {},
   "outputs": [
    {
     "data": {
      "text/plain": [
       "array([[ 8.57545287, -2.17809525, -5.31680944, -5.84956773, -6.71149229],\n",
       "       [ 2.79138433, -1.8064904 , -5.76927816, -8.57309185, -9.8563885 ],\n",
       "       [ 0.24365377, -2.77797572, -6.22511018, -6.96541888, -7.55583726]])"
      ]
     },
     "execution_count": 90,
     "metadata": {},
     "output_type": "execute_result"
    }
   ],
   "source": [
    "-np.sort(-a)"
   ]
  },
  {
   "cell_type": "code",
   "execution_count": 91,
   "metadata": {},
   "outputs": [
    {
     "data": {
      "text/plain": [
       "array([[ 8.57545287, -2.17809525, -5.31680944, -5.84956773, -6.71149229],\n",
       "       [-5.31680944, -5.84956773, -2.17809525, -6.71149229,  8.57545287],\n",
       "       [-5.84956773, -2.17809525,  8.57545287, -6.71149229, -5.31680944]])"
      ]
     },
     "execution_count": 91,
     "metadata": {},
     "output_type": "execute_result"
    }
   ],
   "source": [
    "indexes = np.argsort(-a)\n",
    "np.take(a,indexes)"
   ]
  },
  {
   "cell_type": "markdown",
   "metadata": {},
   "source": [
    "# 其他函数补充："
   ]
  },
  {
   "cell_type": "code",
   "execution_count": 92,
   "metadata": {},
   "outputs": [
    {
     "data": {
      "text/plain": [
       "array([[31,  1, 69,  3, 92, 95, 47, 61, 51, 15, 41, 63, 27, 88, 30, 49,\n",
       "        90, 93, 21, 89],\n",
       "       [82, 39, 25, 20, 15, 88, 83, 91, 83, 61, 10,  0, 33, 11, 36, 95,\n",
       "        50, 54, 41, 27],\n",
       "       [11, 71, 17, 66, 83, 30, 26, 10, 26, 58, 29, 28, 86, 57, 29, 49,\n",
       "        57, 31, 74, 35]])"
      ]
     },
     "execution_count": 92,
     "metadata": {},
     "output_type": "execute_result"
    }
   ],
   "source": [
    "# 1. apply_along_axis：\n",
    "c = np.random.randint(0,100,size=(3,20))\n",
    "c"
   ]
  },
  {
   "cell_type": "code",
   "execution_count": 99,
   "metadata": {},
   "outputs": [
    {
     "name": "stderr",
     "output_type": "stream",
     "text": [
      "D:\\ProgramApp\\Anaconda3\\lib\\site-packages\\ipykernel_launcher.py:4: RuntimeWarning: Mean of empty slice.\n",
      "  after removing the cwd from sys.path.\n",
      "D:\\ProgramApp\\Anaconda3\\lib\\site-packages\\numpy\\core\\_methods.py:85: RuntimeWarning: invalid value encountered in double_scalars\n",
      "  ret = ret.dtype.type(ret / rcount)\n"
     ]
    },
    {
     "data": {
      "text/plain": [
       "array([31., 39., 25., 20., 83., 88., 47., 61., 51., 58., 29., 28., 33.,\n",
       "       57., 30., nan, 57., 54., 41., 35.])"
      ]
     },
     "execution_count": 99,
     "metadata": {},
     "output_type": "execute_result"
    }
   ],
   "source": [
    "# def get_mean(x):\n",
    "#     y = x[np.logical_and(x!=x.max(),x!=x.min())].mean()\n",
    "#     return y\n",
    "np.apply_along_axis(lambda x:x[np.logical_and(x!=x.max(),x!=x.min())].mean(),axis=0,arr=c)"
   ]
  },
  {
   "cell_type": "code",
   "execution_count": 102,
   "metadata": {},
   "outputs": [
    {
     "data": {
      "text/plain": [
       "array([0.        , 0.11111111, 0.22222222, 0.33333333, 0.44444444,\n",
       "       0.55555556, 0.66666667, 0.77777778, 0.88888889, 1.        ])"
      ]
     },
     "execution_count": 102,
     "metadata": {},
     "output_type": "execute_result"
    }
   ],
   "source": [
    "np.linspace(0,1,10)"
   ]
  },
  {
   "cell_type": "code",
   "execution_count": 103,
   "metadata": {},
   "outputs": [
    {
     "data": {
      "text/plain": [
       "array([[8, 0, 1, 0, 7],\n",
       "       [4, 9, 7, 3, 3],\n",
       "       [4, 0, 9, 4, 0]])"
      ]
     },
     "execution_count": 103,
     "metadata": {},
     "output_type": "execute_result"
    }
   ],
   "source": [
    "d = np.random.randint(0,10,size=(3,5))\n",
    "d"
   ]
  },
  {
   "cell_type": "code",
   "execution_count": 108,
   "metadata": {},
   "outputs": [
    {
     "data": {
      "text/plain": [
       "(array([0, 1, 3, 4, 7, 8, 9]), array([4, 1, 2, 3, 2, 1, 2], dtype=int64))"
      ]
     },
     "execution_count": 108,
     "metadata": {},
     "output_type": "execute_result"
    }
   ],
   "source": [
    "np.unique(d,return_counts=True)"
   ]
  },
  {
   "cell_type": "markdown",
   "metadata": {},
   "source": [
    "# Numpy练习题\n",
    "1. 查看Numpy的版本号："
   ]
  },
  {
   "cell_type": "code",
   "execution_count": 1,
   "metadata": {},
   "outputs": [
    {
     "name": "stdout",
     "output_type": "stream",
     "text": [
      "1.21.5\n"
     ]
    }
   ],
   "source": [
    "import numpy as np\n",
    "print(np.__version__)"
   ]
  },
  {
   "cell_type": "markdown",
   "metadata": {},
   "source": [
    "2. 如何创建一个所有值都是False的布尔类型的数组："
   ]
  },
  {
   "cell_type": "code",
   "execution_count": 3,
   "metadata": {},
   "outputs": [
    {
     "data": {
      "text/plain": [
       "array([[False, False, False],\n",
       "       [False, False, False],\n",
       "       [False, False, False]])"
      ]
     },
     "execution_count": 3,
     "metadata": {},
     "output_type": "execute_result"
    }
   ],
   "source": [
    "np.full((3,3),False)"
   ]
  },
  {
   "cell_type": "markdown",
   "metadata": {},
   "source": [
    "3. 将一个有10个数的数组形状进行转换"
   ]
  },
  {
   "cell_type": "code",
   "execution_count": 9,
   "metadata": {},
   "outputs": [
    {
     "name": "stdout",
     "output_type": "stream",
     "text": [
      "[[[0.64600659 0.22733259 0.95115502]\n",
      "  [0.99516291 0.09889597 0.27177055]\n",
      "  [0.47472396 0.3137703  0.17879279]]\n",
      "\n",
      " [[0.50696739 0.62503398 0.12395132]\n",
      "  [0.29954564 0.058083   0.37407908]\n",
      "  [0.62381323 0.29549067 0.44868734]]\n",
      "\n",
      " [[0.76341491 0.38453856 0.98397215]\n",
      "  [0.75222677 0.86122266 0.21842175]\n",
      "  [0.21061871 0.11900257 0.64141244]]]\n",
      "[[0.64600659 0.22733259 0.95115502]\n",
      " [0.99516291 0.09889597 0.27177055]\n",
      " [0.47472396 0.3137703  0.17879279]\n",
      " [0.50696739 0.62503398 0.12395132]\n",
      " [0.29954564 0.058083   0.37407908]\n",
      " [0.62381323 0.29549067 0.44868734]\n",
      " [0.76341491 0.38453856 0.98397215]\n",
      " [0.75222677 0.86122266 0.21842175]\n",
      " [0.21061871 0.11900257 0.64141244]]\n"
     ]
    }
   ],
   "source": [
    "a = np.random.rand(3,3,3)\n",
    "print(a)\n",
    "print(a.reshape(9,3))"
   ]
  },
  {
   "cell_type": "markdown",
   "metadata": {},
   "source": [
    "4. 将数组中所有偶数都替换成0（改变原来数组和不改变原来数组两种实现）："
   ]
  },
  {
   "cell_type": "code",
   "execution_count": 13,
   "metadata": {},
   "outputs": [
    {
     "name": "stdout",
     "output_type": "stream",
     "text": [
      "[0 1 2 3 4 5 6 7 8 9]\n",
      "[0 1 0 3 0 5 0 7 0 9]\n",
      "[0 1 0 3 0 5 0 7 0 9]\n"
     ]
    }
   ],
   "source": [
    "a = np.arange(10)\n",
    "b = np.where(a%2==0,0,a)\n",
    "print(a)\n",
    "print(b)\n",
    "a[a%2==0] = 0\n",
    "print(a)"
   ]
  },
  {
   "cell_type": "markdown",
   "metadata": {},
   "source": [
    "5. 创建一个一维且有10个数的数组，元素是从  0-1 之间，\n",
    "但是不包含0和1："
   ]
  },
  {
   "cell_type": "code",
   "execution_count": 15,
   "metadata": {},
   "outputs": [
    {
     "name": "stdout",
     "output_type": "stream",
     "text": [
      "[0.09090909 0.18181818 0.27272727 0.36363636 0.45454545 0.54545455\n",
      " 0.63636364 0.72727273 0.81818182 0.90909091]\n"
     ]
    }
   ],
   "source": [
    "print(np.linspace(0,1,12)[1:-1])"
   ]
  },
  {
   "cell_type": "markdown",
   "metadata": {},
   "source": [
    "6. 求以下数组大于等于5并且小于等于10的数组："
   ]
  },
  {
   "cell_type": "code",
   "execution_count": 19,
   "metadata": {},
   "outputs": [
    {
     "name": "stdout",
     "output_type": "stream",
     "text": [
      "[ 5  6  7  8  9 10]\n",
      "[ 5  6  7  8  9 10]\n"
     ]
    }
   ],
   "source": [
    "a = np.arange(15)\n",
    "print(a[(a>=5)&(a<=10)])\n",
    "print(a[np.where((a>=5)&(a<=10))])\n"
   ]
  },
  {
   "cell_type": "markdown",
   "metadata": {},
   "source": [
    "7. 将一个二维数组的行和列分别逆向"
   ]
  },
  {
   "cell_type": "code",
   "execution_count": 22,
   "metadata": {},
   "outputs": [
    {
     "name": "stdout",
     "output_type": "stream",
     "text": [
      "[[4 3 5 7]\n",
      " [5 2 8 4]\n",
      " [4 8 8 4]\n",
      " [2 2 7 7]]\n",
      "[[2 2 7 7]\n",
      " [4 8 8 4]\n",
      " [5 2 8 4]\n",
      " [4 3 5 7]]\n",
      "[[7 5 3 4]\n",
      " [4 8 2 5]\n",
      " [4 8 8 4]\n",
      " [7 7 2 2]]\n"
     ]
    }
   ],
   "source": [
    "a = np.random.randint(1,10,(4,4))\n",
    "print(a)\n",
    "b = a[::-1]\n",
    "print(b)\n",
    "c = a[:,::-1]\n",
    "print(c)"
   ]
  },
  {
   "cell_type": "markdown",
   "metadata": {},
   "source": [
    "8. 如何将科学计数法转换为浮点类型打印"
   ]
  },
  {
   "cell_type": "code",
   "execution_count": 25,
   "metadata": {},
   "outputs": [
    {
     "name": "stdout",
     "output_type": "stream",
     "text": [
      "[[0.000125 0.000865 0.000573]\n",
      " [0.000095 0.000341 0.000881]\n",
      " [0.000576 0.00036  0.000618]]\n"
     ]
    }
   ],
   "source": [
    "np.set_printoptions(suppress = True,precision=6)\n",
    "a = np.random.random((3,3))/1e3\n",
    "print((a))"
   ]
  },
  {
   "cell_type": "markdown",
   "metadata": {},
   "source": [
    "9. 获取一个数组中唯一的元素："
   ]
  },
  {
   "cell_type": "code",
   "execution_count": 27,
   "metadata": {},
   "outputs": [
    {
     "name": "stdout",
     "output_type": "stream",
     "text": [
      "[ 0  1  2  3  4  5  6  7  8  9 10 11 12 13 14 15 16 17 18 19]\n"
     ]
    }
   ],
   "source": [
    "arr = np.random.randint(0,20,(10,10))\n",
    "print(np.unique(arr))"
   ]
  },
  {
   "cell_type": "code",
   "execution_count": 28,
   "metadata": {},
   "outputs": [
    {
     "data": {
      "text/plain": [
       "(array([ 0,  2,  3,  4,  5,  6,  7,  8,  9, 10, 11, 12, 13, 14, 15, 16, 17,\n",
       "        18, 19]),\n",
       " array([8, 2, 5, 8, 5, 7, 3, 5, 6, 5, 9, 9, 6, 5, 5, 3, 2, 4, 3],\n",
       "       dtype=int64))"
      ]
     },
     "execution_count": 28,
     "metadata": {},
     "output_type": "execute_result"
    }
   ],
   "source": [
    "arr = np.random.randint(0,20,(10,10))\n",
    "np.unique(arr,return_counts=True)"
   ]
  },
  {
   "cell_type": "markdown",
   "metadata": {},
   "source": [
    "11. 十一、如何找到数组中每行的最大值："
   ]
  },
  {
   "cell_type": "code",
   "execution_count": 38,
   "metadata": {},
   "outputs": [
    {
     "name": "stdout",
     "output_type": "stream",
     "text": [
      "[[1 8 1]\n",
      " [9 1 2]\n",
      " [4 3 9]]\n",
      "8\n",
      "9\n",
      "9\n",
      "[9 8 9]\n"
     ]
    }
   ],
   "source": [
    "a = np.random.randint(1,10,(3,3))\n",
    "print(a)\n",
    "b = np.apply_along_axis(lambda x:print(np.max(x)),axis = 1,arr =a)\n",
    "print(np.max(a,axis = 1))"
   ]
  },
  {
   "cell_type": "markdown",
   "metadata": {},
   "source": [
    "12. 如何按照行球最小值和最大值相除的结果："
   ]
  },
  {
   "cell_type": "code",
   "execution_count": 40,
   "metadata": {},
   "outputs": [
    {
     "name": "stdout",
     "output_type": "stream",
     "text": [
      "3.0\n",
      "2.25\n",
      "1.6\n"
     ]
    },
    {
     "data": {
      "text/plain": [
       "array([None, None, None], dtype=object)"
      ]
     },
     "execution_count": 40,
     "metadata": {},
     "output_type": "execute_result"
    }
   ],
   "source": [
    "a = np.random.randint(1,10,(3,3))\n",
    "np.apply_along_axis(lambda x:print(np.max(x)/np.min(x)),axis = 1,arr =a)"
   ]
  },
  {
   "cell_type": "markdown",
   "metadata": {},
   "source": [
    "13. 判断两个数组是否完全相等"
   ]
  },
  {
   "cell_type": "code",
   "execution_count": 42,
   "metadata": {},
   "outputs": [
    {
     "name": "stdout",
     "output_type": "stream",
     "text": [
      "False\n"
     ]
    }
   ],
   "source": [
    "a = np.random.random(10)\n",
    "b = np.random.random(10)\n",
    "print((a==b).all())"
   ]
  },
  {
   "cell_type": "markdown",
   "metadata": {},
   "source": [
    "14. 设置一个数组不能修改值："
   ]
  },
  {
   "cell_type": "code",
   "execution_count": null,
   "metadata": {},
   "outputs": [],
   "source": [
    "a = np.zeros((2,2))\n",
    "a.flags.writable = False\n",
    "a[0] = 1"
   ]
  },
  {
   "cell_type": "markdown",
   "metadata": {},
   "source": [
    "15. 找到数组中离某个元素的最近的值："
   ]
  },
  {
   "cell_type": "code",
   "execution_count": null,
   "metadata": {},
   "outputs": [],
   "source": []
  },
  {
   "cell_type": "code",
   "execution_count": null,
   "metadata": {},
   "outputs": [],
   "source": []
  },
  {
   "cell_type": "code",
   "execution_count": null,
   "metadata": {},
   "outputs": [],
   "source": []
  },
  {
   "cell_type": "code",
   "execution_count": null,
   "metadata": {},
   "outputs": [],
   "source": []
  },
  {
   "cell_type": "code",
   "execution_count": null,
   "metadata": {},
   "outputs": [],
   "source": []
  },
  {
   "cell_type": "code",
   "execution_count": null,
   "metadata": {},
   "outputs": [],
   "source": []
  },
  {
   "cell_type": "code",
   "execution_count": null,
   "metadata": {},
   "outputs": [],
   "source": []
  },
  {
   "cell_type": "code",
   "execution_count": null,
   "metadata": {},
   "outputs": [],
   "source": []
  },
  {
   "cell_type": "code",
   "execution_count": null,
   "metadata": {},
   "outputs": [],
   "source": []
  },
  {
   "cell_type": "code",
   "execution_count": null,
   "metadata": {},
   "outputs": [],
   "source": []
  },
  {
   "cell_type": "code",
   "execution_count": null,
   "metadata": {},
   "outputs": [],
   "source": []
  },
  {
   "cell_type": "code",
   "execution_count": null,
   "metadata": {},
   "outputs": [],
   "source": []
  },
  {
   "cell_type": "code",
   "execution_count": null,
   "metadata": {},
   "outputs": [],
   "source": []
  },
  {
   "cell_type": "code",
   "execution_count": null,
   "metadata": {},
   "outputs": [],
   "source": []
  },
  {
   "cell_type": "code",
   "execution_count": null,
   "metadata": {},
   "outputs": [],
   "source": []
  },
  {
   "cell_type": "code",
   "execution_count": null,
   "metadata": {},
   "outputs": [],
   "source": []
  }
 ],
 "metadata": {
  "kernelspec": {
   "display_name": "Python 3 (ipykernel)",
   "language": "python",
   "name": "python3"
  },
  "language_info": {
   "codemirror_mode": {
    "name": "ipython",
    "version": 3
   },
   "file_extension": ".py",
   "mimetype": "text/x-python",
   "name": "python",
   "nbconvert_exporter": "python",
   "pygments_lexer": "ipython3",
   "version": "3.9.12"
  }
 },
 "nbformat": 4,
 "nbformat_minor": 2
}
