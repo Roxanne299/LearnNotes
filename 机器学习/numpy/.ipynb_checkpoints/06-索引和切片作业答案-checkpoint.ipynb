{
 "cells": [
  {
   "cell_type": "code",
   "execution_count": 2,
   "metadata": {},
   "outputs": [],
   "source": [
    "import numpy as np"
   ]
  },
  {
   "cell_type": "markdown",
   "metadata": {},
   "source": [
    "#### 1. 第一题：将np.arange(10)数组中的奇数全部都替换成-1"
   ]
  },
  {
   "cell_type": "code",
   "execution_count": 4,
   "metadata": {},
   "outputs": [
    {
     "name": "stdout",
     "output_type": "stream",
     "text": [
      "[ 0 -1  2 -1  4 -1  6 -1  8 -1]\n"
     ]
    }
   ],
   "source": [
    "a1 = np.arange(10)\n",
    "a1[a1%2 != 0] = -1\n",
    "print(a1)"
   ]
  },
  {
   "cell_type": "markdown",
   "metadata": {},
   "source": [
    "#### 2. 第二题：有一个4行4列的数组（比如：np.random.randint(0,10,size=(4,4))），请将其中对角线的数取出来形成一个一维数组。提示（使用np.eye）。"
   ]
  },
  {
   "cell_type": "code",
   "execution_count": 7,
   "metadata": {},
   "outputs": [
    {
     "name": "stdout",
     "output_type": "stream",
     "text": [
      "[[9 3 1 2]\n",
      " [7 4 8 6]\n",
      " [5 6 7 6]\n",
      " [4 7 9 5]]\n",
      "[9 4 7 5]\n"
     ]
    }
   ],
   "source": [
    "a2 = np.random.randint(0,10,size=(4,4))\n",
    "eye = np.eye(4,dtype=bool)\n",
    "a3 = a2[eye]\n",
    "print(a2)\n",
    "print(a3)"
   ]
  },
  {
   "cell_type": "markdown",
   "metadata": {},
   "source": [
    "#### 3. 有一个4行4列的数组，请取出其中(0,0),(1,2),(3,2)的点。"
   ]
  },
  {
   "cell_type": "code",
   "execution_count": 10,
   "metadata": {},
   "outputs": [
    {
     "name": "stdout",
     "output_type": "stream",
     "text": [
      "[[1 1 4 9]\n",
      " [2 4 2 8]\n",
      " [4 9 5 8]\n",
      " [0 0 6 7]]\n",
      "[1 2 6]\n"
     ]
    }
   ],
   "source": [
    "a4 = np.random.randint(0,10,size=(4,4))\n",
    "points = a4[[0,1,3],[0,2,2]]\n",
    "print(a4)\n",
    "print(points)"
   ]
  },
  {
   "cell_type": "markdown",
   "metadata": {},
   "source": [
    "#### 4.有一个4行4列的数组，请取出其中2-3行（包括第3行）的所有数据。"
   ]
  },
  {
   "cell_type": "code",
   "execution_count": 11,
   "metadata": {},
   "outputs": [
    {
     "name": "stdout",
     "output_type": "stream",
     "text": [
      "[[7 1 5 4]\n",
      " [2 5 3 9]\n",
      " [2 5 1 3]\n",
      " [6 6 2 7]]\n",
      "[[2 5 1 3]\n",
      " [6 6 2 7]]\n"
     ]
    }
   ],
   "source": [
    "a5 = np.random.randint(0,10,size=(4,4))\n",
    "lines = a5[2:4]\n",
    "print(a5)\n",
    "print(lines)"
   ]
  },
  {
   "cell_type": "markdown",
   "metadata": {},
   "source": [
    "##### 5. 有一个8行9列的数组，请将其中1-5行（包含第5行）的第8列大于3的数全部都取出来。"
   ]
  },
  {
   "cell_type": "code",
   "execution_count": 16,
   "metadata": {},
   "outputs": [
    {
     "data": {
      "text/plain": [
       "array([[0, 6, 2, 0, 7, 1, 3, 3, 3],\n",
       "       [7, 9, 6, 5, 8, 8, 5, 3, 6],\n",
       "       [9, 8, 7, 8, 3, 8, 5, 8, 1],\n",
       "       [7, 1, 8, 3, 1, 1, 0, 9, 5],\n",
       "       [7, 4, 4, 8, 0, 7, 2, 1, 7],\n",
       "       [6, 3, 5, 5, 2, 3, 3, 2, 7],\n",
       "       [5, 8, 9, 4, 3, 6, 2, 6, 4],\n",
       "       [4, 7, 5, 8, 5, 7, 9, 9, 2]])"
      ]
     },
     "execution_count": 16,
     "metadata": {},
     "output_type": "execute_result"
    }
   ],
   "source": [
    "a6 = np.random.randint(0,10,size=(8,9))\n",
    "a6"
   ]
  },
  {
   "cell_type": "code",
   "execution_count": 19,
   "metadata": {},
   "outputs": [
    {
     "name": "stdout",
     "output_type": "stream",
     "text": [
      "[ True False  True  True  True]\n",
      "[6 1 5 7 7]\n",
      "[6 5 7 7]\n"
     ]
    }
   ],
   "source": [
    "# 先获取指定部分的数据条件的数组\n",
    "conditions = a6[1:6,8] > 3\n",
    "print(conditions)\n",
    "# 再获取指定部分的数据\n",
    "datas = a6[1:6,8]\n",
    "print(datas)\n",
    "# 再从数组中提取符合条件的数据\n",
    "result = datas[conditions]\n",
    "print(result)"
   ]
  },
  {
   "cell_type": "code",
   "execution_count": null,
   "metadata": {},
   "outputs": [],
   "source": []
  }
 ],
 "metadata": {
  "kernelspec": {
   "display_name": "Python 3",
   "language": "python",
   "name": "python3"
  },
  "language_info": {
   "codemirror_mode": {
    "name": "ipython",
    "version": 3
   },
   "file_extension": ".py",
   "mimetype": "text/x-python",
   "name": "python",
   "nbconvert_exporter": "python",
   "pygments_lexer": "ipython3",
   "version": "3.7.1"
  }
 },
 "nbformat": 4,
 "nbformat_minor": 2
}
