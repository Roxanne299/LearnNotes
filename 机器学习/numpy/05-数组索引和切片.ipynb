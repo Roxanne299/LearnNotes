{
 "cells": [
  {
   "cell_type": "code",
   "execution_count": 4,
   "metadata": {},
   "outputs": [],
   "source": [
    "import numpy as np"
   ]
  },
  {
   "cell_type": "code",
   "execution_count": 5,
   "metadata": {},
   "outputs": [
    {
     "name": "stdout",
     "output_type": "stream",
     "text": [
      "4\n",
      "[4 5]\n",
      "[0 2 4 6 8]\n",
      "9\n"
     ]
    }
   ],
   "source": [
    "# 1. 一维数组的索引和切片\n",
    "a1 = np.arange(10)\n",
    "# 1.1 进行索引操作\n",
    "print(a1[4])\n",
    "# 1.2 进行切片操作\n",
    "print(a1[4:6])\n",
    "# 1.3 使用步长\n",
    "print(a1[::2])\n",
    "# 1.4 使用负数来作为索引\n",
    "print(a1[-1])"
   ]
  },
  {
   "cell_type": "code",
   "execution_count": 6,
   "metadata": {},
   "outputs": [
    {
     "name": "stdout",
     "output_type": "stream",
     "text": [
      "[[8 6 2 2 6 7]\n",
      " [0 4 8 9 2 8]\n",
      " [9 9 9 8 6 4]\n",
      " [4 7 6 0 9 5]]\n"
     ]
    }
   ],
   "source": [
    "# 2. 多维数组\n",
    "# 也是通过中括号来索引和切片，在中括号中，使用逗号进行分割，逗号前面的是行，逗号后面的\n",
    "# 是列，如果多维数组中只有一个值，那么这个值就是行\n",
    "a2 = np.random.randint(0,10,size=(4,6))\n",
    "print(a2)"
   ]
  },
  {
   "cell_type": "code",
   "execution_count": 7,
   "metadata": {},
   "outputs": [
    {
     "data": {
      "text/plain": [
       "array([[8, 6, 2, 2, 6, 7],\n",
       "       [9, 9, 9, 8, 6, 4],\n",
       "       [4, 7, 6, 0, 9, 5]])"
      ]
     },
     "execution_count": 7,
     "metadata": {},
     "output_type": "execute_result"
    }
   ],
   "source": [
    "a2[0]\n",
    "a2[1:3]\n",
    "a2[[0,2,3]]"
   ]
  },
  {
   "cell_type": "code",
   "execution_count": 12,
   "metadata": {},
   "outputs": [
    {
     "data": {
      "text/plain": [
       "array([[6],\n",
       "       [4],\n",
       "       [9],\n",
       "       [7]])"
      ]
     },
     "execution_count": 12,
     "metadata": {},
     "output_type": "execute_result"
    }
   ],
   "source": [
    "# a2[2,1]\n",
    "#print(a2[[0,2],[4,5]])\n",
    "#print(a2[1:3,4:6])\n",
    "# a2[1:3,4:6]\n",
    "a2[:,[1]]  #获取某列的值"
   ]
  },
  {
   "cell_type": "markdown",
   "metadata": {},
   "source": [
    "# 索引和切片总结：\n",
    "1. 如果数组是一维的，那么索引和切片就是跟python的列表是一样的。\n",
    "2. 如果是多维的（这里以二维为例），那么在中括号中，给两个值，两个值是通过逗号分隔的，逗号前面的是行，逗号后面的是列。如果中括号中只有一个值，那么就是代表的是行。\n",
    "3. 如果是多维数组（这里以二维为例），那么行的部分和列的部分，都是遵循一维数组的方式，可以使用整形，切片，还可以使用中括号的形式，来代表不连续的。比如a[[1,2],[3,4]]，那么返回的就是(1,3),(2,4)的两个值。\n",
    "4. a[[1,1][2,3]] 和a[1][2,3]等价，但是a[[1,1][2,3，2]]不可以，因为不知道具体和什么配对"
   ]
  },
  {
   "cell_type": "code",
   "execution_count": 25,
   "metadata": {},
   "outputs": [
    {
     "name": "stdout",
     "output_type": "stream",
     "text": [
      "[[ 0  1  2  3  4  5]\n",
      " [ 6  7  8  9 10 11]\n",
      " [12 13 14 15 16 17]\n",
      " [18 19 20 21 22 23]]\n"
     ]
    }
   ],
   "source": [
    "a2 = np.arange(24).reshape((4,6))\n",
    "print(a2)"
   ]
  },
  {
   "cell_type": "code",
   "execution_count": 27,
   "metadata": {},
   "outputs": [
    {
     "data": {
      "text/plain": [
       "array([[ True,  True,  True,  True,  True,  True],\n",
       "       [ True,  True,  True,  True, False, False],\n",
       "       [False, False, False, False, False, False],\n",
       "       [False, False, False, False, False, False]])"
      ]
     },
     "execution_count": 27,
     "metadata": {},
     "output_type": "execute_result"
    }
   ],
   "source": [
    "a2 < 10"
   ]
  },
  {
   "cell_type": "code",
   "execution_count": 28,
   "metadata": {},
   "outputs": [
    {
     "data": {
      "text/plain": [
       "array([0, 1, 2, 3, 4, 5, 6, 7, 8, 9])"
      ]
     },
     "execution_count": 28,
     "metadata": {},
     "output_type": "execute_result"
    }
   ],
   "source": [
    "a2[a2 < 10]"
   ]
  },
  {
   "cell_type": "code",
   "execution_count": 32,
   "metadata": {},
   "outputs": [
    {
     "data": {
      "text/plain": [
       "array([ 0,  1,  2,  3,  4, 11, 12, 13, 14, 15, 16, 17, 18, 19, 20, 21, 22,\n",
       "       23])"
      ]
     },
     "execution_count": 32,
     "metadata": {},
     "output_type": "execute_result"
    }
   ],
   "source": [
    "a2[(a2 < 5) | (a2 > 10)]"
   ]
  },
  {
   "cell_type": "markdown",
   "metadata": {},
   "source": [
    "# 布尔索引：\n",
    "布尔索引是通过相同数组上的True还是False来进行提取的。提取的条件可以有多个，那么如果有多个，可以使用&来代表且，用|来代表或，如果有多个条件，那么每个条件要使用圆括号括起来。"
   ]
  },
  {
   "cell_type": "code",
   "execution_count": 79,
   "metadata": {},
   "outputs": [
    {
     "data": {
      "text/plain": [
       "array([[4, 6, 3, 2, 4],\n",
       "       [3, 4, 9, 6, 5],\n",
       "       [6, 3, 6, 5, 4]])"
      ]
     },
     "execution_count": 79,
     "metadata": {},
     "output_type": "execute_result"
    }
   ],
   "source": [
    "a3 = np.random.randint(0,10,size=(3,5))\n",
    "a3"
   ]
  },
  {
   "cell_type": "code",
   "execution_count": 82,
   "metadata": {},
   "outputs": [
    {
     "data": {
      "text/plain": [
       "array([[4, 6, 3, 2, 4],\n",
       "       [1, 2, 3, 4, 5],\n",
       "       [6, 3, 6, 5, 4]])"
      ]
     },
     "execution_count": 82,
     "metadata": {},
     "output_type": "execute_result"
    }
   ],
   "source": [
    "a3[1] = np.array([1,2,3,4,5])\n",
    "a3"
   ]
  },
  {
   "cell_type": "code",
   "execution_count": 84,
   "metadata": {},
   "outputs": [
    {
     "data": {
      "text/plain": [
       "array([[4, 6, 3, 1, 4],\n",
       "       [1, 1, 3, 4, 5],\n",
       "       [6, 3, 6, 5, 4]])"
      ]
     },
     "execution_count": 84,
     "metadata": {},
     "output_type": "execute_result"
    }
   ],
   "source": [
    "a3[a3 < 3] = 1\n",
    "a3"
   ]
  },
  {
   "cell_type": "code",
   "execution_count": 88,
   "metadata": {},
   "outputs": [
    {
     "data": {
      "text/plain": [
       "array([[0, 1, 0, 0, 0],\n",
       "       [0, 0, 0, 0, 1],\n",
       "       [1, 0, 1, 1, 0]])"
      ]
     },
     "execution_count": 88,
     "metadata": {},
     "output_type": "execute_result"
    }
   ],
   "source": [
    "result = np.where(a3<5,0,1)\n",
    "result"
   ]
  },
  {
   "cell_type": "markdown",
   "metadata": {},
   "source": [
    "# 值的替换总结：\n",
    "1. 可以使用索引或者切片来替换。\n",
    "2. 使用条件索引来替换。\n",
    "3. 使用where函数来实现。"
   ]
  },
  {
   "cell_type": "markdown",
   "metadata": {},
   "source": [
    "# Numpy 索引和切片作业\n",
    "1. 将`np.arange(10)`数组中的奇数全部替换成`-1`"
   ]
  },
  {
   "cell_type": "code",
   "execution_count": 14,
   "metadata": {},
   "outputs": [
    {
     "name": "stdout",
     "output_type": "stream",
     "text": [
      "[0 1 2 3 4 5 6 7 8 9]\n",
      "[ 0 -1  2 -1  4 -1  6 -1  8 -1]\n"
     ]
    }
   ],
   "source": [
    "import numpy as np\n",
    "a1 = np.arange(10)\n",
    "print(a1)\n",
    "a1[a1%2!=0] = -1\n",
    "print(a1)"
   ]
  },
  {
   "cell_type": "markdown",
   "metadata": {},
   "source": [
    "2. 有一个4行4列的数组（比如：`np.random.randint(0,10,size=(4,4))`），请讲其中对角线中的数取出形成一个一维数组。（用`np.eye`）"
   ]
  },
  {
   "cell_type": "code",
   "execution_count": 16,
   "metadata": {},
   "outputs": [
    {
     "name": "stdout",
     "output_type": "stream",
     "text": [
      "[[5 6 8 0]\n",
      " [4 8 5 2]\n",
      " [7 1 5 0]\n",
      " [7 3 1 5]]\n",
      "[5 8 5 5]\n"
     ]
    }
   ],
   "source": [
    "a2 = np.random.randint(0,10,size = (4,4))\n",
    "print(a2)\n",
    "a3 = np.eye(4,4)\n",
    "a4 = a2[a3 == 1]\n",
    "print(a4)"
   ]
  },
  {
   "cell_type": "markdown",
   "metadata": {},
   "source": [
    "3. 有一个四行三列的数组，请取出其中（0,0）（1，2）（3,2）的点"
   ]
  },
  {
   "cell_type": "code",
   "execution_count": 17,
   "metadata": {},
   "outputs": [
    {
     "name": "stdout",
     "output_type": "stream",
     "text": [
      "[[0.78355922 0.17518578 0.53868618]\n",
      " [0.76659882 0.91144694 0.18089434]\n",
      " [0.26173167 0.33243837 0.37536986]\n",
      " [0.41856675 0.00664939 0.47196103]]\n",
      "[0.78355922 0.18089434 0.47196103]\n"
     ]
    }
   ],
   "source": [
    "a5 = np.random.random((4,3))\n",
    "print(a5)\n",
    "print(a5[[0,1,3],[0,2,2]])"
   ]
  },
  {
   "cell_type": "markdown",
   "metadata": {},
   "source": [
    "4. 有一个四行四列的数组请取出其中2-3行包括第三行的所有数据"
   ]
  },
  {
   "cell_type": "code",
   "execution_count": 20,
   "metadata": {},
   "outputs": [
    {
     "name": "stdout",
     "output_type": "stream",
     "text": [
      "[[0.96760907 0.86035729 0.62809194 0.05423024]\n",
      " [0.27181694 0.67828039 0.03662483 0.06857537]\n",
      " [0.37484166 0.52634349 0.55672763 0.14980909]\n",
      " [0.15752824 0.18844953 0.22066504 0.7307545 ]]\n",
      "[[0.37484166 0.52634349 0.55672763 0.14980909]\n",
      " [0.15752824 0.18844953 0.22066504 0.7307545 ]]\n"
     ]
    }
   ],
   "source": [
    "a6 = np.random.random((4,4))\n",
    "print(a6)\n",
    "print(a6[2:4])"
   ]
  },
  {
   "cell_type": "markdown",
   "metadata": {},
   "source": [
    "5. 有一个八行九列的数组，请将其中1-5行包括第五行的第八行，大于三的数字全部取出来"
   ]
  },
  {
   "cell_type": "code",
   "execution_count": 23,
   "metadata": {},
   "outputs": [
    {
     "name": "stdout",
     "output_type": "stream",
     "text": [
      "[[6 9 5 9 4 1 6 1 4]\n",
      " [7 8 3 4 5 7 2 2 8]\n",
      " [3 8 8 7 8 6 1 3 7]\n",
      " [7 2 3 1 9 4 4 5 1]\n",
      " [7 3 3 3 1 5 3 9 3]\n",
      " [6 3 9 3 4 6 4 1 8]\n",
      " [7 6 4 9 9 8 1 3 6]\n",
      " [3 9 5 7 8 9 6 9 6]]\n",
      "[8 7 8]\n"
     ]
    }
   ],
   "source": [
    "a7 = np.random.randint(1,10,(8,9))\n",
    "print(a7)\n",
    "a7 = a7[1:6,8]\n",
    "print(a7[a7>3])"
   ]
  }
 ],
 "metadata": {
  "kernelspec": {
   "display_name": "Python 3 (ipykernel)",
   "language": "python",
   "name": "python3"
  },
  "language_info": {
   "codemirror_mode": {
    "name": "ipython",
    "version": 3
   },
   "file_extension": ".py",
   "mimetype": "text/x-python",
   "name": "python",
   "nbconvert_exporter": "python",
   "pygments_lexer": "ipython3",
   "version": "3.9.12"
  }
 },
 "nbformat": 4,
 "nbformat_minor": 2
}
