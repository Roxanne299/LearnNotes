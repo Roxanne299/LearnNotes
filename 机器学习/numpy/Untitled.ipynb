{
 "cells": [
  {
   "cell_type": "markdown",
   "id": "a3395ccf",
   "metadata": {},
   "source": [
    "# numpy实战\n",
    "1. 书上一些函数的实践\n",
    "首先是ndim属性，其实就是维度,也就是shape返回元祖的长度，shape就是每个维度大小"
   ]
  },
  {
   "cell_type": "code",
   "execution_count": 24,
   "id": "a5b3c4ce",
   "metadata": {
    "scrolled": true
   },
   "outputs": [
    {
     "name": "stdout",
     "output_type": "stream",
     "text": [
      "(1, 1)\n",
      "2\n"
     ]
    }
   ],
   "source": [
    "import numpy as np\n",
    "#a = np.array((1,2,3))  array接受的参数还是可迭代对象 （1,2,3）被识别成元祖了\n",
    "a = np.zeros((1,1))\n",
    "print(a.shape)\n",
    "print(a.ndim)"
   ]
  },
  {
   "cell_type": "code",
   "execution_count": null,
   "id": "975b5fc4",
   "metadata": {},
   "outputs": [],
   "source": []
  },
  {
   "cell_type": "code",
   "execution_count": null,
   "id": "397486a2",
   "metadata": {},
   "outputs": [],
   "source": []
  }
 ],
 "metadata": {
  "kernelspec": {
   "display_name": "Python 3 (ipykernel)",
   "language": "python",
   "name": "python3"
  },
  "language_info": {
   "codemirror_mode": {
    "name": "ipython",
    "version": 3
   },
   "file_extension": ".py",
   "mimetype": "text/x-python",
   "name": "python",
   "nbconvert_exporter": "python",
   "pygments_lexer": "ipython3",
   "version": "3.9.12"
  }
 },
 "nbformat": 4,
 "nbformat_minor": 5
}
