{
 "cells": [
  {
   "cell_type": "markdown",
   "metadata": {},
   "source": [
    "# 作业要求：\n",
    "1. 读取scores.csv文件。\n",
    "2. 把所有科目的成绩都在一张图上绘制箱线图。\n",
    "3. 观察这个图，你能发现什么信息。"
   ]
  },
  {
   "cell_type": "code",
   "execution_count": 20,
   "metadata": {},
   "outputs": [],
   "source": [
    "import matplotlib.pyplot as plt\n",
    "import numpy as np\n",
    "import pandas as pd\n",
    "from matplotlib import font_manager"
   ]
  },
  {
   "cell_type": "code",
   "execution_count": 12,
   "metadata": {},
   "outputs": [
    {
     "data": {
      "text/html": [
       "<div>\n",
       "<style scoped>\n",
       "    .dataframe tbody tr th:only-of-type {\n",
       "        vertical-align: middle;\n",
       "    }\n",
       "\n",
       "    .dataframe tbody tr th {\n",
       "        vertical-align: top;\n",
       "    }\n",
       "\n",
       "    .dataframe thead th {\n",
       "        text-align: right;\n",
       "    }\n",
       "</style>\n",
       "<table border=\"1\" class=\"dataframe\">\n",
       "  <thead>\n",
       "    <tr style=\"text-align: right;\">\n",
       "      <th></th>\n",
       "      <th>chn</th>\n",
       "      <th>math</th>\n",
       "      <th>eng</th>\n",
       "      <th>phy</th>\n",
       "      <th>chem</th>\n",
       "      <th>politics</th>\n",
       "      <th>bio</th>\n",
       "      <th>history</th>\n",
       "      <th>geo</th>\n",
       "      <th>pe</th>\n",
       "    </tr>\n",
       "  </thead>\n",
       "  <tbody>\n",
       "    <tr>\n",
       "      <th>0</th>\n",
       "      <td>99.0</td>\n",
       "      <td>120</td>\n",
       "      <td>114.0</td>\n",
       "      <td>70.0</td>\n",
       "      <td>49.50</td>\n",
       "      <td>50.0</td>\n",
       "      <td>49.0</td>\n",
       "      <td>48.5</td>\n",
       "      <td>49.5</td>\n",
       "      <td>60</td>\n",
       "    </tr>\n",
       "    <tr>\n",
       "      <th>1</th>\n",
       "      <td>107.0</td>\n",
       "      <td>120</td>\n",
       "      <td>118.5</td>\n",
       "      <td>68.6</td>\n",
       "      <td>43.00</td>\n",
       "      <td>49.0</td>\n",
       "      <td>48.5</td>\n",
       "      <td>48.5</td>\n",
       "      <td>49.0</td>\n",
       "      <td>56</td>\n",
       "    </tr>\n",
       "    <tr>\n",
       "      <th>2</th>\n",
       "      <td>98.0</td>\n",
       "      <td>120</td>\n",
       "      <td>116.0</td>\n",
       "      <td>70.0</td>\n",
       "      <td>47.50</td>\n",
       "      <td>47.0</td>\n",
       "      <td>49.0</td>\n",
       "      <td>47.5</td>\n",
       "      <td>49.0</td>\n",
       "      <td>60</td>\n",
       "    </tr>\n",
       "    <tr>\n",
       "      <th>3</th>\n",
       "      <td>102.0</td>\n",
       "      <td>113</td>\n",
       "      <td>111.5</td>\n",
       "      <td>70.0</td>\n",
       "      <td>47.00</td>\n",
       "      <td>49.0</td>\n",
       "      <td>49.0</td>\n",
       "      <td>49.0</td>\n",
       "      <td>49.5</td>\n",
       "      <td>60</td>\n",
       "    </tr>\n",
       "    <tr>\n",
       "      <th>4</th>\n",
       "      <td>103.0</td>\n",
       "      <td>120</td>\n",
       "      <td>111.5</td>\n",
       "      <td>70.0</td>\n",
       "      <td>44.75</td>\n",
       "      <td>46.5</td>\n",
       "      <td>48.0</td>\n",
       "      <td>48.0</td>\n",
       "      <td>48.0</td>\n",
       "      <td>60</td>\n",
       "    </tr>\n",
       "  </tbody>\n",
       "</table>\n",
       "</div>"
      ],
      "text/plain": [
       "     chn  math    eng   phy   chem  politics   bio  history   geo  pe\n",
       "0   99.0   120  114.0  70.0  49.50      50.0  49.0     48.5  49.5  60\n",
       "1  107.0   120  118.5  68.6  43.00      49.0  48.5     48.5  49.0  56\n",
       "2   98.0   120  116.0  70.0  47.50      47.0  49.0     47.5  49.0  60\n",
       "3  102.0   113  111.5  70.0  47.00      49.0  49.0     49.0  49.5  60\n",
       "4  103.0   120  111.5  70.0  44.75      46.5  48.0     48.0  48.0  60"
      ]
     },
     "execution_count": 12,
     "metadata": {},
     "output_type": "execute_result"
    }
   ],
   "source": [
    "scores = pd.read_csv(\"scores.csv\").drop([\"num\",\"class\"],axis=1)\n",
    "scores.head()"
   ]
  },
  {
   "cell_type": "code",
   "execution_count": 18,
   "metadata": {},
   "outputs": [
    {
     "data": {
      "image/png": "[encoded data removed]",
      "text/plain": [
       "<Figure size 1080x360 with 1 Axes>"
      ]
     },
     "metadata": {
      "needs_background": "light"
     },
     "output_type": "display_data"
    }
   ],
   "source": [
    "plt.figure(figsize=(15,5))\n",
    "font = font_manager.FontProperties(fname=r\"C:\\\\Windows\\\\Fonts\\\\msyh.ttc\",size=12)\n",
    "plt.boxplot([scores[column] for column in scores.columns])\n",
    "plt.xticks(range(1,11),scores.columns)\n",
    "plt.title(\"某班成绩分布情况\",fontproperties=font)\n",
    "plt.xticks(range(1,11),[\"语文\",\"数学\",\"英语\",\"物理\",\"化学\",\"政治\",\"生物\",\"历史\",\"地理\",\"体育\"],fontproperties=font)\n",
    "plt.xlabel(\"科目\",fontproperties=font)\n",
    "plt.ylabel(\"成绩\",fontproperties=font)\n",
    "plt.show()"
   ]
  },
  {
   "cell_type": "markdown",
   "metadata": {},
   "source": [
    "# 结论：\n",
    "1. 语文成绩盒子比较小，说明其中50%的同学分数相差都不大，但是有许多下限的异常值，说明考得不好的也估计占了20%左右，并且在上限有一个异常值，这个人考得特别好，关注下这个人，分析下他平时的上课表现。\n",
    "2. 整体来说数学和英语的成绩是比较偏好的，但是也存在很多偏科的学生。\n",
    "3. 还是数学和英语成绩，数学有75%以上的学生都是在80分以上，英语有75%以上的学生在70分以上，但是剩下的25%的学生的成绩就差别很大了，直接从几分70几分，还有大部分的异常值，说明数学这两个学科有部分人是偏科很厉害的。\n",
    "4. PE课（体育课）成绩比较最集中，但是也不高，都是在60的边缘。出现这个问题，有可能是学生平时锻炼得少了，需要关注。\n",
    "5. chem（化学）没有出现异常值，并且盒子的高度也不高，整体的分数也都不高，说明这个学科大家考得都不好，要么是试卷太难，要么就是真的没太多人学好了。\n",
    "6. 等等"
   ]
  }
 ],
 "metadata": {
  "kernelspec": {
   "display_name": "Python 3",
   "language": "python",
   "name": "python3"
  },
  "language_info": {
   "codemirror_mode": {
    "name": "ipython",
    "version": 3
   },
   "file_extension": ".py",
   "mimetype": "text/x-python",
   "name": "python",
   "nbconvert_exporter": "python",
   "pygments_lexer": "ipython3",
   "version": "3.7.1"
  }
 },
 "nbformat": 4,
 "nbformat_minor": 2
}
