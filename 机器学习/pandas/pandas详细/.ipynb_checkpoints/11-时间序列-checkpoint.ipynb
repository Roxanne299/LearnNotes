{
 "cells": [
  {
   "cell_type": "code",
   "execution_count": 19,
   "metadata": {},
   "outputs": [
    {
     "data": {
      "text/plain": [
       "1553849580.598539"
      ]
     },
     "execution_count": 19,
     "metadata": {},
     "output_type": "execute_result"
    }
   ],
   "source": [
    "import time\n",
    "time.time()"
   ]
  },
  {
   "cell_type": "markdown",
   "metadata": {},
   "source": [
    "# 1.日期和时间数据类型及工具"
   ]
  },
  {
   "cell_type": "code",
   "execution_count": 20,
   "metadata": {
    "collapsed": true
   },
   "outputs": [],
   "source": [
    "from datetime import datetime"
   ]
  },
  {
   "cell_type": "code",
   "execution_count": 24,
   "metadata": {},
   "outputs": [],
   "source": [
    "now = datetime.now()"
   ]
  },
  {
   "cell_type": "code",
   "execution_count": 25,
   "metadata": {},
   "outputs": [
    {
     "data": {
      "text/plain": [
       "datetime.datetime(2019, 3, 29, 16, 58, 0, 670604)"
      ]
     },
     "execution_count": 25,
     "metadata": {},
     "output_type": "execute_result"
    }
   ],
   "source": [
    "now"
   ]
  },
  {
   "cell_type": "code",
   "execution_count": 27,
   "metadata": {},
   "outputs": [
    {
     "data": {
      "text/plain": [
       "(2019, 29)"
      ]
     },
     "execution_count": 27,
     "metadata": {},
     "output_type": "execute_result"
    }
   ],
   "source": [
    "now.year,now.day"
   ]
  },
  {
   "cell_type": "code",
   "execution_count": 28,
   "metadata": {},
   "outputs": [
    {
     "data": {
      "text/plain": [
       "datetime.timedelta(926, 56700)"
      ]
     },
     "execution_count": 28,
     "metadata": {},
     "output_type": "execute_result"
    }
   ],
   "source": [
    "d = datetime(2011,1,7)-datetime(2008,6,24,8,15)\n",
    "d"
   ]
  },
  {
   "cell_type": "code",
   "execution_count": 29,
   "metadata": {},
   "outputs": [
    {
     "data": {
      "text/plain": [
       "926"
      ]
     },
     "execution_count": 29,
     "metadata": {},
     "output_type": "execute_result"
    }
   ],
   "source": [
    "d.days"
   ]
  },
  {
   "cell_type": "code",
   "execution_count": 30,
   "metadata": {},
   "outputs": [
    {
     "data": {
      "text/plain": [
       "56700"
      ]
     },
     "execution_count": 30,
     "metadata": {},
     "output_type": "execute_result"
    }
   ],
   "source": [
    "d.seconds"
   ]
  },
  {
   "cell_type": "code",
   "execution_count": 31,
   "metadata": {
    "collapsed": true
   },
   "outputs": [],
   "source": [
    "from  datetime import timedelta"
   ]
  },
  {
   "cell_type": "code",
   "execution_count": 32,
   "metadata": {
    "collapsed": true
   },
   "outputs": [],
   "source": [
    "start = datetime(2011,1,7)"
   ]
  },
  {
   "cell_type": "code",
   "execution_count": 34,
   "metadata": {},
   "outputs": [
    {
     "data": {
      "text/plain": [
       "datetime.datetime(2011, 1, 31, 0, 0)"
      ]
     },
     "execution_count": 34,
     "metadata": {},
     "output_type": "execute_result"
    }
   ],
   "source": [
    "start+timedelta(12)*2"
   ]
  },
  {
   "cell_type": "markdown",
   "metadata": {},
   "source": [
    "## 字符串和datetime的相互转换"
   ]
  },
  {
   "cell_type": "code",
   "execution_count": 36,
   "metadata": {
    "collapsed": true
   },
   "outputs": [],
   "source": [
    "stamp = datetime(2011,1,3)"
   ]
  },
  {
   "cell_type": "code",
   "execution_count": 37,
   "metadata": {},
   "outputs": [
    {
     "data": {
      "text/plain": [
       "'2011-01-03 00:00:00'"
      ]
     },
     "execution_count": 37,
     "metadata": {},
     "output_type": "execute_result"
    }
   ],
   "source": [
    "str(stamp)"
   ]
  },
  {
   "cell_type": "code",
   "execution_count": 48,
   "metadata": {},
   "outputs": [
    {
     "data": {
      "text/plain": [
       "'11-01-03'"
      ]
     },
     "execution_count": 48,
     "metadata": {},
     "output_type": "execute_result"
    }
   ],
   "source": [
    "stamp.strftime('%Y-%m-%d')"
   ]
  },
  {
   "cell_type": "code",
   "execution_count": 49,
   "metadata": {
    "collapsed": true
   },
   "outputs": [],
   "source": [
    "v  = '2011-01-02'"
   ]
  },
  {
   "cell_type": "code",
   "execution_count": 50,
   "metadata": {},
   "outputs": [
    {
     "data": {
      "text/plain": [
       "datetime.datetime(2011, 1, 2, 0, 0)"
      ]
     },
     "execution_count": 50,
     "metadata": {},
     "output_type": "execute_result"
    }
   ],
   "source": [
    "datetime.strptime(v,'%Y-%m-%d')"
   ]
  },
  {
   "cell_type": "code",
   "execution_count": 51,
   "metadata": {
    "collapsed": true
   },
   "outputs": [],
   "source": [
    "d = ['7/6/2011','2/6/2011']"
   ]
  },
  {
   "cell_type": "code",
   "execution_count": 53,
   "metadata": {},
   "outputs": [
    {
     "data": {
      "text/plain": [
       "[datetime.datetime(2011, 7, 6, 0, 0), datetime.datetime(2011, 2, 6, 0, 0)]"
      ]
     },
     "execution_count": 53,
     "metadata": {},
     "output_type": "execute_result"
    }
   ],
   "source": [
    "[datetime.strptime(x,'%m/%d/%Y') for x in d]"
   ]
  },
  {
   "cell_type": "code",
   "execution_count": 54,
   "metadata": {
    "collapsed": true
   },
   "outputs": [],
   "source": [
    "from dateutil.parser import parse"
   ]
  },
  {
   "cell_type": "code",
   "execution_count": 55,
   "metadata": {},
   "outputs": [
    {
     "data": {
      "text/plain": [
       "datetime.datetime(2011, 1, 3, 0, 0)"
      ]
     },
     "execution_count": 55,
     "metadata": {},
     "output_type": "execute_result"
    }
   ],
   "source": [
    "parse('2011-01-03')"
   ]
  },
  {
   "cell_type": "code",
   "execution_count": 57,
   "metadata": {},
   "outputs": [
    {
     "data": {
      "text/plain": [
       "datetime.datetime(2011, 12, 6, 0, 0)"
      ]
     },
     "execution_count": 57,
     "metadata": {},
     "output_type": "execute_result"
    }
   ],
   "source": [
    "parse('6/12/2011',dayfirst=True)"
   ]
  },
  {
   "cell_type": "code",
   "execution_count": 60,
   "metadata": {
    "collapsed": true
   },
   "outputs": [],
   "source": [
    "import pandas as pd"
   ]
  },
  {
   "cell_type": "code",
   "execution_count": 61,
   "metadata": {
    "collapsed": true
   },
   "outputs": [],
   "source": [
    "d = ['2011-07-06 12:00:00','2012-08-09 00:00:00']"
   ]
  },
  {
   "cell_type": "code",
   "execution_count": 62,
   "metadata": {},
   "outputs": [
    {
     "data": {
      "text/plain": [
       "DatetimeIndex(['2011-07-06 12:00:00', '2012-08-09 00:00:00'], dtype='datetime64[ns]', freq=None)"
      ]
     },
     "execution_count": 62,
     "metadata": {},
     "output_type": "execute_result"
    }
   ],
   "source": [
    "pd.to_datetime(d)"
   ]
  },
  {
   "cell_type": "code",
   "execution_count": 63,
   "metadata": {},
   "outputs": [
    {
     "data": {
      "text/plain": [
       "DatetimeIndex(['2011-07-06 12:00:00', '2012-08-09 00:00:00', 'NaT'], dtype='datetime64[ns]', freq=None)"
      ]
     },
     "execution_count": 63,
     "metadata": {},
     "output_type": "execute_result"
    }
   ],
   "source": [
    "idx = pd.to_datetime(d+[None])\n",
    "idx"
   ]
  },
  {
   "cell_type": "code",
   "execution_count": 64,
   "metadata": {},
   "outputs": [
    {
     "data": {
      "text/plain": [
       "array([False, False,  True], dtype=bool)"
      ]
     },
     "execution_count": 64,
     "metadata": {},
     "output_type": "execute_result"
    }
   ],
   "source": [
    "pd.isnull(idx)"
   ]
  },
  {
   "cell_type": "markdown",
   "metadata": {},
   "source": [
    "# 2.时间序列基础"
   ]
  },
  {
   "cell_type": "code",
   "execution_count": 71,
   "metadata": {
    "collapsed": true
   },
   "outputs": [],
   "source": [
    "import numpy as np\n",
    "import pandas as pd\n",
    "from datetime import datetime"
   ]
  },
  {
   "cell_type": "code",
   "execution_count": 72,
   "metadata": {
    "collapsed": true
   },
   "outputs": [],
   "source": [
    "dates = [datetime(2011, 1, 2), datetime(2011, 1, 5),\n",
    "datetime(2011, 1, 7), datetime(2011, 1, 8),\n",
    "datetime(2011, 1, 10), datetime(2011, 1, 12)]"
   ]
  },
  {
   "cell_type": "code",
   "execution_count": 73,
   "metadata": {},
   "outputs": [
    {
     "data": {
      "text/plain": [
       "2011-01-02    0.798991\n",
       "2011-01-05    0.196614\n",
       "2011-01-07   -0.200008\n",
       "2011-01-08   -0.629049\n",
       "2011-01-10   -1.593667\n",
       "2011-01-12   -0.808394\n",
       "dtype: float64"
      ]
     },
     "execution_count": 73,
     "metadata": {},
     "output_type": "execute_result"
    }
   ],
   "source": [
    "ts = pd.Series(np.random.randn(6), index=dates)\n",
    "ts"
   ]
  },
  {
   "cell_type": "code",
   "execution_count": 74,
   "metadata": {},
   "outputs": [
    {
     "data": {
      "text/plain": [
       "DatetimeIndex(['2011-01-02', '2011-01-05', '2011-01-07', '2011-01-08',\n",
       "               '2011-01-10', '2011-01-12'],\n",
       "              dtype='datetime64[ns]', freq=None)"
      ]
     },
     "execution_count": 74,
     "metadata": {},
     "output_type": "execute_result"
    }
   ],
   "source": [
    "ts.index\n",
    "# pandas用numpy的datetime64数据类型以纳秒形式存储时间戳"
   ]
  },
  {
   "cell_type": "code",
   "execution_count": 76,
   "metadata": {},
   "outputs": [
    {
     "data": {
      "text/plain": [
       "2011-01-02    0.798991\n",
       "2011-01-07   -0.200008\n",
       "2011-01-10   -1.593667\n",
       "dtype: float64"
      ]
     },
     "execution_count": 76,
     "metadata": {},
     "output_type": "execute_result"
    }
   ],
   "source": [
    "ts[::2]  "
   ]
  },
  {
   "cell_type": "code",
   "execution_count": 75,
   "metadata": {},
   "outputs": [
    {
     "data": {
      "text/plain": [
       "2011-01-02    1.597982\n",
       "2011-01-05         NaN\n",
       "2011-01-07   -0.400015\n",
       "2011-01-08         NaN\n",
       "2011-01-10   -3.187335\n",
       "2011-01-12         NaN\n",
       "dtype: float64"
      ]
     },
     "execution_count": 75,
     "metadata": {},
     "output_type": "execute_result"
    }
   ],
   "source": [
    "ts+ts[::2]   # 每隔2个取一个"
   ]
  },
  {
   "cell_type": "code",
   "execution_count": 77,
   "metadata": {},
   "outputs": [
    {
     "data": {
      "text/plain": [
       "dtype('<M8[ns]')"
      ]
     },
     "execution_count": 77,
     "metadata": {},
     "output_type": "execute_result"
    }
   ],
   "source": [
    "ts.index.dtype"
   ]
  },
  {
   "cell_type": "code",
   "execution_count": 78,
   "metadata": {},
   "outputs": [
    {
     "data": {
      "text/plain": [
       "Timestamp('2011-01-02 00:00:00')"
      ]
     },
     "execution_count": 78,
     "metadata": {},
     "output_type": "execute_result"
    }
   ],
   "source": [
    "s = ts.index[0]\n",
    "s"
   ]
  },
  {
   "cell_type": "markdown",
   "metadata": {},
   "source": [
    "## 索引 选取"
   ]
  },
  {
   "cell_type": "code",
   "execution_count": 79,
   "metadata": {},
   "outputs": [
    {
     "data": {
      "text/plain": [
       "-0.20000767009520146"
      ]
     },
     "execution_count": 79,
     "metadata": {},
     "output_type": "execute_result"
    }
   ],
   "source": [
    "stamp = ts.index[2]\n",
    "ts[stamp]"
   ]
  },
  {
   "cell_type": "code",
   "execution_count": 80,
   "metadata": {},
   "outputs": [
    {
     "data": {
      "text/plain": [
       "-1.5936674593494784"
      ]
     },
     "execution_count": 80,
     "metadata": {},
     "output_type": "execute_result"
    }
   ],
   "source": [
    "ts['1/10/2011']"
   ]
  },
  {
   "cell_type": "code",
   "execution_count": 81,
   "metadata": {},
   "outputs": [
    {
     "data": {
      "text/plain": [
       "-1.5936674593494784"
      ]
     },
     "execution_count": 81,
     "metadata": {},
     "output_type": "execute_result"
    }
   ],
   "source": [
    "ts['20110110']"
   ]
  },
  {
   "cell_type": "code",
   "execution_count": 83,
   "metadata": {},
   "outputs": [
    {
     "data": {
      "text/plain": [
       "2000-01-01   -0.520014\n",
       "2000-01-02    0.773647\n",
       "2000-01-03    0.835847\n",
       "2000-01-04   -1.293165\n",
       "2000-01-05    1.352625\n",
       "2000-01-06    0.380777\n",
       "2000-01-07   -0.986006\n",
       "2000-01-08    0.579101\n",
       "2000-01-09    0.435369\n",
       "2000-01-10   -0.658833\n",
       "2000-01-11    1.752580\n",
       "2000-01-12    0.238779\n",
       "2000-01-13   -2.018777\n",
       "2000-01-14    1.790300\n",
       "2000-01-15    0.760050\n",
       "2000-01-16   -0.350592\n",
       "2000-01-17    0.309585\n",
       "2000-01-18    0.911585\n",
       "2000-01-19   -0.126610\n",
       "2000-01-20    0.756469\n",
       "2000-01-21   -0.182704\n",
       "2000-01-22   -0.377963\n",
       "2000-01-23    0.206181\n",
       "2000-01-24   -1.371465\n",
       "2000-01-25    0.280122\n",
       "2000-01-26   -1.192021\n",
       "2000-01-27   -0.194298\n",
       "2000-01-28   -0.616447\n",
       "2000-01-29    0.695558\n",
       "2000-01-30    0.070934\n",
       "                ...   \n",
       "2002-08-28   -0.095526\n",
       "2002-08-29    0.665643\n",
       "2002-08-30   -0.995688\n",
       "2002-08-31    0.753313\n",
       "2002-09-01   -2.017717\n",
       "2002-09-02    1.231126\n",
       "2002-09-03   -0.165711\n",
       "2002-09-04   -0.500616\n",
       "2002-09-05    0.394393\n",
       "2002-09-06    0.741359\n",
       "2002-09-07   -1.842776\n",
       "2002-09-08    0.598201\n",
       "2002-09-09   -0.298876\n",
       "2002-09-10   -1.110630\n",
       "2002-09-11   -1.172312\n",
       "2002-09-12    0.595443\n",
       "2002-09-13    0.510448\n",
       "2002-09-14    0.640832\n",
       "2002-09-15    0.127102\n",
       "2002-09-16    1.001135\n",
       "2002-09-17   -1.268048\n",
       "2002-09-18   -0.483713\n",
       "2002-09-19    0.762780\n",
       "2002-09-20    0.059496\n",
       "2002-09-21    1.481692\n",
       "2002-09-22    0.152538\n",
       "2002-09-23    0.489826\n",
       "2002-09-24   -1.192130\n",
       "2002-09-25    0.132092\n",
       "2002-09-26   -0.805012\n",
       "Freq: D, Length: 1000, dtype: float64"
      ]
     },
     "execution_count": 83,
     "metadata": {},
     "output_type": "execute_result"
    }
   ],
   "source": [
    "ts1 = pd.Series(np.random.randn(1000),index=pd.date_range('1/1/2000',periods=1000))\n",
    "ts1"
   ]
  },
  {
   "cell_type": "code",
   "execution_count": 84,
   "metadata": {},
   "outputs": [
    {
     "data": {
      "text/plain": [
       "2001-01-01   -1.603892\n",
       "2001-01-02   -2.217461\n",
       "2001-01-03   -1.123797\n",
       "2001-01-04   -0.216432\n",
       "2001-01-05    0.078367\n",
       "2001-01-06   -0.897350\n",
       "2001-01-07    2.302406\n",
       "2001-01-08    0.176770\n",
       "2001-01-09   -0.295105\n",
       "2001-01-10   -1.947410\n",
       "2001-01-11    0.341937\n",
       "2001-01-12    1.019365\n",
       "2001-01-13    0.512808\n",
       "2001-01-14    1.489419\n",
       "2001-01-15   -0.625210\n",
       "2001-01-16   -0.191730\n",
       "2001-01-17   -1.225426\n",
       "2001-01-18    2.654761\n",
       "2001-01-19   -1.253614\n",
       "2001-01-20    0.518012\n",
       "2001-01-21    1.169852\n",
       "2001-01-22   -0.285891\n",
       "2001-01-23   -1.500473\n",
       "2001-01-24   -1.999329\n",
       "2001-01-25   -1.703155\n",
       "2001-01-26   -0.138448\n",
       "2001-01-27    1.416715\n",
       "2001-01-28    1.977583\n",
       "2001-01-29    0.618963\n",
       "2001-01-30    1.007768\n",
       "                ...   \n",
       "2001-12-02   -0.628146\n",
       "2001-12-03   -0.677050\n",
       "2001-12-04   -0.255657\n",
       "2001-12-05    1.511702\n",
       "2001-12-06    0.320217\n",
       "2001-12-07    1.443050\n",
       "2001-12-08   -0.674317\n",
       "2001-12-09   -1.416192\n",
       "2001-12-10   -0.997088\n",
       "2001-12-11    0.723600\n",
       "2001-12-12    0.484364\n",
       "2001-12-13    0.588291\n",
       "2001-12-14    0.404283\n",
       "2001-12-15    0.115390\n",
       "2001-12-16   -1.072091\n",
       "2001-12-17    1.993869\n",
       "2001-12-18    0.663094\n",
       "2001-12-19    0.572890\n",
       "2001-12-20    0.676556\n",
       "2001-12-21   -0.257530\n",
       "2001-12-22   -0.649291\n",
       "2001-12-23    1.716425\n",
       "2001-12-24    0.268046\n",
       "2001-12-25    0.932498\n",
       "2001-12-26    0.893652\n",
       "2001-12-27   -0.244962\n",
       "2001-12-28    0.071061\n",
       "2001-12-29    1.653619\n",
       "2001-12-30   -0.107086\n",
       "2001-12-31    2.102105\n",
       "Freq: D, Length: 365, dtype: float64"
      ]
     },
     "execution_count": 84,
     "metadata": {},
     "output_type": "execute_result"
    }
   ],
   "source": [
    "ts1['2001']"
   ]
  },
  {
   "cell_type": "code",
   "execution_count": 85,
   "metadata": {},
   "outputs": [
    {
     "data": {
      "text/plain": [
       "2001-05-01   -0.121287\n",
       "2001-05-02    1.525895\n",
       "2001-05-03    0.889870\n",
       "2001-05-04    0.889520\n",
       "2001-05-05   -0.130214\n",
       "2001-05-06   -0.103642\n",
       "2001-05-07    0.008912\n",
       "2001-05-08   -0.483165\n",
       "2001-05-09   -0.572695\n",
       "2001-05-10   -0.088317\n",
       "2001-05-11   -0.720111\n",
       "2001-05-12   -0.195244\n",
       "2001-05-13   -0.142451\n",
       "2001-05-14    1.863820\n",
       "2001-05-15    0.390357\n",
       "2001-05-16    0.921561\n",
       "2001-05-17    1.232658\n",
       "2001-05-18   -0.169262\n",
       "2001-05-19   -0.694950\n",
       "2001-05-20    0.213353\n",
       "2001-05-21    1.785021\n",
       "2001-05-22   -0.146509\n",
       "2001-05-23    1.285128\n",
       "2001-05-24    1.512173\n",
       "2001-05-25   -0.146719\n",
       "2001-05-26   -1.799922\n",
       "2001-05-27    0.798917\n",
       "2001-05-28   -1.310479\n",
       "2001-05-29    1.702596\n",
       "2001-05-30    1.847254\n",
       "2001-05-31    0.639867\n",
       "Freq: D, dtype: float64"
      ]
     },
     "execution_count": 85,
     "metadata": {},
     "output_type": "execute_result"
    }
   ],
   "source": [
    "ts1['2001-05']"
   ]
  },
  {
   "cell_type": "code",
   "execution_count": 86,
   "metadata": {},
   "outputs": [
    {
     "data": {
      "text/plain": [
       "2011-01-02    0.798991\n",
       "2011-01-05    0.196614\n",
       "2011-01-07   -0.200008\n",
       "2011-01-08   -0.629049\n",
       "2011-01-10   -1.593667\n",
       "2011-01-12   -0.808394\n",
       "dtype: float64"
      ]
     },
     "execution_count": 86,
     "metadata": {},
     "output_type": "execute_result"
    }
   ],
   "source": [
    "ts"
   ]
  },
  {
   "cell_type": "code",
   "execution_count": 87,
   "metadata": {},
   "outputs": [
    {
     "data": {
      "text/plain": [
       "2011-01-07   -0.200008\n",
       "2011-01-08   -0.629049\n",
       "2011-01-10   -1.593667\n",
       "2011-01-12   -0.808394\n",
       "dtype: float64"
      ]
     },
     "execution_count": 87,
     "metadata": {},
     "output_type": "execute_result"
    }
   ],
   "source": [
    "ts[datetime(2011,1,7):]"
   ]
  },
  {
   "cell_type": "code",
   "execution_count": 94,
   "metadata": {},
   "outputs": [],
   "source": [
    "ts['1/6/2011':'1/11/2011'] = 1"
   ]
  },
  {
   "cell_type": "code",
   "execution_count": 95,
   "metadata": {},
   "outputs": [
    {
     "data": {
      "text/plain": [
       "2011-01-02    0.798991\n",
       "2011-01-05    0.196614\n",
       "2011-01-07    1.000000\n",
       "2011-01-08    1.000000\n",
       "2011-01-10    1.000000\n",
       "2011-01-12   -0.808394\n",
       "dtype: float64"
      ]
     },
     "execution_count": 95,
     "metadata": {},
     "output_type": "execute_result"
    }
   ],
   "source": [
    "ts"
   ]
  },
  {
   "cell_type": "code",
   "execution_count": 97,
   "metadata": {},
   "outputs": [
    {
     "data": {
      "text/plain": [
       "2011-01-02    0.798991\n",
       "2011-01-05    0.196614\n",
       "2011-01-07    1.000000\n",
       "2011-01-08    1.000000\n",
       "dtype: float64"
      ]
     },
     "execution_count": 97,
     "metadata": {},
     "output_type": "execute_result"
    }
   ],
   "source": [
    "ts.truncate(after='1/9/2011')"
   ]
  },
  {
   "cell_type": "code",
   "execution_count": 96,
   "metadata": {},
   "outputs": [
    {
     "data": {
      "text/plain": [
       "2011-01-02    0.798991\n",
       "2011-01-05    0.196614\n",
       "2011-01-07    1.000000\n",
       "2011-01-08    1.000000\n",
       "dtype: float64"
      ]
     },
     "execution_count": 96,
     "metadata": {},
     "output_type": "execute_result"
    }
   ],
   "source": [
    "ts.truncate(after='1/9/2011')"
   ]
  },
  {
   "cell_type": "markdown",
   "metadata": {},
   "source": [
    "## 带有重复索引的时间序列"
   ]
  },
  {
   "cell_type": "code",
   "execution_count": 99,
   "metadata": {
    "collapsed": true
   },
   "outputs": [],
   "source": [
    "dates = pd.DatetimeIndex(['1/1/2000', '1/2/2000', '1/2/2000','1/2/2000', '1/3/2000'])"
   ]
  },
  {
   "cell_type": "code",
   "execution_count": 100,
   "metadata": {},
   "outputs": [
    {
     "data": {
      "text/plain": [
       "2000-01-01    0\n",
       "2000-01-02    1\n",
       "2000-01-02    2\n",
       "2000-01-02    3\n",
       "2000-01-03    4\n",
       "dtype: int32"
      ]
     },
     "execution_count": 100,
     "metadata": {},
     "output_type": "execute_result"
    }
   ],
   "source": [
    "ts2 = pd.Series(np.arange(5), index=dates)\n",
    "ts2"
   ]
  },
  {
   "cell_type": "code",
   "execution_count": 101,
   "metadata": {},
   "outputs": [
    {
     "data": {
      "text/plain": [
       "False"
      ]
     },
     "execution_count": 101,
     "metadata": {},
     "output_type": "execute_result"
    }
   ],
   "source": [
    "ts2.index.is_unique"
   ]
  },
  {
   "cell_type": "code",
   "execution_count": 102,
   "metadata": {},
   "outputs": [
    {
     "data": {
      "text/plain": [
       "4"
      ]
     },
     "execution_count": 102,
     "metadata": {},
     "output_type": "execute_result"
    }
   ],
   "source": [
    "ts2['1/3/2000']"
   ]
  },
  {
   "cell_type": "code",
   "execution_count": 103,
   "metadata": {},
   "outputs": [
    {
     "data": {
      "text/plain": [
       "2000-01-02    1\n",
       "2000-01-02    2\n",
       "2000-01-02    3\n",
       "dtype: int32"
      ]
     },
     "execution_count": 103,
     "metadata": {},
     "output_type": "execute_result"
    }
   ],
   "source": [
    "ts2['1/2/2000']"
   ]
  },
  {
   "cell_type": "code",
   "execution_count": 105,
   "metadata": {},
   "outputs": [
    {
     "data": {
      "text/plain": [
       "2000-01-01    0\n",
       "2000-01-02    2\n",
       "2000-01-03    4\n",
       "dtype: int32"
      ]
     },
     "execution_count": 105,
     "metadata": {},
     "output_type": "execute_result"
    }
   ],
   "source": [
    "ts2.groupby(level=0).mean()"
   ]
  },
  {
   "cell_type": "code",
   "execution_count": 106,
   "metadata": {},
   "outputs": [
    {
     "data": {
      "text/plain": [
       "2000-01-01    1\n",
       "2000-01-02    3\n",
       "2000-01-03    1\n",
       "dtype: int64"
      ]
     },
     "execution_count": 106,
     "metadata": {},
     "output_type": "execute_result"
    }
   ],
   "source": [
    "ts2.groupby(level=0).count()"
   ]
  },
  {
   "cell_type": "markdown",
   "metadata": {},
   "source": [
    "# 3.日期的范围、频率以及移动"
   ]
  },
  {
   "cell_type": "markdown",
   "metadata": {},
   "source": [
    "## 生成日期范围 "
   ]
  },
  {
   "cell_type": "code",
   "execution_count": null,
   "metadata": {
    "collapsed": true
   },
   "outputs": [],
   "source": [
    "# pd.date_range(start=None, end=None, periods=None, freq='D')"
   ]
  },
  {
   "cell_type": "code",
   "execution_count": 134,
   "metadata": {},
   "outputs": [
    {
     "data": {
      "text/plain": [
       "DatetimeIndex(['2012-04-01', '2012-04-02', '2012-04-03', '2012-04-04',\n",
       "               '2012-04-05', '2012-04-06', '2012-04-07', '2012-04-08',\n",
       "               '2012-04-09', '2012-04-10', '2012-04-11', '2012-04-12',\n",
       "               '2012-04-13', '2012-04-14', '2012-04-15', '2012-04-16',\n",
       "               '2012-04-17', '2012-04-18', '2012-04-19', '2012-04-20',\n",
       "               '2012-04-21', '2012-04-22', '2012-04-23', '2012-04-24',\n",
       "               '2012-04-25', '2012-04-26', '2012-04-27', '2012-04-28',\n",
       "               '2012-04-29', '2012-04-30', '2012-05-01', '2012-05-02',\n",
       "               '2012-05-03', '2012-05-04', '2012-05-05', '2012-05-06',\n",
       "               '2012-05-07', '2012-05-08', '2012-05-09', '2012-05-10',\n",
       "               '2012-05-11', '2012-05-12', '2012-05-13', '2012-05-14',\n",
       "               '2012-05-15', '2012-05-16', '2012-05-17', '2012-05-18',\n",
       "               '2012-05-19', '2012-05-20', '2012-05-21', '2012-05-22',\n",
       "               '2012-05-23', '2012-05-24', '2012-05-25', '2012-05-26',\n",
       "               '2012-05-27', '2012-05-28', '2012-05-29', '2012-05-30',\n",
       "               '2012-05-31', '2012-06-01'],\n",
       "              dtype='datetime64[ns]', freq='D')"
      ]
     },
     "execution_count": 134,
     "metadata": {},
     "output_type": "execute_result"
    }
   ],
   "source": [
    "index = pd.date_range('2012-04-01','2012-06-01')\n",
    "index"
   ]
  },
  {
   "cell_type": "code",
   "execution_count": 135,
   "metadata": {},
   "outputs": [
    {
     "data": {
      "text/plain": [
       "DatetimeIndex(['2012-04-01', '2012-04-02', '2012-04-03', '2012-04-04',\n",
       "               '2012-04-05', '2012-04-06', '2012-04-07', '2012-04-08',\n",
       "               '2012-04-09', '2012-04-10', '2012-04-11', '2012-04-12',\n",
       "               '2012-04-13', '2012-04-14', '2012-04-15', '2012-04-16',\n",
       "               '2012-04-17', '2012-04-18', '2012-04-19', '2012-04-20'],\n",
       "              dtype='datetime64[ns]', freq='D')"
      ]
     },
     "execution_count": 135,
     "metadata": {},
     "output_type": "execute_result"
    }
   ],
   "source": [
    "pd.date_range('2012-04-01',periods=20)"
   ]
  },
  {
   "cell_type": "code",
   "execution_count": 136,
   "metadata": {},
   "outputs": [
    {
     "data": {
      "text/plain": [
       "DatetimeIndex(['2012-03-13', '2012-03-14', '2012-03-15', '2012-03-16',\n",
       "               '2012-03-17', '2012-03-18', '2012-03-19', '2012-03-20',\n",
       "               '2012-03-21', '2012-03-22', '2012-03-23', '2012-03-24',\n",
       "               '2012-03-25', '2012-03-26', '2012-03-27', '2012-03-28',\n",
       "               '2012-03-29', '2012-03-30', '2012-03-31', '2012-04-01'],\n",
       "              dtype='datetime64[ns]', freq='D')"
      ]
     },
     "execution_count": 136,
     "metadata": {},
     "output_type": "execute_result"
    }
   ],
   "source": [
    "pd.date_range(end='2012-04-01',periods=20)"
   ]
  },
  {
   "cell_type": "code",
   "execution_count": 140,
   "metadata": {},
   "outputs": [
    {
     "data": {
      "text/plain": [
       "DatetimeIndex(['2012-01-31', '2012-02-29', '2012-03-31', '2012-04-30',\n",
       "               '2012-05-31', '2012-06-30', '2012-07-31', '2012-08-31',\n",
       "               '2012-09-30', '2012-10-31', '2012-11-30', '2012-12-31'],\n",
       "              dtype='datetime64[ns]', freq='M')"
      ]
     },
     "execution_count": 140,
     "metadata": {},
     "output_type": "execute_result"
    }
   ],
   "source": [
    "pd.date_range('2012-01-01','2012-12-31',freq='M')"
   ]
  },
  {
   "cell_type": "markdown",
   "metadata": {},
   "source": [
    "## 频率和日期偏移量\n",
    "pandas中的频率是由一个基础频率（base frequency）和一个乘数组成的。基础频率通常以一个字符串别名表示，比如\"M\"表示每月，\"H\"表示每小时。对于每个基础频率，都有一个被称为日期偏移量（date offset）的对象与之对应。例如，按小时计算的频率可以用Hour类表示："
   ]
  },
  {
   "cell_type": "code",
   "execution_count": 141,
   "metadata": {
    "collapsed": true
   },
   "outputs": [],
   "source": [
    "from pandas.tseries.offsets import Hour, Minute"
   ]
  },
  {
   "cell_type": "code",
   "execution_count": 142,
   "metadata": {},
   "outputs": [
    {
     "data": {
      "text/plain": [
       "<Hour>"
      ]
     },
     "execution_count": 142,
     "metadata": {},
     "output_type": "execute_result"
    }
   ],
   "source": [
    "hour = Hour()\n",
    "hour"
   ]
  },
  {
   "cell_type": "code",
   "execution_count": 143,
   "metadata": {},
   "outputs": [
    {
     "data": {
      "text/plain": [
       "<4 * Hours>"
      ]
     },
     "execution_count": 143,
     "metadata": {},
     "output_type": "execute_result"
    }
   ],
   "source": [
    "h = Hour(4)\n",
    "h"
   ]
  },
  {
   "cell_type": "code",
   "execution_count": 145,
   "metadata": {},
   "outputs": [
    {
     "data": {
      "text/plain": [
       "DatetimeIndex(['2000-01-01 00:00:00', '2000-01-01 04:00:00',\n",
       "               '2000-01-01 08:00:00', '2000-01-01 12:00:00',\n",
       "               '2000-01-01 16:00:00', '2000-01-01 20:00:00',\n",
       "               '2000-01-02 00:00:00'],\n",
       "              dtype='datetime64[ns]', freq='4H')"
      ]
     },
     "execution_count": 145,
     "metadata": {},
     "output_type": "execute_result"
    }
   ],
   "source": [
    "pd.date_range('2000-01-01','2000-01-02',freq='4h')"
   ]
  },
  {
   "cell_type": "code",
   "execution_count": 146,
   "metadata": {},
   "outputs": [
    {
     "data": {
      "text/plain": [
       "DatetimeIndex(['2000-01-01 00:00:00', '2000-01-01 02:30:00',\n",
       "               '2000-01-01 05:00:00', '2000-01-01 07:30:00',\n",
       "               '2000-01-01 10:00:00', '2000-01-01 12:30:00',\n",
       "               '2000-01-01 15:00:00', '2000-01-01 17:30:00',\n",
       "               '2000-01-01 20:00:00', '2000-01-01 22:30:00'],\n",
       "              dtype='datetime64[ns]', freq='150T')"
      ]
     },
     "execution_count": 146,
     "metadata": {},
     "output_type": "execute_result"
    }
   ],
   "source": [
    "pd.date_range('2000-01-01','2000-01-02',freq='2h30min')"
   ]
  },
  {
   "cell_type": "markdown",
   "metadata": {},
   "source": [
    "## 移动数据\n",
    "移动（shifting）指的是沿着时间轴将数据前移或后移。Series和DataFrame都有一个shift方法用于执行单纯的前移或后移操作，保持索引不变："
   ]
  },
  {
   "cell_type": "code",
   "execution_count": 149,
   "metadata": {},
   "outputs": [
    {
     "data": {
      "text/plain": [
       "2000-01-31    0.265049\n",
       "2000-02-29    0.812746\n",
       "2000-03-31    0.973299\n",
       "2000-04-30   -1.009740\n",
       "Freq: M, dtype: float64"
      ]
     },
     "execution_count": 149,
     "metadata": {},
     "output_type": "execute_result"
    }
   ],
   "source": [
    "ts = pd.Series(np.random.randn(4),\n",
    "                index=pd.date_range('1/1/2000', periods=4, freq='M'))\n",
    "ts"
   ]
  },
  {
   "cell_type": "code",
   "execution_count": 151,
   "metadata": {},
   "outputs": [
    {
     "data": {
      "text/plain": [
       "2000-01-31         NaN\n",
       "2000-02-29         NaN\n",
       "2000-03-31    0.265049\n",
       "2000-04-30    0.812746\n",
       "Freq: M, dtype: float64"
      ]
     },
     "execution_count": 151,
     "metadata": {},
     "output_type": "execute_result"
    }
   ],
   "source": [
    "ts.shift(2)"
   ]
  },
  {
   "cell_type": "code",
   "execution_count": 152,
   "metadata": {},
   "outputs": [
    {
     "data": {
      "text/plain": [
       "2000-01-31    0.973299\n",
       "2000-02-29   -1.009740\n",
       "2000-03-31         NaN\n",
       "2000-04-30         NaN\n",
       "Freq: M, dtype: float64"
      ]
     },
     "execution_count": 152,
     "metadata": {},
     "output_type": "execute_result"
    }
   ],
   "source": [
    "ts.shift(-2)"
   ]
  },
  {
   "cell_type": "code",
   "execution_count": 153,
   "metadata": {},
   "outputs": [
    {
     "data": {
      "text/plain": [
       "2000-03-31    0.265049\n",
       "2000-04-30    0.812746\n",
       "2000-05-31    0.973299\n",
       "2000-06-30   -1.009740\n",
       "Freq: M, dtype: float64"
      ]
     },
     "execution_count": 153,
     "metadata": {},
     "output_type": "execute_result"
    }
   ],
   "source": [
    "ts.shift(2,freq='M')"
   ]
  },
  {
   "cell_type": "markdown",
   "metadata": {},
   "source": [
    "# 4 .重采样\n",
    "重采样：指的是将时间序列从一个频率转化为另一个频率进行处理的过程，将高频率数据转化为低频率数据为降采样，低频率转化为高频率为升采样"
   ]
  },
  {
   "cell_type": "code",
   "execution_count": 154,
   "metadata": {
    "collapsed": true
   },
   "outputs": [],
   "source": [
    "t = pd.DataFrame(np.random.uniform(10,50,(100,1)),index=pd.date_range('20170101',periods=100))"
   ]
  },
  {
   "cell_type": "code",
   "execution_count": 156,
   "metadata": {},
   "outputs": [
    {
     "data": {
      "text/html": [
       "<div>\n",
       "<style>\n",
       "    .dataframe thead tr:only-child th {\n",
       "        text-align: right;\n",
       "    }\n",
       "\n",
       "    .dataframe thead th {\n",
       "        text-align: left;\n",
       "    }\n",
       "\n",
       "    .dataframe tbody tr th {\n",
       "        vertical-align: top;\n",
       "    }\n",
       "</style>\n",
       "<table border=\"1\" class=\"dataframe\">\n",
       "  <thead>\n",
       "    <tr style=\"text-align: right;\">\n",
       "      <th></th>\n",
       "      <th>0</th>\n",
       "    </tr>\n",
       "  </thead>\n",
       "  <tbody>\n",
       "    <tr>\n",
       "      <th>2017-01-01</th>\n",
       "      <td>18.996074</td>\n",
       "    </tr>\n",
       "    <tr>\n",
       "      <th>2017-01-02</th>\n",
       "      <td>47.692185</td>\n",
       "    </tr>\n",
       "    <tr>\n",
       "      <th>2017-01-03</th>\n",
       "      <td>42.987595</td>\n",
       "    </tr>\n",
       "    <tr>\n",
       "      <th>2017-01-04</th>\n",
       "      <td>18.906865</td>\n",
       "    </tr>\n",
       "    <tr>\n",
       "      <th>2017-01-05</th>\n",
       "      <td>16.130308</td>\n",
       "    </tr>\n",
       "    <tr>\n",
       "      <th>2017-01-06</th>\n",
       "      <td>28.786799</td>\n",
       "    </tr>\n",
       "    <tr>\n",
       "      <th>2017-01-07</th>\n",
       "      <td>20.807334</td>\n",
       "    </tr>\n",
       "    <tr>\n",
       "      <th>2017-01-08</th>\n",
       "      <td>18.873958</td>\n",
       "    </tr>\n",
       "    <tr>\n",
       "      <th>2017-01-09</th>\n",
       "      <td>47.544460</td>\n",
       "    </tr>\n",
       "    <tr>\n",
       "      <th>2017-01-10</th>\n",
       "      <td>41.985995</td>\n",
       "    </tr>\n",
       "    <tr>\n",
       "      <th>2017-01-11</th>\n",
       "      <td>31.147446</td>\n",
       "    </tr>\n",
       "    <tr>\n",
       "      <th>2017-01-12</th>\n",
       "      <td>49.526829</td>\n",
       "    </tr>\n",
       "    <tr>\n",
       "      <th>2017-01-13</th>\n",
       "      <td>14.676173</td>\n",
       "    </tr>\n",
       "    <tr>\n",
       "      <th>2017-01-14</th>\n",
       "      <td>35.626247</td>\n",
       "    </tr>\n",
       "    <tr>\n",
       "      <th>2017-01-15</th>\n",
       "      <td>46.250999</td>\n",
       "    </tr>\n",
       "    <tr>\n",
       "      <th>2017-01-16</th>\n",
       "      <td>42.069840</td>\n",
       "    </tr>\n",
       "    <tr>\n",
       "      <th>2017-01-17</th>\n",
       "      <td>28.174688</td>\n",
       "    </tr>\n",
       "    <tr>\n",
       "      <th>2017-01-18</th>\n",
       "      <td>37.608607</td>\n",
       "    </tr>\n",
       "    <tr>\n",
       "      <th>2017-01-19</th>\n",
       "      <td>26.111948</td>\n",
       "    </tr>\n",
       "    <tr>\n",
       "      <th>2017-01-20</th>\n",
       "      <td>48.401848</td>\n",
       "    </tr>\n",
       "    <tr>\n",
       "      <th>2017-01-21</th>\n",
       "      <td>47.030436</td>\n",
       "    </tr>\n",
       "    <tr>\n",
       "      <th>2017-01-22</th>\n",
       "      <td>20.033180</td>\n",
       "    </tr>\n",
       "    <tr>\n",
       "      <th>2017-01-23</th>\n",
       "      <td>40.941989</td>\n",
       "    </tr>\n",
       "    <tr>\n",
       "      <th>2017-01-24</th>\n",
       "      <td>37.902330</td>\n",
       "    </tr>\n",
       "    <tr>\n",
       "      <th>2017-01-25</th>\n",
       "      <td>25.272816</td>\n",
       "    </tr>\n",
       "    <tr>\n",
       "      <th>2017-01-26</th>\n",
       "      <td>10.341655</td>\n",
       "    </tr>\n",
       "    <tr>\n",
       "      <th>2017-01-27</th>\n",
       "      <td>45.077535</td>\n",
       "    </tr>\n",
       "    <tr>\n",
       "      <th>2017-01-28</th>\n",
       "      <td>49.539233</td>\n",
       "    </tr>\n",
       "    <tr>\n",
       "      <th>2017-01-29</th>\n",
       "      <td>13.777621</td>\n",
       "    </tr>\n",
       "    <tr>\n",
       "      <th>2017-01-30</th>\n",
       "      <td>26.734509</td>\n",
       "    </tr>\n",
       "    <tr>\n",
       "      <th>...</th>\n",
       "      <td>...</td>\n",
       "    </tr>\n",
       "    <tr>\n",
       "      <th>2017-03-12</th>\n",
       "      <td>33.753927</td>\n",
       "    </tr>\n",
       "    <tr>\n",
       "      <th>2017-03-13</th>\n",
       "      <td>19.594488</td>\n",
       "    </tr>\n",
       "    <tr>\n",
       "      <th>2017-03-14</th>\n",
       "      <td>39.238548</td>\n",
       "    </tr>\n",
       "    <tr>\n",
       "      <th>2017-03-15</th>\n",
       "      <td>18.218987</td>\n",
       "    </tr>\n",
       "    <tr>\n",
       "      <th>2017-03-16</th>\n",
       "      <td>16.217041</td>\n",
       "    </tr>\n",
       "    <tr>\n",
       "      <th>2017-03-17</th>\n",
       "      <td>11.329065</td>\n",
       "    </tr>\n",
       "    <tr>\n",
       "      <th>2017-03-18</th>\n",
       "      <td>41.070041</td>\n",
       "    </tr>\n",
       "    <tr>\n",
       "      <th>2017-03-19</th>\n",
       "      <td>25.201092</td>\n",
       "    </tr>\n",
       "    <tr>\n",
       "      <th>2017-03-20</th>\n",
       "      <td>44.026463</td>\n",
       "    </tr>\n",
       "    <tr>\n",
       "      <th>2017-03-21</th>\n",
       "      <td>40.143768</td>\n",
       "    </tr>\n",
       "    <tr>\n",
       "      <th>2017-03-22</th>\n",
       "      <td>47.778207</td>\n",
       "    </tr>\n",
       "    <tr>\n",
       "      <th>2017-03-23</th>\n",
       "      <td>42.566927</td>\n",
       "    </tr>\n",
       "    <tr>\n",
       "      <th>2017-03-24</th>\n",
       "      <td>35.215009</td>\n",
       "    </tr>\n",
       "    <tr>\n",
       "      <th>2017-03-25</th>\n",
       "      <td>42.114032</td>\n",
       "    </tr>\n",
       "    <tr>\n",
       "      <th>2017-03-26</th>\n",
       "      <td>37.159417</td>\n",
       "    </tr>\n",
       "    <tr>\n",
       "      <th>2017-03-27</th>\n",
       "      <td>19.897090</td>\n",
       "    </tr>\n",
       "    <tr>\n",
       "      <th>2017-03-28</th>\n",
       "      <td>29.057519</td>\n",
       "    </tr>\n",
       "    <tr>\n",
       "      <th>2017-03-29</th>\n",
       "      <td>32.288964</td>\n",
       "    </tr>\n",
       "    <tr>\n",
       "      <th>2017-03-30</th>\n",
       "      <td>14.298525</td>\n",
       "    </tr>\n",
       "    <tr>\n",
       "      <th>2017-03-31</th>\n",
       "      <td>35.696840</td>\n",
       "    </tr>\n",
       "    <tr>\n",
       "      <th>2017-04-01</th>\n",
       "      <td>45.540812</td>\n",
       "    </tr>\n",
       "    <tr>\n",
       "      <th>2017-04-02</th>\n",
       "      <td>23.291983</td>\n",
       "    </tr>\n",
       "    <tr>\n",
       "      <th>2017-04-03</th>\n",
       "      <td>38.489415</td>\n",
       "    </tr>\n",
       "    <tr>\n",
       "      <th>2017-04-04</th>\n",
       "      <td>39.619884</td>\n",
       "    </tr>\n",
       "    <tr>\n",
       "      <th>2017-04-05</th>\n",
       "      <td>18.252095</td>\n",
       "    </tr>\n",
       "    <tr>\n",
       "      <th>2017-04-06</th>\n",
       "      <td>25.650593</td>\n",
       "    </tr>\n",
       "    <tr>\n",
       "      <th>2017-04-07</th>\n",
       "      <td>22.367556</td>\n",
       "    </tr>\n",
       "    <tr>\n",
       "      <th>2017-04-08</th>\n",
       "      <td>10.666764</td>\n",
       "    </tr>\n",
       "    <tr>\n",
       "      <th>2017-04-09</th>\n",
       "      <td>42.688139</td>\n",
       "    </tr>\n",
       "    <tr>\n",
       "      <th>2017-04-10</th>\n",
       "      <td>36.925324</td>\n",
       "    </tr>\n",
       "  </tbody>\n",
       "</table>\n",
       "<p>100 rows × 1 columns</p>\n",
       "</div>"
      ],
      "text/plain": [
       "                    0\n",
       "2017-01-01  18.996074\n",
       "2017-01-02  47.692185\n",
       "2017-01-03  42.987595\n",
       "2017-01-04  18.906865\n",
       "2017-01-05  16.130308\n",
       "2017-01-06  28.786799\n",
       "2017-01-07  20.807334\n",
       "2017-01-08  18.873958\n",
       "2017-01-09  47.544460\n",
       "2017-01-10  41.985995\n",
       "2017-01-11  31.147446\n",
       "2017-01-12  49.526829\n",
       "2017-01-13  14.676173\n",
       "2017-01-14  35.626247\n",
       "2017-01-15  46.250999\n",
       "2017-01-16  42.069840\n",
       "2017-01-17  28.174688\n",
       "2017-01-18  37.608607\n",
       "2017-01-19  26.111948\n",
       "2017-01-20  48.401848\n",
       "2017-01-21  47.030436\n",
       "2017-01-22  20.033180\n",
       "2017-01-23  40.941989\n",
       "2017-01-24  37.902330\n",
       "2017-01-25  25.272816\n",
       "2017-01-26  10.341655\n",
       "2017-01-27  45.077535\n",
       "2017-01-28  49.539233\n",
       "2017-01-29  13.777621\n",
       "2017-01-30  26.734509\n",
       "...               ...\n",
       "2017-03-12  33.753927\n",
       "2017-03-13  19.594488\n",
       "2017-03-14  39.238548\n",
       "2017-03-15  18.218987\n",
       "2017-03-16  16.217041\n",
       "2017-03-17  11.329065\n",
       "2017-03-18  41.070041\n",
       "2017-03-19  25.201092\n",
       "2017-03-20  44.026463\n",
       "2017-03-21  40.143768\n",
       "2017-03-22  47.778207\n",
       "2017-03-23  42.566927\n",
       "2017-03-24  35.215009\n",
       "2017-03-25  42.114032\n",
       "2017-03-26  37.159417\n",
       "2017-03-27  19.897090\n",
       "2017-03-28  29.057519\n",
       "2017-03-29  32.288964\n",
       "2017-03-30  14.298525\n",
       "2017-03-31  35.696840\n",
       "2017-04-01  45.540812\n",
       "2017-04-02  23.291983\n",
       "2017-04-03  38.489415\n",
       "2017-04-04  39.619884\n",
       "2017-04-05  18.252095\n",
       "2017-04-06  25.650593\n",
       "2017-04-07  22.367556\n",
       "2017-04-08  10.666764\n",
       "2017-04-09  42.688139\n",
       "2017-04-10  36.925324\n",
       "\n",
       "[100 rows x 1 columns]"
      ]
     },
     "execution_count": 156,
     "metadata": {},
     "output_type": "execute_result"
    }
   ],
   "source": [
    "t"
   ]
  },
  {
   "cell_type": "code",
   "execution_count": 157,
   "metadata": {},
   "outputs": [
    {
     "data": {
      "text/html": [
       "<div>\n",
       "<style>\n",
       "    .dataframe thead tr:only-child th {\n",
       "        text-align: right;\n",
       "    }\n",
       "\n",
       "    .dataframe thead th {\n",
       "        text-align: left;\n",
       "    }\n",
       "\n",
       "    .dataframe tbody tr th {\n",
       "        vertical-align: top;\n",
       "    }\n",
       "</style>\n",
       "<table border=\"1\" class=\"dataframe\">\n",
       "  <thead>\n",
       "    <tr style=\"text-align: right;\">\n",
       "      <th></th>\n",
       "      <th>0</th>\n",
       "    </tr>\n",
       "  </thead>\n",
       "  <tbody>\n",
       "    <tr>\n",
       "      <th>2017-01-31</th>\n",
       "      <td>32.807563</td>\n",
       "    </tr>\n",
       "    <tr>\n",
       "      <th>2017-02-28</th>\n",
       "      <td>30.682237</td>\n",
       "    </tr>\n",
       "    <tr>\n",
       "      <th>2017-03-31</th>\n",
       "      <td>30.537217</td>\n",
       "    </tr>\n",
       "    <tr>\n",
       "      <th>2017-04-30</th>\n",
       "      <td>30.349257</td>\n",
       "    </tr>\n",
       "  </tbody>\n",
       "</table>\n",
       "</div>"
      ],
      "text/plain": [
       "                    0\n",
       "2017-01-31  32.807563\n",
       "2017-02-28  30.682237\n",
       "2017-03-31  30.537217\n",
       "2017-04-30  30.349257"
      ]
     },
     "execution_count": 157,
     "metadata": {},
     "output_type": "execute_result"
    }
   ],
   "source": [
    "#resample\n",
    "#降采样\n",
    "\n",
    "t.resample('M').mean()"
   ]
  },
  {
   "cell_type": "code",
   "execution_count": 158,
   "metadata": {},
   "outputs": [
    {
     "data": {
      "text/html": [
       "<div>\n",
       "<style>\n",
       "    .dataframe thead tr:only-child th {\n",
       "        text-align: right;\n",
       "    }\n",
       "\n",
       "    .dataframe thead th {\n",
       "        text-align: left;\n",
       "    }\n",
       "\n",
       "    .dataframe tbody tr th {\n",
       "        vertical-align: top;\n",
       "    }\n",
       "</style>\n",
       "<table border=\"1\" class=\"dataframe\">\n",
       "  <thead>\n",
       "    <tr style=\"text-align: right;\">\n",
       "      <th></th>\n",
       "      <th>0</th>\n",
       "    </tr>\n",
       "  </thead>\n",
       "  <tbody>\n",
       "    <tr>\n",
       "      <th>2017-01-01</th>\n",
       "      <td>10</td>\n",
       "    </tr>\n",
       "    <tr>\n",
       "      <th>2017-01-11</th>\n",
       "      <td>10</td>\n",
       "    </tr>\n",
       "    <tr>\n",
       "      <th>2017-01-21</th>\n",
       "      <td>10</td>\n",
       "    </tr>\n",
       "    <tr>\n",
       "      <th>2017-01-31</th>\n",
       "      <td>10</td>\n",
       "    </tr>\n",
       "    <tr>\n",
       "      <th>2017-02-10</th>\n",
       "      <td>10</td>\n",
       "    </tr>\n",
       "    <tr>\n",
       "      <th>2017-02-20</th>\n",
       "      <td>10</td>\n",
       "    </tr>\n",
       "    <tr>\n",
       "      <th>2017-03-02</th>\n",
       "      <td>10</td>\n",
       "    </tr>\n",
       "    <tr>\n",
       "      <th>2017-03-12</th>\n",
       "      <td>10</td>\n",
       "    </tr>\n",
       "    <tr>\n",
       "      <th>2017-03-22</th>\n",
       "      <td>10</td>\n",
       "    </tr>\n",
       "    <tr>\n",
       "      <th>2017-04-01</th>\n",
       "      <td>10</td>\n",
       "    </tr>\n",
       "  </tbody>\n",
       "</table>\n",
       "</div>"
      ],
      "text/plain": [
       "             0\n",
       "2017-01-01  10\n",
       "2017-01-11  10\n",
       "2017-01-21  10\n",
       "2017-01-31  10\n",
       "2017-02-10  10\n",
       "2017-02-20  10\n",
       "2017-03-02  10\n",
       "2017-03-12  10\n",
       "2017-03-22  10\n",
       "2017-04-01  10"
      ]
     },
     "execution_count": 158,
     "metadata": {},
     "output_type": "execute_result"
    }
   ],
   "source": [
    "t.resample('10D').count()"
   ]
  },
  {
   "cell_type": "code",
   "execution_count": 159,
   "metadata": {},
   "outputs": [
    {
     "data": {
      "text/html": [
       "<div>\n",
       "<style>\n",
       "    .dataframe thead tr:only-child th {\n",
       "        text-align: right;\n",
       "    }\n",
       "\n",
       "    .dataframe thead th {\n",
       "        text-align: left;\n",
       "    }\n",
       "\n",
       "    .dataframe tbody tr th {\n",
       "        vertical-align: top;\n",
       "    }\n",
       "</style>\n",
       "<table border=\"1\" class=\"dataframe\">\n",
       "  <thead>\n",
       "    <tr style=\"text-align: right;\">\n",
       "      <th></th>\n",
       "      <th>上海</th>\n",
       "      <th>北京</th>\n",
       "      <th>深圳</th>\n",
       "      <th>广州</th>\n",
       "    </tr>\n",
       "  </thead>\n",
       "  <tbody>\n",
       "    <tr>\n",
       "      <th>2000-01-05</th>\n",
       "      <td>0.329862</td>\n",
       "      <td>-0.348794</td>\n",
       "      <td>-1.010141</td>\n",
       "      <td>-0.850524</td>\n",
       "    </tr>\n",
       "    <tr>\n",
       "      <th>2000-01-12</th>\n",
       "      <td>-1.245756</td>\n",
       "      <td>-0.453089</td>\n",
       "      <td>0.601207</td>\n",
       "      <td>0.046659</td>\n",
       "    </tr>\n",
       "  </tbody>\n",
       "</table>\n",
       "</div>"
      ],
      "text/plain": [
       "                  上海        北京        深圳        广州\n",
       "2000-01-05  0.329862 -0.348794 -1.010141 -0.850524\n",
       "2000-01-12 -1.245756 -0.453089  0.601207  0.046659"
      ]
     },
     "execution_count": 159,
     "metadata": {},
     "output_type": "execute_result"
    }
   ],
   "source": [
    "#升采样\n",
    "frame = pd.DataFrame(np.random.randn(2, 4),\n",
    "                    index=pd.date_range('1/1/2000', periods=2,freq='W-WED'),\n",
    "                    columns=['上海', '北京', '深圳', '广州'])\n",
    "frame"
   ]
  },
  {
   "cell_type": "code",
   "execution_count": 161,
   "metadata": {},
   "outputs": [
    {
     "data": {
      "text/html": [
       "<div>\n",
       "<style>\n",
       "    .dataframe thead tr:only-child th {\n",
       "        text-align: right;\n",
       "    }\n",
       "\n",
       "    .dataframe thead th {\n",
       "        text-align: left;\n",
       "    }\n",
       "\n",
       "    .dataframe tbody tr th {\n",
       "        vertical-align: top;\n",
       "    }\n",
       "</style>\n",
       "<table border=\"1\" class=\"dataframe\">\n",
       "  <thead>\n",
       "    <tr style=\"text-align: right;\">\n",
       "      <th></th>\n",
       "      <th>上海</th>\n",
       "      <th>北京</th>\n",
       "      <th>深圳</th>\n",
       "      <th>广州</th>\n",
       "    </tr>\n",
       "  </thead>\n",
       "  <tbody>\n",
       "    <tr>\n",
       "      <th>2000-01-05</th>\n",
       "      <td>0.329862</td>\n",
       "      <td>-0.348794</td>\n",
       "      <td>-1.010141</td>\n",
       "      <td>-0.850524</td>\n",
       "    </tr>\n",
       "    <tr>\n",
       "      <th>2000-01-06</th>\n",
       "      <td>NaN</td>\n",
       "      <td>NaN</td>\n",
       "      <td>NaN</td>\n",
       "      <td>NaN</td>\n",
       "    </tr>\n",
       "    <tr>\n",
       "      <th>2000-01-07</th>\n",
       "      <td>NaN</td>\n",
       "      <td>NaN</td>\n",
       "      <td>NaN</td>\n",
       "      <td>NaN</td>\n",
       "    </tr>\n",
       "    <tr>\n",
       "      <th>2000-01-08</th>\n",
       "      <td>NaN</td>\n",
       "      <td>NaN</td>\n",
       "      <td>NaN</td>\n",
       "      <td>NaN</td>\n",
       "    </tr>\n",
       "    <tr>\n",
       "      <th>2000-01-09</th>\n",
       "      <td>NaN</td>\n",
       "      <td>NaN</td>\n",
       "      <td>NaN</td>\n",
       "      <td>NaN</td>\n",
       "    </tr>\n",
       "    <tr>\n",
       "      <th>2000-01-10</th>\n",
       "      <td>NaN</td>\n",
       "      <td>NaN</td>\n",
       "      <td>NaN</td>\n",
       "      <td>NaN</td>\n",
       "    </tr>\n",
       "    <tr>\n",
       "      <th>2000-01-11</th>\n",
       "      <td>NaN</td>\n",
       "      <td>NaN</td>\n",
       "      <td>NaN</td>\n",
       "      <td>NaN</td>\n",
       "    </tr>\n",
       "    <tr>\n",
       "      <th>2000-01-12</th>\n",
       "      <td>-1.245756</td>\n",
       "      <td>-0.453089</td>\n",
       "      <td>0.601207</td>\n",
       "      <td>0.046659</td>\n",
       "    </tr>\n",
       "  </tbody>\n",
       "</table>\n",
       "</div>"
      ],
      "text/plain": [
       "                  上海        北京        深圳        广州\n",
       "2000-01-05  0.329862 -0.348794 -1.010141 -0.850524\n",
       "2000-01-06       NaN       NaN       NaN       NaN\n",
       "2000-01-07       NaN       NaN       NaN       NaN\n",
       "2000-01-08       NaN       NaN       NaN       NaN\n",
       "2000-01-09       NaN       NaN       NaN       NaN\n",
       "2000-01-10       NaN       NaN       NaN       NaN\n",
       "2000-01-11       NaN       NaN       NaN       NaN\n",
       "2000-01-12 -1.245756 -0.453089  0.601207  0.046659"
      ]
     },
     "execution_count": 161,
     "metadata": {},
     "output_type": "execute_result"
    }
   ],
   "source": [
    "frame.resample('D').asfreq()  #转换成高频"
   ]
  },
  {
   "cell_type": "code",
   "execution_count": 162,
   "metadata": {},
   "outputs": [
    {
     "data": {
      "text/html": [
       "<div>\n",
       "<style>\n",
       "    .dataframe thead tr:only-child th {\n",
       "        text-align: right;\n",
       "    }\n",
       "\n",
       "    .dataframe thead th {\n",
       "        text-align: left;\n",
       "    }\n",
       "\n",
       "    .dataframe tbody tr th {\n",
       "        vertical-align: top;\n",
       "    }\n",
       "</style>\n",
       "<table border=\"1\" class=\"dataframe\">\n",
       "  <thead>\n",
       "    <tr style=\"text-align: right;\">\n",
       "      <th></th>\n",
       "      <th>上海</th>\n",
       "      <th>北京</th>\n",
       "      <th>深圳</th>\n",
       "      <th>广州</th>\n",
       "    </tr>\n",
       "  </thead>\n",
       "  <tbody>\n",
       "    <tr>\n",
       "      <th>2000-01-05</th>\n",
       "      <td>0.329862</td>\n",
       "      <td>-0.348794</td>\n",
       "      <td>-1.010141</td>\n",
       "      <td>-0.850524</td>\n",
       "    </tr>\n",
       "    <tr>\n",
       "      <th>2000-01-06</th>\n",
       "      <td>0.329862</td>\n",
       "      <td>-0.348794</td>\n",
       "      <td>-1.010141</td>\n",
       "      <td>-0.850524</td>\n",
       "    </tr>\n",
       "    <tr>\n",
       "      <th>2000-01-07</th>\n",
       "      <td>0.329862</td>\n",
       "      <td>-0.348794</td>\n",
       "      <td>-1.010141</td>\n",
       "      <td>-0.850524</td>\n",
       "    </tr>\n",
       "    <tr>\n",
       "      <th>2000-01-08</th>\n",
       "      <td>0.329862</td>\n",
       "      <td>-0.348794</td>\n",
       "      <td>-1.010141</td>\n",
       "      <td>-0.850524</td>\n",
       "    </tr>\n",
       "    <tr>\n",
       "      <th>2000-01-09</th>\n",
       "      <td>0.329862</td>\n",
       "      <td>-0.348794</td>\n",
       "      <td>-1.010141</td>\n",
       "      <td>-0.850524</td>\n",
       "    </tr>\n",
       "    <tr>\n",
       "      <th>2000-01-10</th>\n",
       "      <td>0.329862</td>\n",
       "      <td>-0.348794</td>\n",
       "      <td>-1.010141</td>\n",
       "      <td>-0.850524</td>\n",
       "    </tr>\n",
       "    <tr>\n",
       "      <th>2000-01-11</th>\n",
       "      <td>0.329862</td>\n",
       "      <td>-0.348794</td>\n",
       "      <td>-1.010141</td>\n",
       "      <td>-0.850524</td>\n",
       "    </tr>\n",
       "    <tr>\n",
       "      <th>2000-01-12</th>\n",
       "      <td>-1.245756</td>\n",
       "      <td>-0.453089</td>\n",
       "      <td>0.601207</td>\n",
       "      <td>0.046659</td>\n",
       "    </tr>\n",
       "  </tbody>\n",
       "</table>\n",
       "</div>"
      ],
      "text/plain": [
       "                  上海        北京        深圳        广州\n",
       "2000-01-05  0.329862 -0.348794 -1.010141 -0.850524\n",
       "2000-01-06  0.329862 -0.348794 -1.010141 -0.850524\n",
       "2000-01-07  0.329862 -0.348794 -1.010141 -0.850524\n",
       "2000-01-08  0.329862 -0.348794 -1.010141 -0.850524\n",
       "2000-01-09  0.329862 -0.348794 -1.010141 -0.850524\n",
       "2000-01-10  0.329862 -0.348794 -1.010141 -0.850524\n",
       "2000-01-11  0.329862 -0.348794 -1.010141 -0.850524\n",
       "2000-01-12 -1.245756 -0.453089  0.601207  0.046659"
      ]
     },
     "execution_count": 162,
     "metadata": {},
     "output_type": "execute_result"
    }
   ],
   "source": [
    "frame.resample('D').ffill()"
   ]
  },
  {
   "cell_type": "code",
   "execution_count": 163,
   "metadata": {},
   "outputs": [
    {
     "data": {
      "text/html": [
       "<div>\n",
       "<style>\n",
       "    .dataframe thead tr:only-child th {\n",
       "        text-align: right;\n",
       "    }\n",
       "\n",
       "    .dataframe thead th {\n",
       "        text-align: left;\n",
       "    }\n",
       "\n",
       "    .dataframe tbody tr th {\n",
       "        vertical-align: top;\n",
       "    }\n",
       "</style>\n",
       "<table border=\"1\" class=\"dataframe\">\n",
       "  <thead>\n",
       "    <tr style=\"text-align: right;\">\n",
       "      <th></th>\n",
       "      <th>上海</th>\n",
       "      <th>北京</th>\n",
       "      <th>深圳</th>\n",
       "      <th>广州</th>\n",
       "    </tr>\n",
       "  </thead>\n",
       "  <tbody>\n",
       "    <tr>\n",
       "      <th>2000-01-05</th>\n",
       "      <td>0.329862</td>\n",
       "      <td>-0.348794</td>\n",
       "      <td>-1.010141</td>\n",
       "      <td>-0.850524</td>\n",
       "    </tr>\n",
       "    <tr>\n",
       "      <th>2000-01-06</th>\n",
       "      <td>0.329862</td>\n",
       "      <td>-0.348794</td>\n",
       "      <td>-1.010141</td>\n",
       "      <td>-0.850524</td>\n",
       "    </tr>\n",
       "    <tr>\n",
       "      <th>2000-01-07</th>\n",
       "      <td>0.329862</td>\n",
       "      <td>-0.348794</td>\n",
       "      <td>-1.010141</td>\n",
       "      <td>-0.850524</td>\n",
       "    </tr>\n",
       "    <tr>\n",
       "      <th>2000-01-08</th>\n",
       "      <td>NaN</td>\n",
       "      <td>NaN</td>\n",
       "      <td>NaN</td>\n",
       "      <td>NaN</td>\n",
       "    </tr>\n",
       "    <tr>\n",
       "      <th>2000-01-09</th>\n",
       "      <td>NaN</td>\n",
       "      <td>NaN</td>\n",
       "      <td>NaN</td>\n",
       "      <td>NaN</td>\n",
       "    </tr>\n",
       "    <tr>\n",
       "      <th>2000-01-10</th>\n",
       "      <td>NaN</td>\n",
       "      <td>NaN</td>\n",
       "      <td>NaN</td>\n",
       "      <td>NaN</td>\n",
       "    </tr>\n",
       "    <tr>\n",
       "      <th>2000-01-11</th>\n",
       "      <td>NaN</td>\n",
       "      <td>NaN</td>\n",
       "      <td>NaN</td>\n",
       "      <td>NaN</td>\n",
       "    </tr>\n",
       "    <tr>\n",
       "      <th>2000-01-12</th>\n",
       "      <td>-1.245756</td>\n",
       "      <td>-0.453089</td>\n",
       "      <td>0.601207</td>\n",
       "      <td>0.046659</td>\n",
       "    </tr>\n",
       "  </tbody>\n",
       "</table>\n",
       "</div>"
      ],
      "text/plain": [
       "                  上海        北京        深圳        广州\n",
       "2000-01-05  0.329862 -0.348794 -1.010141 -0.850524\n",
       "2000-01-06  0.329862 -0.348794 -1.010141 -0.850524\n",
       "2000-01-07  0.329862 -0.348794 -1.010141 -0.850524\n",
       "2000-01-08       NaN       NaN       NaN       NaN\n",
       "2000-01-09       NaN       NaN       NaN       NaN\n",
       "2000-01-10       NaN       NaN       NaN       NaN\n",
       "2000-01-11       NaN       NaN       NaN       NaN\n",
       "2000-01-12 -1.245756 -0.453089  0.601207  0.046659"
      ]
     },
     "execution_count": 163,
     "metadata": {},
     "output_type": "execute_result"
    }
   ],
   "source": [
    "frame.resample('D').ffill(limit=2)"
   ]
  },
  {
   "cell_type": "markdown",
   "metadata": {},
   "source": [
    "# 应用案例"
   ]
  },
  {
   "cell_type": "code",
   "execution_count": 165,
   "metadata": {},
   "outputs": [
    {
     "data": {
      "text/html": [
       "<div>\n",
       "<style>\n",
       "    .dataframe thead tr:only-child th {\n",
       "        text-align: right;\n",
       "    }\n",
       "\n",
       "    .dataframe thead th {\n",
       "        text-align: left;\n",
       "    }\n",
       "\n",
       "    .dataframe tbody tr th {\n",
       "        vertical-align: top;\n",
       "    }\n",
       "</style>\n",
       "<table border=\"1\" class=\"dataframe\">\n",
       "  <thead>\n",
       "    <tr style=\"text-align: right;\">\n",
       "      <th></th>\n",
       "      <th>lat</th>\n",
       "      <th>lng</th>\n",
       "      <th>desc</th>\n",
       "      <th>zip</th>\n",
       "      <th>title</th>\n",
       "      <th>timeStamp</th>\n",
       "      <th>twp</th>\n",
       "      <th>addr</th>\n",
       "      <th>e</th>\n",
       "    </tr>\n",
       "  </thead>\n",
       "  <tbody>\n",
       "    <tr>\n",
       "      <th>0</th>\n",
       "      <td>40.297876</td>\n",
       "      <td>-75.581294</td>\n",
       "      <td>REINDEER CT &amp; DEAD END;  NEW HANOVER; Station ...</td>\n",
       "      <td>19525.0</td>\n",
       "      <td>EMS: BACK PAINS/INJURY</td>\n",
       "      <td>2015-12-10 17:10:52</td>\n",
       "      <td>NEW HANOVER</td>\n",
       "      <td>REINDEER CT &amp; DEAD END</td>\n",
       "      <td>1</td>\n",
       "    </tr>\n",
       "    <tr>\n",
       "      <th>1</th>\n",
       "      <td>40.258061</td>\n",
       "      <td>-75.264680</td>\n",
       "      <td>BRIAR PATH &amp; WHITEMARSH LN;  HATFIELD TOWNSHIP...</td>\n",
       "      <td>19446.0</td>\n",
       "      <td>EMS: DIABETIC EMERGENCY</td>\n",
       "      <td>2015-12-10 17:29:21</td>\n",
       "      <td>HATFIELD TOWNSHIP</td>\n",
       "      <td>BRIAR PATH &amp; WHITEMARSH LN</td>\n",
       "      <td>1</td>\n",
       "    </tr>\n",
       "    <tr>\n",
       "      <th>2</th>\n",
       "      <td>40.121182</td>\n",
       "      <td>-75.351975</td>\n",
       "      <td>HAWS AVE; NORRISTOWN; 2015-12-10 @ 14:39:21-St...</td>\n",
       "      <td>19401.0</td>\n",
       "      <td>Fire: GAS-ODOR/LEAK</td>\n",
       "      <td>2015-12-10 14:39:21</td>\n",
       "      <td>NORRISTOWN</td>\n",
       "      <td>HAWS AVE</td>\n",
       "      <td>1</td>\n",
       "    </tr>\n",
       "    <tr>\n",
       "      <th>3</th>\n",
       "      <td>40.116153</td>\n",
       "      <td>-75.343513</td>\n",
       "      <td>AIRY ST &amp; SWEDE ST;  NORRISTOWN; Station 308A;...</td>\n",
       "      <td>19401.0</td>\n",
       "      <td>EMS: CARDIAC EMERGENCY</td>\n",
       "      <td>2015-12-10 16:47:36</td>\n",
       "      <td>NORRISTOWN</td>\n",
       "      <td>AIRY ST &amp; SWEDE ST</td>\n",
       "      <td>1</td>\n",
       "    </tr>\n",
       "    <tr>\n",
       "      <th>4</th>\n",
       "      <td>40.251492</td>\n",
       "      <td>-75.603350</td>\n",
       "      <td>CHERRYWOOD CT &amp; DEAD END;  LOWER POTTSGROVE; S...</td>\n",
       "      <td>NaN</td>\n",
       "      <td>EMS: DIZZINESS</td>\n",
       "      <td>2015-12-10 16:56:52</td>\n",
       "      <td>LOWER POTTSGROVE</td>\n",
       "      <td>CHERRYWOOD CT &amp; DEAD END</td>\n",
       "      <td>1</td>\n",
       "    </tr>\n",
       "  </tbody>\n",
       "</table>\n",
       "</div>"
      ],
      "text/plain": [
       "         lat        lng                                               desc  \\\n",
       "0  40.297876 -75.581294  REINDEER CT & DEAD END;  NEW HANOVER; Station ...   \n",
       "1  40.258061 -75.264680  BRIAR PATH & WHITEMARSH LN;  HATFIELD TOWNSHIP...   \n",
       "2  40.121182 -75.351975  HAWS AVE; NORRISTOWN; 2015-12-10 @ 14:39:21-St...   \n",
       "3  40.116153 -75.343513  AIRY ST & SWEDE ST;  NORRISTOWN; Station 308A;...   \n",
       "4  40.251492 -75.603350  CHERRYWOOD CT & DEAD END;  LOWER POTTSGROVE; S...   \n",
       "\n",
       "       zip                    title            timeStamp                twp  \\\n",
       "0  19525.0   EMS: BACK PAINS/INJURY  2015-12-10 17:10:52        NEW HANOVER   \n",
       "1  19446.0  EMS: DIABETIC EMERGENCY  2015-12-10 17:29:21  HATFIELD TOWNSHIP   \n",
       "2  19401.0      Fire: GAS-ODOR/LEAK  2015-12-10 14:39:21         NORRISTOWN   \n",
       "3  19401.0   EMS: CARDIAC EMERGENCY  2015-12-10 16:47:36         NORRISTOWN   \n",
       "4      NaN           EMS: DIZZINESS  2015-12-10 16:56:52   LOWER POTTSGROVE   \n",
       "\n",
       "                         addr  e  \n",
       "0      REINDEER CT & DEAD END  1  \n",
       "1  BRIAR PATH & WHITEMARSH LN  1  \n",
       "2                    HAWS AVE  1  \n",
       "3          AIRY ST & SWEDE ST  1  \n",
       "4    CHERRYWOOD CT & DEAD END  1  "
      ]
     },
     "execution_count": 165,
     "metadata": {},
     "output_type": "execute_result"
    }
   ],
   "source": [
    "df = pd.read_csv('911.csv')\n",
    "df.head()"
   ]
  },
  {
   "cell_type": "code",
   "execution_count": 166,
   "metadata": {
    "collapsed": true
   },
   "outputs": [],
   "source": [
    "df['timeStamp'] = pd.to_datetime(df['timeStamp'])"
   ]
  },
  {
   "cell_type": "code",
   "execution_count": 167,
   "metadata": {},
   "outputs": [
    {
     "data": {
      "text/html": [
       "<div>\n",
       "<style>\n",
       "    .dataframe thead tr:only-child th {\n",
       "        text-align: right;\n",
       "    }\n",
       "\n",
       "    .dataframe thead th {\n",
       "        text-align: left;\n",
       "    }\n",
       "\n",
       "    .dataframe tbody tr th {\n",
       "        vertical-align: top;\n",
       "    }\n",
       "</style>\n",
       "<table border=\"1\" class=\"dataframe\">\n",
       "  <thead>\n",
       "    <tr style=\"text-align: right;\">\n",
       "      <th></th>\n",
       "      <th>lat</th>\n",
       "      <th>lng</th>\n",
       "      <th>desc</th>\n",
       "      <th>zip</th>\n",
       "      <th>title</th>\n",
       "      <th>timeStamp</th>\n",
       "      <th>twp</th>\n",
       "      <th>addr</th>\n",
       "      <th>e</th>\n",
       "    </tr>\n",
       "  </thead>\n",
       "  <tbody>\n",
       "    <tr>\n",
       "      <th>0</th>\n",
       "      <td>40.297876</td>\n",
       "      <td>-75.581294</td>\n",
       "      <td>REINDEER CT &amp; DEAD END;  NEW HANOVER; Station ...</td>\n",
       "      <td>19525.0</td>\n",
       "      <td>EMS: BACK PAINS/INJURY</td>\n",
       "      <td>2015-12-10 17:10:52</td>\n",
       "      <td>NEW HANOVER</td>\n",
       "      <td>REINDEER CT &amp; DEAD END</td>\n",
       "      <td>1</td>\n",
       "    </tr>\n",
       "    <tr>\n",
       "      <th>1</th>\n",
       "      <td>40.258061</td>\n",
       "      <td>-75.264680</td>\n",
       "      <td>BRIAR PATH &amp; WHITEMARSH LN;  HATFIELD TOWNSHIP...</td>\n",
       "      <td>19446.0</td>\n",
       "      <td>EMS: DIABETIC EMERGENCY</td>\n",
       "      <td>2015-12-10 17:29:21</td>\n",
       "      <td>HATFIELD TOWNSHIP</td>\n",
       "      <td>BRIAR PATH &amp; WHITEMARSH LN</td>\n",
       "      <td>1</td>\n",
       "    </tr>\n",
       "    <tr>\n",
       "      <th>2</th>\n",
       "      <td>40.121182</td>\n",
       "      <td>-75.351975</td>\n",
       "      <td>HAWS AVE; NORRISTOWN; 2015-12-10 @ 14:39:21-St...</td>\n",
       "      <td>19401.0</td>\n",
       "      <td>Fire: GAS-ODOR/LEAK</td>\n",
       "      <td>2015-12-10 14:39:21</td>\n",
       "      <td>NORRISTOWN</td>\n",
       "      <td>HAWS AVE</td>\n",
       "      <td>1</td>\n",
       "    </tr>\n",
       "    <tr>\n",
       "      <th>3</th>\n",
       "      <td>40.116153</td>\n",
       "      <td>-75.343513</td>\n",
       "      <td>AIRY ST &amp; SWEDE ST;  NORRISTOWN; Station 308A;...</td>\n",
       "      <td>19401.0</td>\n",
       "      <td>EMS: CARDIAC EMERGENCY</td>\n",
       "      <td>2015-12-10 16:47:36</td>\n",
       "      <td>NORRISTOWN</td>\n",
       "      <td>AIRY ST &amp; SWEDE ST</td>\n",
       "      <td>1</td>\n",
       "    </tr>\n",
       "    <tr>\n",
       "      <th>4</th>\n",
       "      <td>40.251492</td>\n",
       "      <td>-75.603350</td>\n",
       "      <td>CHERRYWOOD CT &amp; DEAD END;  LOWER POTTSGROVE; S...</td>\n",
       "      <td>NaN</td>\n",
       "      <td>EMS: DIZZINESS</td>\n",
       "      <td>2015-12-10 16:56:52</td>\n",
       "      <td>LOWER POTTSGROVE</td>\n",
       "      <td>CHERRYWOOD CT &amp; DEAD END</td>\n",
       "      <td>1</td>\n",
       "    </tr>\n",
       "  </tbody>\n",
       "</table>\n",
       "</div>"
      ],
      "text/plain": [
       "         lat        lng                                               desc  \\\n",
       "0  40.297876 -75.581294  REINDEER CT & DEAD END;  NEW HANOVER; Station ...   \n",
       "1  40.258061 -75.264680  BRIAR PATH & WHITEMARSH LN;  HATFIELD TOWNSHIP...   \n",
       "2  40.121182 -75.351975  HAWS AVE; NORRISTOWN; 2015-12-10 @ 14:39:21-St...   \n",
       "3  40.116153 -75.343513  AIRY ST & SWEDE ST;  NORRISTOWN; Station 308A;...   \n",
       "4  40.251492 -75.603350  CHERRYWOOD CT & DEAD END;  LOWER POTTSGROVE; S...   \n",
       "\n",
       "       zip                    title           timeStamp                twp  \\\n",
       "0  19525.0   EMS: BACK PAINS/INJURY 2015-12-10 17:10:52        NEW HANOVER   \n",
       "1  19446.0  EMS: DIABETIC EMERGENCY 2015-12-10 17:29:21  HATFIELD TOWNSHIP   \n",
       "2  19401.0      Fire: GAS-ODOR/LEAK 2015-12-10 14:39:21         NORRISTOWN   \n",
       "3  19401.0   EMS: CARDIAC EMERGENCY 2015-12-10 16:47:36         NORRISTOWN   \n",
       "4      NaN           EMS: DIZZINESS 2015-12-10 16:56:52   LOWER POTTSGROVE   \n",
       "\n",
       "                         addr  e  \n",
       "0      REINDEER CT & DEAD END  1  \n",
       "1  BRIAR PATH & WHITEMARSH LN  1  \n",
       "2                    HAWS AVE  1  \n",
       "3          AIRY ST & SWEDE ST  1  \n",
       "4    CHERRYWOOD CT & DEAD END  1  "
      ]
     },
     "execution_count": 167,
     "metadata": {},
     "output_type": "execute_result"
    }
   ],
   "source": [
    "df.head()"
   ]
  },
  {
   "cell_type": "code",
   "execution_count": 168,
   "metadata": {
    "collapsed": true
   },
   "outputs": [],
   "source": [
    "df.set_index('timeStamp',inplace=True)"
   ]
  },
  {
   "cell_type": "code",
   "execution_count": 169,
   "metadata": {},
   "outputs": [
    {
     "data": {
      "text/html": [
       "<div>\n",
       "<style>\n",
       "    .dataframe thead tr:only-child th {\n",
       "        text-align: right;\n",
       "    }\n",
       "\n",
       "    .dataframe thead th {\n",
       "        text-align: left;\n",
       "    }\n",
       "\n",
       "    .dataframe tbody tr th {\n",
       "        vertical-align: top;\n",
       "    }\n",
       "</style>\n",
       "<table border=\"1\" class=\"dataframe\">\n",
       "  <thead>\n",
       "    <tr style=\"text-align: right;\">\n",
       "      <th></th>\n",
       "      <th>lat</th>\n",
       "      <th>lng</th>\n",
       "      <th>desc</th>\n",
       "      <th>zip</th>\n",
       "      <th>title</th>\n",
       "      <th>twp</th>\n",
       "      <th>addr</th>\n",
       "      <th>e</th>\n",
       "    </tr>\n",
       "    <tr>\n",
       "      <th>timeStamp</th>\n",
       "      <th></th>\n",
       "      <th></th>\n",
       "      <th></th>\n",
       "      <th></th>\n",
       "      <th></th>\n",
       "      <th></th>\n",
       "      <th></th>\n",
       "      <th></th>\n",
       "    </tr>\n",
       "  </thead>\n",
       "  <tbody>\n",
       "    <tr>\n",
       "      <th>2015-12-10 17:10:52</th>\n",
       "      <td>40.297876</td>\n",
       "      <td>-75.581294</td>\n",
       "      <td>REINDEER CT &amp; DEAD END;  NEW HANOVER; Station ...</td>\n",
       "      <td>19525.0</td>\n",
       "      <td>EMS: BACK PAINS/INJURY</td>\n",
       "      <td>NEW HANOVER</td>\n",
       "      <td>REINDEER CT &amp; DEAD END</td>\n",
       "      <td>1</td>\n",
       "    </tr>\n",
       "    <tr>\n",
       "      <th>2015-12-10 17:29:21</th>\n",
       "      <td>40.258061</td>\n",
       "      <td>-75.264680</td>\n",
       "      <td>BRIAR PATH &amp; WHITEMARSH LN;  HATFIELD TOWNSHIP...</td>\n",
       "      <td>19446.0</td>\n",
       "      <td>EMS: DIABETIC EMERGENCY</td>\n",
       "      <td>HATFIELD TOWNSHIP</td>\n",
       "      <td>BRIAR PATH &amp; WHITEMARSH LN</td>\n",
       "      <td>1</td>\n",
       "    </tr>\n",
       "    <tr>\n",
       "      <th>2015-12-10 14:39:21</th>\n",
       "      <td>40.121182</td>\n",
       "      <td>-75.351975</td>\n",
       "      <td>HAWS AVE; NORRISTOWN; 2015-12-10 @ 14:39:21-St...</td>\n",
       "      <td>19401.0</td>\n",
       "      <td>Fire: GAS-ODOR/LEAK</td>\n",
       "      <td>NORRISTOWN</td>\n",
       "      <td>HAWS AVE</td>\n",
       "      <td>1</td>\n",
       "    </tr>\n",
       "    <tr>\n",
       "      <th>2015-12-10 16:47:36</th>\n",
       "      <td>40.116153</td>\n",
       "      <td>-75.343513</td>\n",
       "      <td>AIRY ST &amp; SWEDE ST;  NORRISTOWN; Station 308A;...</td>\n",
       "      <td>19401.0</td>\n",
       "      <td>EMS: CARDIAC EMERGENCY</td>\n",
       "      <td>NORRISTOWN</td>\n",
       "      <td>AIRY ST &amp; SWEDE ST</td>\n",
       "      <td>1</td>\n",
       "    </tr>\n",
       "    <tr>\n",
       "      <th>2015-12-10 16:56:52</th>\n",
       "      <td>40.251492</td>\n",
       "      <td>-75.603350</td>\n",
       "      <td>CHERRYWOOD CT &amp; DEAD END;  LOWER POTTSGROVE; S...</td>\n",
       "      <td>NaN</td>\n",
       "      <td>EMS: DIZZINESS</td>\n",
       "      <td>LOWER POTTSGROVE</td>\n",
       "      <td>CHERRYWOOD CT &amp; DEAD END</td>\n",
       "      <td>1</td>\n",
       "    </tr>\n",
       "  </tbody>\n",
       "</table>\n",
       "</div>"
      ],
      "text/plain": [
       "                           lat        lng  \\\n",
       "timeStamp                                   \n",
       "2015-12-10 17:10:52  40.297876 -75.581294   \n",
       "2015-12-10 17:29:21  40.258061 -75.264680   \n",
       "2015-12-10 14:39:21  40.121182 -75.351975   \n",
       "2015-12-10 16:47:36  40.116153 -75.343513   \n",
       "2015-12-10 16:56:52  40.251492 -75.603350   \n",
       "\n",
       "                                                                  desc  \\\n",
       "timeStamp                                                                \n",
       "2015-12-10 17:10:52  REINDEER CT & DEAD END;  NEW HANOVER; Station ...   \n",
       "2015-12-10 17:29:21  BRIAR PATH & WHITEMARSH LN;  HATFIELD TOWNSHIP...   \n",
       "2015-12-10 14:39:21  HAWS AVE; NORRISTOWN; 2015-12-10 @ 14:39:21-St...   \n",
       "2015-12-10 16:47:36  AIRY ST & SWEDE ST;  NORRISTOWN; Station 308A;...   \n",
       "2015-12-10 16:56:52  CHERRYWOOD CT & DEAD END;  LOWER POTTSGROVE; S...   \n",
       "\n",
       "                         zip                    title                twp  \\\n",
       "timeStamp                                                                  \n",
       "2015-12-10 17:10:52  19525.0   EMS: BACK PAINS/INJURY        NEW HANOVER   \n",
       "2015-12-10 17:29:21  19446.0  EMS: DIABETIC EMERGENCY  HATFIELD TOWNSHIP   \n",
       "2015-12-10 14:39:21  19401.0      Fire: GAS-ODOR/LEAK         NORRISTOWN   \n",
       "2015-12-10 16:47:36  19401.0   EMS: CARDIAC EMERGENCY         NORRISTOWN   \n",
       "2015-12-10 16:56:52      NaN           EMS: DIZZINESS   LOWER POTTSGROVE   \n",
       "\n",
       "                                           addr  e  \n",
       "timeStamp                                           \n",
       "2015-12-10 17:10:52      REINDEER CT & DEAD END  1  \n",
       "2015-12-10 17:29:21  BRIAR PATH & WHITEMARSH LN  1  \n",
       "2015-12-10 14:39:21                    HAWS AVE  1  \n",
       "2015-12-10 16:47:36          AIRY ST & SWEDE ST  1  \n",
       "2015-12-10 16:56:52    CHERRYWOOD CT & DEAD END  1  "
      ]
     },
     "execution_count": 169,
     "metadata": {},
     "output_type": "execute_result"
    }
   ],
   "source": [
    "df.head()"
   ]
  },
  {
   "cell_type": "code",
   "execution_count": 172,
   "metadata": {},
   "outputs": [
    {
     "data": {
      "text/html": [
       "<div>\n",
       "<style>\n",
       "    .dataframe thead tr:only-child th {\n",
       "        text-align: right;\n",
       "    }\n",
       "\n",
       "    .dataframe thead th {\n",
       "        text-align: left;\n",
       "    }\n",
       "\n",
       "    .dataframe tbody tr th {\n",
       "        vertical-align: top;\n",
       "    }\n",
       "</style>\n",
       "<table border=\"1\" class=\"dataframe\">\n",
       "  <thead>\n",
       "    <tr style=\"text-align: right;\">\n",
       "      <th></th>\n",
       "      <th>lat</th>\n",
       "      <th>lng</th>\n",
       "      <th>desc</th>\n",
       "      <th>zip</th>\n",
       "      <th>title</th>\n",
       "      <th>twp</th>\n",
       "      <th>addr</th>\n",
       "      <th>e</th>\n",
       "    </tr>\n",
       "    <tr>\n",
       "      <th>timeStamp</th>\n",
       "      <th></th>\n",
       "      <th></th>\n",
       "      <th></th>\n",
       "      <th></th>\n",
       "      <th></th>\n",
       "      <th></th>\n",
       "      <th></th>\n",
       "      <th></th>\n",
       "    </tr>\n",
       "  </thead>\n",
       "  <tbody>\n",
       "    <tr>\n",
       "      <th>2015-12-31 00:00:21</th>\n",
       "      <td>40.230580</td>\n",
       "      <td>-75.212356</td>\n",
       "      <td>OXFORD LN &amp; CHESTER CIR;  MONTGOMERY; Station ...</td>\n",
       "      <td>19454.0</td>\n",
       "      <td>EMS: RESPIRATORY EMERGENCY</td>\n",
       "      <td>MONTGOMERY</td>\n",
       "      <td>OXFORD LN &amp; CHESTER CIR</td>\n",
       "      <td>1</td>\n",
       "    </tr>\n",
       "    <tr>\n",
       "      <th>2015-12-31 00:06:49</th>\n",
       "      <td>40.259882</td>\n",
       "      <td>-75.293646</td>\n",
       "      <td>WYNDHAM WOODS WAY &amp; OAK PARK RD; HATFIELD TOWN...</td>\n",
       "      <td>19440.0</td>\n",
       "      <td>Fire: GAS-ODOR/LEAK</td>\n",
       "      <td>HATFIELD TOWNSHIP</td>\n",
       "      <td>WYNDHAM WOODS WAY &amp; OAK PARK RD</td>\n",
       "      <td>1</td>\n",
       "    </tr>\n",
       "    <tr>\n",
       "      <th>2015-12-31 00:22:29</th>\n",
       "      <td>40.176879</td>\n",
       "      <td>-75.187746</td>\n",
       "      <td>THORNBURY DR &amp; CHAUCER DR;  UPPER DUBLIN; Stat...</td>\n",
       "      <td>19002.0</td>\n",
       "      <td>EMS: SYNCOPAL EPISODE</td>\n",
       "      <td>UPPER DUBLIN</td>\n",
       "      <td>THORNBURY DR &amp; CHAUCER DR</td>\n",
       "      <td>1</td>\n",
       "    </tr>\n",
       "    <tr>\n",
       "      <th>2015-12-31 00:29:19</th>\n",
       "      <td>40.233159</td>\n",
       "      <td>-75.258146</td>\n",
       "      <td>WILLIAMSBURG RD &amp; GETTYSBURG DR; LANSDALE; 201...</td>\n",
       "      <td>19446.0</td>\n",
       "      <td>Fire: FIRE INVESTIGATION</td>\n",
       "      <td>LANSDALE</td>\n",
       "      <td>WILLIAMSBURG RD &amp; GETTYSBURG DR</td>\n",
       "      <td>1</td>\n",
       "    </tr>\n",
       "    <tr>\n",
       "      <th>2015-12-31 00:27:51</th>\n",
       "      <td>40.088958</td>\n",
       "      <td>-75.408347</td>\n",
       "      <td>GODDARD BLVD &amp; N GULPH RD;  UPPER MERION; Stat...</td>\n",
       "      <td>19406.0</td>\n",
       "      <td>EMS: VEHICLE ACCIDENT</td>\n",
       "      <td>UPPER MERION</td>\n",
       "      <td>GODDARD BLVD &amp; N GULPH RD</td>\n",
       "      <td>1</td>\n",
       "    </tr>\n",
       "    <tr>\n",
       "      <th>2015-12-31 00:27:19</th>\n",
       "      <td>40.088958</td>\n",
       "      <td>-75.408347</td>\n",
       "      <td>GODDARD BLVD &amp; N GULPH RD; UPPER MERION; 2015-...</td>\n",
       "      <td>19406.0</td>\n",
       "      <td>Traffic: VEHICLE ACCIDENT -</td>\n",
       "      <td>UPPER MERION</td>\n",
       "      <td>GODDARD BLVD &amp; N GULPH RD</td>\n",
       "      <td>1</td>\n",
       "    </tr>\n",
       "    <tr>\n",
       "      <th>2015-12-31 00:46:39</th>\n",
       "      <td>40.383619</td>\n",
       "      <td>-75.487344</td>\n",
       "      <td>JEFFERSON ST &amp; 10TH ST;  RED HILL; Station 369...</td>\n",
       "      <td>18076.0</td>\n",
       "      <td>EMS: CARDIAC EMERGENCY</td>\n",
       "      <td>RED HILL</td>\n",
       "      <td>JEFFERSON ST &amp; 10TH ST</td>\n",
       "      <td>1</td>\n",
       "    </tr>\n",
       "    <tr>\n",
       "      <th>2015-12-31 00:54:15</th>\n",
       "      <td>40.082618</td>\n",
       "      <td>-75.083543</td>\n",
       "      <td>BLAKE AVE &amp; ABINGTON AVE; ROCKLEDGE; 2015-12-3...</td>\n",
       "      <td>19046.0</td>\n",
       "      <td>Fire: GAS-ODOR/LEAK</td>\n",
       "      <td>ROCKLEDGE</td>\n",
       "      <td>BLAKE AVE &amp; ABINGTON AVE</td>\n",
       "      <td>1</td>\n",
       "    </tr>\n",
       "    <tr>\n",
       "      <th>2015-12-31 00:52:44</th>\n",
       "      <td>40.327346</td>\n",
       "      <td>-75.623119</td>\n",
       "      <td>DOUGLASS ST &amp; E PHILADELPHIA AVE;  DOUGLASS; S...</td>\n",
       "      <td>19512.0</td>\n",
       "      <td>EMS: ABDOMINAL PAINS</td>\n",
       "      <td>DOUGLASS</td>\n",
       "      <td>DOUGLASS ST &amp; E PHILADELPHIA AVE</td>\n",
       "      <td>1</td>\n",
       "    </tr>\n",
       "    <tr>\n",
       "      <th>2015-12-31 01:42:59</th>\n",
       "      <td>40.073014</td>\n",
       "      <td>-75.131626</td>\n",
       "      <td>OLD YORK RD &amp; SPRING AVE;  CHELTENHAM; Station...</td>\n",
       "      <td>19027.0</td>\n",
       "      <td>EMS: FALL VICTIM</td>\n",
       "      <td>CHELTENHAM</td>\n",
       "      <td>OLD YORK RD &amp; SPRING AVE</td>\n",
       "      <td>1</td>\n",
       "    </tr>\n",
       "    <tr>\n",
       "      <th>2015-12-31 01:41:14</th>\n",
       "      <td>40.366046</td>\n",
       "      <td>-75.522586</td>\n",
       "      <td>KINGS RD &amp; LAYFIELD RD;  UPPER HANOVER; Statio...</td>\n",
       "      <td>18073.0</td>\n",
       "      <td>EMS: RESPIRATORY EMERGENCY</td>\n",
       "      <td>UPPER HANOVER</td>\n",
       "      <td>KINGS RD &amp; LAYFIELD RD</td>\n",
       "      <td>1</td>\n",
       "    </tr>\n",
       "    <tr>\n",
       "      <th>2015-12-31 01:50:59</th>\n",
       "      <td>40.251174</td>\n",
       "      <td>-75.643975</td>\n",
       "      <td>EVANS ST &amp; JEFFERSON AVE;  POTTSTOWN; Station ...</td>\n",
       "      <td>19464.0</td>\n",
       "      <td>EMS: UNKNOWN MEDICAL EMERGENCY</td>\n",
       "      <td>POTTSTOWN</td>\n",
       "      <td>EVANS ST &amp; JEFFERSON AVE</td>\n",
       "      <td>1</td>\n",
       "    </tr>\n",
       "    <tr>\n",
       "      <th>2015-12-31 01:58:23</th>\n",
       "      <td>39.999659</td>\n",
       "      <td>-75.285479</td>\n",
       "      <td>ARGYLE RD; LOWER MERION; 2015-12-31 @ 01:58:23...</td>\n",
       "      <td>NaN</td>\n",
       "      <td>Fire: BURN VICTIM</td>\n",
       "      <td>LOWER MERION</td>\n",
       "      <td>ARGYLE RD</td>\n",
       "      <td>1</td>\n",
       "    </tr>\n",
       "    <tr>\n",
       "      <th>2015-12-31 01:58:15</th>\n",
       "      <td>39.999659</td>\n",
       "      <td>-75.285479</td>\n",
       "      <td>ARGYLE RD;  LOWER MERION; Station 313; 2015-12...</td>\n",
       "      <td>NaN</td>\n",
       "      <td>EMS: BURN VICTIM</td>\n",
       "      <td>LOWER MERION</td>\n",
       "      <td>ARGYLE RD</td>\n",
       "      <td>1</td>\n",
       "    </tr>\n",
       "    <tr>\n",
       "      <th>2015-12-31 02:12:23</th>\n",
       "      <td>40.219565</td>\n",
       "      <td>-75.315427</td>\n",
       "      <td>SUPPLEE RD &amp; CREST RD;  UPPER GWYNEDD; Station...</td>\n",
       "      <td>19446.0</td>\n",
       "      <td>EMS: SUBJECT IN PAIN</td>\n",
       "      <td>UPPER GWYNEDD</td>\n",
       "      <td>SUPPLEE RD &amp; CREST RD</td>\n",
       "      <td>1</td>\n",
       "    </tr>\n",
       "    <tr>\n",
       "      <th>2015-12-31 02:25:35</th>\n",
       "      <td>40.229008</td>\n",
       "      <td>-75.387853</td>\n",
       "      <td>VINE ST &amp; BUTLER AVE;  HATFIELD BORO; Station ...</td>\n",
       "      <td>NaN</td>\n",
       "      <td>EMS: FALL VICTIM</td>\n",
       "      <td>HATFIELD BORO</td>\n",
       "      <td>VINE ST &amp; BUTLER AVE</td>\n",
       "      <td>1</td>\n",
       "    </tr>\n",
       "    <tr>\n",
       "      <th>2015-12-31 02:28:31</th>\n",
       "      <td>40.198436</td>\n",
       "      <td>-75.384619</td>\n",
       "      <td>GREEN HILL RD &amp; STUMP HALL RD; WORCESTER; 2015...</td>\n",
       "      <td>19426.0</td>\n",
       "      <td>Traffic: VEHICLE ACCIDENT -</td>\n",
       "      <td>WORCESTER</td>\n",
       "      <td>GREEN HILL RD &amp; STUMP HALL RD</td>\n",
       "      <td>1</td>\n",
       "    </tr>\n",
       "    <tr>\n",
       "      <th>2015-12-31 02:40:27</th>\n",
       "      <td>40.198436</td>\n",
       "      <td>-75.384619</td>\n",
       "      <td>GREEN HILL RD &amp; STUMP HALL RD;  WORCESTER; Sta...</td>\n",
       "      <td>19426.0</td>\n",
       "      <td>EMS: VEHICLE ACCIDENT</td>\n",
       "      <td>WORCESTER</td>\n",
       "      <td>GREEN HILL RD &amp; STUMP HALL RD</td>\n",
       "      <td>1</td>\n",
       "    </tr>\n",
       "    <tr>\n",
       "      <th>2015-12-31 02:40:18</th>\n",
       "      <td>40.198436</td>\n",
       "      <td>-75.384619</td>\n",
       "      <td>GREEN HILL RD &amp; STUMP HALL RD; WORCESTER; 2015...</td>\n",
       "      <td>19426.0</td>\n",
       "      <td>Fire: VEHICLE ACCIDENT</td>\n",
       "      <td>WORCESTER</td>\n",
       "      <td>GREEN HILL RD &amp; STUMP HALL RD</td>\n",
       "      <td>1</td>\n",
       "    </tr>\n",
       "    <tr>\n",
       "      <th>2015-12-31 03:08:33</th>\n",
       "      <td>40.100748</td>\n",
       "      <td>-75.215108</td>\n",
       "      <td>WISSAHICKON AVE &amp; ROSE LN;  SPRINGFIELD; Stati...</td>\n",
       "      <td>19031.0</td>\n",
       "      <td>EMS: FALL VICTIM</td>\n",
       "      <td>SPRINGFIELD</td>\n",
       "      <td>WISSAHICKON AVE &amp; ROSE LN</td>\n",
       "      <td>1</td>\n",
       "    </tr>\n",
       "    <tr>\n",
       "      <th>2015-12-31 03:09:01</th>\n",
       "      <td>40.294241</td>\n",
       "      <td>-75.361690</td>\n",
       "      <td>MOYER RD &amp; HALTEMAN RD; FRANCONIA; 2015-12-31 ...</td>\n",
       "      <td>18964.0</td>\n",
       "      <td>Fire: FIRE ALARM</td>\n",
       "      <td>FRANCONIA</td>\n",
       "      <td>MOYER RD &amp; HALTEMAN RD</td>\n",
       "      <td>1</td>\n",
       "    </tr>\n",
       "    <tr>\n",
       "      <th>2015-12-31 03:40:01</th>\n",
       "      <td>40.153268</td>\n",
       "      <td>-75.189558</td>\n",
       "      <td>BERKLEY PL &amp; DEAD END;  UPPER DUBLIN; Station ...</td>\n",
       "      <td>NaN</td>\n",
       "      <td>EMS: FALL VICTIM</td>\n",
       "      <td>UPPER DUBLIN</td>\n",
       "      <td>BERKLEY PL &amp; DEAD END</td>\n",
       "      <td>1</td>\n",
       "    </tr>\n",
       "    <tr>\n",
       "      <th>2015-12-31 03:46:31</th>\n",
       "      <td>40.251884</td>\n",
       "      <td>-75.652863</td>\n",
       "      <td>3RD ST &amp; JOHNSON ST;  POTTSTOWN; Station 329; ...</td>\n",
       "      <td>19464.0</td>\n",
       "      <td>EMS: ALTERED MENTAL STATUS</td>\n",
       "      <td>POTTSTOWN</td>\n",
       "      <td>3RD ST &amp; JOHNSON ST</td>\n",
       "      <td>1</td>\n",
       "    </tr>\n",
       "    <tr>\n",
       "      <th>2015-12-31 04:01:52</th>\n",
       "      <td>40.102227</td>\n",
       "      <td>-75.391544</td>\n",
       "      <td>VALLEY FORGE RD &amp; GENERAL STEUBEN RD;  UPPER M...</td>\n",
       "      <td>19406.0</td>\n",
       "      <td>EMS: HEAD INJURY</td>\n",
       "      <td>UPPER MERION</td>\n",
       "      <td>VALLEY FORGE RD &amp; GENERAL STEUBEN RD</td>\n",
       "      <td>1</td>\n",
       "    </tr>\n",
       "    <tr>\n",
       "      <th>2015-12-31 04:10:04</th>\n",
       "      <td>40.205476</td>\n",
       "      <td>-75.352971</td>\n",
       "      <td>SKIPPACK PIKE &amp; MEADOWOOD DR;  WORCESTER; Stat...</td>\n",
       "      <td>19446.0</td>\n",
       "      <td>EMS: GENERAL WEAKNESS</td>\n",
       "      <td>WORCESTER</td>\n",
       "      <td>SKIPPACK PIKE &amp; MEADOWOOD DR</td>\n",
       "      <td>1</td>\n",
       "    </tr>\n",
       "    <tr>\n",
       "      <th>2015-12-31 04:09:25</th>\n",
       "      <td>40.011767</td>\n",
       "      <td>-75.294673</td>\n",
       "      <td>MONTGOMERY AVE &amp; WOODSIDE RD;  LOWER MERION; S...</td>\n",
       "      <td>19041.0</td>\n",
       "      <td>EMS: MEDICAL ALERT ALARM</td>\n",
       "      <td>LOWER MERION</td>\n",
       "      <td>MONTGOMERY AVE &amp; WOODSIDE RD</td>\n",
       "      <td>1</td>\n",
       "    </tr>\n",
       "    <tr>\n",
       "      <th>2015-12-31 04:17:15</th>\n",
       "      <td>40.215749</td>\n",
       "      <td>-75.545489</td>\n",
       "      <td>N LEWIS RD &amp; LINFIELD TRAPPE RD; LIMERICK; 201...</td>\n",
       "      <td>19468.0</td>\n",
       "      <td>Traffic: VEHICLE ACCIDENT -</td>\n",
       "      <td>LIMERICK</td>\n",
       "      <td>N LEWIS RD &amp; LINFIELD TRAPPE RD</td>\n",
       "      <td>1</td>\n",
       "    </tr>\n",
       "    <tr>\n",
       "      <th>2015-12-31 04:27:09</th>\n",
       "      <td>40.240842</td>\n",
       "      <td>-75.292032</td>\n",
       "      <td>MT VERNON ST &amp; S RICHARDSON AVE;  LANSDALE; St...</td>\n",
       "      <td>19446.0</td>\n",
       "      <td>EMS: ALLERGIC REACTION</td>\n",
       "      <td>LANSDALE</td>\n",
       "      <td>MT VERNON ST &amp; S RICHARDSON AVE</td>\n",
       "      <td>1</td>\n",
       "    </tr>\n",
       "    <tr>\n",
       "      <th>2015-12-31 04:46:14</th>\n",
       "      <td>40.045146</td>\n",
       "      <td>-75.309062</td>\n",
       "      <td>GREAT SPRINGS RD &amp; OAK SPRINGS RD;  LOWER MERI...</td>\n",
       "      <td>19010.0</td>\n",
       "      <td>EMS: CARDIAC EMERGENCY</td>\n",
       "      <td>LOWER MERION</td>\n",
       "      <td>GREAT SPRINGS RD &amp; OAK SPRINGS RD</td>\n",
       "      <td>1</td>\n",
       "    </tr>\n",
       "    <tr>\n",
       "      <th>2015-12-31 04:56:41</th>\n",
       "      <td>40.168538</td>\n",
       "      <td>-75.498200</td>\n",
       "      <td>BLACK ROCK RD &amp; S TRAPPE RD;  UPPER PROVIDENCE...</td>\n",
       "      <td>19468.0</td>\n",
       "      <td>EMS: RESPIRATORY EMERGENCY</td>\n",
       "      <td>UPPER PROVIDENCE</td>\n",
       "      <td>BLACK ROCK RD &amp; S TRAPPE RD</td>\n",
       "      <td>1</td>\n",
       "    </tr>\n",
       "    <tr>\n",
       "      <th>...</th>\n",
       "      <td>...</td>\n",
       "      <td>...</td>\n",
       "      <td>...</td>\n",
       "      <td>...</td>\n",
       "      <td>...</td>\n",
       "      <td>...</td>\n",
       "      <td>...</td>\n",
       "      <td>...</td>\n",
       "    </tr>\n",
       "    <tr>\n",
       "      <th>2015-12-31 21:59:02</th>\n",
       "      <td>40.053236</td>\n",
       "      <td>-75.122129</td>\n",
       "      <td>CHELTENHAM AVE &amp; NEW SECOND ST; CHELTENHAM; 20...</td>\n",
       "      <td>19027.0</td>\n",
       "      <td>Traffic: VEHICLE ACCIDENT -</td>\n",
       "      <td>CHELTENHAM</td>\n",
       "      <td>CHELTENHAM AVE &amp; NEW SECOND ST</td>\n",
       "      <td>1</td>\n",
       "    </tr>\n",
       "    <tr>\n",
       "      <th>2015-12-31 22:03:50</th>\n",
       "      <td>40.245323</td>\n",
       "      <td>-75.647644</td>\n",
       "      <td>HIGH ST &amp; N CHARLOTTE ST;  POTTSTOWN; Station ...</td>\n",
       "      <td>19464.0</td>\n",
       "      <td>EMS: OVERDOSE</td>\n",
       "      <td>POTTSTOWN</td>\n",
       "      <td>HIGH ST &amp; N CHARLOTTE ST</td>\n",
       "      <td>1</td>\n",
       "    </tr>\n",
       "    <tr>\n",
       "      <th>2015-12-31 22:03:04</th>\n",
       "      <td>40.172526</td>\n",
       "      <td>-75.284653</td>\n",
       "      <td>DEKALB PIKE &amp; BLUE BELL SPRINGS DR;  WHITPAIN;...</td>\n",
       "      <td>19422.0</td>\n",
       "      <td>EMS: SYNCOPAL EPISODE</td>\n",
       "      <td>WHITPAIN</td>\n",
       "      <td>DEKALB PIKE &amp; BLUE BELL SPRINGS DR</td>\n",
       "      <td>1</td>\n",
       "    </tr>\n",
       "    <tr>\n",
       "      <th>2015-12-31 22:14:35</th>\n",
       "      <td>40.025480</td>\n",
       "      <td>-75.326511</td>\n",
       "      <td>WOOD CIR &amp; LANCASTER AVE;  LOWER MERION; Stati...</td>\n",
       "      <td>19010.0</td>\n",
       "      <td>EMS: MEDICAL ALERT ALARM</td>\n",
       "      <td>LOWER MERION</td>\n",
       "      <td>WOOD CIR &amp; LANCASTER AVE</td>\n",
       "      <td>1</td>\n",
       "    </tr>\n",
       "    <tr>\n",
       "      <th>2015-12-31 22:22:58</th>\n",
       "      <td>40.178442</td>\n",
       "      <td>-75.128506</td>\n",
       "      <td>EASTON RD &amp; WGNAS MAIN GATE; HORSHAM; 2015-12-...</td>\n",
       "      <td>NaN</td>\n",
       "      <td>Traffic: DISABLED VEHICLE -</td>\n",
       "      <td>HORSHAM</td>\n",
       "      <td>EASTON RD &amp; WGNAS MAIN GATE</td>\n",
       "      <td>1</td>\n",
       "    </tr>\n",
       "    <tr>\n",
       "      <th>2015-12-31 22:25:44</th>\n",
       "      <td>40.148152</td>\n",
       "      <td>-75.235450</td>\n",
       "      <td>BUTLER PIKE &amp; W BUTLER PIKE; WHITEMARSH; 2015-...</td>\n",
       "      <td>19002.0</td>\n",
       "      <td>Traffic: VEHICLE ACCIDENT -</td>\n",
       "      <td>WHITEMARSH</td>\n",
       "      <td>BUTLER PIKE &amp; W BUTLER PIKE</td>\n",
       "      <td>1</td>\n",
       "    </tr>\n",
       "    <tr>\n",
       "      <th>2015-12-31 22:35:28</th>\n",
       "      <td>40.131305</td>\n",
       "      <td>-75.118346</td>\n",
       "      <td>ROCKWELL RD &amp; ROY AVE;  ABINGTON; Station 381;...</td>\n",
       "      <td>19001.0</td>\n",
       "      <td>EMS: UNRESPONSIVE SUBJECT</td>\n",
       "      <td>ABINGTON</td>\n",
       "      <td>ROCKWELL RD &amp; ROY AVE</td>\n",
       "      <td>1</td>\n",
       "    </tr>\n",
       "    <tr>\n",
       "      <th>2015-12-31 22:39:33</th>\n",
       "      <td>40.357002</td>\n",
       "      <td>-75.518927</td>\n",
       "      <td>BROOMSTICK RD &amp; WARD RD; UPPER HANOVER; 2015-1...</td>\n",
       "      <td>18073.0</td>\n",
       "      <td>Fire: BUILDING FIRE</td>\n",
       "      <td>UPPER HANOVER</td>\n",
       "      <td>BROOMSTICK RD &amp; WARD RD</td>\n",
       "      <td>1</td>\n",
       "    </tr>\n",
       "    <tr>\n",
       "      <th>2015-12-31 22:44:20</th>\n",
       "      <td>40.229416</td>\n",
       "      <td>-75.276840</td>\n",
       "      <td>CYPRESS ST &amp; E HANCOCK ST;  LANSDALE; Station ...</td>\n",
       "      <td>19446.0</td>\n",
       "      <td>EMS: ASSAULT VICTIM</td>\n",
       "      <td>LANSDALE</td>\n",
       "      <td>CYPRESS ST &amp; E HANCOCK ST</td>\n",
       "      <td>1</td>\n",
       "    </tr>\n",
       "    <tr>\n",
       "      <th>2015-12-31 22:43:28</th>\n",
       "      <td>40.191561</td>\n",
       "      <td>-75.230362</td>\n",
       "      <td>BETHLEHEM PIKE &amp; MOORE DR;  LOWER GWYNEDD; Sta...</td>\n",
       "      <td>19002.0</td>\n",
       "      <td>EMS: RESPIRATORY EMERGENCY</td>\n",
       "      <td>LOWER GWYNEDD</td>\n",
       "      <td>BETHLEHEM PIKE &amp; MOORE DR</td>\n",
       "      <td>1</td>\n",
       "    </tr>\n",
       "    <tr>\n",
       "      <th>2015-12-31 22:42:35</th>\n",
       "      <td>40.196878</td>\n",
       "      <td>-75.267579</td>\n",
       "      <td>SWEDESFORD RD &amp; S SWEDESFORD RD;  LOWER GWYNED...</td>\n",
       "      <td>NaN</td>\n",
       "      <td>EMS: CARDIAC EMERGENCY</td>\n",
       "      <td>LOWER GWYNEDD</td>\n",
       "      <td>SWEDESFORD RD &amp; S SWEDESFORD RD</td>\n",
       "      <td>1</td>\n",
       "    </tr>\n",
       "    <tr>\n",
       "      <th>2015-12-31 22:50:54</th>\n",
       "      <td>40.226595</td>\n",
       "      <td>-75.278283</td>\n",
       "      <td>SPRUCE ST &amp; WEBSTER AVE;  LANSDALE; Station 34...</td>\n",
       "      <td>19446.0</td>\n",
       "      <td>EMS: ASSAULT VICTIM</td>\n",
       "      <td>LANSDALE</td>\n",
       "      <td>SPRUCE ST &amp; WEBSTER AVE</td>\n",
       "      <td>1</td>\n",
       "    </tr>\n",
       "    <tr>\n",
       "      <th>2015-12-31 23:00:18</th>\n",
       "      <td>40.129448</td>\n",
       "      <td>-75.312010</td>\n",
       "      <td>NEW HOPE ST &amp; SAW MILL CT;  EAST NORRITON; Sta...</td>\n",
       "      <td>19401.0</td>\n",
       "      <td>EMS: UNRESPONSIVE SUBJECT</td>\n",
       "      <td>EAST NORRITON</td>\n",
       "      <td>NEW HOPE ST &amp; SAW MILL CT</td>\n",
       "      <td>1</td>\n",
       "    </tr>\n",
       "    <tr>\n",
       "      <th>2015-12-31 22:57:09</th>\n",
       "      <td>40.154925</td>\n",
       "      <td>-75.220973</td>\n",
       "      <td>BUTLER AVE &amp; YORK ST;  AMBLER; Station 351; 20...</td>\n",
       "      <td>19002.0</td>\n",
       "      <td>EMS: UNCONSCIOUS SUBJECT</td>\n",
       "      <td>AMBLER</td>\n",
       "      <td>BUTLER AVE &amp; YORK ST</td>\n",
       "      <td>1</td>\n",
       "    </tr>\n",
       "    <tr>\n",
       "      <th>2015-12-31 23:10:00</th>\n",
       "      <td>40.197147</td>\n",
       "      <td>-75.297906</td>\n",
       "      <td>PRIMROSE DR &amp; MAHOGANY WAY;  UPPER GWYNEDD; St...</td>\n",
       "      <td>19446.0</td>\n",
       "      <td>EMS: SYNCOPAL EPISODE</td>\n",
       "      <td>UPPER GWYNEDD</td>\n",
       "      <td>PRIMROSE DR &amp; MAHOGANY WAY</td>\n",
       "      <td>1</td>\n",
       "    </tr>\n",
       "    <tr>\n",
       "      <th>2015-12-31 23:09:19</th>\n",
       "      <td>40.166612</td>\n",
       "      <td>-75.067830</td>\n",
       "      <td>OAKWOOD DR &amp; JASON DR;  UPPER MORELAND; Statio...</td>\n",
       "      <td>19006.0</td>\n",
       "      <td>EMS: OVERDOSE</td>\n",
       "      <td>UPPER MORELAND</td>\n",
       "      <td>OAKWOOD DR &amp; JASON DR</td>\n",
       "      <td>1</td>\n",
       "    </tr>\n",
       "    <tr>\n",
       "      <th>2015-12-31 23:15:50</th>\n",
       "      <td>40.033578</td>\n",
       "      <td>-75.267095</td>\n",
       "      <td>SCHUYLKILL EXPY &amp; CONSHOHOCKEN STATE UNDERPASS...</td>\n",
       "      <td>NaN</td>\n",
       "      <td>Traffic: DISABLED VEHICLE -</td>\n",
       "      <td>LOWER MERION</td>\n",
       "      <td>SCHUYLKILL EXPY &amp; CONSHOHOCKEN STATE UNDERPASS</td>\n",
       "      <td>1</td>\n",
       "    </tr>\n",
       "    <tr>\n",
       "      <th>2015-12-31 23:13:20</th>\n",
       "      <td>40.099458</td>\n",
       "      <td>-75.179608</td>\n",
       "      <td>WILLOW GROVE AVE &amp; SANDY HILL RD; CHELTENHAM; ...</td>\n",
       "      <td>19038.0</td>\n",
       "      <td>Traffic: VEHICLE ACCIDENT -</td>\n",
       "      <td>CHELTENHAM</td>\n",
       "      <td>WILLOW GROVE AVE &amp; SANDY HILL RD</td>\n",
       "      <td>1</td>\n",
       "    </tr>\n",
       "    <tr>\n",
       "      <th>2015-12-31 23:19:22</th>\n",
       "      <td>40.008007</td>\n",
       "      <td>-75.298423</td>\n",
       "      <td>GREENFIELD AVE &amp; ROOSEVELT TER;  LOWER MERION;...</td>\n",
       "      <td>19003.0</td>\n",
       "      <td>EMS: UNRESPONSIVE SUBJECT</td>\n",
       "      <td>LOWER MERION</td>\n",
       "      <td>GREENFIELD AVE &amp; ROOSEVELT TER</td>\n",
       "      <td>1</td>\n",
       "    </tr>\n",
       "    <tr>\n",
       "      <th>2015-12-31 23:18:28</th>\n",
       "      <td>40.069832</td>\n",
       "      <td>-75.316295</td>\n",
       "      <td>RAMP MATSONFORD RD TO I476 NB;  WEST CONSHOHOC...</td>\n",
       "      <td>NaN</td>\n",
       "      <td>EMS: VEHICLE ACCIDENT</td>\n",
       "      <td>WEST CONSHOHOCKEN</td>\n",
       "      <td>RAMP MATSONFORD RD TO I476 NB</td>\n",
       "      <td>1</td>\n",
       "    </tr>\n",
       "    <tr>\n",
       "      <th>2015-12-31 23:10:22</th>\n",
       "      <td>40.069832</td>\n",
       "      <td>-75.316295</td>\n",
       "      <td>RAMP MATSONFORD RD TO I476 NB &amp; RAMP MATSONFOR...</td>\n",
       "      <td>NaN</td>\n",
       "      <td>Traffic: VEHICLE ACCIDENT -</td>\n",
       "      <td>WEST CONSHOHOCKEN</td>\n",
       "      <td>RAMP MATSONFORD RD TO I476 NB &amp; RAMP MATSONFOR...</td>\n",
       "      <td>1</td>\n",
       "    </tr>\n",
       "    <tr>\n",
       "      <th>2015-12-31 23:25:41</th>\n",
       "      <td>40.155060</td>\n",
       "      <td>-75.102251</td>\n",
       "      <td>DAVISVILLE RD &amp; PENNYPACK RD;  UPPER MORELAND;...</td>\n",
       "      <td>19040.0</td>\n",
       "      <td>EMS: CARDIAC EMERGENCY</td>\n",
       "      <td>UPPER MORELAND</td>\n",
       "      <td>DAVISVILLE RD &amp; PENNYPACK RD</td>\n",
       "      <td>1</td>\n",
       "    </tr>\n",
       "    <tr>\n",
       "      <th>2015-12-31 23:24:06</th>\n",
       "      <td>40.148771</td>\n",
       "      <td>-75.085515</td>\n",
       "      <td>HUNTINGDON RD &amp; MASONS MILL RD;  UPPER MORELAN...</td>\n",
       "      <td>19006.0</td>\n",
       "      <td>EMS: FALL VICTIM</td>\n",
       "      <td>UPPER MORELAND</td>\n",
       "      <td>HUNTINGDON RD &amp; MASONS MILL RD</td>\n",
       "      <td>1</td>\n",
       "    </tr>\n",
       "    <tr>\n",
       "      <th>2015-12-31 23:35:25</th>\n",
       "      <td>39.990653</td>\n",
       "      <td>-75.249082</td>\n",
       "      <td>CITY AVE &amp; MERION RD; LOWER MERION; 2015-12-31...</td>\n",
       "      <td>19131.0</td>\n",
       "      <td>Traffic: VEHICLE ACCIDENT -</td>\n",
       "      <td>LOWER MERION</td>\n",
       "      <td>CITY AVE &amp; MERION RD</td>\n",
       "      <td>1</td>\n",
       "    </tr>\n",
       "    <tr>\n",
       "      <th>2015-12-31 23:41:52</th>\n",
       "      <td>40.252593</td>\n",
       "      <td>-75.247293</td>\n",
       "      <td>BETHLEHEM PIKE;  BUCKS COUNTY; Station 345; 20...</td>\n",
       "      <td>NaN</td>\n",
       "      <td>EMS: VEHICLE ACCIDENT</td>\n",
       "      <td>BUCKS COUNTY</td>\n",
       "      <td>BETHLEHEM PIKE</td>\n",
       "      <td>1</td>\n",
       "    </tr>\n",
       "    <tr>\n",
       "      <th>2015-12-31 23:32:27</th>\n",
       "      <td>40.291231</td>\n",
       "      <td>-75.271800</td>\n",
       "      <td>BETHLEHEM PIKE &amp; SWARTLEY RD; BUCKS COUNTY; 20...</td>\n",
       "      <td>19440.0</td>\n",
       "      <td>Traffic: VEHICLE ACCIDENT -</td>\n",
       "      <td>BUCKS COUNTY</td>\n",
       "      <td>BETHLEHEM PIKE &amp; SWARTLEY RD</td>\n",
       "      <td>1</td>\n",
       "    </tr>\n",
       "    <tr>\n",
       "      <th>2015-12-31 23:44:56</th>\n",
       "      <td>40.136020</td>\n",
       "      <td>-75.354606</td>\n",
       "      <td>BEECH DR &amp; SPRUCE ST;  WEST NORRITON; Station ...</td>\n",
       "      <td>19403.0</td>\n",
       "      <td>EMS: SEIZURES</td>\n",
       "      <td>WEST NORRITON</td>\n",
       "      <td>BEECH DR &amp; SPRUCE ST</td>\n",
       "      <td>1</td>\n",
       "    </tr>\n",
       "    <tr>\n",
       "      <th>2015-12-31 23:54:02</th>\n",
       "      <td>40.294817</td>\n",
       "      <td>-75.537972</td>\n",
       "      <td>BIG RD &amp; COLONIAL RD;  UPPER FREDERICK; Statio...</td>\n",
       "      <td>18074.0</td>\n",
       "      <td>EMS: FALL VICTIM</td>\n",
       "      <td>UPPER FREDERICK</td>\n",
       "      <td>BIG RD &amp; COLONIAL RD</td>\n",
       "      <td>1</td>\n",
       "    </tr>\n",
       "    <tr>\n",
       "      <th>2015-12-31 23:53:19</th>\n",
       "      <td>40.112336</td>\n",
       "      <td>-75.150554</td>\n",
       "      <td>ROBERTS AVE &amp; JENKINTOWN RD;  ABINGTON; Statio...</td>\n",
       "      <td>19038.0</td>\n",
       "      <td>EMS: CARDIAC EMERGENCY</td>\n",
       "      <td>ABINGTON</td>\n",
       "      <td>ROBERTS AVE &amp; JENKINTOWN RD</td>\n",
       "      <td>1</td>\n",
       "    </tr>\n",
       "    <tr>\n",
       "      <th>2015-12-31 23:52:46</th>\n",
       "      <td>40.081127</td>\n",
       "      <td>-75.160484</td>\n",
       "      <td>LIMEKILN PIKE &amp; EVERGREEN AVE; CHELTENHAM; 201...</td>\n",
       "      <td>19095.0</td>\n",
       "      <td>Traffic: DISABLED VEHICLE -</td>\n",
       "      <td>CHELTENHAM</td>\n",
       "      <td>LIMEKILN PIKE &amp; EVERGREEN AVE</td>\n",
       "      <td>1</td>\n",
       "    </tr>\n",
       "  </tbody>\n",
       "</table>\n",
       "<p>314 rows × 8 columns</p>\n",
       "</div>"
      ],
      "text/plain": [
       "                           lat        lng  \\\n",
       "timeStamp                                   \n",
       "2015-12-31 00:00:21  40.230580 -75.212356   \n",
       "2015-12-31 00:06:49  40.259882 -75.293646   \n",
       "2015-12-31 00:22:29  40.176879 -75.187746   \n",
       "2015-12-31 00:29:19  40.233159 -75.258146   \n",
       "2015-12-31 00:27:51  40.088958 -75.408347   \n",
       "2015-12-31 00:27:19  40.088958 -75.408347   \n",
       "2015-12-31 00:46:39  40.383619 -75.487344   \n",
       "2015-12-31 00:54:15  40.082618 -75.083543   \n",
       "2015-12-31 00:52:44  40.327346 -75.623119   \n",
       "2015-12-31 01:42:59  40.073014 -75.131626   \n",
       "2015-12-31 01:41:14  40.366046 -75.522586   \n",
       "2015-12-31 01:50:59  40.251174 -75.643975   \n",
       "2015-12-31 01:58:23  39.999659 -75.285479   \n",
       "2015-12-31 01:58:15  39.999659 -75.285479   \n",
       "2015-12-31 02:12:23  40.219565 -75.315427   \n",
       "2015-12-31 02:25:35  40.229008 -75.387853   \n",
       "2015-12-31 02:28:31  40.198436 -75.384619   \n",
       "2015-12-31 02:40:27  40.198436 -75.384619   \n",
       "2015-12-31 02:40:18  40.198436 -75.384619   \n",
       "2015-12-31 03:08:33  40.100748 -75.215108   \n",
       "2015-12-31 03:09:01  40.294241 -75.361690   \n",
       "2015-12-31 03:40:01  40.153268 -75.189558   \n",
       "2015-12-31 03:46:31  40.251884 -75.652863   \n",
       "2015-12-31 04:01:52  40.102227 -75.391544   \n",
       "2015-12-31 04:10:04  40.205476 -75.352971   \n",
       "2015-12-31 04:09:25  40.011767 -75.294673   \n",
       "2015-12-31 04:17:15  40.215749 -75.545489   \n",
       "2015-12-31 04:27:09  40.240842 -75.292032   \n",
       "2015-12-31 04:46:14  40.045146 -75.309062   \n",
       "2015-12-31 04:56:41  40.168538 -75.498200   \n",
       "...                        ...        ...   \n",
       "2015-12-31 21:59:02  40.053236 -75.122129   \n",
       "2015-12-31 22:03:50  40.245323 -75.647644   \n",
       "2015-12-31 22:03:04  40.172526 -75.284653   \n",
       "2015-12-31 22:14:35  40.025480 -75.326511   \n",
       "2015-12-31 22:22:58  40.178442 -75.128506   \n",
       "2015-12-31 22:25:44  40.148152 -75.235450   \n",
       "2015-12-31 22:35:28  40.131305 -75.118346   \n",
       "2015-12-31 22:39:33  40.357002 -75.518927   \n",
       "2015-12-31 22:44:20  40.229416 -75.276840   \n",
       "2015-12-31 22:43:28  40.191561 -75.230362   \n",
       "2015-12-31 22:42:35  40.196878 -75.267579   \n",
       "2015-12-31 22:50:54  40.226595 -75.278283   \n",
       "2015-12-31 23:00:18  40.129448 -75.312010   \n",
       "2015-12-31 22:57:09  40.154925 -75.220973   \n",
       "2015-12-31 23:10:00  40.197147 -75.297906   \n",
       "2015-12-31 23:09:19  40.166612 -75.067830   \n",
       "2015-12-31 23:15:50  40.033578 -75.267095   \n",
       "2015-12-31 23:13:20  40.099458 -75.179608   \n",
       "2015-12-31 23:19:22  40.008007 -75.298423   \n",
       "2015-12-31 23:18:28  40.069832 -75.316295   \n",
       "2015-12-31 23:10:22  40.069832 -75.316295   \n",
       "2015-12-31 23:25:41  40.155060 -75.102251   \n",
       "2015-12-31 23:24:06  40.148771 -75.085515   \n",
       "2015-12-31 23:35:25  39.990653 -75.249082   \n",
       "2015-12-31 23:41:52  40.252593 -75.247293   \n",
       "2015-12-31 23:32:27  40.291231 -75.271800   \n",
       "2015-12-31 23:44:56  40.136020 -75.354606   \n",
       "2015-12-31 23:54:02  40.294817 -75.537972   \n",
       "2015-12-31 23:53:19  40.112336 -75.150554   \n",
       "2015-12-31 23:52:46  40.081127 -75.160484   \n",
       "\n",
       "                                                                  desc  \\\n",
       "timeStamp                                                                \n",
       "2015-12-31 00:00:21  OXFORD LN & CHESTER CIR;  MONTGOMERY; Station ...   \n",
       "2015-12-31 00:06:49  WYNDHAM WOODS WAY & OAK PARK RD; HATFIELD TOWN...   \n",
       "2015-12-31 00:22:29  THORNBURY DR & CHAUCER DR;  UPPER DUBLIN; Stat...   \n",
       "2015-12-31 00:29:19  WILLIAMSBURG RD & GETTYSBURG DR; LANSDALE; 201...   \n",
       "2015-12-31 00:27:51  GODDARD BLVD & N GULPH RD;  UPPER MERION; Stat...   \n",
       "2015-12-31 00:27:19  GODDARD BLVD & N GULPH RD; UPPER MERION; 2015-...   \n",
       "2015-12-31 00:46:39  JEFFERSON ST & 10TH ST;  RED HILL; Station 369...   \n",
       "2015-12-31 00:54:15  BLAKE AVE & ABINGTON AVE; ROCKLEDGE; 2015-12-3...   \n",
       "2015-12-31 00:52:44  DOUGLASS ST & E PHILADELPHIA AVE;  DOUGLASS; S...   \n",
       "2015-12-31 01:42:59  OLD YORK RD & SPRING AVE;  CHELTENHAM; Station...   \n",
       "2015-12-31 01:41:14  KINGS RD & LAYFIELD RD;  UPPER HANOVER; Statio...   \n",
       "2015-12-31 01:50:59  EVANS ST & JEFFERSON AVE;  POTTSTOWN; Station ...   \n",
       "2015-12-31 01:58:23  ARGYLE RD; LOWER MERION; 2015-12-31 @ 01:58:23...   \n",
       "2015-12-31 01:58:15  ARGYLE RD;  LOWER MERION; Station 313; 2015-12...   \n",
       "2015-12-31 02:12:23  SUPPLEE RD & CREST RD;  UPPER GWYNEDD; Station...   \n",
       "2015-12-31 02:25:35  VINE ST & BUTLER AVE;  HATFIELD BORO; Station ...   \n",
       "2015-12-31 02:28:31  GREEN HILL RD & STUMP HALL RD; WORCESTER; 2015...   \n",
       "2015-12-31 02:40:27  GREEN HILL RD & STUMP HALL RD;  WORCESTER; Sta...   \n",
       "2015-12-31 02:40:18  GREEN HILL RD & STUMP HALL RD; WORCESTER; 2015...   \n",
       "2015-12-31 03:08:33  WISSAHICKON AVE & ROSE LN;  SPRINGFIELD; Stati...   \n",
       "2015-12-31 03:09:01  MOYER RD & HALTEMAN RD; FRANCONIA; 2015-12-31 ...   \n",
       "2015-12-31 03:40:01  BERKLEY PL & DEAD END;  UPPER DUBLIN; Station ...   \n",
       "2015-12-31 03:46:31  3RD ST & JOHNSON ST;  POTTSTOWN; Station 329; ...   \n",
       "2015-12-31 04:01:52  VALLEY FORGE RD & GENERAL STEUBEN RD;  UPPER M...   \n",
       "2015-12-31 04:10:04  SKIPPACK PIKE & MEADOWOOD DR;  WORCESTER; Stat...   \n",
       "2015-12-31 04:09:25  MONTGOMERY AVE & WOODSIDE RD;  LOWER MERION; S...   \n",
       "2015-12-31 04:17:15  N LEWIS RD & LINFIELD TRAPPE RD; LIMERICK; 201...   \n",
       "2015-12-31 04:27:09  MT VERNON ST & S RICHARDSON AVE;  LANSDALE; St...   \n",
       "2015-12-31 04:46:14  GREAT SPRINGS RD & OAK SPRINGS RD;  LOWER MERI...   \n",
       "2015-12-31 04:56:41  BLACK ROCK RD & S TRAPPE RD;  UPPER PROVIDENCE...   \n",
       "...                                                                ...   \n",
       "2015-12-31 21:59:02  CHELTENHAM AVE & NEW SECOND ST; CHELTENHAM; 20...   \n",
       "2015-12-31 22:03:50  HIGH ST & N CHARLOTTE ST;  POTTSTOWN; Station ...   \n",
       "2015-12-31 22:03:04  DEKALB PIKE & BLUE BELL SPRINGS DR;  WHITPAIN;...   \n",
       "2015-12-31 22:14:35  WOOD CIR & LANCASTER AVE;  LOWER MERION; Stati...   \n",
       "2015-12-31 22:22:58  EASTON RD & WGNAS MAIN GATE; HORSHAM; 2015-12-...   \n",
       "2015-12-31 22:25:44  BUTLER PIKE & W BUTLER PIKE; WHITEMARSH; 2015-...   \n",
       "2015-12-31 22:35:28  ROCKWELL RD & ROY AVE;  ABINGTON; Station 381;...   \n",
       "2015-12-31 22:39:33  BROOMSTICK RD & WARD RD; UPPER HANOVER; 2015-1...   \n",
       "2015-12-31 22:44:20  CYPRESS ST & E HANCOCK ST;  LANSDALE; Station ...   \n",
       "2015-12-31 22:43:28  BETHLEHEM PIKE & MOORE DR;  LOWER GWYNEDD; Sta...   \n",
       "2015-12-31 22:42:35  SWEDESFORD RD & S SWEDESFORD RD;  LOWER GWYNED...   \n",
       "2015-12-31 22:50:54  SPRUCE ST & WEBSTER AVE;  LANSDALE; Station 34...   \n",
       "2015-12-31 23:00:18  NEW HOPE ST & SAW MILL CT;  EAST NORRITON; Sta...   \n",
       "2015-12-31 22:57:09  BUTLER AVE & YORK ST;  AMBLER; Station 351; 20...   \n",
       "2015-12-31 23:10:00  PRIMROSE DR & MAHOGANY WAY;  UPPER GWYNEDD; St...   \n",
       "2015-12-31 23:09:19  OAKWOOD DR & JASON DR;  UPPER MORELAND; Statio...   \n",
       "2015-12-31 23:15:50  SCHUYLKILL EXPY & CONSHOHOCKEN STATE UNDERPASS...   \n",
       "2015-12-31 23:13:20  WILLOW GROVE AVE & SANDY HILL RD; CHELTENHAM; ...   \n",
       "2015-12-31 23:19:22  GREENFIELD AVE & ROOSEVELT TER;  LOWER MERION;...   \n",
       "2015-12-31 23:18:28  RAMP MATSONFORD RD TO I476 NB;  WEST CONSHOHOC...   \n",
       "2015-12-31 23:10:22  RAMP MATSONFORD RD TO I476 NB & RAMP MATSONFOR...   \n",
       "2015-12-31 23:25:41  DAVISVILLE RD & PENNYPACK RD;  UPPER MORELAND;...   \n",
       "2015-12-31 23:24:06  HUNTINGDON RD & MASONS MILL RD;  UPPER MORELAN...   \n",
       "2015-12-31 23:35:25  CITY AVE & MERION RD; LOWER MERION; 2015-12-31...   \n",
       "2015-12-31 23:41:52  BETHLEHEM PIKE;  BUCKS COUNTY; Station 345; 20...   \n",
       "2015-12-31 23:32:27  BETHLEHEM PIKE & SWARTLEY RD; BUCKS COUNTY; 20...   \n",
       "2015-12-31 23:44:56  BEECH DR & SPRUCE ST;  WEST NORRITON; Station ...   \n",
       "2015-12-31 23:54:02  BIG RD & COLONIAL RD;  UPPER FREDERICK; Statio...   \n",
       "2015-12-31 23:53:19  ROBERTS AVE & JENKINTOWN RD;  ABINGTON; Statio...   \n",
       "2015-12-31 23:52:46  LIMEKILN PIKE & EVERGREEN AVE; CHELTENHAM; 201...   \n",
       "\n",
       "                         zip                           title  \\\n",
       "timeStamp                                                      \n",
       "2015-12-31 00:00:21  19454.0      EMS: RESPIRATORY EMERGENCY   \n",
       "2015-12-31 00:06:49  19440.0             Fire: GAS-ODOR/LEAK   \n",
       "2015-12-31 00:22:29  19002.0           EMS: SYNCOPAL EPISODE   \n",
       "2015-12-31 00:29:19  19446.0        Fire: FIRE INVESTIGATION   \n",
       "2015-12-31 00:27:51  19406.0           EMS: VEHICLE ACCIDENT   \n",
       "2015-12-31 00:27:19  19406.0     Traffic: VEHICLE ACCIDENT -   \n",
       "2015-12-31 00:46:39  18076.0          EMS: CARDIAC EMERGENCY   \n",
       "2015-12-31 00:54:15  19046.0             Fire: GAS-ODOR/LEAK   \n",
       "2015-12-31 00:52:44  19512.0            EMS: ABDOMINAL PAINS   \n",
       "2015-12-31 01:42:59  19027.0                EMS: FALL VICTIM   \n",
       "2015-12-31 01:41:14  18073.0      EMS: RESPIRATORY EMERGENCY   \n",
       "2015-12-31 01:50:59  19464.0  EMS: UNKNOWN MEDICAL EMERGENCY   \n",
       "2015-12-31 01:58:23      NaN               Fire: BURN VICTIM   \n",
       "2015-12-31 01:58:15      NaN                EMS: BURN VICTIM   \n",
       "2015-12-31 02:12:23  19446.0            EMS: SUBJECT IN PAIN   \n",
       "2015-12-31 02:25:35      NaN                EMS: FALL VICTIM   \n",
       "2015-12-31 02:28:31  19426.0     Traffic: VEHICLE ACCIDENT -   \n",
       "2015-12-31 02:40:27  19426.0           EMS: VEHICLE ACCIDENT   \n",
       "2015-12-31 02:40:18  19426.0          Fire: VEHICLE ACCIDENT   \n",
       "2015-12-31 03:08:33  19031.0                EMS: FALL VICTIM   \n",
       "2015-12-31 03:09:01  18964.0                Fire: FIRE ALARM   \n",
       "2015-12-31 03:40:01      NaN                EMS: FALL VICTIM   \n",
       "2015-12-31 03:46:31  19464.0      EMS: ALTERED MENTAL STATUS   \n",
       "2015-12-31 04:01:52  19406.0                EMS: HEAD INJURY   \n",
       "2015-12-31 04:10:04  19446.0           EMS: GENERAL WEAKNESS   \n",
       "2015-12-31 04:09:25  19041.0        EMS: MEDICAL ALERT ALARM   \n",
       "2015-12-31 04:17:15  19468.0     Traffic: VEHICLE ACCIDENT -   \n",
       "2015-12-31 04:27:09  19446.0          EMS: ALLERGIC REACTION   \n",
       "2015-12-31 04:46:14  19010.0          EMS: CARDIAC EMERGENCY   \n",
       "2015-12-31 04:56:41  19468.0      EMS: RESPIRATORY EMERGENCY   \n",
       "...                      ...                             ...   \n",
       "2015-12-31 21:59:02  19027.0     Traffic: VEHICLE ACCIDENT -   \n",
       "2015-12-31 22:03:50  19464.0                   EMS: OVERDOSE   \n",
       "2015-12-31 22:03:04  19422.0           EMS: SYNCOPAL EPISODE   \n",
       "2015-12-31 22:14:35  19010.0        EMS: MEDICAL ALERT ALARM   \n",
       "2015-12-31 22:22:58      NaN     Traffic: DISABLED VEHICLE -   \n",
       "2015-12-31 22:25:44  19002.0     Traffic: VEHICLE ACCIDENT -   \n",
       "2015-12-31 22:35:28  19001.0       EMS: UNRESPONSIVE SUBJECT   \n",
       "2015-12-31 22:39:33  18073.0             Fire: BUILDING FIRE   \n",
       "2015-12-31 22:44:20  19446.0             EMS: ASSAULT VICTIM   \n",
       "2015-12-31 22:43:28  19002.0      EMS: RESPIRATORY EMERGENCY   \n",
       "2015-12-31 22:42:35      NaN          EMS: CARDIAC EMERGENCY   \n",
       "2015-12-31 22:50:54  19446.0             EMS: ASSAULT VICTIM   \n",
       "2015-12-31 23:00:18  19401.0       EMS: UNRESPONSIVE SUBJECT   \n",
       "2015-12-31 22:57:09  19002.0        EMS: UNCONSCIOUS SUBJECT   \n",
       "2015-12-31 23:10:00  19446.0           EMS: SYNCOPAL EPISODE   \n",
       "2015-12-31 23:09:19  19006.0                   EMS: OVERDOSE   \n",
       "2015-12-31 23:15:50      NaN     Traffic: DISABLED VEHICLE -   \n",
       "2015-12-31 23:13:20  19038.0     Traffic: VEHICLE ACCIDENT -   \n",
       "2015-12-31 23:19:22  19003.0       EMS: UNRESPONSIVE SUBJECT   \n",
       "2015-12-31 23:18:28      NaN           EMS: VEHICLE ACCIDENT   \n",
       "2015-12-31 23:10:22      NaN     Traffic: VEHICLE ACCIDENT -   \n",
       "2015-12-31 23:25:41  19040.0          EMS: CARDIAC EMERGENCY   \n",
       "2015-12-31 23:24:06  19006.0                EMS: FALL VICTIM   \n",
       "2015-12-31 23:35:25  19131.0     Traffic: VEHICLE ACCIDENT -   \n",
       "2015-12-31 23:41:52      NaN           EMS: VEHICLE ACCIDENT   \n",
       "2015-12-31 23:32:27  19440.0     Traffic: VEHICLE ACCIDENT -   \n",
       "2015-12-31 23:44:56  19403.0                   EMS: SEIZURES   \n",
       "2015-12-31 23:54:02  18074.0                EMS: FALL VICTIM   \n",
       "2015-12-31 23:53:19  19038.0          EMS: CARDIAC EMERGENCY   \n",
       "2015-12-31 23:52:46  19095.0     Traffic: DISABLED VEHICLE -   \n",
       "\n",
       "                                   twp  \\\n",
       "timeStamp                                \n",
       "2015-12-31 00:00:21         MONTGOMERY   \n",
       "2015-12-31 00:06:49  HATFIELD TOWNSHIP   \n",
       "2015-12-31 00:22:29       UPPER DUBLIN   \n",
       "2015-12-31 00:29:19           LANSDALE   \n",
       "2015-12-31 00:27:51       UPPER MERION   \n",
       "2015-12-31 00:27:19       UPPER MERION   \n",
       "2015-12-31 00:46:39           RED HILL   \n",
       "2015-12-31 00:54:15          ROCKLEDGE   \n",
       "2015-12-31 00:52:44           DOUGLASS   \n",
       "2015-12-31 01:42:59         CHELTENHAM   \n",
       "2015-12-31 01:41:14      UPPER HANOVER   \n",
       "2015-12-31 01:50:59          POTTSTOWN   \n",
       "2015-12-31 01:58:23       LOWER MERION   \n",
       "2015-12-31 01:58:15       LOWER MERION   \n",
       "2015-12-31 02:12:23      UPPER GWYNEDD   \n",
       "2015-12-31 02:25:35      HATFIELD BORO   \n",
       "2015-12-31 02:28:31          WORCESTER   \n",
       "2015-12-31 02:40:27          WORCESTER   \n",
       "2015-12-31 02:40:18          WORCESTER   \n",
       "2015-12-31 03:08:33        SPRINGFIELD   \n",
       "2015-12-31 03:09:01          FRANCONIA   \n",
       "2015-12-31 03:40:01       UPPER DUBLIN   \n",
       "2015-12-31 03:46:31          POTTSTOWN   \n",
       "2015-12-31 04:01:52       UPPER MERION   \n",
       "2015-12-31 04:10:04          WORCESTER   \n",
       "2015-12-31 04:09:25       LOWER MERION   \n",
       "2015-12-31 04:17:15           LIMERICK   \n",
       "2015-12-31 04:27:09           LANSDALE   \n",
       "2015-12-31 04:46:14       LOWER MERION   \n",
       "2015-12-31 04:56:41   UPPER PROVIDENCE   \n",
       "...                                ...   \n",
       "2015-12-31 21:59:02         CHELTENHAM   \n",
       "2015-12-31 22:03:50          POTTSTOWN   \n",
       "2015-12-31 22:03:04           WHITPAIN   \n",
       "2015-12-31 22:14:35       LOWER MERION   \n",
       "2015-12-31 22:22:58            HORSHAM   \n",
       "2015-12-31 22:25:44         WHITEMARSH   \n",
       "2015-12-31 22:35:28           ABINGTON   \n",
       "2015-12-31 22:39:33      UPPER HANOVER   \n",
       "2015-12-31 22:44:20           LANSDALE   \n",
       "2015-12-31 22:43:28      LOWER GWYNEDD   \n",
       "2015-12-31 22:42:35      LOWER GWYNEDD   \n",
       "2015-12-31 22:50:54           LANSDALE   \n",
       "2015-12-31 23:00:18      EAST NORRITON   \n",
       "2015-12-31 22:57:09             AMBLER   \n",
       "2015-12-31 23:10:00      UPPER GWYNEDD   \n",
       "2015-12-31 23:09:19     UPPER MORELAND   \n",
       "2015-12-31 23:15:50       LOWER MERION   \n",
       "2015-12-31 23:13:20         CHELTENHAM   \n",
       "2015-12-31 23:19:22       LOWER MERION   \n",
       "2015-12-31 23:18:28  WEST CONSHOHOCKEN   \n",
       "2015-12-31 23:10:22  WEST CONSHOHOCKEN   \n",
       "2015-12-31 23:25:41     UPPER MORELAND   \n",
       "2015-12-31 23:24:06     UPPER MORELAND   \n",
       "2015-12-31 23:35:25       LOWER MERION   \n",
       "2015-12-31 23:41:52       BUCKS COUNTY   \n",
       "2015-12-31 23:32:27       BUCKS COUNTY   \n",
       "2015-12-31 23:44:56      WEST NORRITON   \n",
       "2015-12-31 23:54:02    UPPER FREDERICK   \n",
       "2015-12-31 23:53:19           ABINGTON   \n",
       "2015-12-31 23:52:46         CHELTENHAM   \n",
       "\n",
       "                                                                  addr  e  \n",
       "timeStamp                                                                  \n",
       "2015-12-31 00:00:21                            OXFORD LN & CHESTER CIR  1  \n",
       "2015-12-31 00:06:49                    WYNDHAM WOODS WAY & OAK PARK RD  1  \n",
       "2015-12-31 00:22:29                          THORNBURY DR & CHAUCER DR  1  \n",
       "2015-12-31 00:29:19                    WILLIAMSBURG RD & GETTYSBURG DR  1  \n",
       "2015-12-31 00:27:51                          GODDARD BLVD & N GULPH RD  1  \n",
       "2015-12-31 00:27:19                          GODDARD BLVD & N GULPH RD  1  \n",
       "2015-12-31 00:46:39                             JEFFERSON ST & 10TH ST  1  \n",
       "2015-12-31 00:54:15                           BLAKE AVE & ABINGTON AVE  1  \n",
       "2015-12-31 00:52:44                   DOUGLASS ST & E PHILADELPHIA AVE  1  \n",
       "2015-12-31 01:42:59                           OLD YORK RD & SPRING AVE  1  \n",
       "2015-12-31 01:41:14                             KINGS RD & LAYFIELD RD  1  \n",
       "2015-12-31 01:50:59                           EVANS ST & JEFFERSON AVE  1  \n",
       "2015-12-31 01:58:23                                          ARGYLE RD  1  \n",
       "2015-12-31 01:58:15                                          ARGYLE RD  1  \n",
       "2015-12-31 02:12:23                              SUPPLEE RD & CREST RD  1  \n",
       "2015-12-31 02:25:35                               VINE ST & BUTLER AVE  1  \n",
       "2015-12-31 02:28:31                      GREEN HILL RD & STUMP HALL RD  1  \n",
       "2015-12-31 02:40:27                      GREEN HILL RD & STUMP HALL RD  1  \n",
       "2015-12-31 02:40:18                      GREEN HILL RD & STUMP HALL RD  1  \n",
       "2015-12-31 03:08:33                          WISSAHICKON AVE & ROSE LN  1  \n",
       "2015-12-31 03:09:01                             MOYER RD & HALTEMAN RD  1  \n",
       "2015-12-31 03:40:01                              BERKLEY PL & DEAD END  1  \n",
       "2015-12-31 03:46:31                                3RD ST & JOHNSON ST  1  \n",
       "2015-12-31 04:01:52               VALLEY FORGE RD & GENERAL STEUBEN RD  1  \n",
       "2015-12-31 04:10:04                       SKIPPACK PIKE & MEADOWOOD DR  1  \n",
       "2015-12-31 04:09:25                       MONTGOMERY AVE & WOODSIDE RD  1  \n",
       "2015-12-31 04:17:15                    N LEWIS RD & LINFIELD TRAPPE RD  1  \n",
       "2015-12-31 04:27:09                    MT VERNON ST & S RICHARDSON AVE  1  \n",
       "2015-12-31 04:46:14                  GREAT SPRINGS RD & OAK SPRINGS RD  1  \n",
       "2015-12-31 04:56:41                        BLACK ROCK RD & S TRAPPE RD  1  \n",
       "...                                                                ... ..  \n",
       "2015-12-31 21:59:02                     CHELTENHAM AVE & NEW SECOND ST  1  \n",
       "2015-12-31 22:03:50                           HIGH ST & N CHARLOTTE ST  1  \n",
       "2015-12-31 22:03:04                 DEKALB PIKE & BLUE BELL SPRINGS DR  1  \n",
       "2015-12-31 22:14:35                           WOOD CIR & LANCASTER AVE  1  \n",
       "2015-12-31 22:22:58                        EASTON RD & WGNAS MAIN GATE  1  \n",
       "2015-12-31 22:25:44                        BUTLER PIKE & W BUTLER PIKE  1  \n",
       "2015-12-31 22:35:28                              ROCKWELL RD & ROY AVE  1  \n",
       "2015-12-31 22:39:33                            BROOMSTICK RD & WARD RD  1  \n",
       "2015-12-31 22:44:20                          CYPRESS ST & E HANCOCK ST  1  \n",
       "2015-12-31 22:43:28                          BETHLEHEM PIKE & MOORE DR  1  \n",
       "2015-12-31 22:42:35                    SWEDESFORD RD & S SWEDESFORD RD  1  \n",
       "2015-12-31 22:50:54                            SPRUCE ST & WEBSTER AVE  1  \n",
       "2015-12-31 23:00:18                          NEW HOPE ST & SAW MILL CT  1  \n",
       "2015-12-31 22:57:09                               BUTLER AVE & YORK ST  1  \n",
       "2015-12-31 23:10:00                         PRIMROSE DR & MAHOGANY WAY  1  \n",
       "2015-12-31 23:09:19                              OAKWOOD DR & JASON DR  1  \n",
       "2015-12-31 23:15:50     SCHUYLKILL EXPY & CONSHOHOCKEN STATE UNDERPASS  1  \n",
       "2015-12-31 23:13:20                   WILLOW GROVE AVE & SANDY HILL RD  1  \n",
       "2015-12-31 23:19:22                     GREENFIELD AVE & ROOSEVELT TER  1  \n",
       "2015-12-31 23:18:28                      RAMP MATSONFORD RD TO I476 NB  1  \n",
       "2015-12-31 23:10:22  RAMP MATSONFORD RD TO I476 NB & RAMP MATSONFOR...  1  \n",
       "2015-12-31 23:25:41                       DAVISVILLE RD & PENNYPACK RD  1  \n",
       "2015-12-31 23:24:06                     HUNTINGDON RD & MASONS MILL RD  1  \n",
       "2015-12-31 23:35:25                               CITY AVE & MERION RD  1  \n",
       "2015-12-31 23:41:52                                     BETHLEHEM PIKE  1  \n",
       "2015-12-31 23:32:27                       BETHLEHEM PIKE & SWARTLEY RD  1  \n",
       "2015-12-31 23:44:56                               BEECH DR & SPRUCE ST  1  \n",
       "2015-12-31 23:54:02                               BIG RD & COLONIAL RD  1  \n",
       "2015-12-31 23:53:19                        ROBERTS AVE & JENKINTOWN RD  1  \n",
       "2015-12-31 23:52:46                      LIMEKILN PIKE & EVERGREEN AVE  1  \n",
       "\n",
       "[314 rows x 8 columns]"
      ]
     },
     "execution_count": 172,
     "metadata": {},
     "output_type": "execute_result"
    }
   ],
   "source": [
    "df['2015-12-31']"
   ]
  },
  {
   "cell_type": "code",
   "execution_count": 173,
   "metadata": {},
   "outputs": [
    {
     "data": {
      "text/html": [
       "<div>\n",
       "<style>\n",
       "    .dataframe thead tr:only-child th {\n",
       "        text-align: right;\n",
       "    }\n",
       "\n",
       "    .dataframe thead th {\n",
       "        text-align: left;\n",
       "    }\n",
       "\n",
       "    .dataframe tbody tr th {\n",
       "        vertical-align: top;\n",
       "    }\n",
       "</style>\n",
       "<table border=\"1\" class=\"dataframe\">\n",
       "  <thead>\n",
       "    <tr style=\"text-align: right;\">\n",
       "      <th></th>\n",
       "      <th>lat</th>\n",
       "      <th>lng</th>\n",
       "      <th>desc</th>\n",
       "      <th>zip</th>\n",
       "      <th>title</th>\n",
       "      <th>twp</th>\n",
       "      <th>addr</th>\n",
       "      <th>e</th>\n",
       "    </tr>\n",
       "    <tr>\n",
       "      <th>timeStamp</th>\n",
       "      <th></th>\n",
       "      <th></th>\n",
       "      <th></th>\n",
       "      <th></th>\n",
       "      <th></th>\n",
       "      <th></th>\n",
       "      <th></th>\n",
       "      <th></th>\n",
       "    </tr>\n",
       "  </thead>\n",
       "  <tbody>\n",
       "    <tr>\n",
       "      <th>2015-12-31</th>\n",
       "      <td>7916</td>\n",
       "      <td>7916</td>\n",
       "      <td>7916</td>\n",
       "      <td>6902</td>\n",
       "      <td>7916</td>\n",
       "      <td>7911</td>\n",
       "      <td>7916</td>\n",
       "      <td>7916</td>\n",
       "    </tr>\n",
       "    <tr>\n",
       "      <th>2016-01-31</th>\n",
       "      <td>13096</td>\n",
       "      <td>13096</td>\n",
       "      <td>13096</td>\n",
       "      <td>11512</td>\n",
       "      <td>13096</td>\n",
       "      <td>13094</td>\n",
       "      <td>13096</td>\n",
       "      <td>13096</td>\n",
       "    </tr>\n",
       "    <tr>\n",
       "      <th>2016-02-29</th>\n",
       "      <td>11396</td>\n",
       "      <td>11396</td>\n",
       "      <td>11396</td>\n",
       "      <td>9926</td>\n",
       "      <td>11396</td>\n",
       "      <td>11395</td>\n",
       "      <td>11396</td>\n",
       "      <td>11396</td>\n",
       "    </tr>\n",
       "    <tr>\n",
       "      <th>2016-03-31</th>\n",
       "      <td>11059</td>\n",
       "      <td>11059</td>\n",
       "      <td>11059</td>\n",
       "      <td>9754</td>\n",
       "      <td>11059</td>\n",
       "      <td>11052</td>\n",
       "      <td>11059</td>\n",
       "      <td>11059</td>\n",
       "    </tr>\n",
       "    <tr>\n",
       "      <th>2016-04-30</th>\n",
       "      <td>11287</td>\n",
       "      <td>11287</td>\n",
       "      <td>11287</td>\n",
       "      <td>9897</td>\n",
       "      <td>11287</td>\n",
       "      <td>11284</td>\n",
       "      <td>11287</td>\n",
       "      <td>11287</td>\n",
       "    </tr>\n",
       "    <tr>\n",
       "      <th>2016-05-31</th>\n",
       "      <td>11374</td>\n",
       "      <td>11374</td>\n",
       "      <td>11374</td>\n",
       "      <td>9938</td>\n",
       "      <td>11374</td>\n",
       "      <td>11371</td>\n",
       "      <td>11374</td>\n",
       "      <td>11374</td>\n",
       "    </tr>\n",
       "    <tr>\n",
       "      <th>2016-06-30</th>\n",
       "      <td>11732</td>\n",
       "      <td>11732</td>\n",
       "      <td>11732</td>\n",
       "      <td>10205</td>\n",
       "      <td>11732</td>\n",
       "      <td>11726</td>\n",
       "      <td>11732</td>\n",
       "      <td>11732</td>\n",
       "    </tr>\n",
       "    <tr>\n",
       "      <th>2016-07-31</th>\n",
       "      <td>12088</td>\n",
       "      <td>12088</td>\n",
       "      <td>12088</td>\n",
       "      <td>10626</td>\n",
       "      <td>12088</td>\n",
       "      <td>12086</td>\n",
       "      <td>12088</td>\n",
       "      <td>12088</td>\n",
       "    </tr>\n",
       "    <tr>\n",
       "      <th>2016-08-31</th>\n",
       "      <td>11904</td>\n",
       "      <td>11904</td>\n",
       "      <td>11904</td>\n",
       "      <td>10381</td>\n",
       "      <td>11904</td>\n",
       "      <td>11902</td>\n",
       "      <td>11904</td>\n",
       "      <td>11904</td>\n",
       "    </tr>\n",
       "    <tr>\n",
       "      <th>2016-09-30</th>\n",
       "      <td>11669</td>\n",
       "      <td>11669</td>\n",
       "      <td>11669</td>\n",
       "      <td>10174</td>\n",
       "      <td>11669</td>\n",
       "      <td>11666</td>\n",
       "      <td>11669</td>\n",
       "      <td>11669</td>\n",
       "    </tr>\n",
       "    <tr>\n",
       "      <th>2016-10-31</th>\n",
       "      <td>12502</td>\n",
       "      <td>12502</td>\n",
       "      <td>12502</td>\n",
       "      <td>10760</td>\n",
       "      <td>12502</td>\n",
       "      <td>12499</td>\n",
       "      <td>12502</td>\n",
       "      <td>12502</td>\n",
       "    </tr>\n",
       "    <tr>\n",
       "      <th>2016-11-30</th>\n",
       "      <td>12091</td>\n",
       "      <td>12091</td>\n",
       "      <td>12091</td>\n",
       "      <td>10559</td>\n",
       "      <td>12091</td>\n",
       "      <td>12086</td>\n",
       "      <td>12091</td>\n",
       "      <td>12091</td>\n",
       "    </tr>\n",
       "    <tr>\n",
       "      <th>2016-12-31</th>\n",
       "      <td>12162</td>\n",
       "      <td>12162</td>\n",
       "      <td>12162</td>\n",
       "      <td>10763</td>\n",
       "      <td>12162</td>\n",
       "      <td>12156</td>\n",
       "      <td>12162</td>\n",
       "      <td>12162</td>\n",
       "    </tr>\n",
       "    <tr>\n",
       "      <th>2017-01-31</th>\n",
       "      <td>11605</td>\n",
       "      <td>11605</td>\n",
       "      <td>11605</td>\n",
       "      <td>10365</td>\n",
       "      <td>11605</td>\n",
       "      <td>11598</td>\n",
       "      <td>11605</td>\n",
       "      <td>11605</td>\n",
       "    </tr>\n",
       "    <tr>\n",
       "      <th>2017-02-28</th>\n",
       "      <td>10267</td>\n",
       "      <td>10267</td>\n",
       "      <td>10267</td>\n",
       "      <td>9235</td>\n",
       "      <td>10267</td>\n",
       "      <td>10263</td>\n",
       "      <td>10267</td>\n",
       "      <td>10267</td>\n",
       "    </tr>\n",
       "    <tr>\n",
       "      <th>2017-03-31</th>\n",
       "      <td>11684</td>\n",
       "      <td>11684</td>\n",
       "      <td>11684</td>\n",
       "      <td>10406</td>\n",
       "      <td>11684</td>\n",
       "      <td>11680</td>\n",
       "      <td>11684</td>\n",
       "      <td>11684</td>\n",
       "    </tr>\n",
       "    <tr>\n",
       "      <th>2017-04-30</th>\n",
       "      <td>11056</td>\n",
       "      <td>11056</td>\n",
       "      <td>11056</td>\n",
       "      <td>9774</td>\n",
       "      <td>11056</td>\n",
       "      <td>11052</td>\n",
       "      <td>11056</td>\n",
       "      <td>11056</td>\n",
       "    </tr>\n",
       "    <tr>\n",
       "      <th>2017-05-31</th>\n",
       "      <td>11719</td>\n",
       "      <td>11719</td>\n",
       "      <td>11719</td>\n",
       "      <td>10316</td>\n",
       "      <td>11719</td>\n",
       "      <td>11711</td>\n",
       "      <td>11719</td>\n",
       "      <td>11719</td>\n",
       "    </tr>\n",
       "    <tr>\n",
       "      <th>2017-06-30</th>\n",
       "      <td>12333</td>\n",
       "      <td>12333</td>\n",
       "      <td>12333</td>\n",
       "      <td>10865</td>\n",
       "      <td>12333</td>\n",
       "      <td>12332</td>\n",
       "      <td>12333</td>\n",
       "      <td>12333</td>\n",
       "    </tr>\n",
       "    <tr>\n",
       "      <th>2017-07-31</th>\n",
       "      <td>11768</td>\n",
       "      <td>11768</td>\n",
       "      <td>11768</td>\n",
       "      <td>10314</td>\n",
       "      <td>11768</td>\n",
       "      <td>11764</td>\n",
       "      <td>11768</td>\n",
       "      <td>11768</td>\n",
       "    </tr>\n",
       "    <tr>\n",
       "      <th>2017-08-31</th>\n",
       "      <td>11753</td>\n",
       "      <td>11753</td>\n",
       "      <td>11753</td>\n",
       "      <td>10358</td>\n",
       "      <td>11753</td>\n",
       "      <td>11744</td>\n",
       "      <td>11753</td>\n",
       "      <td>11753</td>\n",
       "    </tr>\n",
       "    <tr>\n",
       "      <th>2017-09-30</th>\n",
       "      <td>7276</td>\n",
       "      <td>7276</td>\n",
       "      <td>7276</td>\n",
       "      <td>6361</td>\n",
       "      <td>7276</td>\n",
       "      <td>7272</td>\n",
       "      <td>7276</td>\n",
       "      <td>7276</td>\n",
       "    </tr>\n",
       "  </tbody>\n",
       "</table>\n",
       "</div>"
      ],
      "text/plain": [
       "              lat    lng   desc    zip  title    twp   addr      e\n",
       "timeStamp                                                         \n",
       "2015-12-31   7916   7916   7916   6902   7916   7911   7916   7916\n",
       "2016-01-31  13096  13096  13096  11512  13096  13094  13096  13096\n",
       "2016-02-29  11396  11396  11396   9926  11396  11395  11396  11396\n",
       "2016-03-31  11059  11059  11059   9754  11059  11052  11059  11059\n",
       "2016-04-30  11287  11287  11287   9897  11287  11284  11287  11287\n",
       "2016-05-31  11374  11374  11374   9938  11374  11371  11374  11374\n",
       "2016-06-30  11732  11732  11732  10205  11732  11726  11732  11732\n",
       "2016-07-31  12088  12088  12088  10626  12088  12086  12088  12088\n",
       "2016-08-31  11904  11904  11904  10381  11904  11902  11904  11904\n",
       "2016-09-30  11669  11669  11669  10174  11669  11666  11669  11669\n",
       "2016-10-31  12502  12502  12502  10760  12502  12499  12502  12502\n",
       "2016-11-30  12091  12091  12091  10559  12091  12086  12091  12091\n",
       "2016-12-31  12162  12162  12162  10763  12162  12156  12162  12162\n",
       "2017-01-31  11605  11605  11605  10365  11605  11598  11605  11605\n",
       "2017-02-28  10267  10267  10267   9235  10267  10263  10267  10267\n",
       "2017-03-31  11684  11684  11684  10406  11684  11680  11684  11684\n",
       "2017-04-30  11056  11056  11056   9774  11056  11052  11056  11056\n",
       "2017-05-31  11719  11719  11719  10316  11719  11711  11719  11719\n",
       "2017-06-30  12333  12333  12333  10865  12333  12332  12333  12333\n",
       "2017-07-31  11768  11768  11768  10314  11768  11764  11768  11768\n",
       "2017-08-31  11753  11753  11753  10358  11753  11744  11753  11753\n",
       "2017-09-30   7276   7276   7276   6361   7276   7272   7276   7276"
      ]
     },
     "execution_count": 173,
     "metadata": {},
     "output_type": "execute_result"
    }
   ],
   "source": [
    "df.resample('M').count()"
   ]
  },
  {
   "cell_type": "code",
   "execution_count": null,
   "metadata": {
    "collapsed": true
   },
   "outputs": [],
   "source": []
  }
 ],
 "metadata": {
  "kernelspec": {
   "display_name": "Python 3",
   "language": "python",
   "name": "python3"
  },
  "language_info": {
   "codemirror_mode": {
    "name": "ipython",
    "version": 3
   },
   "file_extension": ".py",
   "mimetype": "text/x-python",
   "name": "python",
   "nbconvert_exporter": "python",
   "pygments_lexer": "ipython3",
   "version": "3.6.3"
  }
 },
 "nbformat": 4,
 "nbformat_minor": 2
}
