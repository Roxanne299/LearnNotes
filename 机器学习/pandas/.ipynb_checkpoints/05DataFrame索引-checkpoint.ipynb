{
 "cells": [
  {
   "cell_type": "code",
   "execution_count": 1,
   "id": "844855a8",
   "metadata": {},
   "outputs": [],
   "source": [
    "import numpy as np\n",
    "import pandas as pd"
   ]
  },
  {
   "cell_type": "code",
   "execution_count": 2,
   "id": "595f3439",
   "metadata": {},
   "outputs": [
    {
     "data": {
      "text/html": [
       "<div>\n",
       "<style scoped>\n",
       "    .dataframe tbody tr th:only-of-type {\n",
       "        vertical-align: middle;\n",
       "    }\n",
       "\n",
       "    .dataframe tbody tr th {\n",
       "        vertical-align: top;\n",
       "    }\n",
       "\n",
       "    .dataframe thead th {\n",
       "        text-align: right;\n",
       "    }\n",
       "</style>\n",
       "<table border=\"1\" class=\"dataframe\">\n",
       "  <thead>\n",
       "    <tr style=\"text-align: right;\">\n",
       "      <th></th>\n",
       "      <th>a</th>\n",
       "      <th>b</th>\n",
       "      <th>c</th>\n",
       "      <th>d</th>\n",
       "    </tr>\n",
       "  </thead>\n",
       "  <tbody>\n",
       "    <tr>\n",
       "      <th>11</th>\n",
       "      <td>-0.287768</td>\n",
       "      <td>0.078189</td>\n",
       "      <td>-0.253204</td>\n",
       "      <td>1.052303</td>\n",
       "    </tr>\n",
       "    <tr>\n",
       "      <th>22</th>\n",
       "      <td>-0.555235</td>\n",
       "      <td>1.929249</td>\n",
       "      <td>-1.164564</td>\n",
       "      <td>-1.423219</td>\n",
       "    </tr>\n",
       "    <tr>\n",
       "      <th>33</th>\n",
       "      <td>0.671144</td>\n",
       "      <td>-1.393074</td>\n",
       "      <td>-3.706907</td>\n",
       "      <td>-0.187946</td>\n",
       "    </tr>\n",
       "    <tr>\n",
       "      <th>44</th>\n",
       "      <td>-2.012949</td>\n",
       "      <td>-0.926109</td>\n",
       "      <td>0.379245</td>\n",
       "      <td>-0.792788</td>\n",
       "    </tr>\n",
       "    <tr>\n",
       "      <th>55</th>\n",
       "      <td>-0.567284</td>\n",
       "      <td>-1.924283</td>\n",
       "      <td>-0.019845</td>\n",
       "      <td>0.747158</td>\n",
       "    </tr>\n",
       "  </tbody>\n",
       "</table>\n",
       "</div>"
      ],
      "text/plain": [
       "           a         b         c         d\n",
       "11 -0.287768  0.078189 -0.253204  1.052303\n",
       "22 -0.555235  1.929249 -1.164564 -1.423219\n",
       "33  0.671144 -1.393074 -3.706907 -0.187946\n",
       "44 -2.012949 -0.926109  0.379245 -0.792788\n",
       "55 -0.567284 -1.924283 -0.019845  0.747158"
      ]
     },
     "execution_count": 2,
     "metadata": {},
     "output_type": "execute_result"
    }
   ],
   "source": [
    "df = pd.DataFrame(np.random.randn(5,4), columns = ['a', 'b', 'c', 'd'], index=[\"11\",\"22\",\"33\",\"44\",\"55\"])\n",
    "df"
   ]
  },
  {
   "cell_type": "code",
   "execution_count": 6,
   "id": "9bef7174",
   "metadata": {},
   "outputs": [
    {
     "data": {
      "text/html": [
       "<div>\n",
       "<style scoped>\n",
       "    .dataframe tbody tr th:only-of-type {\n",
       "        vertical-align: middle;\n",
       "    }\n",
       "\n",
       "    .dataframe tbody tr th {\n",
       "        vertical-align: top;\n",
       "    }\n",
       "\n",
       "    .dataframe thead th {\n",
       "        text-align: right;\n",
       "    }\n",
       "</style>\n",
       "<table border=\"1\" class=\"dataframe\">\n",
       "  <thead>\n",
       "    <tr style=\"text-align: right;\">\n",
       "      <th></th>\n",
       "      <th>a</th>\n",
       "      <th>b</th>\n",
       "    </tr>\n",
       "  </thead>\n",
       "  <tbody>\n",
       "    <tr>\n",
       "      <th>11</th>\n",
       "      <td>-0.287768</td>\n",
       "      <td>0.078189</td>\n",
       "    </tr>\n",
       "    <tr>\n",
       "      <th>22</th>\n",
       "      <td>-0.555235</td>\n",
       "      <td>1.929249</td>\n",
       "    </tr>\n",
       "    <tr>\n",
       "      <th>33</th>\n",
       "      <td>0.671144</td>\n",
       "      <td>-1.393074</td>\n",
       "    </tr>\n",
       "    <tr>\n",
       "      <th>44</th>\n",
       "      <td>-2.012949</td>\n",
       "      <td>-0.926109</td>\n",
       "    </tr>\n",
       "    <tr>\n",
       "      <th>55</th>\n",
       "      <td>-0.567284</td>\n",
       "      <td>-1.924283</td>\n",
       "    </tr>\n",
       "  </tbody>\n",
       "</table>\n",
       "</div>"
      ],
      "text/plain": [
       "           a         b\n",
       "11 -0.287768  0.078189\n",
       "22 -0.555235  1.929249\n",
       "33  0.671144 -1.393074\n",
       "44 -2.012949 -0.926109\n",
       "55 -0.567284 -1.924283"
      ]
     },
     "execution_count": 6,
     "metadata": {},
     "output_type": "execute_result"
    }
   ],
   "source": [
    "# 列索引\n",
    "# 要和Series做一个区别，[]在DataFrame中是获取列索引，在Series中是获取行索引\n",
    "# df.a\n",
    "# df['a']\n",
    "df[['a', 'b']]"
   ]
  },
  {
   "cell_type": "code",
   "execution_count": 12,
   "id": "103bc80c",
   "metadata": {},
   "outputs": [
    {
     "data": {
      "text/plain": [
       "11    0.078189\n",
       "22    1.929249\n",
       "Name: b, dtype: float64"
      ]
     },
     "execution_count": 12,
     "metadata": {},
     "output_type": "execute_result"
    }
   ],
   "source": [
    "# loc索引\n",
    "# df.loc['11']\n",
    "# df.loc[['11', '33']]\n",
    "# df.loc[\"11\": \"33\"]\n",
    "\n",
    "# loc[row, col]\n",
    "# df.loc[\"11\": \"33\", \"b\":\"c\"]\n",
    "# df.loc[\"11\": \"33\", ['b', 'c']]\n",
    "\n",
    "df.loc[['11', '22'], 'b']"
   ]
  },
  {
   "cell_type": "code",
   "execution_count": 17,
   "id": "03eda85c",
   "metadata": {},
   "outputs": [
    {
     "data": {
      "text/html": [
       "<div>\n",
       "<style scoped>\n",
       "    .dataframe tbody tr th:only-of-type {\n",
       "        vertical-align: middle;\n",
       "    }\n",
       "\n",
       "    .dataframe tbody tr th {\n",
       "        vertical-align: top;\n",
       "    }\n",
       "\n",
       "    .dataframe thead th {\n",
       "        text-align: right;\n",
       "    }\n",
       "</style>\n",
       "<table border=\"1\" class=\"dataframe\">\n",
       "  <thead>\n",
       "    <tr style=\"text-align: right;\">\n",
       "      <th></th>\n",
       "      <th>a</th>\n",
       "      <th>b</th>\n",
       "      <th>c</th>\n",
       "      <th>d</th>\n",
       "    </tr>\n",
       "  </thead>\n",
       "  <tbody>\n",
       "    <tr>\n",
       "      <th>11</th>\n",
       "      <td>-0.287768</td>\n",
       "      <td>0.078189</td>\n",
       "      <td>-0.253204</td>\n",
       "      <td>1.052303</td>\n",
       "    </tr>\n",
       "    <tr>\n",
       "      <th>22</th>\n",
       "      <td>-0.555235</td>\n",
       "      <td>1.929249</td>\n",
       "      <td>-1.164564</td>\n",
       "      <td>-1.423219</td>\n",
       "    </tr>\n",
       "    <tr>\n",
       "      <th>33</th>\n",
       "      <td>0.671144</td>\n",
       "      <td>-1.393074</td>\n",
       "      <td>-3.706907</td>\n",
       "      <td>-0.187946</td>\n",
       "    </tr>\n",
       "  </tbody>\n",
       "</table>\n",
       "</div>"
      ],
      "text/plain": [
       "           a         b         c         d\n",
       "11 -0.287768  0.078189 -0.253204  1.052303\n",
       "22 -0.555235  1.929249 -1.164564 -1.423219\n",
       "33  0.671144 -1.393074 -3.706907 -0.187946"
      ]
     },
     "execution_count": 17,
     "metadata": {},
     "output_type": "execute_result"
    }
   ],
   "source": [
    "# iloc索引\n",
    "# df.iloc[0:3]\n",
    "\n",
    "# df.iloc[0:3, [1,2]]\n",
    "\n",
    "df.iloc[0:3, :]"
   ]
  }
 ],
 "metadata": {
  "kernelspec": {
   "display_name": "Python 3 (ipykernel)",
   "language": "python",
   "name": "python3"
  },
  "language_info": {
   "codemirror_mode": {
    "name": "ipython",
    "version": 3
   },
   "file_extension": ".py",
   "mimetype": "text/x-python",
   "name": "python",
   "nbconvert_exporter": "python",
   "pygments_lexer": "ipython3",
   "version": "3.9.12"
  }
 },
 "nbformat": 4,
 "nbformat_minor": 5
}
