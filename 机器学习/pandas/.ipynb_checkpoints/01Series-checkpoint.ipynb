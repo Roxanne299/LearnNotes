{
 "cells": [
  {
   "cell_type": "code",
   "execution_count": 1,
   "id": "0e96a0f1",
   "metadata": {},
   "outputs": [],
   "source": [
    "import numpy as np\n",
    "import pandas as pd"
   ]
  },
  {
   "cell_type": "code",
   "execution_count": 2,
   "id": "1e8a3e39",
   "metadata": {},
   "outputs": [
    {
     "data": {
      "text/plain": [
       "0    张三\n",
       "1    李四\n",
       "2    王五\n",
       "dtype: object"
      ]
     },
     "execution_count": 2,
     "metadata": {},
     "output_type": "execute_result"
    }
   ],
   "source": [
    "# 1. 使用列表来创建\n",
    "series1 = pd.Series(['张三', '李四', '王五'])\n",
    "series1"
   ]
  },
  {
   "cell_type": "code",
   "execution_count": 6,
   "id": "f1d8614e",
   "metadata": {},
   "outputs": [
    {
     "data": {
      "text/plain": [
       "0    60\n",
       "1    41\n",
       "2    77\n",
       "3    66\n",
       "4    46\n",
       "dtype: int32"
      ]
     },
     "execution_count": 6,
     "metadata": {},
     "output_type": "execute_result"
    }
   ],
   "source": [
    "# 2. 使用np数组\n",
    "series2 = pd.Series(np.random.randint(0,99, size=(5, )))\n",
    "series2"
   ]
  },
  {
   "cell_type": "code",
   "execution_count": 8,
   "id": "78a09f83",
   "metadata": {},
   "outputs": [
    {
     "data": {
      "text/plain": [
       "张三    18\n",
       "李四    24\n",
       "王五    36\n",
       "dtype: int64"
      ]
     },
     "execution_count": 8,
     "metadata": {},
     "output_type": "execute_result"
    }
   ],
   "source": [
    "# 3. 使用字典创建\n",
    "user = {\"张三\": 18, \"李四\": 24, \"王五\": 36}\n",
    "series3 = pd.Series(user)\n",
    "series3"
   ]
  },
  {
   "cell_type": "code",
   "execution_count": 11,
   "id": "da3e3b7d",
   "metadata": {},
   "outputs": [
    {
     "data": {
      "text/plain": [
       "array(['张三', '李四', '王五'], dtype=object)"
      ]
     },
     "execution_count": 11,
     "metadata": {},
     "output_type": "execute_result"
    }
   ],
   "source": [
    "# 获取Series索引值\n",
    "# for value in series3.index:\n",
    "#     print(value)\\\n",
    "series3.index.to_numpy()"
   ]
  },
  {
   "cell_type": "code",
   "execution_count": 13,
   "id": "fc56f399",
   "metadata": {},
   "outputs": [
    {
     "data": {
      "text/plain": [
       "array([18, 24, 36], dtype=int64)"
      ]
     },
     "execution_count": 13,
     "metadata": {},
     "output_type": "execute_result"
    }
   ],
   "source": [
    "# 获取Series值\n",
    "series3.values"
   ]
  },
  {
   "cell_type": "code",
   "execution_count": 15,
   "id": "ffb6871c",
   "metadata": {},
   "outputs": [
    {
     "data": {
      "text/plain": [
       "24"
      ]
     },
     "execution_count": 15,
     "metadata": {},
     "output_type": "execute_result"
    }
   ],
   "source": [
    "# series3['李四']\n",
    "series3[1]"
   ]
  },
  {
   "cell_type": "markdown",
   "id": "ab95f6f9",
   "metadata": {},
   "source": [
    "# 总结："
   ]
  },
  {
   "cell_type": "markdown",
   "id": "d49c05f3",
   "metadata": {},
   "source": [
    "## 创建数组：\n",
    "1. 根据列表或者numpy数组创建。\n",
    "2. 获取Series对象的索引，是通过Series对象的index属性获取。\n",
    "3. 获取Series对象的值，是通过Series对象的values属性获取。\n",
    "4. 根据某个索引获取对应的值。通过series[索引名称]，也可以通过默认的下标索引获取。比如series[1]"
   ]
  }
 ],
 "metadata": {
  "kernelspec": {
   "display_name": "Python 3",
   "language": "python",
   "name": "python3"
  },
  "language_info": {
   "codemirror_mode": {
    "name": "ipython",
    "version": 3
   },
   "file_extension": ".py",
   "mimetype": "text/x-python",
   "name": "python",
   "nbconvert_exporter": "python",
   "pygments_lexer": "ipython3",
   "version": "3.8.8"
  }
 },
 "nbformat": 4,
 "nbformat_minor": 5
}
